{
 "cells": [
  {
   "cell_type": "code",
   "execution_count": 1,
   "id": "amazing-metadata",
   "metadata": {},
   "outputs": [],
   "source": [
    "# Importando os módulos:\n",
    "import pandas as pd\n",
    "import folium\n",
    "from folium import plugins, Map\n",
    "import matplotlib.pyplot as plt\n",
    "import collections\n",
    "import datetime\n",
    "import numpy as np\n",
    "from API_google import reverse_geocode\n",
    "import seaborn as sns\n",
    "import csv "
   ]
  },
  {
   "cell_type": "code",
   "execution_count": 3,
   "id": "alleged-farming",
   "metadata": {},
   "outputs": [],
   "source": [
    "# Leitura do arquivo base\n",
    "df = pd.read_csv(r\"dataset_v01.csv\", delimiter=\";\")\n",
    "df = df.rename(columns={'id': 'ID_USUARIO', 'dat_nsc': 'DATA_NASCIMENTO', 'renda': 'RENDA', 'renda_SPEC': 'RENDA_FIXA', 'latitude': 'LATITUDE', 'longitude': 'LONGITUDE', 'tipo_pessoa': 'TIPO_PESSOA'})\n",
    "\n",
    "# Criando novas colunas CIDADE, ESTADO e LOGRADOURO\n",
    "df['CIDADE'] = 'NaN'\n",
    "df['ESTADO'] = 'NaN'\n",
    "df['LOGRADOURO'] = 'NaN'\n",
    "\n",
    "# Formatação das coordenadas, trocado as virgulas por ponto e removendo registros sem coordenadas\n",
    "df['LATITUDE'] = df['LATITUDE'].str.replace(',','.')\n",
    "df['LONGITUDE'] = df['LONGITUDE'].str.replace(',','.')\n",
    "#df.dropna(subset=['LATITUDE'], inplace=True)"
   ]
  },
  {
   "cell_type": "code",
   "execution_count": null,
   "metadata": {},
   "outputs": [],
   "source": [
    "# Utilização da API Google Maps para inserção dos dados regionais, \"CIDADE\" e \"ESTADO\"\n",
    "for index, row in df.iterrows():\n",
    "    try:\n",
    "        result = reverse_geocode(row['LATITUDE'], row['LONGITUDE'])\n",
    "        df.loc[index,'CIDADE'] = result[0]\n",
    "        df.loc[index,'ESTADO'] = result[1]\n",
    "        df.loc[index,'LOGRADOURO'] = result[2]\n",
    "        df.loc[index,'TIPO_PESSOA'] = result[3]\n",
    "    except:\n",
    "        pass"
   ]
  },
  {
   "cell_type": "code",
   "execution_count": 9,
   "metadata": {},
   "outputs": [
    {
     "output_type": "execute_result",
     "data": {
      "text/plain": [
       "                             ID_USUARIO   DATA_NASCIMENTO  \\\n",
       "0  d6c0cc1d-eb61-486a-b5c3-50725ef44d61  30/01/1981 00:00   \n",
       "1  da0067e7-aa6b-4355-b373-ca17f6ac3b44  28/01/1978 00:00   \n",
       "2  2d729b8a-d53c-48e7-8bf5-33b021980c04  09/12/1954 00:00   \n",
       "3  62c0f1e6-36f2-4205-a134-232a58a6f8a5  28/08/1975 00:00   \n",
       "4  0cef9719-0aa3-49a2-adea-9c09c04de071  17/06/1957 00:00   \n",
       "\n",
       "                          RENDA RENDA_FIXA      LATITUDE     LONGITUDE  \\\n",
       "0  DE R$ 1.900,00 A R$ 3.800,00   3.104,00      -4.84758     -37.78439   \n",
       "1  DE R$ 3.800,00 A R$ 7.600,00   5.703,00  -26.99011814  -48.63716523   \n",
       "2  DE R$ 3.800,00 A R$ 7.600,00   3.901,00  -5.053671016  -42.81315203   \n",
       "3    DE R$ 788,00 A R$ 1.140,00   1.086,00    -15.059042    -48.163372   \n",
       "4    DE R$ 788,00 A R$ 1.140,00        836    -17.694658     -42.52228   \n",
       "\n",
       "  TIPO_PESSOA              CIDADE          ESTADO      LOGRADOURO  \n",
       "0         CPF          Jaguaruana           Ceará  street_address  \n",
       "1         CPF  Balneário Camboriú  Santa Catarina  street_address  \n",
       "2         CPF            Teresina           Piauí  street_address  \n",
       "3        CNPJ     Mimoso de Goiás           Goiás   establishment  \n",
       "4         CPF           Capelinha    Minas Gerais  street_address  "
      ],
      "text/html": "<div>\n<style scoped>\n    .dataframe tbody tr th:only-of-type {\n        vertical-align: middle;\n    }\n\n    .dataframe tbody tr th {\n        vertical-align: top;\n    }\n\n    .dataframe thead th {\n        text-align: right;\n    }\n</style>\n<table border=\"1\" class=\"dataframe\">\n  <thead>\n    <tr style=\"text-align: right;\">\n      <th></th>\n      <th>ID_USUARIO</th>\n      <th>DATA_NASCIMENTO</th>\n      <th>RENDA</th>\n      <th>RENDA_FIXA</th>\n      <th>LATITUDE</th>\n      <th>LONGITUDE</th>\n      <th>TIPO_PESSOA</th>\n      <th>CIDADE</th>\n      <th>ESTADO</th>\n      <th>LOGRADOURO</th>\n    </tr>\n  </thead>\n  <tbody>\n    <tr>\n      <th>0</th>\n      <td>d6c0cc1d-eb61-486a-b5c3-50725ef44d61</td>\n      <td>30/01/1981 00:00</td>\n      <td>DE R$ 1.900,00 A R$ 3.800,00</td>\n      <td>3.104,00</td>\n      <td>-4.84758</td>\n      <td>-37.78439</td>\n      <td>CPF</td>\n      <td>Jaguaruana</td>\n      <td>Ceará</td>\n      <td>street_address</td>\n    </tr>\n    <tr>\n      <th>1</th>\n      <td>da0067e7-aa6b-4355-b373-ca17f6ac3b44</td>\n      <td>28/01/1978 00:00</td>\n      <td>DE R$ 3.800,00 A R$ 7.600,00</td>\n      <td>5.703,00</td>\n      <td>-26.99011814</td>\n      <td>-48.63716523</td>\n      <td>CPF</td>\n      <td>Balneário Camboriú</td>\n      <td>Santa Catarina</td>\n      <td>street_address</td>\n    </tr>\n    <tr>\n      <th>2</th>\n      <td>2d729b8a-d53c-48e7-8bf5-33b021980c04</td>\n      <td>09/12/1954 00:00</td>\n      <td>DE R$ 3.800,00 A R$ 7.600,00</td>\n      <td>3.901,00</td>\n      <td>-5.053671016</td>\n      <td>-42.81315203</td>\n      <td>CPF</td>\n      <td>Teresina</td>\n      <td>Piauí</td>\n      <td>street_address</td>\n    </tr>\n    <tr>\n      <th>3</th>\n      <td>62c0f1e6-36f2-4205-a134-232a58a6f8a5</td>\n      <td>28/08/1975 00:00</td>\n      <td>DE R$ 788,00 A R$ 1.140,00</td>\n      <td>1.086,00</td>\n      <td>-15.059042</td>\n      <td>-48.163372</td>\n      <td>CNPJ</td>\n      <td>Mimoso de Goiás</td>\n      <td>Goiás</td>\n      <td>establishment</td>\n    </tr>\n    <tr>\n      <th>4</th>\n      <td>0cef9719-0aa3-49a2-adea-9c09c04de071</td>\n      <td>17/06/1957 00:00</td>\n      <td>DE R$ 788,00 A R$ 1.140,00</td>\n      <td>836</td>\n      <td>-17.694658</td>\n      <td>-42.52228</td>\n      <td>CPF</td>\n      <td>Capelinha</td>\n      <td>Minas Gerais</td>\n      <td>street_address</td>\n    </tr>\n  </tbody>\n</table>\n</div>"
     },
     "metadata": {},
     "execution_count": 9
    }
   ],
   "source": [
    "df.head()"
   ]
  },
  {
   "cell_type": "code",
   "execution_count": 5,
   "metadata": {},
   "outputs": [],
   "source": [
    "# Criando arquivo csv com os dados tratados(nao precisa rodar)\n",
    "df.to_csv('dataset_v02.csv', sep=';', encoding='ANSI')"
   ]
  },
  {
   "cell_type": "code",
   "execution_count": 21,
   "metadata": {},
   "outputs": [],
   "source": [
    "# Nova data frame com os dados tratados (rodar todas as vezes)\n",
    "df_spc = pd.read_csv(r\"dataset_v02.csv\", delimiter=';', encoding='ANSI')"
   ]
  },
  {
   "cell_type": "code",
   "execution_count": 22,
   "metadata": {},
   "outputs": [
    {
     "output_type": "execute_result",
     "data": {
      "text/plain": [
       "                             ID_USUARIO   DATA_NASCIMENTO  \\\n",
       "0  d6c0cc1d-eb61-486a-b5c3-50725ef44d61  30/01/1981 00:00   \n",
       "1  da0067e7-aa6b-4355-b373-ca17f6ac3b44  28/01/1978 00:00   \n",
       "2  2d729b8a-d53c-48e7-8bf5-33b021980c04  09/12/1954 00:00   \n",
       "3  62c0f1e6-36f2-4205-a134-232a58a6f8a5  28/08/1975 00:00   \n",
       "4  0cef9719-0aa3-49a2-adea-9c09c04de071  17/06/1957 00:00   \n",
       "\n",
       "                          RENDA RENDA_FIXA      LATITUDE     LONGITUDE  \\\n",
       "0  DE R$ 1.900,00 A R$ 3.800,00   3.104,00      -4,84758     -37,78439   \n",
       "1  DE R$ 3.800,00 A R$ 7.600,00   5.703,00  -26,99011814  -48,63716523   \n",
       "2  DE R$ 3.800,00 A R$ 7.600,00   3.901,00  -5,053671016  -42,81315203   \n",
       "3    DE R$ 788,00 A R$ 1.140,00   1.086,00    -15,059042    -48,163372   \n",
       "4    DE R$ 788,00 A R$ 1.140,00        836    -17,694658     -42,52228   \n",
       "\n",
       "  TIPO_PESSOA              CIDADE          ESTADO      LOGRADOURO  \n",
       "0         CPF          Jaguaruana           Ceará  street_address  \n",
       "1         CPF  Balneário Camboriú  Santa Catarina  street_address  \n",
       "2         CPF            Teresina           Piauí  street_address  \n",
       "3        CNPJ     Mimoso de Goiás           Goiás   establishment  \n",
       "4         CPF           Capelinha    Minas Gerais  street_address  "
      ],
      "text/html": "<div>\n<style scoped>\n    .dataframe tbody tr th:only-of-type {\n        vertical-align: middle;\n    }\n\n    .dataframe tbody tr th {\n        vertical-align: top;\n    }\n\n    .dataframe thead th {\n        text-align: right;\n    }\n</style>\n<table border=\"1\" class=\"dataframe\">\n  <thead>\n    <tr style=\"text-align: right;\">\n      <th></th>\n      <th>ID_USUARIO</th>\n      <th>DATA_NASCIMENTO</th>\n      <th>RENDA</th>\n      <th>RENDA_FIXA</th>\n      <th>LATITUDE</th>\n      <th>LONGITUDE</th>\n      <th>TIPO_PESSOA</th>\n      <th>CIDADE</th>\n      <th>ESTADO</th>\n      <th>LOGRADOURO</th>\n    </tr>\n  </thead>\n  <tbody>\n    <tr>\n      <th>0</th>\n      <td>d6c0cc1d-eb61-486a-b5c3-50725ef44d61</td>\n      <td>30/01/1981 00:00</td>\n      <td>DE R$ 1.900,00 A R$ 3.800,00</td>\n      <td>3.104,00</td>\n      <td>-4,84758</td>\n      <td>-37,78439</td>\n      <td>CPF</td>\n      <td>Jaguaruana</td>\n      <td>Ceará</td>\n      <td>street_address</td>\n    </tr>\n    <tr>\n      <th>1</th>\n      <td>da0067e7-aa6b-4355-b373-ca17f6ac3b44</td>\n      <td>28/01/1978 00:00</td>\n      <td>DE R$ 3.800,00 A R$ 7.600,00</td>\n      <td>5.703,00</td>\n      <td>-26,99011814</td>\n      <td>-48,63716523</td>\n      <td>CPF</td>\n      <td>Balneário Camboriú</td>\n      <td>Santa Catarina</td>\n      <td>street_address</td>\n    </tr>\n    <tr>\n      <th>2</th>\n      <td>2d729b8a-d53c-48e7-8bf5-33b021980c04</td>\n      <td>09/12/1954 00:00</td>\n      <td>DE R$ 3.800,00 A R$ 7.600,00</td>\n      <td>3.901,00</td>\n      <td>-5,053671016</td>\n      <td>-42,81315203</td>\n      <td>CPF</td>\n      <td>Teresina</td>\n      <td>Piauí</td>\n      <td>street_address</td>\n    </tr>\n    <tr>\n      <th>3</th>\n      <td>62c0f1e6-36f2-4205-a134-232a58a6f8a5</td>\n      <td>28/08/1975 00:00</td>\n      <td>DE R$ 788,00 A R$ 1.140,00</td>\n      <td>1.086,00</td>\n      <td>-15,059042</td>\n      <td>-48,163372</td>\n      <td>CNPJ</td>\n      <td>Mimoso de Goiás</td>\n      <td>Goiás</td>\n      <td>establishment</td>\n    </tr>\n    <tr>\n      <th>4</th>\n      <td>0cef9719-0aa3-49a2-adea-9c09c04de071</td>\n      <td>17/06/1957 00:00</td>\n      <td>DE R$ 788,00 A R$ 1.140,00</td>\n      <td>836</td>\n      <td>-17,694658</td>\n      <td>-42,52228</td>\n      <td>CPF</td>\n      <td>Capelinha</td>\n      <td>Minas Gerais</td>\n      <td>street_address</td>\n    </tr>\n  </tbody>\n</table>\n</div>"
     },
     "metadata": {},
     "execution_count": 22
    }
   ],
   "source": [
    "df_spc.head()"
   ]
  },
  {
   "cell_type": "code",
   "execution_count": 4,
   "metadata": {},
   "outputs": [
    {
     "output_type": "execute_result",
     "data": {
      "text/plain": [
       "             ID_USUARIO  DATA_NASCIMENTO  RENDA  RENDA_FIXA  LATITUDE  \\\n",
       "TIPO_PESSOA                                                             \n",
       "CNPJ               1663             1653   1663        1663      1024   \n",
       "CPF                8337             8283   8337        8337      7719   \n",
       "\n",
       "             LONGITUDE  CIDADE  ESTADO  LOGRADOURO  \n",
       "TIPO_PESSOA                                         \n",
       "CNPJ              1024    1024    1024        1024  \n",
       "CPF               7719    7719    7719        7719  "
      ],
      "text/html": "<div>\n<style scoped>\n    .dataframe tbody tr th:only-of-type {\n        vertical-align: middle;\n    }\n\n    .dataframe tbody tr th {\n        vertical-align: top;\n    }\n\n    .dataframe thead th {\n        text-align: right;\n    }\n</style>\n<table border=\"1\" class=\"dataframe\">\n  <thead>\n    <tr style=\"text-align: right;\">\n      <th></th>\n      <th>ID_USUARIO</th>\n      <th>DATA_NASCIMENTO</th>\n      <th>RENDA</th>\n      <th>RENDA_FIXA</th>\n      <th>LATITUDE</th>\n      <th>LONGITUDE</th>\n      <th>CIDADE</th>\n      <th>ESTADO</th>\n      <th>LOGRADOURO</th>\n    </tr>\n    <tr>\n      <th>TIPO_PESSOA</th>\n      <th></th>\n      <th></th>\n      <th></th>\n      <th></th>\n      <th></th>\n      <th></th>\n      <th></th>\n      <th></th>\n      <th></th>\n    </tr>\n  </thead>\n  <tbody>\n    <tr>\n      <th>CNPJ</th>\n      <td>1663</td>\n      <td>1653</td>\n      <td>1663</td>\n      <td>1663</td>\n      <td>1024</td>\n      <td>1024</td>\n      <td>1024</td>\n      <td>1024</td>\n      <td>1024</td>\n    </tr>\n    <tr>\n      <th>CPF</th>\n      <td>8337</td>\n      <td>8283</td>\n      <td>8337</td>\n      <td>8337</td>\n      <td>7719</td>\n      <td>7719</td>\n      <td>7719</td>\n      <td>7719</td>\n      <td>7719</td>\n    </tr>\n  </tbody>\n</table>\n</div>"
     },
     "metadata": {},
     "execution_count": 4
    }
   ],
   "source": [
    "df_spc.groupby('TIPO_PESSOA').count()"
   ]
  },
  {
   "cell_type": "code",
   "execution_count": 23,
   "metadata": {},
   "outputs": [
    {
     "output_type": "execute_result",
     "data": {
      "text/plain": [
       "                                ID_USUARIO DATA_NASCIMENTO  \\\n",
       "0     d6c0cc1d-eb61-486a-b5c3-50725ef44d61      1981-01-30   \n",
       "1     da0067e7-aa6b-4355-b373-ca17f6ac3b44      1978-01-28   \n",
       "2     2d729b8a-d53c-48e7-8bf5-33b021980c04      1954-09-12   \n",
       "3     62c0f1e6-36f2-4205-a134-232a58a6f8a5      1975-08-28   \n",
       "4     0cef9719-0aa3-49a2-adea-9c09c04de071      1957-06-17   \n",
       "...                                    ...             ...   \n",
       "9995  f2261fce-83c5-4f64-b145-85f46bcf18b1      1979-08-10   \n",
       "9996  bdaa7802-4650-44a4-93f7-952b72ec17a0      1980-04-30   \n",
       "9997  e7b37cd5-714a-44d8-ad7f-4ed3aa6b0695      1976-05-26   \n",
       "9998  167dbd7f-7ccd-4aad-a6b9-c3fb9d56c9cd      1985-06-11   \n",
       "9999  d4f11ca2-71b1-4e12-aba6-bd8530ca2691      1981-09-03   \n",
       "\n",
       "                             RENDA RENDA_FIXA      LATITUDE     LONGITUDE  \\\n",
       "0     DE R$ 1.900,00 A R$ 3.800,00   3.104,00      -4,84758     -37,78439   \n",
       "1     DE R$ 3.800,00 A R$ 7.600,00   5.703,00  -26,99011814  -48,63716523   \n",
       "2     DE R$ 3.800,00 A R$ 7.600,00   3.901,00  -5,053671016  -42,81315203   \n",
       "3       DE R$ 788,00 A R$ 1.140,00   1.086,00    -15,059042    -48,163372   \n",
       "4       DE R$ 788,00 A R$ 1.140,00        836    -17,694658     -42,52228   \n",
       "...                            ...        ...           ...           ...   \n",
       "9995  DE R$ 1.900,00 A R$ 3.800,00   2.776,00  -11,60937194  -47,04750645   \n",
       "9996  DE R$ 3.800,00 A R$ 7.600,00   4.099,00  -15,65049668  -47,79332059   \n",
       "9997    DE R$ 788,00 A R$ 1.140,00   1.052,00  -8,330678649  -36,13689703   \n",
       "9998    DE R$ 788,00 A R$ 1.140,00        958           NaN           NaN   \n",
       "9999  DE R$ 3.800,00 A R$ 7.600,00   5.954,00    -15,787504    -48,139096   \n",
       "\n",
       "     TIPO_PESSOA                     CIDADE            ESTADO      LOGRADOURO  \\\n",
       "0            CPF                 Jaguaruana             Ceará  street_address   \n",
       "1            CPF         Balneário Camboriú    Santa Catarina  street_address   \n",
       "2            CPF                   Teresina             Piauí  street_address   \n",
       "3           CNPJ            Mimoso de Goiás             Goiás   establishment   \n",
       "4            CPF                  Capelinha      Minas Gerais  street_address   \n",
       "...          ...                        ...               ...             ...   \n",
       "9995         CPF  Porto Alegre do Tocantins         Tocantins           route   \n",
       "9996         CPF                   Brasília  Distrito Federal  street_address   \n",
       "9997         CPF                São Caetano        Pernambuco  street_address   \n",
       "9998        CNPJ                        NaN               NaN             NaN   \n",
       "9999         CPF                   Brasília  Distrito Federal         premise   \n",
       "\n",
       "         ANO  MES   DIA  HORA  \n",
       "0     1981.0  1.0  30.0   0.0  \n",
       "1     1978.0  1.0  28.0   0.0  \n",
       "2     1954.0  9.0  12.0   0.0  \n",
       "3     1975.0  8.0  28.0   0.0  \n",
       "4     1957.0  6.0  17.0   0.0  \n",
       "...      ...  ...   ...   ...  \n",
       "9995  1979.0  8.0  10.0   0.0  \n",
       "9996  1980.0  4.0  30.0   0.0  \n",
       "9997  1976.0  5.0  26.0   0.0  \n",
       "9998  1985.0  6.0  11.0   0.0  \n",
       "9999  1981.0  9.0   3.0   0.0  \n",
       "\n",
       "[10000 rows x 14 columns]"
      ],
      "text/html": "<div>\n<style scoped>\n    .dataframe tbody tr th:only-of-type {\n        vertical-align: middle;\n    }\n\n    .dataframe tbody tr th {\n        vertical-align: top;\n    }\n\n    .dataframe thead th {\n        text-align: right;\n    }\n</style>\n<table border=\"1\" class=\"dataframe\">\n  <thead>\n    <tr style=\"text-align: right;\">\n      <th></th>\n      <th>ID_USUARIO</th>\n      <th>DATA_NASCIMENTO</th>\n      <th>RENDA</th>\n      <th>RENDA_FIXA</th>\n      <th>LATITUDE</th>\n      <th>LONGITUDE</th>\n      <th>TIPO_PESSOA</th>\n      <th>CIDADE</th>\n      <th>ESTADO</th>\n      <th>LOGRADOURO</th>\n      <th>ANO</th>\n      <th>MES</th>\n      <th>DIA</th>\n      <th>HORA</th>\n    </tr>\n  </thead>\n  <tbody>\n    <tr>\n      <th>0</th>\n      <td>d6c0cc1d-eb61-486a-b5c3-50725ef44d61</td>\n      <td>1981-01-30</td>\n      <td>DE R$ 1.900,00 A R$ 3.800,00</td>\n      <td>3.104,00</td>\n      <td>-4,84758</td>\n      <td>-37,78439</td>\n      <td>CPF</td>\n      <td>Jaguaruana</td>\n      <td>Ceará</td>\n      <td>street_address</td>\n      <td>1981.0</td>\n      <td>1.0</td>\n      <td>30.0</td>\n      <td>0.0</td>\n    </tr>\n    <tr>\n      <th>1</th>\n      <td>da0067e7-aa6b-4355-b373-ca17f6ac3b44</td>\n      <td>1978-01-28</td>\n      <td>DE R$ 3.800,00 A R$ 7.600,00</td>\n      <td>5.703,00</td>\n      <td>-26,99011814</td>\n      <td>-48,63716523</td>\n      <td>CPF</td>\n      <td>Balneário Camboriú</td>\n      <td>Santa Catarina</td>\n      <td>street_address</td>\n      <td>1978.0</td>\n      <td>1.0</td>\n      <td>28.0</td>\n      <td>0.0</td>\n    </tr>\n    <tr>\n      <th>2</th>\n      <td>2d729b8a-d53c-48e7-8bf5-33b021980c04</td>\n      <td>1954-09-12</td>\n      <td>DE R$ 3.800,00 A R$ 7.600,00</td>\n      <td>3.901,00</td>\n      <td>-5,053671016</td>\n      <td>-42,81315203</td>\n      <td>CPF</td>\n      <td>Teresina</td>\n      <td>Piauí</td>\n      <td>street_address</td>\n      <td>1954.0</td>\n      <td>9.0</td>\n      <td>12.0</td>\n      <td>0.0</td>\n    </tr>\n    <tr>\n      <th>3</th>\n      <td>62c0f1e6-36f2-4205-a134-232a58a6f8a5</td>\n      <td>1975-08-28</td>\n      <td>DE R$ 788,00 A R$ 1.140,00</td>\n      <td>1.086,00</td>\n      <td>-15,059042</td>\n      <td>-48,163372</td>\n      <td>CNPJ</td>\n      <td>Mimoso de Goiás</td>\n      <td>Goiás</td>\n      <td>establishment</td>\n      <td>1975.0</td>\n      <td>8.0</td>\n      <td>28.0</td>\n      <td>0.0</td>\n    </tr>\n    <tr>\n      <th>4</th>\n      <td>0cef9719-0aa3-49a2-adea-9c09c04de071</td>\n      <td>1957-06-17</td>\n      <td>DE R$ 788,00 A R$ 1.140,00</td>\n      <td>836</td>\n      <td>-17,694658</td>\n      <td>-42,52228</td>\n      <td>CPF</td>\n      <td>Capelinha</td>\n      <td>Minas Gerais</td>\n      <td>street_address</td>\n      <td>1957.0</td>\n      <td>6.0</td>\n      <td>17.0</td>\n      <td>0.0</td>\n    </tr>\n    <tr>\n      <th>...</th>\n      <td>...</td>\n      <td>...</td>\n      <td>...</td>\n      <td>...</td>\n      <td>...</td>\n      <td>...</td>\n      <td>...</td>\n      <td>...</td>\n      <td>...</td>\n      <td>...</td>\n      <td>...</td>\n      <td>...</td>\n      <td>...</td>\n      <td>...</td>\n    </tr>\n    <tr>\n      <th>9995</th>\n      <td>f2261fce-83c5-4f64-b145-85f46bcf18b1</td>\n      <td>1979-08-10</td>\n      <td>DE R$ 1.900,00 A R$ 3.800,00</td>\n      <td>2.776,00</td>\n      <td>-11,60937194</td>\n      <td>-47,04750645</td>\n      <td>CPF</td>\n      <td>Porto Alegre do Tocantins</td>\n      <td>Tocantins</td>\n      <td>route</td>\n      <td>1979.0</td>\n      <td>8.0</td>\n      <td>10.0</td>\n      <td>0.0</td>\n    </tr>\n    <tr>\n      <th>9996</th>\n      <td>bdaa7802-4650-44a4-93f7-952b72ec17a0</td>\n      <td>1980-04-30</td>\n      <td>DE R$ 3.800,00 A R$ 7.600,00</td>\n      <td>4.099,00</td>\n      <td>-15,65049668</td>\n      <td>-47,79332059</td>\n      <td>CPF</td>\n      <td>Brasília</td>\n      <td>Distrito Federal</td>\n      <td>street_address</td>\n      <td>1980.0</td>\n      <td>4.0</td>\n      <td>30.0</td>\n      <td>0.0</td>\n    </tr>\n    <tr>\n      <th>9997</th>\n      <td>e7b37cd5-714a-44d8-ad7f-4ed3aa6b0695</td>\n      <td>1976-05-26</td>\n      <td>DE R$ 788,00 A R$ 1.140,00</td>\n      <td>1.052,00</td>\n      <td>-8,330678649</td>\n      <td>-36,13689703</td>\n      <td>CPF</td>\n      <td>São Caetano</td>\n      <td>Pernambuco</td>\n      <td>street_address</td>\n      <td>1976.0</td>\n      <td>5.0</td>\n      <td>26.0</td>\n      <td>0.0</td>\n    </tr>\n    <tr>\n      <th>9998</th>\n      <td>167dbd7f-7ccd-4aad-a6b9-c3fb9d56c9cd</td>\n      <td>1985-06-11</td>\n      <td>DE R$ 788,00 A R$ 1.140,00</td>\n      <td>958</td>\n      <td>NaN</td>\n      <td>NaN</td>\n      <td>CNPJ</td>\n      <td>NaN</td>\n      <td>NaN</td>\n      <td>NaN</td>\n      <td>1985.0</td>\n      <td>6.0</td>\n      <td>11.0</td>\n      <td>0.0</td>\n    </tr>\n    <tr>\n      <th>9999</th>\n      <td>d4f11ca2-71b1-4e12-aba6-bd8530ca2691</td>\n      <td>1981-09-03</td>\n      <td>DE R$ 3.800,00 A R$ 7.600,00</td>\n      <td>5.954,00</td>\n      <td>-15,787504</td>\n      <td>-48,139096</td>\n      <td>CPF</td>\n      <td>Brasília</td>\n      <td>Distrito Federal</td>\n      <td>premise</td>\n      <td>1981.0</td>\n      <td>9.0</td>\n      <td>3.0</td>\n      <td>0.0</td>\n    </tr>\n  </tbody>\n</table>\n<p>10000 rows × 14 columns</p>\n</div>"
     },
     "metadata": {},
     "execution_count": 23
    }
   ],
   "source": [
    "# Seprando anos, mes e dia em colunas\n",
    "df_spc['DATA_NASCIMENTO'] = pd.to_datetime(df_spc['DATA_NASCIMENTO'])\n",
    "df_spc['ANO'], df_spc['MES'], df_spc['DIA'], df_spc['HORA']  = df_spc['DATA_NASCIMENTO'].apply(lambda x: x.year), df_spc['DATA_NASCIMENTO'].apply(lambda x: x.month), df_spc['DATA_NASCIMENTO'].apply(lambda x: x.day), df_spc['DATA_NASCIMENTO'].apply(lambda x: x.hour) \n",
    "df_spc"
   ]
  },
  {
   "cell_type": "code",
   "execution_count": 24,
   "metadata": {},
   "outputs": [
    {
     "output_type": "execute_result",
     "data": {
      "text/plain": [
       "dtype('float64')"
      ]
     },
     "metadata": {},
     "execution_count": 24
    }
   ],
   "source": [
    "# Calculando a idade\n",
    "df_spc['IDADE']  = df_spc['ANO'].apply(lambda x: 2021 - x)\n",
    "df_spc.IDADE.dtypes"
   ]
  },
  {
   "cell_type": "code",
   "execution_count": 25,
   "metadata": {},
   "outputs": [
    {
     "output_type": "execute_result",
     "data": {
      "text/plain": [
       "count    9936.000000\n",
       "mean       52.988023\n",
       "std        15.123420\n",
       "min        20.000000\n",
       "25%        43.000000\n",
       "50%        48.000000\n",
       "75%        60.000000\n",
       "max       121.000000\n",
       "Name: IDADE, dtype: float64"
      ]
     },
     "metadata": {},
     "execution_count": 25
    }
   ],
   "source": [
    "df_spc.IDADE.describe()"
   ]
  },
  {
   "cell_type": "code",
   "execution_count": 26,
   "metadata": {},
   "outputs": [
    {
     "output_type": "execute_result",
     "data": {
      "text/plain": [
       "                                ID_USUARIO DATA_NASCIMENTO  \\\n",
       "0     d6c0cc1d-eb61-486a-b5c3-50725ef44d61      1981-01-30   \n",
       "1     da0067e7-aa6b-4355-b373-ca17f6ac3b44      1978-01-28   \n",
       "2     2d729b8a-d53c-48e7-8bf5-33b021980c04      1954-09-12   \n",
       "3     62c0f1e6-36f2-4205-a134-232a58a6f8a5      1975-08-28   \n",
       "4     0cef9719-0aa3-49a2-adea-9c09c04de071      1957-06-17   \n",
       "...                                    ...             ...   \n",
       "9995  f2261fce-83c5-4f64-b145-85f46bcf18b1      1979-08-10   \n",
       "9996  bdaa7802-4650-44a4-93f7-952b72ec17a0      1980-04-30   \n",
       "9997  e7b37cd5-714a-44d8-ad7f-4ed3aa6b0695      1976-05-26   \n",
       "9998  167dbd7f-7ccd-4aad-a6b9-c3fb9d56c9cd      1985-06-11   \n",
       "9999  d4f11ca2-71b1-4e12-aba6-bd8530ca2691      1981-09-03   \n",
       "\n",
       "                             RENDA RENDA_FIXA      LATITUDE     LONGITUDE  \\\n",
       "0     DE R$ 1.900,00 A R$ 3.800,00   3.104,00      -4,84758     -37,78439   \n",
       "1     DE R$ 3.800,00 A R$ 7.600,00   5.703,00  -26,99011814  -48,63716523   \n",
       "2     DE R$ 3.800,00 A R$ 7.600,00   3.901,00  -5,053671016  -42,81315203   \n",
       "3       DE R$ 788,00 A R$ 1.140,00   1.086,00    -15,059042    -48,163372   \n",
       "4       DE R$ 788,00 A R$ 1.140,00        836    -17,694658     -42,52228   \n",
       "...                            ...        ...           ...           ...   \n",
       "9995  DE R$ 1.900,00 A R$ 3.800,00   2.776,00  -11,60937194  -47,04750645   \n",
       "9996  DE R$ 3.800,00 A R$ 7.600,00   4.099,00  -15,65049668  -47,79332059   \n",
       "9997    DE R$ 788,00 A R$ 1.140,00   1.052,00  -8,330678649  -36,13689703   \n",
       "9998    DE R$ 788,00 A R$ 1.140,00        958           NaN           NaN   \n",
       "9999  DE R$ 3.800,00 A R$ 7.600,00   5.954,00    -15,787504    -48,139096   \n",
       "\n",
       "     TIPO_PESSOA                     CIDADE            ESTADO      LOGRADOURO  \\\n",
       "0            CPF                 Jaguaruana             Ceará  street_address   \n",
       "1            CPF         Balneário Camboriú    Santa Catarina  street_address   \n",
       "2            CPF                   Teresina             Piauí  street_address   \n",
       "3           CNPJ            Mimoso de Goiás             Goiás   establishment   \n",
       "4            CPF                  Capelinha      Minas Gerais  street_address   \n",
       "...          ...                        ...               ...             ...   \n",
       "9995         CPF  Porto Alegre do Tocantins         Tocantins           route   \n",
       "9996         CPF                   Brasília  Distrito Federal  street_address   \n",
       "9997         CPF                São Caetano        Pernambuco  street_address   \n",
       "9998        CNPJ                        NaN               NaN             NaN   \n",
       "9999         CPF                   Brasília  Distrito Federal         premise   \n",
       "\n",
       "         ANO  MES   DIA  HORA  IDADE  FAIXA ETARIA  \n",
       "0     1981.0  1.0  30.0   0.0   40.0  30 a 40 anos  \n",
       "1     1978.0  1.0  28.0   0.0   43.0  40 a 50 anos  \n",
       "2     1954.0  9.0  12.0   0.0   67.0  60 a 70 anos  \n",
       "3     1975.0  8.0  28.0   0.0   46.0  40 a 50 anos  \n",
       "4     1957.0  6.0  17.0   0.0   64.0  60 a 70 anos  \n",
       "...      ...  ...   ...   ...    ...           ...  \n",
       "9995  1979.0  8.0  10.0   0.0   42.0  40 a 50 anos  \n",
       "9996  1980.0  4.0  30.0   0.0   41.0  40 a 50 anos  \n",
       "9997  1976.0  5.0  26.0   0.0   45.0  40 a 50 anos  \n",
       "9998  1985.0  6.0  11.0   0.0   36.0  30 a 40 anos  \n",
       "9999  1981.0  9.0   3.0   0.0   40.0  30 a 40 anos  \n",
       "\n",
       "[10000 rows x 16 columns]"
      ],
      "text/html": "<div>\n<style scoped>\n    .dataframe tbody tr th:only-of-type {\n        vertical-align: middle;\n    }\n\n    .dataframe tbody tr th {\n        vertical-align: top;\n    }\n\n    .dataframe thead th {\n        text-align: right;\n    }\n</style>\n<table border=\"1\" class=\"dataframe\">\n  <thead>\n    <tr style=\"text-align: right;\">\n      <th></th>\n      <th>ID_USUARIO</th>\n      <th>DATA_NASCIMENTO</th>\n      <th>RENDA</th>\n      <th>RENDA_FIXA</th>\n      <th>LATITUDE</th>\n      <th>LONGITUDE</th>\n      <th>TIPO_PESSOA</th>\n      <th>CIDADE</th>\n      <th>ESTADO</th>\n      <th>LOGRADOURO</th>\n      <th>ANO</th>\n      <th>MES</th>\n      <th>DIA</th>\n      <th>HORA</th>\n      <th>IDADE</th>\n      <th>FAIXA ETARIA</th>\n    </tr>\n  </thead>\n  <tbody>\n    <tr>\n      <th>0</th>\n      <td>d6c0cc1d-eb61-486a-b5c3-50725ef44d61</td>\n      <td>1981-01-30</td>\n      <td>DE R$ 1.900,00 A R$ 3.800,00</td>\n      <td>3.104,00</td>\n      <td>-4,84758</td>\n      <td>-37,78439</td>\n      <td>CPF</td>\n      <td>Jaguaruana</td>\n      <td>Ceará</td>\n      <td>street_address</td>\n      <td>1981.0</td>\n      <td>1.0</td>\n      <td>30.0</td>\n      <td>0.0</td>\n      <td>40.0</td>\n      <td>30 a 40 anos</td>\n    </tr>\n    <tr>\n      <th>1</th>\n      <td>da0067e7-aa6b-4355-b373-ca17f6ac3b44</td>\n      <td>1978-01-28</td>\n      <td>DE R$ 3.800,00 A R$ 7.600,00</td>\n      <td>5.703,00</td>\n      <td>-26,99011814</td>\n      <td>-48,63716523</td>\n      <td>CPF</td>\n      <td>Balneário Camboriú</td>\n      <td>Santa Catarina</td>\n      <td>street_address</td>\n      <td>1978.0</td>\n      <td>1.0</td>\n      <td>28.0</td>\n      <td>0.0</td>\n      <td>43.0</td>\n      <td>40 a 50 anos</td>\n    </tr>\n    <tr>\n      <th>2</th>\n      <td>2d729b8a-d53c-48e7-8bf5-33b021980c04</td>\n      <td>1954-09-12</td>\n      <td>DE R$ 3.800,00 A R$ 7.600,00</td>\n      <td>3.901,00</td>\n      <td>-5,053671016</td>\n      <td>-42,81315203</td>\n      <td>CPF</td>\n      <td>Teresina</td>\n      <td>Piauí</td>\n      <td>street_address</td>\n      <td>1954.0</td>\n      <td>9.0</td>\n      <td>12.0</td>\n      <td>0.0</td>\n      <td>67.0</td>\n      <td>60 a 70 anos</td>\n    </tr>\n    <tr>\n      <th>3</th>\n      <td>62c0f1e6-36f2-4205-a134-232a58a6f8a5</td>\n      <td>1975-08-28</td>\n      <td>DE R$ 788,00 A R$ 1.140,00</td>\n      <td>1.086,00</td>\n      <td>-15,059042</td>\n      <td>-48,163372</td>\n      <td>CNPJ</td>\n      <td>Mimoso de Goiás</td>\n      <td>Goiás</td>\n      <td>establishment</td>\n      <td>1975.0</td>\n      <td>8.0</td>\n      <td>28.0</td>\n      <td>0.0</td>\n      <td>46.0</td>\n      <td>40 a 50 anos</td>\n    </tr>\n    <tr>\n      <th>4</th>\n      <td>0cef9719-0aa3-49a2-adea-9c09c04de071</td>\n      <td>1957-06-17</td>\n      <td>DE R$ 788,00 A R$ 1.140,00</td>\n      <td>836</td>\n      <td>-17,694658</td>\n      <td>-42,52228</td>\n      <td>CPF</td>\n      <td>Capelinha</td>\n      <td>Minas Gerais</td>\n      <td>street_address</td>\n      <td>1957.0</td>\n      <td>6.0</td>\n      <td>17.0</td>\n      <td>0.0</td>\n      <td>64.0</td>\n      <td>60 a 70 anos</td>\n    </tr>\n    <tr>\n      <th>...</th>\n      <td>...</td>\n      <td>...</td>\n      <td>...</td>\n      <td>...</td>\n      <td>...</td>\n      <td>...</td>\n      <td>...</td>\n      <td>...</td>\n      <td>...</td>\n      <td>...</td>\n      <td>...</td>\n      <td>...</td>\n      <td>...</td>\n      <td>...</td>\n      <td>...</td>\n      <td>...</td>\n    </tr>\n    <tr>\n      <th>9995</th>\n      <td>f2261fce-83c5-4f64-b145-85f46bcf18b1</td>\n      <td>1979-08-10</td>\n      <td>DE R$ 1.900,00 A R$ 3.800,00</td>\n      <td>2.776,00</td>\n      <td>-11,60937194</td>\n      <td>-47,04750645</td>\n      <td>CPF</td>\n      <td>Porto Alegre do Tocantins</td>\n      <td>Tocantins</td>\n      <td>route</td>\n      <td>1979.0</td>\n      <td>8.0</td>\n      <td>10.0</td>\n      <td>0.0</td>\n      <td>42.0</td>\n      <td>40 a 50 anos</td>\n    </tr>\n    <tr>\n      <th>9996</th>\n      <td>bdaa7802-4650-44a4-93f7-952b72ec17a0</td>\n      <td>1980-04-30</td>\n      <td>DE R$ 3.800,00 A R$ 7.600,00</td>\n      <td>4.099,00</td>\n      <td>-15,65049668</td>\n      <td>-47,79332059</td>\n      <td>CPF</td>\n      <td>Brasília</td>\n      <td>Distrito Federal</td>\n      <td>street_address</td>\n      <td>1980.0</td>\n      <td>4.0</td>\n      <td>30.0</td>\n      <td>0.0</td>\n      <td>41.0</td>\n      <td>40 a 50 anos</td>\n    </tr>\n    <tr>\n      <th>9997</th>\n      <td>e7b37cd5-714a-44d8-ad7f-4ed3aa6b0695</td>\n      <td>1976-05-26</td>\n      <td>DE R$ 788,00 A R$ 1.140,00</td>\n      <td>1.052,00</td>\n      <td>-8,330678649</td>\n      <td>-36,13689703</td>\n      <td>CPF</td>\n      <td>São Caetano</td>\n      <td>Pernambuco</td>\n      <td>street_address</td>\n      <td>1976.0</td>\n      <td>5.0</td>\n      <td>26.0</td>\n      <td>0.0</td>\n      <td>45.0</td>\n      <td>40 a 50 anos</td>\n    </tr>\n    <tr>\n      <th>9998</th>\n      <td>167dbd7f-7ccd-4aad-a6b9-c3fb9d56c9cd</td>\n      <td>1985-06-11</td>\n      <td>DE R$ 788,00 A R$ 1.140,00</td>\n      <td>958</td>\n      <td>NaN</td>\n      <td>NaN</td>\n      <td>CNPJ</td>\n      <td>NaN</td>\n      <td>NaN</td>\n      <td>NaN</td>\n      <td>1985.0</td>\n      <td>6.0</td>\n      <td>11.0</td>\n      <td>0.0</td>\n      <td>36.0</td>\n      <td>30 a 40 anos</td>\n    </tr>\n    <tr>\n      <th>9999</th>\n      <td>d4f11ca2-71b1-4e12-aba6-bd8530ca2691</td>\n      <td>1981-09-03</td>\n      <td>DE R$ 3.800,00 A R$ 7.600,00</td>\n      <td>5.954,00</td>\n      <td>-15,787504</td>\n      <td>-48,139096</td>\n      <td>CPF</td>\n      <td>Brasília</td>\n      <td>Distrito Federal</td>\n      <td>premise</td>\n      <td>1981.0</td>\n      <td>9.0</td>\n      <td>3.0</td>\n      <td>0.0</td>\n      <td>40.0</td>\n      <td>30 a 40 anos</td>\n    </tr>\n  </tbody>\n</table>\n<p>10000 rows × 16 columns</p>\n</div>"
     },
     "metadata": {},
     "execution_count": 26
    }
   ],
   "source": [
    "# Agrupando Faixa Etaria\n",
    "df_spc['FAIXA ETARIA'] = pd.cut(df_spc['IDADE'],\n",
    "        bins = (20, 30, 40, 50, 60, 70, 80),\n",
    "        labels = ('20 a 30 anos', '30 a 40 anos', '40 a 50 anos', '50 a 60 anos', '60 a 70 anos', '80 mais'))\n",
    "df_spc"
   ]
  },
  {
   "cell_type": "code",
   "execution_count": 27,
   "metadata": {},
   "outputs": [],
   "source": [
    "#Agrupamento por tipo de pessoas\n",
    "df_CPF= df_spc[df_spc['TIPO_PESSOA'] == 'CPF']\n",
    "df_CNPJ= df_spc[df_spc['TIPO_PESSOA'] == 'CNPJ']"
   ]
  },
  {
   "cell_type": "code",
   "execution_count": 28,
   "metadata": {},
   "outputs": [
    {
     "output_type": "execute_result",
     "data": {
      "text/plain": [
       "count     8337\n",
       "unique       1\n",
       "top        CPF\n",
       "freq      8337\n",
       "Name: TIPO_PESSOA, dtype: object"
      ]
     },
     "metadata": {},
     "execution_count": 28
    }
   ],
   "source": [
    "df_CPF.TIPO_PESSOA.describe()"
   ]
  },
  {
   "cell_type": "code",
   "execution_count": 29,
   "metadata": {},
   "outputs": [
    {
     "output_type": "execute_result",
     "data": {
      "text/plain": [
       "count     1663\n",
       "unique       1\n",
       "top       CNPJ\n",
       "freq      1663\n",
       "Name: TIPO_PESSOA, dtype: object"
      ]
     },
     "metadata": {},
     "execution_count": 29
    }
   ],
   "source": [
    "df_CNPJ.TIPO_PESSOA.describe()"
   ]
  },
  {
   "cell_type": "code",
   "execution_count": 30,
   "metadata": {},
   "outputs": [
    {
     "output_type": "execute_result",
     "data": {
      "text/plain": [
       "RENDA\n",
       "DE R$ 1.900,00 A R$ 3.800,00    4039\n",
       "DE R$ 3.800,00 A R$ 7.600,00    1660\n",
       "DE R$ 788,00 A R$ 1.140,00      2575\n",
       "MAIOR QUE R$ 7.600,00             63\n",
       "Name: ID_USUARIO, dtype: int64"
      ]
     },
     "metadata": {},
     "execution_count": 30
    }
   ],
   "source": [
    "#Agrupamento por Renda de pessoa fisica\n",
    "group_CPF = df_CPF.groupby(['RENDA'])['ID_USUARIO'].count()\n",
    "group_CPF"
   ]
  },
  {
   "cell_type": "code",
   "execution_count": 31,
   "metadata": {},
   "outputs": [
    {
     "output_type": "execute_result",
     "data": {
      "text/plain": [
       "RENDA\n",
       "DE R$ 1.900,00 A R$ 3.800,00    723\n",
       "DE R$ 3.800,00 A R$ 7.600,00    302\n",
       "DE R$ 788,00 A R$ 1.140,00      622\n",
       "MAIOR QUE R$ 7.600,00            16\n",
       "Name: ID_USUARIO, dtype: int64"
      ]
     },
     "metadata": {},
     "execution_count": 31
    }
   ],
   "source": [
    "#Agrupamento por Renda de pessoa juridica\n",
    "group_CNPJ = df_CNPJ.groupby(['RENDA'])['ID_USUARIO'].count()\n",
    "group_CNPJ"
   ]
  },
  {
   "cell_type": "code",
   "execution_count": 32,
   "metadata": {},
   "outputs": [
    {
     "output_type": "execute_result",
     "data": {
      "text/plain": [
       "ID_USUARIO                 object\n",
       "DATA_NASCIMENTO    datetime64[ns]\n",
       "RENDA                      object\n",
       "RENDA_FIXA                 object\n",
       "LATITUDE                   object\n",
       "LONGITUDE                  object\n",
       "TIPO_PESSOA                object\n",
       "CIDADE                     object\n",
       "ESTADO                     object\n",
       "LOGRADOURO                 object\n",
       "ANO                       float64\n",
       "MES                       float64\n",
       "DIA                       float64\n",
       "HORA                      float64\n",
       "IDADE                     float64\n",
       "FAIXA ETARIA             category\n",
       "dtype: object"
      ]
     },
     "metadata": {},
     "execution_count": 32
    }
   ],
   "source": [
    "df_spc.dtypes"
   ]
  },
  {
   "cell_type": "code",
   "execution_count": null,
   "metadata": {},
   "outputs": [],
   "source": []
  },
  {
   "cell_type": "code",
   "execution_count": 33,
   "metadata": {
    "tags": [
     "outputPrepend"
    ]
   },
   "outputs": [
    {
     "output_type": "stream",
     "name": "stdout",
     "text": [
      ": 'NaN'}\n",
      "{'ID_USUARIO': '939c23e0-60b9-44ed-958c-6673c9813925', 'DATA_NASCIMENTO': '15/03/1971 00:00', 'RENDA': 'DE R$ 788,00 A R$ 1.140,00', 'RENDA_FIXA': '985', 'LATITUDE': '-12,98216', 'LONGITUDE': '-38,45463', 'TIPO_PESSOA': 'CNPJ', 'CIDADE': 'Salvador', 'ESTADO': 'Bahia', 'LOGRADOURO': 'establishment'}\n",
      "{'ID_USUARIO': '9440be2c-6a9a-4237-88ef-661168be0a4c', 'DATA_NASCIMENTO': '01/04/1974 00:00', 'RENDA': 'DE R$ 3.800,00 A R$ 7.600,00', 'RENDA_FIXA': '6.920,00', 'LATITUDE': '-30,02078', 'LONGITUDE': '-51,16748', 'TIPO_PESSOA': 'CPF', 'CIDADE': 'Porto Alegre', 'ESTADO': 'Rio Grande do Sul', 'LOGRADOURO': 'street_address'}\n",
      "{'ID_USUARIO': 'a092d7c3-0b5f-4bfd-aea1-f8589215a500', 'DATA_NASCIMENTO': '27/12/1980 00:00', 'RENDA': 'DE R$ 1.900,00 A R$ 3.800,00', 'RENDA_FIXA': '3.498,00', 'LATITUDE': '-16,40154722', 'LONGITUDE': '-50,36594668', 'TIPO_PESSOA': 'CPF', 'CIDADE': 'São Luís de Montes Belos', 'ESTADO': 'Goiás', 'LOGRADOURO': 'route'}\n",
      "{'ID_USUARIO': '646fcc2b-a333-4075-806c-369149697d50', 'DATA_NASCIMENTO': '12/02/1946 00:00', 'RENDA': 'MAIOR QUE R$ 7.600,00', 'RENDA_FIXA': ' -   ', 'LATITUDE': '-22,98307355', 'LONGITUDE': '-43,22254548', 'TIPO_PESSOA': 'CNPJ', 'CIDADE': 'Rio de Janeiro', 'ESTADO': 'Rio de Janeiro', 'LOGRADOURO': 'establishment'}\n",
      "{'ID_USUARIO': '94ad76cb-7a82-4ca7-8d11-8d4e1483cb82', 'DATA_NASCIMENTO': '10/06/1959 00:00', 'RENDA': 'DE R$ 1.900,00 A R$ 3.800,00', 'RENDA_FIXA': '3.181,00', 'LATITUDE': '-15,94539471', 'LONGITUDE': '-50,13451706', 'TIPO_PESSOA': 'CPF', 'CIDADE': 'Goiás', 'ESTADO': 'Goiás', 'LOGRADOURO': 'premise'}\n",
      "{'ID_USUARIO': 'cd05b08b-b702-4586-99d9-d00ae5a0ab7d', 'DATA_NASCIMENTO': '22/01/1960 00:00', 'RENDA': 'DE R$ 1.900,00 A R$ 3.800,00', 'RENDA_FIXA': '3.037,00', 'LATITUDE': '-23,529102', 'LONGITUDE': '-47,429332', 'TIPO_PESSOA': 'CPF', 'CIDADE': 'Votorantim', 'ESTADO': 'São Paulo', 'LOGRADOURO': 'street_address'}\n",
      "{'ID_USUARIO': 'c8442777-0903-474c-9ba3-bba5aac09793', 'DATA_NASCIMENTO': '11/02/1978 00:00', 'RENDA': 'DE R$ 1.900,00 A R$ 3.800,00', 'RENDA_FIXA': '2.249,00', 'LATITUDE': '-30,08146259', 'LONGITUDE': '-51,21121519', 'TIPO_PESSOA': 'CNPJ', 'CIDADE': 'Porto Alegre', 'ESTADO': 'Rio Grande do Sul', 'LOGRADOURO': 'establishment'}\n",
      "{'ID_USUARIO': '792296cb-c6b1-409c-b4df-b8668c1d9dca', 'DATA_NASCIMENTO': '10/10/1948 00:00', 'RENDA': 'DE R$ 1.900,00 A R$ 3.800,00', 'RENDA_FIXA': '3.074,00', 'LATITUDE': '', 'LONGITUDE': '', 'TIPO_PESSOA': 'CPF', 'CIDADE': 'NaN', 'ESTADO': 'NaN', 'LOGRADOURO': 'NaN'}\n",
      "{'ID_USUARIO': 'a98fc4c7-7f67-4d2f-bdc5-d7b32235e23c', 'DATA_NASCIMENTO': '19/06/1976 00:00', 'RENDA': 'DE R$ 1.900,00 A R$ 3.800,00', 'RENDA_FIXA': '2.431,00', 'LATITUDE': '-29,93811149', 'LONGITUDE': '-51,0859717', 'TIPO_PESSOA': 'CPF', 'CIDADE': 'Cachoeirinha', 'ESTADO': 'Rio Grande do Sul', 'LOGRADOURO': 'street_address'}\n",
      "{'ID_USUARIO': 'c3e01db3-c759-4006-8abd-fa175541bd39', 'DATA_NASCIMENTO': '06/05/1932 00:00', 'RENDA': 'DE R$ 788,00 A R$ 1.140,00', 'RENDA_FIXA': '991', 'LATITUDE': '-24,03157617', 'LONGITUDE': '-53,44733702', 'TIPO_PESSOA': 'CPF', 'CIDADE': 'Alto Piquiri', 'ESTADO': 'Paraná', 'LOGRADOURO': 'premise'}\n",
      "{'ID_USUARIO': '88c50fe1-4e02-4793-994b-8adced43a5af', 'DATA_NASCIMENTO': '11/07/1965 00:00', 'RENDA': 'DE R$ 3.800,00 A R$ 7.600,00', 'RENDA_FIXA': '4.694,00', 'LATITUDE': '-22,868355', 'LONGITUDE': '-43,47677', 'TIPO_PESSOA': 'CPF', 'CIDADE': 'Rio de Janeiro', 'ESTADO': 'Rio de Janeiro', 'LOGRADOURO': 'street_address'}\n",
      "{'ID_USUARIO': '5f76880b-6c6b-480f-ac88-0a9a73dd9c45', 'DATA_NASCIMENTO': '28/02/1979 00:00', 'RENDA': 'DE R$ 1.900,00 A R$ 3.800,00', 'RENDA_FIXA': '3.456,00', 'LATITUDE': '-10,82978925', 'LONGITUDE': '-37,06721363', 'TIPO_PESSOA': 'CPF', 'CIDADE': 'Nossa Senhora do Socorro', 'ESTADO': 'Sergipe', 'LOGRADOURO': 'street_address'}\n",
      "{'ID_USUARIO': '169fbadb-f51e-4dae-a518-8cfb08dc5d84', 'DATA_NASCIMENTO': '21/08/1947 00:00', 'RENDA': 'DE R$ 1.900,00 A R$ 3.800,00', 'RENDA_FIXA': '2.361,00', 'LATITUDE': '-18,87492413', 'LONGITUDE': '-48,87799391', 'TIPO_PESSOA': 'CPF', 'CIDADE': 'Monte Alegre de Minas', 'ESTADO': 'Minas Gerais', 'LOGRADOURO': 'street_address'}\n",
      "{'ID_USUARIO': '06caa196-c1cd-4563-96d7-2c8717e3fc91', 'DATA_NASCIMENTO': '13/09/1983 00:00', 'RENDA': 'DE R$ 1.900,00 A R$ 3.800,00', 'RENDA_FIXA': '2.022,00', 'LATITUDE': '', 'LONGITUDE': '', 'TIPO_PESSOA': 'CNPJ', 'CIDADE': 'NaN', 'ESTADO': 'NaN', 'LOGRADOURO': 'NaN'}\n",
      "{'ID_USUARIO': '514397f6-f8fe-4a07-8071-60af9e437ada', 'DATA_NASCIMENTO': '07/03/1974 00:00', 'RENDA': 'DE R$ 1.900,00 A R$ 3.800,00', 'RENDA_FIXA': '3.283,00', 'LATITUDE': '-8,0841', 'LONGITUDE': '-34,9166575', 'TIPO_PESSOA': 'CPF', 'CIDADE': 'Recife', 'ESTADO': 'Pernambuco', 'LOGRADOURO': 'street_address'}\n",
      "{'ID_USUARIO': '15c71ed1-d592-4860-bc41-95871e90b932', 'DATA_NASCIMENTO': '30/01/1984 00:00', 'RENDA': 'DE R$ 788,00 A R$ 1.140,00', 'RENDA_FIXA': '825', 'LATITUDE': '-5,209206499', 'LONGITUDE': '-39,29615119', 'TIPO_PESSOA': 'CPF', 'CIDADE': 'Quixeramobim', 'ESTADO': 'Ceará', 'LOGRADOURO': 'street_address'}\n",
      "{'ID_USUARIO': '559e746a-9a99-495a-8f11-9d9d3fef39f4', 'DATA_NASCIMENTO': '02/04/1968 00:00', 'RENDA': 'DE R$ 788,00 A R$ 1.140,00', 'RENDA_FIXA': '1.117,00', 'LATITUDE': '', 'LONGITUDE': '', 'TIPO_PESSOA': 'CNPJ', 'CIDADE': 'NaN', 'ESTADO': 'NaN', 'LOGRADOURO': 'NaN'}\n",
      "{'ID_USUARIO': 'b004c8c7-6882-4e6e-9872-576bb4a9e32f', 'DATA_NASCIMENTO': '07/03/1942 00:00', 'RENDA': 'MAIOR QUE R$ 7.600,00', 'RENDA_FIXA': ' -   ', 'LATITUDE': '-6,143759966', 'LONGITUDE': '-36,71617451', 'TIPO_PESSOA': 'CNPJ', 'CIDADE': 'Tenente Laurentino Cruz', 'ESTADO': 'Rio Grande do Norte', 'LOGRADOURO': 'establishment'}\n",
      "{'ID_USUARIO': '25ecf822-a3a9-4589-ad97-0affa11bab06', 'DATA_NASCIMENTO': '30/07/1988 00:00', 'RENDA': 'DE R$ 1.900,00 A R$ 3.800,00', 'RENDA_FIXA': '2.623,00', 'LATITUDE': '-3,024440888', 'LONGITUDE': '-59,99447625', 'TIPO_PESSOA': 'CPF', 'CIDADE': 'Manaus', 'ESTADO': 'Amazonas', 'LOGRADOURO': 'street_address'}\n",
      "{'ID_USUARIO': '069aa772-2003-4b7c-81af-b7c94d272f83', 'DATA_NASCIMENTO': '13/02/1956 00:00', 'RENDA': 'DE R$ 3.800,00 A R$ 7.600,00', 'RENDA_FIXA': '5.850,00', 'LATITUDE': '-23,53355153', 'LONGITUDE': '-47,63392648', 'TIPO_PESSOA': 'CPF', 'CIDADE': 'Araçoiaba da Serra', 'ESTADO': 'São Paulo', 'LOGRADOURO': 'street_address'}\n",
      "{'ID_USUARIO': '87d10338-ce28-4be2-98e0-d5aca349479a', 'DATA_NASCIMENTO': '13/07/1979 00:00', 'RENDA': 'DE R$ 788,00 A R$ 1.140,00', 'RENDA_FIXA': '801', 'LATITUDE': '-3,607222', 'LONGITUDE': '-38,968333', 'TIPO_PESSOA': 'CPF', 'CIDADE': 'São Gonçalo do Amarante', 'ESTADO': 'Ceará', 'LOGRADOURO': 'street_address'}\n",
      "{'ID_USUARIO': '148be519-56fa-4f4c-8e95-9b32158279d8', 'DATA_NASCIMENTO': '01/01/1975 00:00', 'RENDA': 'DE R$ 788,00 A R$ 1.140,00', 'RENDA_FIXA': '988', 'LATITUDE': '', 'LONGITUDE': '', 'TIPO_PESSOA': 'CPF', 'CIDADE': 'NaN', 'ESTADO': 'NaN', 'LOGRADOURO': 'NaN'}\n",
      "{'ID_USUARIO': '36501cf1-01f5-45b7-b822-d10ebccbeeb1', 'DATA_NASCIMENTO': '30/07/1959 00:00', 'RENDA': 'DE R$ 1.900,00 A R$ 3.800,00', 'RENDA_FIXA': '2.961,00', 'LATITUDE': '-23,53903243', 'LONGITUDE': '-47,41670338', 'TIPO_PESSOA': 'CPF', 'CIDADE': 'Votorantim', 'ESTADO': 'São Paulo', 'LOGRADOURO': 'street_address'}\n",
      "{'ID_USUARIO': '19d99dfa-7b5d-48cc-ab61-cb81796c1be9', 'DATA_NASCIMENTO': '25/12/1976 00:00', 'RENDA': 'DE R$ 788,00 A R$ 1.140,00', 'RENDA_FIXA': '954', 'LATITUDE': '-9,3887', 'LONGITUDE': '-40,51876468', 'TIPO_PESSOA': 'CPF', 'CIDADE': 'Petrolina', 'ESTADO': 'Pernambuco', 'LOGRADOURO': 'street_address'}\n",
      "{'ID_USUARIO': 'c9f4b246-a1e8-4287-bf9f-9984d65a29ff', 'DATA_NASCIMENTO': '09/08/1979 00:00', 'RENDA': 'DE R$ 3.800,00 A R$ 7.600,00', 'RENDA_FIXA': '5.596,00', 'LATITUDE': '', 'LONGITUDE': '', 'TIPO_PESSOA': 'CPF', 'CIDADE': 'NaN', 'ESTADO': 'NaN', 'LOGRADOURO': 'NaN'}\n",
      "{'ID_USUARIO': '2efe7656-ebfb-48dc-a89e-f70e714c515c', 'DATA_NASCIMENTO': '02/11/1957 00:00', 'RENDA': 'DE R$ 788,00 A R$ 1.140,00', 'RENDA_FIXA': '880', 'LATITUDE': '-23,101389', 'LONGITUDE': '-46,728333', 'TIPO_PESSOA': 'CNPJ', 'CIDADE': 'Jarinu', 'ESTADO': 'São Paulo', 'LOGRADOURO': 'establishment'}\n",
      "{'ID_USUARIO': '66a9e132-981d-49a2-b7dc-4532b1b8c6f9', 'DATA_NASCIMENTO': '22/06/1977 00:00', 'RENDA': 'DE R$ 3.800,00 A R$ 7.600,00', 'RENDA_FIXA': '5.080,00', 'LATITUDE': '-23,62977073', 'LONGITUDE': '-46,54487431', 'TIPO_PESSOA': 'CPF', 'CIDADE': 'Santo André', 'ESTADO': 'São Paulo', 'LOGRADOURO': 'street_address'}\n",
      "{'ID_USUARIO': 'f83b12d3-8852-49c6-a0f0-3ead1e30733b', 'DATA_NASCIMENTO': '09/09/1979 00:00', 'RENDA': 'DE R$ 3.800,00 A R$ 7.600,00', 'RENDA_FIXA': '6.287,00', 'LATITUDE': '-23,50562548', 'LONGITUDE': '-46,77712688', 'TIPO_PESSOA': 'CNPJ', 'CIDADE': 'Osasco', 'ESTADO': 'São Paulo', 'LOGRADOURO': 'establishment'}\n",
      "{'ID_USUARIO': 'e7d1c893-f264-4b8e-80a1-1534d092f2c4', 'DATA_NASCIMENTO': '21/08/1981 00:00', 'RENDA': 'DE R$ 1.900,00 A R$ 3.800,00', 'RENDA_FIXA': '3.782,00', 'LATITUDE': '-17,82153337', 'LONGITUDE': '-50,92302244', 'TIPO_PESSOA': 'CPF', 'CIDADE': 'Rio Verde', 'ESTADO': 'Goiás', 'LOGRADOURO': 'street_address'}\n",
      "{'ID_USUARIO': 'eb7b7f16-dca5-4d3d-aa45-1bdc6b75dc64', 'DATA_NASCIMENTO': '19/07/1976 00:00', 'RENDA': 'DE R$ 1.900,00 A R$ 3.800,00', 'RENDA_FIXA': '2.592,00', 'LATITUDE': '-18,933846', 'LONGITUDE': '-48,26913', 'TIPO_PESSOA': 'CNPJ', 'CIDADE': 'Uberlândia', 'ESTADO': 'Minas Gerais', 'LOGRADOURO': 'establishment'}\n",
      "{'ID_USUARIO': '8477fe8c-d395-4480-afa7-5f3da28dcb77', 'DATA_NASCIMENTO': '20/03/1969 00:00', 'RENDA': 'DE R$ 1.900,00 A R$ 3.800,00', 'RENDA_FIXA': '3.295,00', 'LATITUDE': '-9,62377', 'LONGITUDE': '-42,08005', 'TIPO_PESSOA': 'CPF', 'CIDADE': 'Remanso', 'ESTADO': 'Bahia', 'LOGRADOURO': 'street_address'}\n",
      "{'ID_USUARIO': 'f16bf394-3e8a-4a74-8532-743facc16215', 'DATA_NASCIMENTO': '18/05/1954 00:00', 'RENDA': 'DE R$ 1.900,00 A R$ 3.800,00', 'RENDA_FIXA': '3.024,00', 'LATITUDE': '-23,18811', 'LONGITUDE': '-46,89467', 'TIPO_PESSOA': 'CPF', 'CIDADE': 'Jundiaí', 'ESTADO': 'São Paulo', 'LOGRADOURO': 'street_address'}\n",
      "{'ID_USUARIO': '93d871cc-3e28-4fad-935e-e48b8a989b15', 'DATA_NASCIMENTO': '01/07/1975 00:00', 'RENDA': 'DE R$ 3.800,00 A R$ 7.600,00', 'RENDA_FIXA': '5.404,00', 'LATITUDE': '-30,11451', 'LONGITUDE': '-51,21969', 'TIPO_PESSOA': 'CNPJ', 'CIDADE': 'Porto Alegre', 'ESTADO': 'Rio Grande do Sul', 'LOGRADOURO': 'establishment'}\n",
      "{'ID_USUARIO': '48d3c2d7-6b17-4603-8c43-92732a69c1af', 'DATA_NASCIMENTO': '03/10/1973 00:00', 'RENDA': 'DE R$ 3.800,00 A R$ 7.600,00', 'RENDA_FIXA': '5.732,00', 'LATITUDE': '-3,19227', 'LONGITUDE': '-52,21175', 'TIPO_PESSOA': 'CPF', 'CIDADE': 'Altamira', 'ESTADO': 'Pará', 'LOGRADOURO': 'street_address'}\n",
      "{'ID_USUARIO': 'c0168793-330e-46bf-844e-108e0aa23344', 'DATA_NASCIMENTO': '20/03/1980 00:00', 'RENDA': 'DE R$ 788,00 A R$ 1.140,00', 'RENDA_FIXA': '1.122,00', 'LATITUDE': '', 'LONGITUDE': '', 'TIPO_PESSOA': 'CNPJ', 'CIDADE': 'NaN', 'ESTADO': 'NaN', 'LOGRADOURO': 'NaN'}\n",
      "{'ID_USUARIO': '5727c318-52cb-48ab-9b86-341e34456cf4', 'DATA_NASCIMENTO': '10/03/1927 00:00', 'RENDA': 'DE R$ 788,00 A R$ 1.140,00', 'RENDA_FIXA': '863', 'LATITUDE': '', 'LONGITUDE': '', 'TIPO_PESSOA': 'CPF', 'CIDADE': 'NaN', 'ESTADO': 'NaN', 'LOGRADOURO': 'NaN'}\n",
      "{'ID_USUARIO': '1dc433d6-de3c-4210-a80d-611379f554ab', 'DATA_NASCIMENTO': '15/09/1965 00:00', 'RENDA': 'DE R$ 3.800,00 A R$ 7.600,00', 'RENDA_FIXA': '4.643,00', 'LATITUDE': '-22,92760079', 'LONGITUDE': '-43,343497', 'TIPO_PESSOA': 'CPF', 'CIDADE': 'Rio de Janeiro', 'ESTADO': 'Rio de Janeiro', 'LOGRADOURO': 'street_address'}\n",
      "{'ID_USUARIO': 'f16fd20c-c114-4b32-aec3-b2034fcad247', 'DATA_NASCIMENTO': '28/06/1981 00:00', 'RENDA': 'DE R$ 1.900,00 A R$ 3.800,00', 'RENDA_FIXA': '3.718,00', 'LATITUDE': '', 'LONGITUDE': '', 'TIPO_PESSOA': 'CNPJ', 'CIDADE': 'NaN', 'ESTADO': 'NaN', 'LOGRADOURO': 'NaN'}\n",
      "{'ID_USUARIO': '4c476325-3a3c-4c8d-ab56-da4611d866e7', 'DATA_NASCIMENTO': '09/10/1918 00:00', 'RENDA': 'MAIOR QUE R$ 7.600,00', 'RENDA_FIXA': ' -   ', 'LATITUDE': '-22,98644', 'LONGITUDE': '-43,23087667', 'TIPO_PESSOA': 'CPF', 'CIDADE': 'Rio de Janeiro', 'ESTADO': 'Rio de Janeiro', 'LOGRADOURO': 'premise'}\n",
      "{'ID_USUARIO': 'a432b838-771e-4121-b1ed-d6a541b4de77', 'DATA_NASCIMENTO': '09/08/1974 00:00', 'RENDA': 'DE R$ 788,00 A R$ 1.140,00', 'RENDA_FIXA': '1.030,00', 'LATITUDE': '-23,26134', 'LONGITUDE': '-50,9644312', 'TIPO_PESSOA': 'CPF', 'CIDADE': 'Jataizinho', 'ESTADO': 'Paraná', 'LOGRADOURO': 'street_address'}\n",
      "{'ID_USUARIO': 'de88e6cd-fad0-49d4-9d2f-a8850607ee41', 'DATA_NASCIMENTO': '08/03/1958 00:00', 'RENDA': 'DE R$ 3.800,00 A R$ 7.600,00', 'RENDA_FIXA': '6.626,00', 'LATITUDE': '-23,16694463', 'LONGITUDE': '-46,90988481', 'TIPO_PESSOA': 'CPF', 'CIDADE': 'Jundiaí', 'ESTADO': 'São Paulo', 'LOGRADOURO': 'street_address'}\n",
      "{'ID_USUARIO': 'adbfd345-a9cc-4244-a57a-9b65a0fff258', 'DATA_NASCIMENTO': '26/10/1942 00:00', 'RENDA': 'DE R$ 788,00 A R$ 1.140,00', 'RENDA_FIXA': '959', 'LATITUDE': '', 'LONGITUDE': '', 'TIPO_PESSOA': 'CNPJ', 'CIDADE': 'NaN', 'ESTADO': 'NaN', 'LOGRADOURO': 'NaN'}\n",
      "{'ID_USUARIO': '553d5071-e421-4c55-bcce-bd0aba31caec', 'DATA_NASCIMENTO': '11/10/1963 00:00', 'RENDA': 'DE R$ 3.800,00 A R$ 7.600,00', 'RENDA_FIXA': '5.673,00', 'LATITUDE': '', 'LONGITUDE': '', 'TIPO_PESSOA': 'CPF', 'CIDADE': 'NaN', 'ESTADO': 'NaN', 'LOGRADOURO': 'NaN'}\n",
      "{'ID_USUARIO': '7dd75566-be8e-4bba-8aac-d4229e635d2e', 'DATA_NASCIMENTO': '15/11/1957 00:00', 'RENDA': 'DE R$ 1.900,00 A R$ 3.800,00', 'RENDA_FIXA': '2.511,00', 'LATITUDE': '-23,2090984', 'LONGITUDE': '-46,88086', 'TIPO_PESSOA': 'CPF', 'CIDADE': 'Jundiaí', 'ESTADO': 'São Paulo', 'LOGRADOURO': 'street_address'}\n",
      "{'ID_USUARIO': '9760beb5-3ef2-46f5-8010-d136ea652e17', 'DATA_NASCIMENTO': '08/10/1981 00:00', 'RENDA': 'DE R$ 788,00 A R$ 1.140,00', 'RENDA_FIXA': '1.066,00', 'LATITUDE': '-6,007765476', 'LONGITUDE': '-40,30079541', 'TIPO_PESSOA': 'CPF', 'CIDADE': 'Tauá', 'ESTADO': 'Ceará', 'LOGRADOURO': 'street_address'}\n",
      "{'ID_USUARIO': '4e9344b7-5ed8-4516-af55-0750a93d57f3', 'DATA_NASCIMENTO': '03/01/1981 00:00', 'RENDA': 'DE R$ 788,00 A R$ 1.140,00', 'RENDA_FIXA': '813', 'LATITUDE': '-3,276961392', 'LONGITUDE': '-39,26755165', 'TIPO_PESSOA': 'CPF', 'CIDADE': 'Trairi', 'ESTADO': 'Ceará', 'LOGRADOURO': 'street_address'}\n",
      "{'ID_USUARIO': 'bf63aa59-2cb8-4c47-bd24-7ee4ce1cc336', 'DATA_NASCIMENTO': '20/04/1965 00:00', 'RENDA': 'DE R$ 1.900,00 A R$ 3.800,00', 'RENDA_FIXA': '3.021,00', 'LATITUDE': '-26,90481667', 'LONGITUDE': '-49,04824444', 'TIPO_PESSOA': 'CPF', 'CIDADE': 'Blumenau', 'ESTADO': 'Santa Catarina', 'LOGRADOURO': 'street_address'}\n",
      "{'ID_USUARIO': '4a9d1b64-8d1c-4a20-b1ad-0c01364664aa', 'DATA_NASCIMENTO': '29/02/1976 00:00', 'RENDA': 'DE R$ 1.900,00 A R$ 3.800,00', 'RENDA_FIXA': '3.548,00', 'LATITUDE': '-8,3273228', 'LONGITUDE': '-36,1367084', 'TIPO_PESSOA': 'CNPJ', 'CIDADE': 'São Caetano', 'ESTADO': 'Pernambuco', 'LOGRADOURO': 'church'}\n",
      "{'ID_USUARIO': '983a29d7-4840-4c9b-a674-3a84001dbf0c', 'DATA_NASCIMENTO': '21/07/1928 00:00', 'RENDA': 'DE R$ 788,00 A R$ 1.140,00', 'RENDA_FIXA': '801', 'LATITUDE': '-26,73983727', 'LONGITUDE': '-53,51019455', 'TIPO_PESSOA': 'CPF', 'CIDADE': 'São Miguel do Oeste', 'ESTADO': 'Santa Catarina', 'LOGRADOURO': 'premise'}\n",
      "{'ID_USUARIO': '0510ec4b-2a4c-4706-ade4-5e77fd97af64', 'DATA_NASCIMENTO': '03/02/1958 00:00', 'RENDA': 'DE R$ 3.800,00 A R$ 7.600,00', 'RENDA_FIXA': '6.889,00', 'LATITUDE': '-23,22976103', 'LONGITUDE': '-46,88037603', 'TIPO_PESSOA': 'CPF', 'CIDADE': 'Jundiaí', 'ESTADO': 'São Paulo', 'LOGRADOURO': 'street_address'}\n",
      "{'ID_USUARIO': '782c7131-425a-4360-bebf-cecc3765eb47', 'DATA_NASCIMENTO': '02/06/1949 00:00', 'RENDA': 'DE R$ 3.800,00 A R$ 7.600,00', 'RENDA_FIXA': '3.945,00', 'LATITUDE': '-23,19156857', 'LONGITUDE': '-46,851845', 'TIPO_PESSOA': 'CPF', 'CIDADE': 'Jundiaí', 'ESTADO': 'São Paulo', 'LOGRADOURO': 'street_address'}\n",
      "{'ID_USUARIO': 'dafe6671-4e15-4cb6-952c-730ca726bd99', 'DATA_NASCIMENTO': '23/12/1943 00:00', 'RENDA': 'DE R$ 788,00 A R$ 1.140,00', 'RENDA_FIXA': '938', 'LATITUDE': '', 'LONGITUDE': '', 'TIPO_PESSOA': 'CNPJ', 'CIDADE': 'NaN', 'ESTADO': 'NaN', 'LOGRADOURO': 'NaN'}\n",
      "{'ID_USUARIO': 'c815308d-77e2-41ee-afea-e56b83a2c172', 'DATA_NASCIMENTO': '17/04/1977 00:00', 'RENDA': 'DE R$ 1.900,00 A R$ 3.800,00', 'RENDA_FIXA': '3.382,00', 'LATITUDE': '-29,70755', 'LONGITUDE': '-53,73949', 'TIPO_PESSOA': 'CPF', 'CIDADE': 'Santa Maria', 'ESTADO': 'Rio Grande do Sul', 'LOGRADOURO': 'street_address'}\n",
      "{'ID_USUARIO': 'a052d4b9-aacf-48f7-afe5-6948ad692d73', 'DATA_NASCIMENTO': '02/06/1967 00:00', 'RENDA': 'DE R$ 3.800,00 A R$ 7.600,00', 'RENDA_FIXA': '4.415,00', 'LATITUDE': '-2,51027', 'LONGITUDE': '-44,30033', 'TIPO_PESSOA': 'CPF', 'CIDADE': 'São Luís', 'ESTADO': 'Maranhão', 'LOGRADOURO': 'street_address'}\n",
      "{'ID_USUARIO': '239cd94e-cfd3-41a8-9838-5d11180881c6', 'DATA_NASCIMENTO': '30/06/1977 00:00', 'RENDA': 'DE R$ 1.900,00 A R$ 3.800,00', 'RENDA_FIXA': '3.029,00', 'LATITUDE': '-23,6824345', 'LONGITUDE': '-46,801669', 'TIPO_PESSOA': 'CPF', 'CIDADE': 'Embu das Artes', 'ESTADO': 'São Paulo', 'LOGRADOURO': 'street_address'}\n",
      "{'ID_USUARIO': '8cb30238-1f02-4d75-9d06-30a904b72844', 'DATA_NASCIMENTO': '22/03/1972 00:00', 'RENDA': 'DE R$ 788,00 A R$ 1.140,00', 'RENDA_FIXA': '998', 'LATITUDE': '-7,979340811', 'LONGITUDE': '-34,83757703', 'TIPO_PESSOA': 'CPF', 'CIDADE': 'Olinda', 'ESTADO': 'Pernambuco', 'LOGRADOURO': 'street_address'}\n",
      "{'ID_USUARIO': '0652d454-ec70-4177-8231-d3a7a5d605c0', 'DATA_NASCIMENTO': '14/05/1981 00:00', 'RENDA': 'DE R$ 788,00 A R$ 1.140,00', 'RENDA_FIXA': '1.123,00', 'LATITUDE': '-14,04174273', 'LONGITUDE': '-52,15638364', 'TIPO_PESSOA': 'CPF', 'CIDADE': 'Água Boa', 'ESTADO': 'Mato Grosso', 'LOGRADOURO': 'street_address'}\n",
      "{'ID_USUARIO': '886b9b70-b00a-480e-aa5c-49b96a8335b8', 'DATA_NASCIMENTO': '19/07/1978 00:00', 'RENDA': 'DE R$ 1.900,00 A R$ 3.800,00', 'RENDA_FIXA': '2.368,00', 'LATITUDE': '-29,68552641', 'LONGITUDE': '-51,13958456', 'TIPO_PESSOA': 'CPF', 'CIDADE': 'Novo Hamburgo', 'ESTADO': 'Rio Grande do Sul', 'LOGRADOURO': 'street_address'}\n",
      "{'ID_USUARIO': '9de253e2-d43b-4926-8e3b-f58663aec885', 'DATA_NASCIMENTO': '16/10/1974 00:00', 'RENDA': 'DE R$ 1.900,00 A R$ 3.800,00', 'RENDA_FIXA': '2.736,00', 'LATITUDE': '-3,789461', 'LONGITUDE': '-38,49188727', 'TIPO_PESSOA': 'CPF', 'CIDADE': 'Fortaleza', 'ESTADO': 'Ceará', 'LOGRADOURO': 'street_address'}\n",
      "{'ID_USUARIO': 'da4f8470-b7db-46fd-9877-8761b1c8cadc', 'DATA_NASCIMENTO': '28/08/1978 00:00', 'RENDA': 'DE R$ 1.900,00 A R$ 3.800,00', 'RENDA_FIXA': '2.120,00', 'LATITUDE': '-29,59037263', 'LONGITUDE': '-51,21581579', 'TIPO_PESSOA': 'CNPJ', 'CIDADE': 'Lindolfo Collor', 'ESTADO': 'Rio Grande do Sul', 'LOGRADOURO': 'establishment'}\n",
      "{'ID_USUARIO': 'f2261fce-83c5-4f64-b145-85f46bcf18b1', 'DATA_NASCIMENTO': '08/10/1979 00:00', 'RENDA': 'DE R$ 1.900,00 A R$ 3.800,00', 'RENDA_FIXA': '2.776,00', 'LATITUDE': '-11,60937194', 'LONGITUDE': '-47,04750645', 'TIPO_PESSOA': 'CPF', 'CIDADE': 'Porto Alegre do Tocantins', 'ESTADO': 'Tocantins', 'LOGRADOURO': 'route'}\n",
      "{'ID_USUARIO': 'bdaa7802-4650-44a4-93f7-952b72ec17a0', 'DATA_NASCIMENTO': '30/04/1980 00:00', 'RENDA': 'DE R$ 3.800,00 A R$ 7.600,00', 'RENDA_FIXA': '4.099,00', 'LATITUDE': '-15,65049668', 'LONGITUDE': '-47,79332059', 'TIPO_PESSOA': 'CPF', 'CIDADE': 'Brasília', 'ESTADO': 'Distrito Federal', 'LOGRADOURO': 'street_address'}\n",
      "{'ID_USUARIO': 'e7b37cd5-714a-44d8-ad7f-4ed3aa6b0695', 'DATA_NASCIMENTO': '26/05/1976 00:00', 'RENDA': 'DE R$ 788,00 A R$ 1.140,00', 'RENDA_FIXA': '1.052,00', 'LATITUDE': '-8,330678649', 'LONGITUDE': '-36,13689703', 'TIPO_PESSOA': 'CPF', 'CIDADE': 'São Caetano', 'ESTADO': 'Pernambuco', 'LOGRADOURO': 'street_address'}\n",
      "{'ID_USUARIO': '167dbd7f-7ccd-4aad-a6b9-c3fb9d56c9cd', 'DATA_NASCIMENTO': '06/11/1985 00:00', 'RENDA': 'DE R$ 788,00 A R$ 1.140,00', 'RENDA_FIXA': '958', 'LATITUDE': '', 'LONGITUDE': '', 'TIPO_PESSOA': 'CNPJ', 'CIDADE': 'NaN', 'ESTADO': 'NaN', 'LOGRADOURO': 'NaN'}\n",
      "{'ID_USUARIO': 'd4f11ca2-71b1-4e12-aba6-bd8530ca2691', 'DATA_NASCIMENTO': '09/03/1981 00:00', 'RENDA': 'DE R$ 3.800,00 A R$ 7.600,00', 'RENDA_FIXA': '5.954,00', 'LATITUDE': '-15,787504', 'LONGITUDE': '-48,139096', 'TIPO_PESSOA': 'CPF', 'CIDADE': 'Brasília', 'ESTADO': 'Distrito Federal', 'LOGRADOURO': 'premise'}\n"
     ]
    }
   ],
   "source": [
    "latitudes = []\n",
    "longitudes = []\n",
    "#open the file and extract the data\n",
    "with open(\"dataset_v02.csv\", 'rt', ) as csvfile:\n",
    "    reader = csv.DictReader(csvfile, delimiter=';')\n",
    "    for row in reader:\n",
    "        print(row)\n",
    "        latitudes.append(float(row[\"LATITUDE\"].replace(',','.') if row[\"LATITUDE\"] else 0.0))\n",
    "        longitudes.append(float(row[\"LONGITUDE\"].replace(',','.') if row[\"LONGITUDE\"] else 0.0))"
   ]
  },
  {
   "cell_type": "code",
   "execution_count": 34,
   "metadata": {},
   "outputs": [
    {
     "output_type": "error",
     "ename": "SyntaxError",
     "evalue": "invalid syntax (<ipython-input-34-f48ba6081401>, line 8)",
     "traceback": [
      "\u001b[1;36m  File \u001b[1;32m\"<ipython-input-34-f48ba6081401>\"\u001b[1;36m, line \u001b[1;32m8\u001b[0m\n\u001b[1;33m    df_spc['LATITUDE'] = df_spc['LATITUDE'].replace(r'\\s+', np.nan, regex=True)\u001b[0m\n\u001b[1;37m    ^\u001b[0m\n\u001b[1;31mSyntaxError\u001b[0m\u001b[1;31m:\u001b[0m invalid syntax\n"
     ]
    }
   ],
   "source": [
    "#Padronização dos dados\n",
    "df_spc['LONGITUDE'] = df_spc['LONGITUDE'].replace('.','')\n",
    "df_spc['LATITUDE'] = df_spc['LATITUDE'].replace('.','')\n",
    "df_spc['LONGITUDE'] = df_spc['LONGITUDE'].replace(r'\\s+', np.nan, regex=True)\n",
    "df_spc['LONGITUDE'] = df_spc['LONGITUDE'].replace(r'^$', np.nan, regex=True)\n",
    "df_spc['LONGITUDE'] = df_spc['LONGITUDE'].fillna(-0.99999)\n",
    "df_spc['LONGITUDE'] = pd.to_numeric(df_spc['LONGITUDE']\n",
    "df_spc['LATITUDE'] = df_spc['LATITUDE'].replace(r'\\s+', np.nan, regex=True)\n",
    "df_spc['LATITUDE'] = df_spc['LATITUDE'].replace(r'^$', np.nan, regex=True)\n",
    "df_spc['LATITUDE'] = df_spc['LATITUDE'].fillna(-0.99999)\n",
    "df_spc['LATITUDE'] = pd.to_numeric(df_spc['LATITUDE'])"
   ]
  },
  {
   "cell_type": "code",
   "execution_count": 26,
   "metadata": {},
   "outputs": [
    {
     "output_type": "execute_result",
     "data": {
      "text/plain": [
       "<csv.DictReader at 0x1df6c871eb0>"
      ]
     },
     "metadata": {},
     "execution_count": 26
    }
   ],
   "source": [
    "reader"
   ]
  },
  {
   "cell_type": "code",
   "execution_count": 44,
   "metadata": {},
   "outputs": [
    {
     "output_type": "error",
     "ename": "ValueError",
     "evalue": "could not convert string to float: '-2.699.011.814'",
     "traceback": [
      "\u001b[1;31m---------------------------------------------------------------------------\u001b[0m",
      "\u001b[1;31mValueError\u001b[0m                                Traceback (most recent call last)",
      "\u001b[1;32m<ipython-input-44-6762ac960b91>\u001b[0m in \u001b[0;36m<module>\u001b[1;34m\u001b[0m\n\u001b[1;32m----> 1\u001b[1;33m \u001b[0mdf_spc\u001b[0m\u001b[1;33m[\u001b[0m\u001b[1;34m'LATITUDE'\u001b[0m\u001b[1;33m]\u001b[0m \u001b[1;33m=\u001b[0m \u001b[0mdf_spc\u001b[0m\u001b[1;33m[\u001b[0m\u001b[1;34m'LATITUDE'\u001b[0m\u001b[1;33m]\u001b[0m\u001b[1;33m.\u001b[0m\u001b[0mastype\u001b[0m\u001b[1;33m(\u001b[0m\u001b[0mfloat\u001b[0m\u001b[1;33m)\u001b[0m\u001b[1;33m\u001b[0m\u001b[1;33m\u001b[0m\u001b[0m\n\u001b[0m\u001b[0;32m      2\u001b[0m \u001b[0mdf_spc\u001b[0m\u001b[1;33m[\u001b[0m\u001b[1;34m'LONGITUDE'\u001b[0m\u001b[1;33m]\u001b[0m \u001b[1;33m=\u001b[0m \u001b[0mdf_spc\u001b[0m\u001b[1;33m[\u001b[0m\u001b[1;34m'LONGITUDE'\u001b[0m\u001b[1;33m]\u001b[0m\u001b[1;33m.\u001b[0m\u001b[0mastype\u001b[0m\u001b[1;33m(\u001b[0m\u001b[0mfloat\u001b[0m\u001b[1;33m)\u001b[0m\u001b[1;33m\u001b[0m\u001b[1;33m\u001b[0m\u001b[0m\n",
      "\u001b[1;32m~\\AppData\\Roaming\\Python\\Python39\\site-packages\\pandas\\core\\generic.py\u001b[0m in \u001b[0;36mastype\u001b[1;34m(self, dtype, copy, errors)\u001b[0m\n\u001b[0;32m   5875\u001b[0m         \u001b[1;32melse\u001b[0m\u001b[1;33m:\u001b[0m\u001b[1;33m\u001b[0m\u001b[1;33m\u001b[0m\u001b[0m\n\u001b[0;32m   5876\u001b[0m             \u001b[1;31m# else, only a single dtype is given\u001b[0m\u001b[1;33m\u001b[0m\u001b[1;33m\u001b[0m\u001b[1;33m\u001b[0m\u001b[0m\n\u001b[1;32m-> 5877\u001b[1;33m             \u001b[0mnew_data\u001b[0m \u001b[1;33m=\u001b[0m \u001b[0mself\u001b[0m\u001b[1;33m.\u001b[0m\u001b[0m_mgr\u001b[0m\u001b[1;33m.\u001b[0m\u001b[0mastype\u001b[0m\u001b[1;33m(\u001b[0m\u001b[0mdtype\u001b[0m\u001b[1;33m=\u001b[0m\u001b[0mdtype\u001b[0m\u001b[1;33m,\u001b[0m \u001b[0mcopy\u001b[0m\u001b[1;33m=\u001b[0m\u001b[0mcopy\u001b[0m\u001b[1;33m,\u001b[0m \u001b[0merrors\u001b[0m\u001b[1;33m=\u001b[0m\u001b[0merrors\u001b[0m\u001b[1;33m)\u001b[0m\u001b[1;33m\u001b[0m\u001b[1;33m\u001b[0m\u001b[0m\n\u001b[0m\u001b[0;32m   5878\u001b[0m             \u001b[1;32mreturn\u001b[0m \u001b[0mself\u001b[0m\u001b[1;33m.\u001b[0m\u001b[0m_constructor\u001b[0m\u001b[1;33m(\u001b[0m\u001b[0mnew_data\u001b[0m\u001b[1;33m)\u001b[0m\u001b[1;33m.\u001b[0m\u001b[0m__finalize__\u001b[0m\u001b[1;33m(\u001b[0m\u001b[0mself\u001b[0m\u001b[1;33m,\u001b[0m \u001b[0mmethod\u001b[0m\u001b[1;33m=\u001b[0m\u001b[1;34m\"astype\"\u001b[0m\u001b[1;33m)\u001b[0m\u001b[1;33m\u001b[0m\u001b[1;33m\u001b[0m\u001b[0m\n\u001b[0;32m   5879\u001b[0m \u001b[1;33m\u001b[0m\u001b[0m\n",
      "\u001b[1;32m~\\AppData\\Roaming\\Python\\Python39\\site-packages\\pandas\\core\\internals\\managers.py\u001b[0m in \u001b[0;36mastype\u001b[1;34m(self, dtype, copy, errors)\u001b[0m\n\u001b[0;32m    629\u001b[0m         \u001b[0mself\u001b[0m\u001b[1;33m,\u001b[0m \u001b[0mdtype\u001b[0m\u001b[1;33m,\u001b[0m \u001b[0mcopy\u001b[0m\u001b[1;33m:\u001b[0m \u001b[0mbool\u001b[0m \u001b[1;33m=\u001b[0m \u001b[1;32mFalse\u001b[0m\u001b[1;33m,\u001b[0m \u001b[0merrors\u001b[0m\u001b[1;33m:\u001b[0m \u001b[0mstr\u001b[0m \u001b[1;33m=\u001b[0m \u001b[1;34m\"raise\"\u001b[0m\u001b[1;33m\u001b[0m\u001b[1;33m\u001b[0m\u001b[0m\n\u001b[0;32m    630\u001b[0m     ) -> \"BlockManager\":\n\u001b[1;32m--> 631\u001b[1;33m         \u001b[1;32mreturn\u001b[0m \u001b[0mself\u001b[0m\u001b[1;33m.\u001b[0m\u001b[0mapply\u001b[0m\u001b[1;33m(\u001b[0m\u001b[1;34m\"astype\"\u001b[0m\u001b[1;33m,\u001b[0m \u001b[0mdtype\u001b[0m\u001b[1;33m=\u001b[0m\u001b[0mdtype\u001b[0m\u001b[1;33m,\u001b[0m \u001b[0mcopy\u001b[0m\u001b[1;33m=\u001b[0m\u001b[0mcopy\u001b[0m\u001b[1;33m,\u001b[0m \u001b[0merrors\u001b[0m\u001b[1;33m=\u001b[0m\u001b[0merrors\u001b[0m\u001b[1;33m)\u001b[0m\u001b[1;33m\u001b[0m\u001b[1;33m\u001b[0m\u001b[0m\n\u001b[0m\u001b[0;32m    632\u001b[0m \u001b[1;33m\u001b[0m\u001b[0m\n\u001b[0;32m    633\u001b[0m     def convert(\n",
      "\u001b[1;32m~\\AppData\\Roaming\\Python\\Python39\\site-packages\\pandas\\core\\internals\\managers.py\u001b[0m in \u001b[0;36mapply\u001b[1;34m(self, f, align_keys, ignore_failures, **kwargs)\u001b[0m\n\u001b[0;32m    425\u001b[0m                     \u001b[0mapplied\u001b[0m \u001b[1;33m=\u001b[0m \u001b[0mb\u001b[0m\u001b[1;33m.\u001b[0m\u001b[0mapply\u001b[0m\u001b[1;33m(\u001b[0m\u001b[0mf\u001b[0m\u001b[1;33m,\u001b[0m \u001b[1;33m**\u001b[0m\u001b[0mkwargs\u001b[0m\u001b[1;33m)\u001b[0m\u001b[1;33m\u001b[0m\u001b[1;33m\u001b[0m\u001b[0m\n\u001b[0;32m    426\u001b[0m                 \u001b[1;32melse\u001b[0m\u001b[1;33m:\u001b[0m\u001b[1;33m\u001b[0m\u001b[1;33m\u001b[0m\u001b[0m\n\u001b[1;32m--> 427\u001b[1;33m                     \u001b[0mapplied\u001b[0m \u001b[1;33m=\u001b[0m \u001b[0mgetattr\u001b[0m\u001b[1;33m(\u001b[0m\u001b[0mb\u001b[0m\u001b[1;33m,\u001b[0m \u001b[0mf\u001b[0m\u001b[1;33m)\u001b[0m\u001b[1;33m(\u001b[0m\u001b[1;33m**\u001b[0m\u001b[0mkwargs\u001b[0m\u001b[1;33m)\u001b[0m\u001b[1;33m\u001b[0m\u001b[1;33m\u001b[0m\u001b[0m\n\u001b[0m\u001b[0;32m    428\u001b[0m             \u001b[1;32mexcept\u001b[0m \u001b[1;33m(\u001b[0m\u001b[0mTypeError\u001b[0m\u001b[1;33m,\u001b[0m \u001b[0mNotImplementedError\u001b[0m\u001b[1;33m)\u001b[0m\u001b[1;33m:\u001b[0m\u001b[1;33m\u001b[0m\u001b[1;33m\u001b[0m\u001b[0m\n\u001b[0;32m    429\u001b[0m                 \u001b[1;32mif\u001b[0m \u001b[1;32mnot\u001b[0m \u001b[0mignore_failures\u001b[0m\u001b[1;33m:\u001b[0m\u001b[1;33m\u001b[0m\u001b[1;33m\u001b[0m\u001b[0m\n",
      "\u001b[1;32m~\\AppData\\Roaming\\Python\\Python39\\site-packages\\pandas\\core\\internals\\blocks.py\u001b[0m in \u001b[0;36mastype\u001b[1;34m(self, dtype, copy, errors)\u001b[0m\n\u001b[0;32m    671\u001b[0m             \u001b[0mvals1d\u001b[0m \u001b[1;33m=\u001b[0m \u001b[0mvalues\u001b[0m\u001b[1;33m.\u001b[0m\u001b[0mravel\u001b[0m\u001b[1;33m(\u001b[0m\u001b[1;33m)\u001b[0m\u001b[1;33m\u001b[0m\u001b[1;33m\u001b[0m\u001b[0m\n\u001b[0;32m    672\u001b[0m             \u001b[1;32mtry\u001b[0m\u001b[1;33m:\u001b[0m\u001b[1;33m\u001b[0m\u001b[1;33m\u001b[0m\u001b[0m\n\u001b[1;32m--> 673\u001b[1;33m                 \u001b[0mvalues\u001b[0m \u001b[1;33m=\u001b[0m \u001b[0mastype_nansafe\u001b[0m\u001b[1;33m(\u001b[0m\u001b[0mvals1d\u001b[0m\u001b[1;33m,\u001b[0m \u001b[0mdtype\u001b[0m\u001b[1;33m,\u001b[0m \u001b[0mcopy\u001b[0m\u001b[1;33m=\u001b[0m\u001b[1;32mTrue\u001b[0m\u001b[1;33m)\u001b[0m\u001b[1;33m\u001b[0m\u001b[1;33m\u001b[0m\u001b[0m\n\u001b[0m\u001b[0;32m    674\u001b[0m             \u001b[1;32mexcept\u001b[0m \u001b[1;33m(\u001b[0m\u001b[0mValueError\u001b[0m\u001b[1;33m,\u001b[0m \u001b[0mTypeError\u001b[0m\u001b[1;33m)\u001b[0m\u001b[1;33m:\u001b[0m\u001b[1;33m\u001b[0m\u001b[1;33m\u001b[0m\u001b[0m\n\u001b[0;32m    675\u001b[0m                 \u001b[1;31m# e.g. astype_nansafe can fail on object-dtype of strings\u001b[0m\u001b[1;33m\u001b[0m\u001b[1;33m\u001b[0m\u001b[1;33m\u001b[0m\u001b[0m\n",
      "\u001b[1;32m~\\AppData\\Roaming\\Python\\Python39\\site-packages\\pandas\\core\\dtypes\\cast.py\u001b[0m in \u001b[0;36mastype_nansafe\u001b[1;34m(arr, dtype, copy, skipna)\u001b[0m\n\u001b[0;32m   1095\u001b[0m     \u001b[1;32mif\u001b[0m \u001b[0mcopy\u001b[0m \u001b[1;32mor\u001b[0m \u001b[0mis_object_dtype\u001b[0m\u001b[1;33m(\u001b[0m\u001b[0marr\u001b[0m\u001b[1;33m)\u001b[0m \u001b[1;32mor\u001b[0m \u001b[0mis_object_dtype\u001b[0m\u001b[1;33m(\u001b[0m\u001b[0mdtype\u001b[0m\u001b[1;33m)\u001b[0m\u001b[1;33m:\u001b[0m\u001b[1;33m\u001b[0m\u001b[1;33m\u001b[0m\u001b[0m\n\u001b[0;32m   1096\u001b[0m         \u001b[1;31m# Explicit copy, or required since NumPy can't view from / to object.\u001b[0m\u001b[1;33m\u001b[0m\u001b[1;33m\u001b[0m\u001b[1;33m\u001b[0m\u001b[0m\n\u001b[1;32m-> 1097\u001b[1;33m         \u001b[1;32mreturn\u001b[0m \u001b[0marr\u001b[0m\u001b[1;33m.\u001b[0m\u001b[0mastype\u001b[0m\u001b[1;33m(\u001b[0m\u001b[0mdtype\u001b[0m\u001b[1;33m,\u001b[0m \u001b[0mcopy\u001b[0m\u001b[1;33m=\u001b[0m\u001b[1;32mTrue\u001b[0m\u001b[1;33m)\u001b[0m\u001b[1;33m\u001b[0m\u001b[1;33m\u001b[0m\u001b[0m\n\u001b[0m\u001b[0;32m   1098\u001b[0m \u001b[1;33m\u001b[0m\u001b[0m\n\u001b[0;32m   1099\u001b[0m     \u001b[1;32mreturn\u001b[0m \u001b[0marr\u001b[0m\u001b[1;33m.\u001b[0m\u001b[0mview\u001b[0m\u001b[1;33m(\u001b[0m\u001b[0mdtype\u001b[0m\u001b[1;33m)\u001b[0m\u001b[1;33m\u001b[0m\u001b[1;33m\u001b[0m\u001b[0m\n",
      "\u001b[1;31mValueError\u001b[0m: could not convert string to float: '-2.699.011.814'"
     ]
    }
   ],
   "source": [
    "df_spc['LATITUDE'] = df_spc['LATITUDE'].astype(float)\n",
    "df_spc['LONGITUDE'] = df_spc['LONGITUDE'].astype(float)"
   ]
  },
  {
   "cell_type": "code",
   "execution_count": 35,
   "metadata": {},
   "outputs": [
    {
     "output_type": "execute_result",
     "data": {
      "text/plain": [
       "<AxesSubplot:>"
      ]
     },
     "metadata": {},
     "execution_count": 35
    },
    {
     "output_type": "display_data",
     "data": {
      "text/plain": "<Figure size 432x288 with 2 Axes>",
      "image/svg+xml": "<?xml version=\"1.0\" encoding=\"utf-8\" standalone=\"no\"?>\r\n<!DOCTYPE svg PUBLIC \"-//W3C//DTD SVG 1.1//EN\"\r\n  \"http://www.w3.org/Graphics/SVG/1.1/DTD/svg11.dtd\">\r\n<svg height=\"252.317344pt\" version=\"1.1\" viewBox=\"0 0 364.175437 252.317344\" width=\"364.175437pt\" xmlns=\"http://www.w3.org/2000/svg\" xmlns:xlink=\"http://www.w3.org/1999/xlink\">\r\n <metadata>\r\n  <rdf:RDF xmlns:cc=\"http://creativecommons.org/ns#\" xmlns:dc=\"http://purl.org/dc/elements/1.1/\" xmlns:rdf=\"http://www.w3.org/1999/02/22-rdf-syntax-ns#\">\r\n   <cc:Work>\r\n    <dc:type rdf:resource=\"http://purl.org/dc/dcmitype/StillImage\"/>\r\n    <dc:date>2021-06-04T13:36:14.646538</dc:date>\r\n    <dc:format>image/svg+xml</dc:format>\r\n    <dc:creator>\r\n     <cc:Agent>\r\n      <dc:title>Matplotlib v3.4.2, https://matplotlib.org/</dc:title>\r\n     </cc:Agent>\r\n    </dc:creator>\r\n   </cc:Work>\r\n  </rdf:RDF>\r\n </metadata>\r\n <defs>\r\n  <style type=\"text/css\">*{stroke-linecap:butt;stroke-linejoin:round;}</style>\r\n </defs>\r\n <g id=\"figure_1\">\r\n  <g id=\"patch_1\">\r\n   <path d=\"M -0 252.317344 \r\nL 364.175437 252.317344 \r\nL 364.175437 0 \r\nL -0 0 \r\nz\r\n\" style=\"fill:none;\"/>\r\n  </g>\r\n  <g id=\"axes_1\">\r\n   <g id=\"patch_2\">\r\n    <path d=\"M 23.878125 228.439219 \r\nL 291.718125 228.439219 \r\nL 291.718125 10.999219 \r\nL 23.878125 10.999219 \r\nz\r\n\" style=\"fill:#ffffff;\"/>\r\n   </g>\r\n   <g id=\"QuadMesh_1\">\r\n    <path clip-path=\"url(#p229b074ad8)\" d=\"M 23.878125 10.999219 \r\nL 77.446125 10.999219 \r\nL 77.446125 54.487219 \r\nL 23.878125 54.487219 \r\nL 23.878125 10.999219 \r\n\" style=\"fill:#faebdd;\"/>\r\n    <path clip-path=\"url(#p229b074ad8)\" d=\"M 77.446125 10.999219 \r\nL 131.014125 10.999219 \r\nL 131.014125 54.487219 \r\nL 77.446125 54.487219 \r\nL 77.446125 10.999219 \r\n\" style=\"fill:#c81951;\"/>\r\n    <path clip-path=\"url(#p229b074ad8)\" d=\"M 131.014125 10.999219 \r\nL 184.582125 10.999219 \r\nL 184.582125 54.487219 \r\nL 131.014125 54.487219 \r\nL 131.014125 10.999219 \r\n\" style=\"fill:#ce1d4e;\"/>\r\n    <path clip-path=\"url(#p229b074ad8)\" d=\"M 184.582125 10.999219 \r\nL 238.150125 10.999219 \r\nL 238.150125 54.487219 \r\nL 184.582125 54.487219 \r\nL 184.582125 10.999219 \r\n\" style=\"fill:none;\"/>\r\n    <path clip-path=\"url(#p229b074ad8)\" d=\"M 238.150125 10.999219 \r\nL 291.718125 10.999219 \r\nL 291.718125 54.487219 \r\nL 238.150125 54.487219 \r\nL 238.150125 10.999219 \r\n\" style=\"fill:#03051a;\"/>\r\n    <path clip-path=\"url(#p229b074ad8)\" d=\"M 23.878125 54.487219 \r\nL 77.446125 54.487219 \r\nL 77.446125 97.975219 \r\nL 23.878125 97.975219 \r\nL 23.878125 54.487219 \r\n\" style=\"fill:#c81951;\"/>\r\n    <path clip-path=\"url(#p229b074ad8)\" d=\"M 77.446125 54.487219 \r\nL 131.014125 54.487219 \r\nL 131.014125 97.975219 \r\nL 77.446125 97.975219 \r\nL 77.446125 54.487219 \r\n\" style=\"fill:#faebdd;\"/>\r\n    <path clip-path=\"url(#p229b074ad8)\" d=\"M 131.014125 54.487219 \r\nL 184.582125 54.487219 \r\nL 184.582125 97.975219 \r\nL 131.014125 97.975219 \r\nL 131.014125 54.487219 \r\n\" style=\"fill:#ce1d4e;\"/>\r\n    <path clip-path=\"url(#p229b074ad8)\" d=\"M 184.582125 54.487219 \r\nL 238.150125 54.487219 \r\nL 238.150125 97.975219 \r\nL 184.582125 97.975219 \r\nL 184.582125 54.487219 \r\n\" style=\"fill:none;\"/>\r\n    <path clip-path=\"url(#p229b074ad8)\" d=\"M 238.150125 54.487219 \r\nL 291.718125 54.487219 \r\nL 291.718125 97.975219 \r\nL 238.150125 97.975219 \r\nL 238.150125 54.487219 \r\n\" style=\"fill:#cd1c4e;\"/>\r\n    <path clip-path=\"url(#p229b074ad8)\" d=\"M 23.878125 97.975219 \r\nL 77.446125 97.975219 \r\nL 77.446125 141.463219 \r\nL 23.878125 141.463219 \r\nL 23.878125 97.975219 \r\n\" style=\"fill:#ce1d4e;\"/>\r\n    <path clip-path=\"url(#p229b074ad8)\" d=\"M 77.446125 97.975219 \r\nL 131.014125 97.975219 \r\nL 131.014125 141.463219 \r\nL 77.446125 141.463219 \r\nL 77.446125 97.975219 \r\n\" style=\"fill:#ce1d4e;\"/>\r\n    <path clip-path=\"url(#p229b074ad8)\" d=\"M 131.014125 97.975219 \r\nL 184.582125 97.975219 \r\nL 184.582125 141.463219 \r\nL 131.014125 141.463219 \r\nL 131.014125 97.975219 \r\n\" style=\"fill:#faebdd;\"/>\r\n    <path clip-path=\"url(#p229b074ad8)\" d=\"M 184.582125 97.975219 \r\nL 238.150125 97.975219 \r\nL 238.150125 141.463219 \r\nL 184.582125 141.463219 \r\nL 184.582125 97.975219 \r\n\" style=\"fill:none;\"/>\r\n    <path clip-path=\"url(#p229b074ad8)\" d=\"M 238.150125 97.975219 \r\nL 291.718125 97.975219 \r\nL 291.718125 141.463219 \r\nL 238.150125 141.463219 \r\nL 238.150125 97.975219 \r\n\" style=\"fill:#c71951;\"/>\r\n    <path clip-path=\"url(#p229b074ad8)\" d=\"M 23.878125 141.463219 \r\nL 77.446125 141.463219 \r\nL 77.446125 184.951219 \r\nL 23.878125 184.951219 \r\nL 23.878125 141.463219 \r\n\" style=\"fill:none;\"/>\r\n    <path clip-path=\"url(#p229b074ad8)\" d=\"M 77.446125 141.463219 \r\nL 131.014125 141.463219 \r\nL 131.014125 184.951219 \r\nL 77.446125 184.951219 \r\nL 77.446125 141.463219 \r\n\" style=\"fill:none;\"/>\r\n    <path clip-path=\"url(#p229b074ad8)\" d=\"M 131.014125 141.463219 \r\nL 184.582125 141.463219 \r\nL 184.582125 184.951219 \r\nL 131.014125 184.951219 \r\nL 131.014125 141.463219 \r\n\" style=\"fill:none;\"/>\r\n    <path clip-path=\"url(#p229b074ad8)\" d=\"M 184.582125 141.463219 \r\nL 238.150125 141.463219 \r\nL 238.150125 184.951219 \r\nL 184.582125 184.951219 \r\nL 184.582125 141.463219 \r\n\" style=\"fill:none;\"/>\r\n    <path clip-path=\"url(#p229b074ad8)\" d=\"M 238.150125 141.463219 \r\nL 291.718125 141.463219 \r\nL 291.718125 184.951219 \r\nL 238.150125 184.951219 \r\nL 238.150125 141.463219 \r\n\" style=\"fill:none;\"/>\r\n    <path clip-path=\"url(#p229b074ad8)\" d=\"M 23.878125 184.951219 \r\nL 77.446125 184.951219 \r\nL 77.446125 228.439219 \r\nL 23.878125 228.439219 \r\nL 23.878125 184.951219 \r\n\" style=\"fill:#03051a;\"/>\r\n    <path clip-path=\"url(#p229b074ad8)\" d=\"M 77.446125 184.951219 \r\nL 131.014125 184.951219 \r\nL 131.014125 228.439219 \r\nL 77.446125 228.439219 \r\nL 77.446125 184.951219 \r\n\" style=\"fill:#cd1c4e;\"/>\r\n    <path clip-path=\"url(#p229b074ad8)\" d=\"M 131.014125 184.951219 \r\nL 184.582125 184.951219 \r\nL 184.582125 228.439219 \r\nL 131.014125 228.439219 \r\nL 131.014125 184.951219 \r\n\" style=\"fill:#c71951;\"/>\r\n    <path clip-path=\"url(#p229b074ad8)\" d=\"M 184.582125 184.951219 \r\nL 238.150125 184.951219 \r\nL 238.150125 228.439219 \r\nL 184.582125 228.439219 \r\nL 184.582125 184.951219 \r\n\" style=\"fill:none;\"/>\r\n    <path clip-path=\"url(#p229b074ad8)\" d=\"M 238.150125 184.951219 \r\nL 291.718125 184.951219 \r\nL 291.718125 228.439219 \r\nL 238.150125 228.439219 \r\nL 238.150125 184.951219 \r\n\" style=\"fill:#faebdd;\"/>\r\n   </g>\r\n   <g id=\"matplotlib.axis_1\">\r\n    <g id=\"xtick_1\">\r\n     <g id=\"line2d_1\">\r\n      <defs>\r\n       <path d=\"M 0 0 \r\nL 0 3.5 \r\n\" id=\"mbe4b45eaa2\" style=\"stroke:#000000;stroke-width:0.8;\"/>\r\n      </defs>\r\n      <g>\r\n       <use style=\"stroke:#000000;stroke-width:0.8;\" x=\"50.662125\" xlink:href=\"#mbe4b45eaa2\" y=\"228.439219\"/>\r\n      </g>\r\n     </g>\r\n     <g id=\"text_1\">\r\n      <!-- ANO -->\r\n      <g transform=\"translate(39.56525 243.037656)scale(0.1 -0.1)\">\r\n       <defs>\r\n        <path d=\"M 2188 4044 \r\nL 1331 1722 \r\nL 3047 1722 \r\nL 2188 4044 \r\nz\r\nM 1831 4666 \r\nL 2547 4666 \r\nL 4325 0 \r\nL 3669 0 \r\nL 3244 1197 \r\nL 1141 1197 \r\nL 716 0 \r\nL 50 0 \r\nL 1831 4666 \r\nz\r\n\" id=\"DejaVuSans-41\" transform=\"scale(0.015625)\"/>\r\n        <path d=\"M 628 4666 \r\nL 1478 4666 \r\nL 3547 763 \r\nL 3547 4666 \r\nL 4159 4666 \r\nL 4159 0 \r\nL 3309 0 \r\nL 1241 3903 \r\nL 1241 0 \r\nL 628 0 \r\nL 628 4666 \r\nz\r\n\" id=\"DejaVuSans-4e\" transform=\"scale(0.015625)\"/>\r\n        <path d=\"M 2522 4238 \r\nQ 1834 4238 1429 3725 \r\nQ 1025 3213 1025 2328 \r\nQ 1025 1447 1429 934 \r\nQ 1834 422 2522 422 \r\nQ 3209 422 3611 934 \r\nQ 4013 1447 4013 2328 \r\nQ 4013 3213 3611 3725 \r\nQ 3209 4238 2522 4238 \r\nz\r\nM 2522 4750 \r\nQ 3503 4750 4090 4092 \r\nQ 4678 3434 4678 2328 \r\nQ 4678 1225 4090 567 \r\nQ 3503 -91 2522 -91 \r\nQ 1538 -91 948 565 \r\nQ 359 1222 359 2328 \r\nQ 359 3434 948 4092 \r\nQ 1538 4750 2522 4750 \r\nz\r\n\" id=\"DejaVuSans-4f\" transform=\"scale(0.015625)\"/>\r\n       </defs>\r\n       <use xlink:href=\"#DejaVuSans-41\"/>\r\n       <use x=\"68.408203\" xlink:href=\"#DejaVuSans-4e\"/>\r\n       <use x=\"143.212891\" xlink:href=\"#DejaVuSans-4f\"/>\r\n      </g>\r\n     </g>\r\n    </g>\r\n    <g id=\"xtick_2\">\r\n     <g id=\"line2d_2\">\r\n      <g>\r\n       <use style=\"stroke:#000000;stroke-width:0.8;\" x=\"104.230125\" xlink:href=\"#mbe4b45eaa2\" y=\"228.439219\"/>\r\n      </g>\r\n     </g>\r\n     <g id=\"text_2\">\r\n      <!-- MES -->\r\n      <g transform=\"translate(93.582469 243.037656)scale(0.1 -0.1)\">\r\n       <defs>\r\n        <path d=\"M 628 4666 \r\nL 1569 4666 \r\nL 2759 1491 \r\nL 3956 4666 \r\nL 4897 4666 \r\nL 4897 0 \r\nL 4281 0 \r\nL 4281 4097 \r\nL 3078 897 \r\nL 2444 897 \r\nL 1241 4097 \r\nL 1241 0 \r\nL 628 0 \r\nL 628 4666 \r\nz\r\n\" id=\"DejaVuSans-4d\" transform=\"scale(0.015625)\"/>\r\n        <path d=\"M 628 4666 \r\nL 3578 4666 \r\nL 3578 4134 \r\nL 1259 4134 \r\nL 1259 2753 \r\nL 3481 2753 \r\nL 3481 2222 \r\nL 1259 2222 \r\nL 1259 531 \r\nL 3634 531 \r\nL 3634 0 \r\nL 628 0 \r\nL 628 4666 \r\nz\r\n\" id=\"DejaVuSans-45\" transform=\"scale(0.015625)\"/>\r\n        <path d=\"M 3425 4513 \r\nL 3425 3897 \r\nQ 3066 4069 2747 4153 \r\nQ 2428 4238 2131 4238 \r\nQ 1616 4238 1336 4038 \r\nQ 1056 3838 1056 3469 \r\nQ 1056 3159 1242 3001 \r\nQ 1428 2844 1947 2747 \r\nL 2328 2669 \r\nQ 3034 2534 3370 2195 \r\nQ 3706 1856 3706 1288 \r\nQ 3706 609 3251 259 \r\nQ 2797 -91 1919 -91 \r\nQ 1588 -91 1214 -16 \r\nQ 841 59 441 206 \r\nL 441 856 \r\nQ 825 641 1194 531 \r\nQ 1563 422 1919 422 \r\nQ 2459 422 2753 634 \r\nQ 3047 847 3047 1241 \r\nQ 3047 1584 2836 1778 \r\nQ 2625 1972 2144 2069 \r\nL 1759 2144 \r\nQ 1053 2284 737 2584 \r\nQ 422 2884 422 3419 \r\nQ 422 4038 858 4394 \r\nQ 1294 4750 2059 4750 \r\nQ 2388 4750 2728 4690 \r\nQ 3069 4631 3425 4513 \r\nz\r\n\" id=\"DejaVuSans-53\" transform=\"scale(0.015625)\"/>\r\n       </defs>\r\n       <use xlink:href=\"#DejaVuSans-4d\"/>\r\n       <use x=\"86.279297\" xlink:href=\"#DejaVuSans-45\"/>\r\n       <use x=\"149.462891\" xlink:href=\"#DejaVuSans-53\"/>\r\n      </g>\r\n     </g>\r\n    </g>\r\n    <g id=\"xtick_3\">\r\n     <g id=\"line2d_3\">\r\n      <g>\r\n       <use style=\"stroke:#000000;stroke-width:0.8;\" x=\"157.798125\" xlink:href=\"#mbe4b45eaa2\" y=\"228.439219\"/>\r\n      </g>\r\n     </g>\r\n     <g id=\"text_3\">\r\n      <!-- DIA -->\r\n      <g transform=\"translate(149.052813 243.037656)scale(0.1 -0.1)\">\r\n       <defs>\r\n        <path d=\"M 1259 4147 \r\nL 1259 519 \r\nL 2022 519 \r\nQ 2988 519 3436 956 \r\nQ 3884 1394 3884 2338 \r\nQ 3884 3275 3436 3711 \r\nQ 2988 4147 2022 4147 \r\nL 1259 4147 \r\nz\r\nM 628 4666 \r\nL 1925 4666 \r\nQ 3281 4666 3915 4102 \r\nQ 4550 3538 4550 2338 \r\nQ 4550 1131 3912 565 \r\nQ 3275 0 1925 0 \r\nL 628 0 \r\nL 628 4666 \r\nz\r\n\" id=\"DejaVuSans-44\" transform=\"scale(0.015625)\"/>\r\n        <path d=\"M 628 4666 \r\nL 1259 4666 \r\nL 1259 0 \r\nL 628 0 \r\nL 628 4666 \r\nz\r\n\" id=\"DejaVuSans-49\" transform=\"scale(0.015625)\"/>\r\n       </defs>\r\n       <use xlink:href=\"#DejaVuSans-44\"/>\r\n       <use x=\"77.001953\" xlink:href=\"#DejaVuSans-49\"/>\r\n       <use x=\"106.494141\" xlink:href=\"#DejaVuSans-41\"/>\r\n      </g>\r\n     </g>\r\n    </g>\r\n    <g id=\"xtick_4\">\r\n     <g id=\"line2d_4\">\r\n      <g>\r\n       <use style=\"stroke:#000000;stroke-width:0.8;\" x=\"211.366125\" xlink:href=\"#mbe4b45eaa2\" y=\"228.439219\"/>\r\n      </g>\r\n     </g>\r\n     <g id=\"text_4\">\r\n      <!-- HORA -->\r\n      <g transform=\"translate(196.9755 243.037656)scale(0.1 -0.1)\">\r\n       <defs>\r\n        <path d=\"M 628 4666 \r\nL 1259 4666 \r\nL 1259 2753 \r\nL 3553 2753 \r\nL 3553 4666 \r\nL 4184 4666 \r\nL 4184 0 \r\nL 3553 0 \r\nL 3553 2222 \r\nL 1259 2222 \r\nL 1259 0 \r\nL 628 0 \r\nL 628 4666 \r\nz\r\n\" id=\"DejaVuSans-48\" transform=\"scale(0.015625)\"/>\r\n        <path d=\"M 2841 2188 \r\nQ 3044 2119 3236 1894 \r\nQ 3428 1669 3622 1275 \r\nL 4263 0 \r\nL 3584 0 \r\nL 2988 1197 \r\nQ 2756 1666 2539 1819 \r\nQ 2322 1972 1947 1972 \r\nL 1259 1972 \r\nL 1259 0 \r\nL 628 0 \r\nL 628 4666 \r\nL 2053 4666 \r\nQ 2853 4666 3247 4331 \r\nQ 3641 3997 3641 3322 \r\nQ 3641 2881 3436 2590 \r\nQ 3231 2300 2841 2188 \r\nz\r\nM 1259 4147 \r\nL 1259 2491 \r\nL 2053 2491 \r\nQ 2509 2491 2742 2702 \r\nQ 2975 2913 2975 3322 \r\nQ 2975 3731 2742 3939 \r\nQ 2509 4147 2053 4147 \r\nL 1259 4147 \r\nz\r\n\" id=\"DejaVuSans-52\" transform=\"scale(0.015625)\"/>\r\n       </defs>\r\n       <use xlink:href=\"#DejaVuSans-48\"/>\r\n       <use x=\"75.195312\" xlink:href=\"#DejaVuSans-4f\"/>\r\n       <use x=\"153.90625\" xlink:href=\"#DejaVuSans-52\"/>\r\n       <use x=\"219.388672\" xlink:href=\"#DejaVuSans-41\"/>\r\n      </g>\r\n     </g>\r\n    </g>\r\n    <g id=\"xtick_5\">\r\n     <g id=\"line2d_5\">\r\n      <g>\r\n       <use style=\"stroke:#000000;stroke-width:0.8;\" x=\"264.934125\" xlink:href=\"#mbe4b45eaa2\" y=\"228.439219\"/>\r\n      </g>\r\n     </g>\r\n     <g id=\"text_5\">\r\n      <!-- IDADE -->\r\n      <g transform=\"translate(249.266938 243.037656)scale(0.1 -0.1)\">\r\n       <use xlink:href=\"#DejaVuSans-49\"/>\r\n       <use x=\"29.492188\" xlink:href=\"#DejaVuSans-44\"/>\r\n       <use x=\"104.744141\" xlink:href=\"#DejaVuSans-41\"/>\r\n       <use x=\"173.152344\" xlink:href=\"#DejaVuSans-44\"/>\r\n       <use x=\"250.154297\" xlink:href=\"#DejaVuSans-45\"/>\r\n      </g>\r\n     </g>\r\n    </g>\r\n   </g>\r\n   <g id=\"matplotlib.axis_2\">\r\n    <g id=\"ytick_1\">\r\n     <g id=\"line2d_6\">\r\n      <defs>\r\n       <path d=\"M 0 0 \r\nL -3.5 0 \r\n\" id=\"m2b291717ab\" style=\"stroke:#000000;stroke-width:0.8;\"/>\r\n      </defs>\r\n      <g>\r\n       <use style=\"stroke:#000000;stroke-width:0.8;\" x=\"23.878125\" xlink:href=\"#m2b291717ab\" y=\"32.743219\"/>\r\n      </g>\r\n     </g>\r\n     <g id=\"text_6\">\r\n      <!-- ANO -->\r\n      <g transform=\"translate(14.798437 51.13775)rotate(-90)scale(0.1 -0.1)\">\r\n       <use xlink:href=\"#DejaVuSans-41\"/>\r\n       <use x=\"68.408203\" xlink:href=\"#DejaVuSans-4e\"/>\r\n       <use x=\"143.212891\" xlink:href=\"#DejaVuSans-4f\"/>\r\n      </g>\r\n     </g>\r\n    </g>\r\n    <g id=\"ytick_2\">\r\n     <g id=\"line2d_7\">\r\n      <g>\r\n       <use style=\"stroke:#000000;stroke-width:0.8;\" x=\"23.878125\" xlink:href=\"#m2b291717ab\" y=\"76.231219\"/>\r\n      </g>\r\n     </g>\r\n     <g id=\"text_7\">\r\n      <!-- MES -->\r\n      <g transform=\"translate(14.798437 93.727312)rotate(-90)scale(0.1 -0.1)\">\r\n       <use xlink:href=\"#DejaVuSans-4d\"/>\r\n       <use x=\"86.279297\" xlink:href=\"#DejaVuSans-45\"/>\r\n       <use x=\"149.462891\" xlink:href=\"#DejaVuSans-53\"/>\r\n      </g>\r\n     </g>\r\n    </g>\r\n    <g id=\"ytick_3\">\r\n     <g id=\"line2d_8\">\r\n      <g>\r\n       <use style=\"stroke:#000000;stroke-width:0.8;\" x=\"23.878125\" xlink:href=\"#m2b291717ab\" y=\"119.719219\"/>\r\n      </g>\r\n     </g>\r\n     <g id=\"text_8\">\r\n      <!-- DIA -->\r\n      <g transform=\"translate(14.798437 133.410625)rotate(-90)scale(0.1 -0.1)\">\r\n       <use xlink:href=\"#DejaVuSans-44\"/>\r\n       <use x=\"77.001953\" xlink:href=\"#DejaVuSans-49\"/>\r\n       <use x=\"106.494141\" xlink:href=\"#DejaVuSans-41\"/>\r\n      </g>\r\n     </g>\r\n    </g>\r\n    <g id=\"ytick_4\">\r\n     <g id=\"line2d_9\">\r\n      <g>\r\n       <use style=\"stroke:#000000;stroke-width:0.8;\" x=\"23.878125\" xlink:href=\"#m2b291717ab\" y=\"163.207219\"/>\r\n      </g>\r\n     </g>\r\n     <g id=\"text_9\">\r\n      <!-- HORA -->\r\n      <g transform=\"translate(14.798437 188.18925)rotate(-90)scale(0.1 -0.1)\">\r\n       <use xlink:href=\"#DejaVuSans-48\"/>\r\n       <use x=\"75.195312\" xlink:href=\"#DejaVuSans-4f\"/>\r\n       <use x=\"153.90625\" xlink:href=\"#DejaVuSans-52\"/>\r\n       <use x=\"219.388672\" xlink:href=\"#DejaVuSans-41\"/>\r\n      </g>\r\n     </g>\r\n    </g>\r\n    <g id=\"ytick_5\">\r\n     <g id=\"line2d_10\">\r\n      <g>\r\n       <use style=\"stroke:#000000;stroke-width:0.8;\" x=\"23.878125\" xlink:href=\"#m2b291717ab\" y=\"206.695219\"/>\r\n      </g>\r\n     </g>\r\n     <g id=\"text_10\">\r\n      <!-- IDADE -->\r\n      <g transform=\"translate(14.798437 234.230375)rotate(-90)scale(0.1 -0.1)\">\r\n       <use xlink:href=\"#DejaVuSans-49\"/>\r\n       <use x=\"29.492188\" xlink:href=\"#DejaVuSans-44\"/>\r\n       <use x=\"104.744141\" xlink:href=\"#DejaVuSans-41\"/>\r\n       <use x=\"173.152344\" xlink:href=\"#DejaVuSans-44\"/>\r\n       <use x=\"250.154297\" xlink:href=\"#DejaVuSans-45\"/>\r\n      </g>\r\n     </g>\r\n    </g>\r\n   </g>\r\n  </g>\r\n  <g id=\"axes_2\">\r\n   <g id=\"patch_3\">\r\n    <path d=\"M 308.458125 228.439219 \r\nL 319.330125 228.439219 \r\nL 319.330125 10.999219 \r\nL 308.458125 10.999219 \r\nz\r\n\" style=\"fill:#ffffff;\"/>\r\n   </g>\r\n   <g id=\"patch_4\">\r\n    <path clip-path=\"url(#p94bafc798f)\" d=\"M 308.458125 228.439219 \r\nL 308.458125 227.589844 \r\nL 308.458125 11.848594 \r\nL 308.458125 10.999219 \r\nL 319.330125 10.999219 \r\nL 319.330125 11.848594 \r\nL 319.330125 227.589844 \r\nL 319.330125 228.439219 \r\nL 319.330125 228.439219 \r\nz\r\n\" style=\"fill:#ffffff;stroke:#ffffff;stroke-linejoin:miter;stroke-width:0.01;\"/>\r\n   </g>\r\n   <image height=\"217\" id=\"imaged24ec136ec\" transform=\"scale(1 -1)translate(0 -217)\" width=\"11\" x=\"308\" xlink:href=\"data:image/png;base64,\r\niVBORw0KGgoAAAANSUhEUgAAAAsAAADZCAYAAAD2WsoCAAABYUlEQVR4nO3aQW4DMQwDQMtyPtH/vzPptUfPgYA2aM4EQVK0duOk+vXzWZefU7fItdbZe9+Da91znyoAbwGTDGLukjRyBonZ0gCDQzQn02gBj6jolPKTjCnjlvIP0UwyrqE67iFpUOt6hoz7lKM5d6x1ZDC4N0TGya1ckZFjfua4iRnAJ1akZHQpGef6u4TLIHDsdE8xKOCY5iPgEhmPTCPYjXtqM2ib/yMyhHlIGiXMVn7SHGQWMEzltDAX7IKzBWxFEubeb5Ah0QXTiMnojqUBJzYY3W6RYZqvscock7Hh2WZDgasCTgOYF3UDVj/KsDRizGYQXrbRYIp5CXPBUwWZzWBMhlxZyOvJWfIb0JToGq7uUXMqjSU3rsZ8JI2YjCnRWRpU0RHHavX96sczaN2IgWkoksYUzcScM5gbd475P40/4OpXiHlKGjMMlvxVIJkGlT/3VkDR5VaBdOPLDf4CdO8rI5K+A88AAAAASUVORK5CYII=\" y=\"-11\"/>\r\n   <g id=\"matplotlib.axis_3\"/>\r\n   <g id=\"matplotlib.axis_4\">\r\n    <g id=\"ytick_6\">\r\n     <g id=\"line2d_11\">\r\n      <defs>\r\n       <path d=\"M 0 0 \r\nL 3.5 0 \r\n\" id=\"m7f19c1a219\" style=\"stroke:#000000;stroke-width:0.8;\"/>\r\n      </defs>\r\n      <g>\r\n       <use style=\"stroke:#000000;stroke-width:0.8;\" x=\"319.330125\" xlink:href=\"#m7f19c1a219\" y=\"228.439219\"/>\r\n      </g>\r\n     </g>\r\n     <g id=\"text_11\">\r\n      <!-- −1.00 -->\r\n      <g transform=\"translate(326.330125 232.238437)scale(0.1 -0.1)\">\r\n       <defs>\r\n        <path d=\"M 678 2272 \r\nL 4684 2272 \r\nL 4684 1741 \r\nL 678 1741 \r\nL 678 2272 \r\nz\r\n\" id=\"DejaVuSans-2212\" transform=\"scale(0.015625)\"/>\r\n        <path d=\"M 794 531 \r\nL 1825 531 \r\nL 1825 4091 \r\nL 703 3866 \r\nL 703 4441 \r\nL 1819 4666 \r\nL 2450 4666 \r\nL 2450 531 \r\nL 3481 531 \r\nL 3481 0 \r\nL 794 0 \r\nL 794 531 \r\nz\r\n\" id=\"DejaVuSans-31\" transform=\"scale(0.015625)\"/>\r\n        <path d=\"M 684 794 \r\nL 1344 794 \r\nL 1344 0 \r\nL 684 0 \r\nL 684 794 \r\nz\r\n\" id=\"DejaVuSans-2e\" transform=\"scale(0.015625)\"/>\r\n        <path d=\"M 2034 4250 \r\nQ 1547 4250 1301 3770 \r\nQ 1056 3291 1056 2328 \r\nQ 1056 1369 1301 889 \r\nQ 1547 409 2034 409 \r\nQ 2525 409 2770 889 \r\nQ 3016 1369 3016 2328 \r\nQ 3016 3291 2770 3770 \r\nQ 2525 4250 2034 4250 \r\nz\r\nM 2034 4750 \r\nQ 2819 4750 3233 4129 \r\nQ 3647 3509 3647 2328 \r\nQ 3647 1150 3233 529 \r\nQ 2819 -91 2034 -91 \r\nQ 1250 -91 836 529 \r\nQ 422 1150 422 2328 \r\nQ 422 3509 836 4129 \r\nQ 1250 4750 2034 4750 \r\nz\r\n\" id=\"DejaVuSans-30\" transform=\"scale(0.015625)\"/>\r\n       </defs>\r\n       <use xlink:href=\"#DejaVuSans-2212\"/>\r\n       <use x=\"83.789062\" xlink:href=\"#DejaVuSans-31\"/>\r\n       <use x=\"147.412109\" xlink:href=\"#DejaVuSans-2e\"/>\r\n       <use x=\"179.199219\" xlink:href=\"#DejaVuSans-30\"/>\r\n       <use x=\"242.822266\" xlink:href=\"#DejaVuSans-30\"/>\r\n      </g>\r\n     </g>\r\n    </g>\r\n    <g id=\"ytick_7\">\r\n     <g id=\"line2d_12\">\r\n      <g>\r\n       <use style=\"stroke:#000000;stroke-width:0.8;\" x=\"319.330125\" xlink:href=\"#m7f19c1a219\" y=\"201.259219\"/>\r\n      </g>\r\n     </g>\r\n     <g id=\"text_12\">\r\n      <!-- −0.75 -->\r\n      <g transform=\"translate(326.330125 205.058437)scale(0.1 -0.1)\">\r\n       <defs>\r\n        <path d=\"M 525 4666 \r\nL 3525 4666 \r\nL 3525 4397 \r\nL 1831 0 \r\nL 1172 0 \r\nL 2766 4134 \r\nL 525 4134 \r\nL 525 4666 \r\nz\r\n\" id=\"DejaVuSans-37\" transform=\"scale(0.015625)\"/>\r\n        <path d=\"M 691 4666 \r\nL 3169 4666 \r\nL 3169 4134 \r\nL 1269 4134 \r\nL 1269 2991 \r\nQ 1406 3038 1543 3061 \r\nQ 1681 3084 1819 3084 \r\nQ 2600 3084 3056 2656 \r\nQ 3513 2228 3513 1497 \r\nQ 3513 744 3044 326 \r\nQ 2575 -91 1722 -91 \r\nQ 1428 -91 1123 -41 \r\nQ 819 9 494 109 \r\nL 494 744 \r\nQ 775 591 1075 516 \r\nQ 1375 441 1709 441 \r\nQ 2250 441 2565 725 \r\nQ 2881 1009 2881 1497 \r\nQ 2881 1984 2565 2268 \r\nQ 2250 2553 1709 2553 \r\nQ 1456 2553 1204 2497 \r\nQ 953 2441 691 2322 \r\nL 691 4666 \r\nz\r\n\" id=\"DejaVuSans-35\" transform=\"scale(0.015625)\"/>\r\n       </defs>\r\n       <use xlink:href=\"#DejaVuSans-2212\"/>\r\n       <use x=\"83.789062\" xlink:href=\"#DejaVuSans-30\"/>\r\n       <use x=\"147.412109\" xlink:href=\"#DejaVuSans-2e\"/>\r\n       <use x=\"179.199219\" xlink:href=\"#DejaVuSans-37\"/>\r\n       <use x=\"242.822266\" xlink:href=\"#DejaVuSans-35\"/>\r\n      </g>\r\n     </g>\r\n    </g>\r\n    <g id=\"ytick_8\">\r\n     <g id=\"line2d_13\">\r\n      <g>\r\n       <use style=\"stroke:#000000;stroke-width:0.8;\" x=\"319.330125\" xlink:href=\"#m7f19c1a219\" y=\"174.079219\"/>\r\n      </g>\r\n     </g>\r\n     <g id=\"text_13\">\r\n      <!-- −0.50 -->\r\n      <g transform=\"translate(326.330125 177.878437)scale(0.1 -0.1)\">\r\n       <use xlink:href=\"#DejaVuSans-2212\"/>\r\n       <use x=\"83.789062\" xlink:href=\"#DejaVuSans-30\"/>\r\n       <use x=\"147.412109\" xlink:href=\"#DejaVuSans-2e\"/>\r\n       <use x=\"179.199219\" xlink:href=\"#DejaVuSans-35\"/>\r\n       <use x=\"242.822266\" xlink:href=\"#DejaVuSans-30\"/>\r\n      </g>\r\n     </g>\r\n    </g>\r\n    <g id=\"ytick_9\">\r\n     <g id=\"line2d_14\">\r\n      <g>\r\n       <use style=\"stroke:#000000;stroke-width:0.8;\" x=\"319.330125\" xlink:href=\"#m7f19c1a219\" y=\"146.899219\"/>\r\n      </g>\r\n     </g>\r\n     <g id=\"text_14\">\r\n      <!-- −0.25 -->\r\n      <g transform=\"translate(326.330125 150.698437)scale(0.1 -0.1)\">\r\n       <defs>\r\n        <path d=\"M 1228 531 \r\nL 3431 531 \r\nL 3431 0 \r\nL 469 0 \r\nL 469 531 \r\nQ 828 903 1448 1529 \r\nQ 2069 2156 2228 2338 \r\nQ 2531 2678 2651 2914 \r\nQ 2772 3150 2772 3378 \r\nQ 2772 3750 2511 3984 \r\nQ 2250 4219 1831 4219 \r\nQ 1534 4219 1204 4116 \r\nQ 875 4013 500 3803 \r\nL 500 4441 \r\nQ 881 4594 1212 4672 \r\nQ 1544 4750 1819 4750 \r\nQ 2544 4750 2975 4387 \r\nQ 3406 4025 3406 3419 \r\nQ 3406 3131 3298 2873 \r\nQ 3191 2616 2906 2266 \r\nQ 2828 2175 2409 1742 \r\nQ 1991 1309 1228 531 \r\nz\r\n\" id=\"DejaVuSans-32\" transform=\"scale(0.015625)\"/>\r\n       </defs>\r\n       <use xlink:href=\"#DejaVuSans-2212\"/>\r\n       <use x=\"83.789062\" xlink:href=\"#DejaVuSans-30\"/>\r\n       <use x=\"147.412109\" xlink:href=\"#DejaVuSans-2e\"/>\r\n       <use x=\"179.199219\" xlink:href=\"#DejaVuSans-32\"/>\r\n       <use x=\"242.822266\" xlink:href=\"#DejaVuSans-35\"/>\r\n      </g>\r\n     </g>\r\n    </g>\r\n    <g id=\"ytick_10\">\r\n     <g id=\"line2d_15\">\r\n      <g>\r\n       <use style=\"stroke:#000000;stroke-width:0.8;\" x=\"319.330125\" xlink:href=\"#m7f19c1a219\" y=\"119.719219\"/>\r\n      </g>\r\n     </g>\r\n     <g id=\"text_15\">\r\n      <!-- 0.00 -->\r\n      <g transform=\"translate(326.330125 123.518437)scale(0.1 -0.1)\">\r\n       <use xlink:href=\"#DejaVuSans-30\"/>\r\n       <use x=\"63.623047\" xlink:href=\"#DejaVuSans-2e\"/>\r\n       <use x=\"95.410156\" xlink:href=\"#DejaVuSans-30\"/>\r\n       <use x=\"159.033203\" xlink:href=\"#DejaVuSans-30\"/>\r\n      </g>\r\n     </g>\r\n    </g>\r\n    <g id=\"ytick_11\">\r\n     <g id=\"line2d_16\">\r\n      <g>\r\n       <use style=\"stroke:#000000;stroke-width:0.8;\" x=\"319.330125\" xlink:href=\"#m7f19c1a219\" y=\"92.539219\"/>\r\n      </g>\r\n     </g>\r\n     <g id=\"text_16\">\r\n      <!-- 0.25 -->\r\n      <g transform=\"translate(326.330125 96.338437)scale(0.1 -0.1)\">\r\n       <use xlink:href=\"#DejaVuSans-30\"/>\r\n       <use x=\"63.623047\" xlink:href=\"#DejaVuSans-2e\"/>\r\n       <use x=\"95.410156\" xlink:href=\"#DejaVuSans-32\"/>\r\n       <use x=\"159.033203\" xlink:href=\"#DejaVuSans-35\"/>\r\n      </g>\r\n     </g>\r\n    </g>\r\n    <g id=\"ytick_12\">\r\n     <g id=\"line2d_17\">\r\n      <g>\r\n       <use style=\"stroke:#000000;stroke-width:0.8;\" x=\"319.330125\" xlink:href=\"#m7f19c1a219\" y=\"65.359219\"/>\r\n      </g>\r\n     </g>\r\n     <g id=\"text_17\">\r\n      <!-- 0.50 -->\r\n      <g transform=\"translate(326.330125 69.158437)scale(0.1 -0.1)\">\r\n       <use xlink:href=\"#DejaVuSans-30\"/>\r\n       <use x=\"63.623047\" xlink:href=\"#DejaVuSans-2e\"/>\r\n       <use x=\"95.410156\" xlink:href=\"#DejaVuSans-35\"/>\r\n       <use x=\"159.033203\" xlink:href=\"#DejaVuSans-30\"/>\r\n      </g>\r\n     </g>\r\n    </g>\r\n    <g id=\"ytick_13\">\r\n     <g id=\"line2d_18\">\r\n      <g>\r\n       <use style=\"stroke:#000000;stroke-width:0.8;\" x=\"319.330125\" xlink:href=\"#m7f19c1a219\" y=\"38.179219\"/>\r\n      </g>\r\n     </g>\r\n     <g id=\"text_18\">\r\n      <!-- 0.75 -->\r\n      <g transform=\"translate(326.330125 41.978437)scale(0.1 -0.1)\">\r\n       <use xlink:href=\"#DejaVuSans-30\"/>\r\n       <use x=\"63.623047\" xlink:href=\"#DejaVuSans-2e\"/>\r\n       <use x=\"95.410156\" xlink:href=\"#DejaVuSans-37\"/>\r\n       <use x=\"159.033203\" xlink:href=\"#DejaVuSans-35\"/>\r\n      </g>\r\n     </g>\r\n    </g>\r\n    <g id=\"ytick_14\">\r\n     <g id=\"line2d_19\">\r\n      <g>\r\n       <use style=\"stroke:#000000;stroke-width:0.8;\" x=\"319.330125\" xlink:href=\"#m7f19c1a219\" y=\"10.999219\"/>\r\n      </g>\r\n     </g>\r\n     <g id=\"text_19\">\r\n      <!-- 1.00 -->\r\n      <g transform=\"translate(326.330125 14.798437)scale(0.1 -0.1)\">\r\n       <use xlink:href=\"#DejaVuSans-31\"/>\r\n       <use x=\"63.623047\" xlink:href=\"#DejaVuSans-2e\"/>\r\n       <use x=\"95.410156\" xlink:href=\"#DejaVuSans-30\"/>\r\n       <use x=\"159.033203\" xlink:href=\"#DejaVuSans-30\"/>\r\n      </g>\r\n     </g>\r\n    </g>\r\n   </g>\r\n   <g id=\"LineCollection_1\"/>\r\n   <g id=\"patch_5\">\r\n    <path d=\"M 308.458125 228.439219 \r\nL 308.458125 227.589844 \r\nL 308.458125 11.848594 \r\nL 308.458125 10.999219 \r\nL 319.330125 10.999219 \r\nL 319.330125 11.848594 \r\nL 319.330125 227.589844 \r\nL 319.330125 228.439219 \r\nz\r\n\" style=\"fill:none;\"/>\r\n   </g>\r\n  </g>\r\n </g>\r\n <defs>\r\n  <clipPath id=\"p229b074ad8\">\r\n   <rect height=\"217.44\" width=\"267.84\" x=\"23.878125\" y=\"10.999219\"/>\r\n  </clipPath>\r\n  <clipPath id=\"p94bafc798f\">\r\n   <rect height=\"217.44\" width=\"10.872\" x=\"308.458125\" y=\"10.999219\"/>\r\n  </clipPath>\r\n </defs>\r\n</svg>\r\n",
      "image/png": "[encoded data removed]"
     },
     "metadata": {
      "needs_background": "light"
     }
    }
   ],
   "source": [
    "sns.heatmap(df_spc.corr())"
   ]
  },
  {
   "cell_type": "code",
   "execution_count": 15,
   "metadata": {},
   "outputs": [],
   "source": [
    "from sklearn.preprocessing import LabelEncoder, MinMaxScaler"
   ]
  },
  {
   "cell_type": "code",
   "execution_count": 39,
   "metadata": {},
   "outputs": [
    {
     "output_type": "execute_result",
     "data": {
      "text/plain": [
       "array([0, 1, 2, 3])"
      ]
     },
     "metadata": {},
     "execution_count": 39
    }
   ],
   "source": [
    "state_encoder = LabelEncoder()\n",
    "state_encoder.fit(df_spc['RENDA'].unique())\n",
    "df_spc['RENDA'] = state_encoder.transform(df_spc['RENDA'])\n",
    "df_spc['RENDA'].unique()"
   ]
  },
  {
   "cell_type": "code",
   "execution_count": 40,
   "metadata": {},
   "outputs": [
    {
     "output_type": "execute_result",
     "data": {
      "text/plain": [
       "array([ 993,  160, 1996, ..., 2017, 1851, 1551])"
      ]
     },
     "metadata": {},
     "execution_count": 40
    }
   ],
   "source": [
    "state_encoder = LabelEncoder()\n",
    "state_encoder.fit(df_spc['CIDADE'].unique())\n",
    "df_spc['CIDADE'] = state_encoder.transform(df_spc['CIDADE'])\n",
    "df_spc['CIDADE'].unique()"
   ]
  },
  {
   "cell_type": "code",
   "execution_count": 41,
   "metadata": {},
   "outputs": [
    {
     "output_type": "execute_result",
     "data": {
      "text/plain": [
       "array([ 5, 23, 17,  8, 12,  9, 29,  4, 16, 19, 15, 28, 20, 13, 30, 10, 11,\n",
       "       14,  1,  3, 21, 22,  0,  6,  7, 24, 18,  2, 26, 27, 25])"
      ]
     },
     "metadata": {},
     "execution_count": 41
    }
   ],
   "source": [
    "state_encoder = LabelEncoder()\n",
    "state_encoder.fit(df_spc['ESTADO'].unique())\n",
    "df_spc['ESTADO'] = state_encoder.transform(df_spc['ESTADO'])\n",
    "df_spc['ESTADO'].unique()"
   ]
  },
  {
   "cell_type": "code",
   "execution_count": null,
   "metadata": {},
   "outputs": [],
   "source": [
    "state_encoder = LabelEncoder()\n",
    "state_encoder.fit(df_spc['TIPO_PESSOA'].unique())\n",
    "df_spc['TIPO_PESSOA'] = state_encoder.transform(df_spc['TIPO_PESSOA'])\n",
    "df_spc['TIPO_PESSOA'].unique()"
   ]
  },
  {
   "cell_type": "code",
   "execution_count": 42,
   "metadata": {},
   "outputs": [
    {
     "output_type": "execute_result",
     "data": {
      "text/plain": [
       "(10000, 3)"
      ]
     },
     "metadata": {},
     "execution_count": 42
    }
   ],
   "source": [
    "X = df_spc[['RENDA', 'CIDADE', 'ESTADO']]\n",
    "X.shape"
   ]
  },
  {
   "cell_type": "code",
   "execution_count": 53,
   "metadata": {},
   "outputs": [],
   "source": [
    "# Y = f(X)\n",
    "Y = df_spc['TIPO_PESSOA']"
   ]
  },
  {
   "cell_type": "code",
   "execution_count": 47,
   "metadata": {},
   "outputs": [],
   "source": [
    "from sklearn.model_selection import train_test_split"
   ]
  },
  {
   "cell_type": "code",
   "execution_count": 48,
   "metadata": {},
   "outputs": [],
   "source": [
    "x_train, x_test, y_train, y_test = train_test_split(X, Y, test_size=0.33, random_state=42)"
   ]
  },
  {
   "cell_type": "code",
   "execution_count": 49,
   "metadata": {},
   "outputs": [
    {
     "output_type": "execute_result",
     "data": {
      "text/plain": [
       "(6700, 3)"
      ]
     },
     "metadata": {},
     "execution_count": 49
    }
   ],
   "source": [
    "x_train.shape"
   ]
  },
  {
   "cell_type": "code",
   "execution_count": 50,
   "metadata": {},
   "outputs": [
    {
     "output_type": "execute_result",
     "data": {
      "text/plain": [
       "(3300, 3)"
      ]
     },
     "metadata": {},
     "execution_count": 50
    }
   ],
   "source": [
    "x_test.shape"
   ]
  },
  {
   "cell_type": "code",
   "execution_count": 51,
   "metadata": {},
   "outputs": [
    {
     "output_type": "execute_result",
     "data": {
      "text/plain": [
       "(6700,)"
      ]
     },
     "metadata": {},
     "execution_count": 51
    }
   ],
   "source": [
    "y_train.shape"
   ]
  },
  {
   "cell_type": "code",
   "execution_count": 52,
   "metadata": {},
   "outputs": [
    {
     "output_type": "execute_result",
     "data": {
      "text/plain": [
       "(3300,)"
      ]
     },
     "metadata": {},
     "execution_count": 52
    }
   ],
   "source": [
    "y_test.shape"
   ]
  },
  {
   "cell_type": "code",
   "execution_count": 58,
   "metadata": {},
   "outputs": [],
   "source": [
    "from sklearn.cluster import KMeans\n",
    "from sklearn.neighbors import KNeighborsClassifier"
   ]
  },
  {
   "cell_type": "code",
   "execution_count": 55,
   "metadata": {},
   "outputs": [
    {
     "output_type": "execute_result",
     "data": {
      "text/plain": [
       "array(['CNPJ', 'CPF'], dtype=object)"
      ]
     },
     "metadata": {},
     "execution_count": 55
    }
   ],
   "source": [
    "np.unique(y_test)"
   ]
  },
  {
   "cell_type": "code",
   "execution_count": 56,
   "metadata": {},
   "outputs": [],
   "source": [
    "kmeans = KMeans(n_clusters=2, random_state=0)\n",
    "yk_train = kmeans.fit_predict(x_train)\n",
    "yk_test = kmeans.predict(x_test)"
   ]
  },
  {
   "cell_type": "code",
   "execution_count": 57,
   "metadata": {},
   "outputs": [
    {
     "output_type": "execute_result",
     "data": {
      "text/plain": [
       "-313692689.17850286"
      ]
     },
     "metadata": {},
     "execution_count": 57
    }
   ],
   "source": [
    "kmeans.score(x_test, yk_test)"
   ]
  },
  {
   "cell_type": "code",
   "execution_count": 59,
   "metadata": {},
   "outputs": [
    {
     "output_type": "execute_result",
     "data": {
      "text/plain": [
       "KNeighborsClassifier(n_neighbors=3)"
      ]
     },
     "metadata": {},
     "execution_count": 59
    }
   ],
   "source": [
    "model = KNeighborsClassifier(n_neighbors=3)\n",
    "model.fit(x_train,yk_train)"
   ]
  },
  {
   "cell_type": "code",
   "execution_count": 60,
   "metadata": {},
   "outputs": [
    {
     "output_type": "execute_result",
     "data": {
      "text/plain": [
       "KNeighborsClassifier(n_neighbors=3)"
      ]
     },
     "metadata": {},
     "execution_count": 60
    }
   ],
   "source": [
    "KNeighborsClassifier(algorithm='auto', leaf_size=30, metric='minkowski',\n",
    "                     metric_params=None, n_jobs=None, n_neighbors=3, p=2,\n",
    "                     weights='uniform')"
   ]
  },
  {
   "cell_type": "code",
   "execution_count": 61,
   "metadata": {},
   "outputs": [
    {
     "output_type": "execute_result",
     "data": {
      "text/plain": [
       "0.9996969696969698"
      ]
     },
     "metadata": {},
     "execution_count": 61
    }
   ],
   "source": [
    "model.score(x_test, yk_test)"
   ]
  },
  {
   "cell_type": "code",
   "execution_count": null,
   "metadata": {},
   "outputs": [],
   "source": []
  }
 ],
 "metadata": {
  "kernelspec": {
   "name": "python391jvsc74a57bd0ac59ebe37160ed0dfa835113d9b8498d9f09ceb179beaac4002f036b9467c963",
   "display_name": "Python 3.9.1 64-bit"
  },
  "language_info": {
   "codemirror_mode": {
    "name": "ipython",
    "version": 3
   },
   "file_extension": ".py",
   "mimetype": "text/x-python",
   "name": "python",
   "nbconvert_exporter": "python",
   "pygments_lexer": "ipython3",
   "version": "3.9.1"
  },
  "metadata": {
   "interpreter": {
    "hash": "ac59ebe37160ed0dfa835113d9b8498d9f09ceb179beaac4002f036b9467c963"
   }
  }
 },
 "nbformat": 4,
 "nbformat_minor": 5
}