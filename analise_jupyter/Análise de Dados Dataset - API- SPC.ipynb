{
 "cells": [
  {
   "cell_type": "code",
   "execution_count": 1,
   "id": "amazing-metadata",
   "metadata": {},
   "outputs": [],
   "source": [
    "# Importando os módulos:\n",
    "import pandas as pd\n",
    "import folium\n",
    "from folium import plugins, Map\n",
    "import matplotlib.pyplot as plt\n",
    "import collections\n",
    "import datetime\n",
    "import numpy as np\n",
    "from API_google import reverse_geocode"
   ]
  },
  {
   "cell_type": "code",
   "execution_count": 2,
   "id": "alleged-farming",
   "metadata": {},
   "outputs": [],
   "source": [
    "# Leitura do arquivo base\n",
    "df = pd.read_csv(r\"dataset_v01.csv\", delimiter=\";\")\n",
    "df = df.rename(columns={'id': 'ID_USUARIO', 'dat_nsc': 'DATA_NASCIMENTO', 'renda': 'RENDA', 'renda_SPEC': 'RENDA_FIXA', 'latitude': 'LATITUDE', 'longitude': 'LONGITUDE', 'tipo_pessoa': 'TIPO_PESSOA'})\n",
    "\n",
    "# Criando novas colunas CIDADE, ESTADO e LOGRADOURO\n",
    "df['CIDADE'] = 'NaN'\n",
    "df['ESTADO'] = 'NaN'\n",
    "df['LOGRADOURO'] = 'NaN'\n",
    "\n",
    "# Formatação das coordenadas, trocado as virgulas por ponto e removendo registros sem coordenadas\n",
    "df['LATITUDE'] = df['LATITUDE'].str.replace(',','.')\n",
    "df['LONGITUDE'] = df['LONGITUDE'].str.replace(',','.')\n",
    "#df.dropna(subset=['LATITUDE'], inplace=True)"
   ]
  },
  {
   "cell_type": "code",
   "execution_count": 3,
   "metadata": {},
   "outputs": [],
   "source": [
    "# Utilização da API Google Maps para inserção dos dados regionais, \"CIDADE\" e \"ESTADO\"\n",
    "for index, row in df.iterrows():\n",
    "    try:\n",
    "        result = reverse_geocode(row['LATITUDE'], row['LONGITUDE'])\n",
    "        df.loc[index,'CIDADE'] = result[0]\n",
    "        df.loc[index,'ESTADO'] = result[1]\n",
    "        df.loc[index,'LOGRADOURO'] = result[2]\n",
    "        df.loc[index,'TIPO_PESSOA'] = result[3]\n",
    "    except:\n",
    "        pass"
   ]
  },
  {
   "cell_type": "code",
   "execution_count": 4,
   "metadata": {},
   "outputs": [
    {
     "output_type": "execute_result",
     "data": {
      "text/plain": [
       "                                ID_USUARIO   DATA_NASCIMENTO  \\\n",
       "0     d6c0cc1d-eb61-486a-b5c3-50725ef44d61  30/01/1981 00:00   \n",
       "1     da0067e7-aa6b-4355-b373-ca17f6ac3b44  28/01/1978 00:00   \n",
       "2     2d729b8a-d53c-48e7-8bf5-33b021980c04  09/12/1954 00:00   \n",
       "3     62c0f1e6-36f2-4205-a134-232a58a6f8a5  28/08/1975 00:00   \n",
       "4     0cef9719-0aa3-49a2-adea-9c09c04de071  17/06/1957 00:00   \n",
       "...                                    ...               ...   \n",
       "9995  f2261fce-83c5-4f64-b145-85f46bcf18b1  08/10/1979 00:00   \n",
       "9996  bdaa7802-4650-44a4-93f7-952b72ec17a0  30/04/1980 00:00   \n",
       "9997  e7b37cd5-714a-44d8-ad7f-4ed3aa6b0695  26/05/1976 00:00   \n",
       "9998  167dbd7f-7ccd-4aad-a6b9-c3fb9d56c9cd  06/11/1985 00:00   \n",
       "9999  d4f11ca2-71b1-4e12-aba6-bd8530ca2691  09/03/1981 00:00   \n",
       "\n",
       "                             RENDA RENDA_FIXA      LATITUDE     LONGITUDE  \\\n",
       "0     DE R$ 1.900,00 A R$ 3.800,00   3.104,00      -4.84758     -37.78439   \n",
       "1     DE R$ 3.800,00 A R$ 7.600,00   5.703,00  -26.99011814  -48.63716523   \n",
       "2     DE R$ 3.800,00 A R$ 7.600,00   3.901,00  -5.053671016  -42.81315203   \n",
       "3       DE R$ 788,00 A R$ 1.140,00   1.086,00    -15.059042    -48.163372   \n",
       "4       DE R$ 788,00 A R$ 1.140,00        836    -17.694658     -42.52228   \n",
       "...                            ...        ...           ...           ...   \n",
       "9995  DE R$ 1.900,00 A R$ 3.800,00   2.776,00  -11.60937194  -47.04750645   \n",
       "9996  DE R$ 3.800,00 A R$ 7.600,00   4.099,00  -15.65049668  -47.79332059   \n",
       "9997    DE R$ 788,00 A R$ 1.140,00   1.052,00  -8.330678649  -36.13689703   \n",
       "9998    DE R$ 788,00 A R$ 1.140,00        958           NaN           NaN   \n",
       "9999  DE R$ 3.800,00 A R$ 7.600,00   5.954,00    -15.787504    -48.139096   \n",
       "\n",
       "     TIPO_PESSOA                     CIDADE            ESTADO      LOGRADOURO  \n",
       "0            CPF                 Jaguaruana             Ceará  street_address  \n",
       "1            CPF         Balneário Camboriú    Santa Catarina  street_address  \n",
       "2            CPF                   Teresina             Piauí  street_address  \n",
       "3           CNPJ            Mimoso de Goiás             Goiás   establishment  \n",
       "4            CPF                  Capelinha      Minas Gerais  street_address  \n",
       "...          ...                        ...               ...             ...  \n",
       "9995         CPF  Porto Alegre do Tocantins         Tocantins           route  \n",
       "9996         CPF                   Brasília  Distrito Federal  street_address  \n",
       "9997         CPF                São Caetano        Pernambuco  street_address  \n",
       "9998        CNPJ                        NaN               NaN             NaN  \n",
       "9999         CPF                   Brasília  Distrito Federal         premise  \n",
       "\n",
       "[10000 rows x 10 columns]"
      ],
      "text/html": "<div>\n<style scoped>\n    .dataframe tbody tr th:only-of-type {\n        vertical-align: middle;\n    }\n\n    .dataframe tbody tr th {\n        vertical-align: top;\n    }\n\n    .dataframe thead th {\n        text-align: right;\n    }\n</style>\n<table border=\"1\" class=\"dataframe\">\n  <thead>\n    <tr style=\"text-align: right;\">\n      <th></th>\n      <th>ID_USUARIO</th>\n      <th>DATA_NASCIMENTO</th>\n      <th>RENDA</th>\n      <th>RENDA_FIXA</th>\n      <th>LATITUDE</th>\n      <th>LONGITUDE</th>\n      <th>TIPO_PESSOA</th>\n      <th>CIDADE</th>\n      <th>ESTADO</th>\n      <th>LOGRADOURO</th>\n    </tr>\n  </thead>\n  <tbody>\n    <tr>\n      <th>0</th>\n      <td>d6c0cc1d-eb61-486a-b5c3-50725ef44d61</td>\n      <td>30/01/1981 00:00</td>\n      <td>DE R$ 1.900,00 A R$ 3.800,00</td>\n      <td>3.104,00</td>\n      <td>-4.84758</td>\n      <td>-37.78439</td>\n      <td>CPF</td>\n      <td>Jaguaruana</td>\n      <td>Ceará</td>\n      <td>street_address</td>\n    </tr>\n    <tr>\n      <th>1</th>\n      <td>da0067e7-aa6b-4355-b373-ca17f6ac3b44</td>\n      <td>28/01/1978 00:00</td>\n      <td>DE R$ 3.800,00 A R$ 7.600,00</td>\n      <td>5.703,00</td>\n      <td>-26.99011814</td>\n      <td>-48.63716523</td>\n      <td>CPF</td>\n      <td>Balneário Camboriú</td>\n      <td>Santa Catarina</td>\n      <td>street_address</td>\n    </tr>\n    <tr>\n      <th>2</th>\n      <td>2d729b8a-d53c-48e7-8bf5-33b021980c04</td>\n      <td>09/12/1954 00:00</td>\n      <td>DE R$ 3.800,00 A R$ 7.600,00</td>\n      <td>3.901,00</td>\n      <td>-5.053671016</td>\n      <td>-42.81315203</td>\n      <td>CPF</td>\n      <td>Teresina</td>\n      <td>Piauí</td>\n      <td>street_address</td>\n    </tr>\n    <tr>\n      <th>3</th>\n      <td>62c0f1e6-36f2-4205-a134-232a58a6f8a5</td>\n      <td>28/08/1975 00:00</td>\n      <td>DE R$ 788,00 A R$ 1.140,00</td>\n      <td>1.086,00</td>\n      <td>-15.059042</td>\n      <td>-48.163372</td>\n      <td>CNPJ</td>\n      <td>Mimoso de Goiás</td>\n      <td>Goiás</td>\n      <td>establishment</td>\n    </tr>\n    <tr>\n      <th>4</th>\n      <td>0cef9719-0aa3-49a2-adea-9c09c04de071</td>\n      <td>17/06/1957 00:00</td>\n      <td>DE R$ 788,00 A R$ 1.140,00</td>\n      <td>836</td>\n      <td>-17.694658</td>\n      <td>-42.52228</td>\n      <td>CPF</td>\n      <td>Capelinha</td>\n      <td>Minas Gerais</td>\n      <td>street_address</td>\n    </tr>\n    <tr>\n      <th>...</th>\n      <td>...</td>\n      <td>...</td>\n      <td>...</td>\n      <td>...</td>\n      <td>...</td>\n      <td>...</td>\n      <td>...</td>\n      <td>...</td>\n      <td>...</td>\n      <td>...</td>\n    </tr>\n    <tr>\n      <th>9995</th>\n      <td>f2261fce-83c5-4f64-b145-85f46bcf18b1</td>\n      <td>08/10/1979 00:00</td>\n      <td>DE R$ 1.900,00 A R$ 3.800,00</td>\n      <td>2.776,00</td>\n      <td>-11.60937194</td>\n      <td>-47.04750645</td>\n      <td>CPF</td>\n      <td>Porto Alegre do Tocantins</td>\n      <td>Tocantins</td>\n      <td>route</td>\n    </tr>\n    <tr>\n      <th>9996</th>\n      <td>bdaa7802-4650-44a4-93f7-952b72ec17a0</td>\n      <td>30/04/1980 00:00</td>\n      <td>DE R$ 3.800,00 A R$ 7.600,00</td>\n      <td>4.099,00</td>\n      <td>-15.65049668</td>\n      <td>-47.79332059</td>\n      <td>CPF</td>\n      <td>Brasília</td>\n      <td>Distrito Federal</td>\n      <td>street_address</td>\n    </tr>\n    <tr>\n      <th>9997</th>\n      <td>e7b37cd5-714a-44d8-ad7f-4ed3aa6b0695</td>\n      <td>26/05/1976 00:00</td>\n      <td>DE R$ 788,00 A R$ 1.140,00</td>\n      <td>1.052,00</td>\n      <td>-8.330678649</td>\n      <td>-36.13689703</td>\n      <td>CPF</td>\n      <td>São Caetano</td>\n      <td>Pernambuco</td>\n      <td>street_address</td>\n    </tr>\n    <tr>\n      <th>9998</th>\n      <td>167dbd7f-7ccd-4aad-a6b9-c3fb9d56c9cd</td>\n      <td>06/11/1985 00:00</td>\n      <td>DE R$ 788,00 A R$ 1.140,00</td>\n      <td>958</td>\n      <td>NaN</td>\n      <td>NaN</td>\n      <td>CNPJ</td>\n      <td>NaN</td>\n      <td>NaN</td>\n      <td>NaN</td>\n    </tr>\n    <tr>\n      <th>9999</th>\n      <td>d4f11ca2-71b1-4e12-aba6-bd8530ca2691</td>\n      <td>09/03/1981 00:00</td>\n      <td>DE R$ 3.800,00 A R$ 7.600,00</td>\n      <td>5.954,00</td>\n      <td>-15.787504</td>\n      <td>-48.139096</td>\n      <td>CPF</td>\n      <td>Brasília</td>\n      <td>Distrito Federal</td>\n      <td>premise</td>\n    </tr>\n  </tbody>\n</table>\n<p>10000 rows × 10 columns</p>\n</div>"
     },
     "metadata": {},
     "execution_count": 4
    }
   ],
   "source": [
    "df"
   ]
  }
 ],
 "metadata": {
  "kernelspec": {
   "name": "python391jvsc74a57bd0ee5cc6fef2d70a7e71ee3826687cbd150f18158e0b1eef11d4f4f92bb920e304",
   "display_name": "Python 3.9.1 64-bit"
  },
  "language_info": {
   "codemirror_mode": {
    "name": "ipython",
    "version": 3
   },
   "file_extension": ".py",
   "mimetype": "text/x-python",
   "name": "python",
   "nbconvert_exporter": "python",
   "pygments_lexer": "ipython3",
   "version": "3.9.1"
  }
 },
 "nbformat": 4,
 "nbformat_minor": 5
}