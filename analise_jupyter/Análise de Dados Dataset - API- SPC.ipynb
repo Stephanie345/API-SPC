{
 "cells": [
  {
   "cell_type": "code",
   "execution_count": 35,
   "id": "amazing-metadata",
   "metadata": {},
   "outputs": [],
   "source": [
    "# Importando os módulos:\n",
    "import pandas as pd\n",
    "import folium\n",
    "from folium import plugins, Map\n",
    "import matplotlib.pyplot as plt\n",
    "import collections\n",
    "import datetime\n",
    "import numpy as np\n",
    "from API_google import reverse_geocode"
   ]
  },
  {
   "cell_type": "code",
   "execution_count": 4,
   "id": "alleged-farming",
   "metadata": {},
   "outputs": [],
   "source": [
    "# Leitura do arquivo base\n",
    "df = pd.read_csv(r\"dataset_v01.csv\", delimiter=\";\")\n",
    "df = df.rename(columns={'id': 'ID_USUARIO', 'dat_nsc': 'DATA_NASCIMENTO', 'renda': 'RENDA', 'renda_SPEC': 'RENDA_FIXA', 'latitude': 'LATITUDE', 'longitude': 'LONGITUDE', 'tipo_pessoa': 'TIPO_PESSOA'})\n",
    "\n",
    "# Criando novas colunas CIDADE, ESTADO e LOGRADOURO\n",
    "df['CIDADE'] = 'NaN'\n",
    "df['ESTADO'] = 'NaN'\n",
    "df['LOGRADOURO'] = 'NaN'\n",
    "\n",
    "# Formatação das coordenadas, trocado as virgulas por ponto e removendo registros sem coordenadas\n",
    "df['LATITUDE'] = df['LATITUDE'].str.replace(',','.')\n",
    "df['LONGITUDE'] = df['LONGITUDE'].str.replace(',','.')\n",
    "#df.dropna(subset=['LATITUDE'], inplace=True)"
   ]
  },
  {
   "cell_type": "code",
   "execution_count": 3,
   "metadata": {},
   "outputs": [],
   "source": [
    "# Utilização da API Google Maps para inserção dos dados regionais, \"CIDADE\" e \"ESTADO\"\n",
    "for index, row in df.iterrows():\n",
    "    try:\n",
    "        result = reverse_geocode(row['LATITUDE'], row['LONGITUDE'])\n",
    "        df.loc[index,'CIDADE'] = result[0]\n",
    "        df.loc[index,'ESTADO'] = result[1]\n",
    "        df.loc[index,'LOGRADOURO'] = result[2]\n",
    "        df.loc[index,'TIPO_PESSOA'] = result[3]\n",
    "    except:\n",
    "        pass"
   ]
  },
  {
   "cell_type": "code",
   "execution_count": 9,
   "metadata": {},
   "outputs": [
    {
     "output_type": "execute_result",
     "data": {
      "text/plain": [
       "                             ID_USUARIO   DATA_NASCIMENTO  \\\n",
       "0  d6c0cc1d-eb61-486a-b5c3-50725ef44d61  30/01/1981 00:00   \n",
       "1  da0067e7-aa6b-4355-b373-ca17f6ac3b44  28/01/1978 00:00   \n",
       "2  2d729b8a-d53c-48e7-8bf5-33b021980c04  09/12/1954 00:00   \n",
       "3  62c0f1e6-36f2-4205-a134-232a58a6f8a5  28/08/1975 00:00   \n",
       "4  0cef9719-0aa3-49a2-adea-9c09c04de071  17/06/1957 00:00   \n",
       "\n",
       "                          RENDA RENDA_FIXA      LATITUDE     LONGITUDE  \\\n",
       "0  DE R$ 1.900,00 A R$ 3.800,00   3.104,00      -4.84758     -37.78439   \n",
       "1  DE R$ 3.800,00 A R$ 7.600,00   5.703,00  -26.99011814  -48.63716523   \n",
       "2  DE R$ 3.800,00 A R$ 7.600,00   3.901,00  -5.053671016  -42.81315203   \n",
       "3    DE R$ 788,00 A R$ 1.140,00   1.086,00    -15.059042    -48.163372   \n",
       "4    DE R$ 788,00 A R$ 1.140,00        836    -17.694658     -42.52228   \n",
       "\n",
       "  TIPO_PESSOA              CIDADE          ESTADO      LOGRADOURO  \n",
       "0         CPF          Jaguaruana           Ceará  street_address  \n",
       "1         CPF  Balneário Camboriú  Santa Catarina  street_address  \n",
       "2         CPF            Teresina           Piauí  street_address  \n",
       "3        CNPJ     Mimoso de Goiás           Goiás   establishment  \n",
       "4         CPF           Capelinha    Minas Gerais  street_address  "
      ],
      "text/html": "<div>\n<style scoped>\n    .dataframe tbody tr th:only-of-type {\n        vertical-align: middle;\n    }\n\n    .dataframe tbody tr th {\n        vertical-align: top;\n    }\n\n    .dataframe thead th {\n        text-align: right;\n    }\n</style>\n<table border=\"1\" class=\"dataframe\">\n  <thead>\n    <tr style=\"text-align: right;\">\n      <th></th>\n      <th>ID_USUARIO</th>\n      <th>DATA_NASCIMENTO</th>\n      <th>RENDA</th>\n      <th>RENDA_FIXA</th>\n      <th>LATITUDE</th>\n      <th>LONGITUDE</th>\n      <th>TIPO_PESSOA</th>\n      <th>CIDADE</th>\n      <th>ESTADO</th>\n      <th>LOGRADOURO</th>\n    </tr>\n  </thead>\n  <tbody>\n    <tr>\n      <th>0</th>\n      <td>d6c0cc1d-eb61-486a-b5c3-50725ef44d61</td>\n      <td>30/01/1981 00:00</td>\n      <td>DE R$ 1.900,00 A R$ 3.800,00</td>\n      <td>3.104,00</td>\n      <td>-4.84758</td>\n      <td>-37.78439</td>\n      <td>CPF</td>\n      <td>Jaguaruana</td>\n      <td>Ceará</td>\n      <td>street_address</td>\n    </tr>\n    <tr>\n      <th>1</th>\n      <td>da0067e7-aa6b-4355-b373-ca17f6ac3b44</td>\n      <td>28/01/1978 00:00</td>\n      <td>DE R$ 3.800,00 A R$ 7.600,00</td>\n      <td>5.703,00</td>\n      <td>-26.99011814</td>\n      <td>-48.63716523</td>\n      <td>CPF</td>\n      <td>Balneário Camboriú</td>\n      <td>Santa Catarina</td>\n      <td>street_address</td>\n    </tr>\n    <tr>\n      <th>2</th>\n      <td>2d729b8a-d53c-48e7-8bf5-33b021980c04</td>\n      <td>09/12/1954 00:00</td>\n      <td>DE R$ 3.800,00 A R$ 7.600,00</td>\n      <td>3.901,00</td>\n      <td>-5.053671016</td>\n      <td>-42.81315203</td>\n      <td>CPF</td>\n      <td>Teresina</td>\n      <td>Piauí</td>\n      <td>street_address</td>\n    </tr>\n    <tr>\n      <th>3</th>\n      <td>62c0f1e6-36f2-4205-a134-232a58a6f8a5</td>\n      <td>28/08/1975 00:00</td>\n      <td>DE R$ 788,00 A R$ 1.140,00</td>\n      <td>1.086,00</td>\n      <td>-15.059042</td>\n      <td>-48.163372</td>\n      <td>CNPJ</td>\n      <td>Mimoso de Goiás</td>\n      <td>Goiás</td>\n      <td>establishment</td>\n    </tr>\n    <tr>\n      <th>4</th>\n      <td>0cef9719-0aa3-49a2-adea-9c09c04de071</td>\n      <td>17/06/1957 00:00</td>\n      <td>DE R$ 788,00 A R$ 1.140,00</td>\n      <td>836</td>\n      <td>-17.694658</td>\n      <td>-42.52228</td>\n      <td>CPF</td>\n      <td>Capelinha</td>\n      <td>Minas Gerais</td>\n      <td>street_address</td>\n    </tr>\n  </tbody>\n</table>\n</div>"
     },
     "metadata": {},
     "execution_count": 9
    }
   ],
   "source": [
    "df.head()"
   ]
  },
  {
   "cell_type": "code",
   "execution_count": 5,
   "metadata": {},
   "outputs": [],
   "source": [
    "# Criando arquivo csv com os dados tratados(nao precisa rodar)\n",
    "df.to_csv('dataset_v02.csv', sep=';', encoding='utf-8')"
   ]
  },
  {
   "cell_type": "code",
   "execution_count": 61,
   "metadata": {},
   "outputs": [],
   "source": [
    "# Nova data frame com os dados tratados (rodar todas as vezes)\n",
    "df_spc = pd.read_csv(r\"dataset_v02.csv\", delimiter=\";\")"
   ]
  },
  {
   "cell_type": "code",
   "execution_count": 62,
   "metadata": {},
   "outputs": [
    {
     "output_type": "execute_result",
     "data": {
      "text/plain": [
       "                             ID_USUARIO DATA_NASCIMENTO  \\\n",
       "0  d6c0cc1d-eb61-486a-b5c3-50725ef44d61      1981-01-30   \n",
       "1  da0067e7-aa6b-4355-b373-ca17f6ac3b44      1978-01-28   \n",
       "2  2d729b8a-d53c-48e7-8bf5-33b021980c04      1954-12-09   \n",
       "3  62c0f1e6-36f2-4205-a134-232a58a6f8a5      1975-08-28   \n",
       "4  0cef9719-0aa3-49a2-adea-9c09c04de071      1957-06-17   \n",
       "\n",
       "                          RENDA RENDA_FIXA        LATITUDE       LONGITUDE  \\\n",
       "0  DE R$ 1.900,00 A R$ 3.800,00   3.104,00        -484.758      -3.778.439   \n",
       "1  DE R$ 3.800,00 A R$ 7.600,00   5.703,00  -2.699.011.814  -4.863.716.523   \n",
       "2  DE R$ 3.800,00 A R$ 7.600,00   3.901,00  -5.053.671.016  -4.281.315.203   \n",
       "3    DE R$ 788,00 A R$ 1.140,00   1.086,00     -15.059.042     -48.163.372   \n",
       "4    DE R$ 788,00 A R$ 1.140,00        836     -17.694.658      -4.252.228   \n",
       "\n",
       "  TIPO_PESSOA              CIDADE          ESTADO      LOGRADOURO  \n",
       "0         CPF          Jaguaruana           Ceará  street_address  \n",
       "1         CPF  Balneário Camboriú  Santa Catarina  street_address  \n",
       "2         CPF            Teresina           Piauí  street_address  \n",
       "3        CNPJ     Mimoso de Goiás           Goiás   establishment  \n",
       "4         CPF           Capelinha    Minas Gerais  street_address  "
      ],
      "text/html": "<div>\n<style scoped>\n    .dataframe tbody tr th:only-of-type {\n        vertical-align: middle;\n    }\n\n    .dataframe tbody tr th {\n        vertical-align: top;\n    }\n\n    .dataframe thead th {\n        text-align: right;\n    }\n</style>\n<table border=\"1\" class=\"dataframe\">\n  <thead>\n    <tr style=\"text-align: right;\">\n      <th></th>\n      <th>ID_USUARIO</th>\n      <th>DATA_NASCIMENTO</th>\n      <th>RENDA</th>\n      <th>RENDA_FIXA</th>\n      <th>LATITUDE</th>\n      <th>LONGITUDE</th>\n      <th>TIPO_PESSOA</th>\n      <th>CIDADE</th>\n      <th>ESTADO</th>\n      <th>LOGRADOURO</th>\n    </tr>\n  </thead>\n  <tbody>\n    <tr>\n      <th>0</th>\n      <td>d6c0cc1d-eb61-486a-b5c3-50725ef44d61</td>\n      <td>1981-01-30</td>\n      <td>DE R$ 1.900,00 A R$ 3.800,00</td>\n      <td>3.104,00</td>\n      <td>-484.758</td>\n      <td>-3.778.439</td>\n      <td>CPF</td>\n      <td>Jaguaruana</td>\n      <td>Ceará</td>\n      <td>street_address</td>\n    </tr>\n    <tr>\n      <th>1</th>\n      <td>da0067e7-aa6b-4355-b373-ca17f6ac3b44</td>\n      <td>1978-01-28</td>\n      <td>DE R$ 3.800,00 A R$ 7.600,00</td>\n      <td>5.703,00</td>\n      <td>-2.699.011.814</td>\n      <td>-4.863.716.523</td>\n      <td>CPF</td>\n      <td>Balneário Camboriú</td>\n      <td>Santa Catarina</td>\n      <td>street_address</td>\n    </tr>\n    <tr>\n      <th>2</th>\n      <td>2d729b8a-d53c-48e7-8bf5-33b021980c04</td>\n      <td>1954-12-09</td>\n      <td>DE R$ 3.800,00 A R$ 7.600,00</td>\n      <td>3.901,00</td>\n      <td>-5.053.671.016</td>\n      <td>-4.281.315.203</td>\n      <td>CPF</td>\n      <td>Teresina</td>\n      <td>Piauí</td>\n      <td>street_address</td>\n    </tr>\n    <tr>\n      <th>3</th>\n      <td>62c0f1e6-36f2-4205-a134-232a58a6f8a5</td>\n      <td>1975-08-28</td>\n      <td>DE R$ 788,00 A R$ 1.140,00</td>\n      <td>1.086,00</td>\n      <td>-15.059.042</td>\n      <td>-48.163.372</td>\n      <td>CNPJ</td>\n      <td>Mimoso de Goiás</td>\n      <td>Goiás</td>\n      <td>establishment</td>\n    </tr>\n    <tr>\n      <th>4</th>\n      <td>0cef9719-0aa3-49a2-adea-9c09c04de071</td>\n      <td>1957-06-17</td>\n      <td>DE R$ 788,00 A R$ 1.140,00</td>\n      <td>836</td>\n      <td>-17.694.658</td>\n      <td>-4.252.228</td>\n      <td>CPF</td>\n      <td>Capelinha</td>\n      <td>Minas Gerais</td>\n      <td>street_address</td>\n    </tr>\n  </tbody>\n</table>\n</div>"
     },
     "metadata": {},
     "execution_count": 62
    }
   ],
   "source": [
    "df_spc.head()"
   ]
  },
  {
   "cell_type": "code",
   "execution_count": 63,
   "metadata": {},
   "outputs": [
    {
     "output_type": "execute_result",
     "data": {
      "text/plain": [
       "             ID_USUARIO  DATA_NASCIMENTO  RENDA  RENDA_FIXA  LATITUDE  \\\n",
       "TIPO_PESSOA                                                             \n",
       "CNPJ               1663             1653   1663        1663      1024   \n",
       "CPF                8337             8283   8337        8337      7719   \n",
       "\n",
       "             LONGITUDE  CIDADE  ESTADO  LOGRADOURO  \n",
       "TIPO_PESSOA                                         \n",
       "CNPJ              1024    1024    1024        1024  \n",
       "CPF               7719    7719    7719        7719  "
      ],
      "text/html": "<div>\n<style scoped>\n    .dataframe tbody tr th:only-of-type {\n        vertical-align: middle;\n    }\n\n    .dataframe tbody tr th {\n        vertical-align: top;\n    }\n\n    .dataframe thead th {\n        text-align: right;\n    }\n</style>\n<table border=\"1\" class=\"dataframe\">\n  <thead>\n    <tr style=\"text-align: right;\">\n      <th></th>\n      <th>ID_USUARIO</th>\n      <th>DATA_NASCIMENTO</th>\n      <th>RENDA</th>\n      <th>RENDA_FIXA</th>\n      <th>LATITUDE</th>\n      <th>LONGITUDE</th>\n      <th>CIDADE</th>\n      <th>ESTADO</th>\n      <th>LOGRADOURO</th>\n    </tr>\n    <tr>\n      <th>TIPO_PESSOA</th>\n      <th></th>\n      <th></th>\n      <th></th>\n      <th></th>\n      <th></th>\n      <th></th>\n      <th></th>\n      <th></th>\n      <th></th>\n    </tr>\n  </thead>\n  <tbody>\n    <tr>\n      <th>CNPJ</th>\n      <td>1663</td>\n      <td>1653</td>\n      <td>1663</td>\n      <td>1663</td>\n      <td>1024</td>\n      <td>1024</td>\n      <td>1024</td>\n      <td>1024</td>\n      <td>1024</td>\n    </tr>\n    <tr>\n      <th>CPF</th>\n      <td>8337</td>\n      <td>8283</td>\n      <td>8337</td>\n      <td>8337</td>\n      <td>7719</td>\n      <td>7719</td>\n      <td>7719</td>\n      <td>7719</td>\n      <td>7719</td>\n    </tr>\n  </tbody>\n</table>\n</div>"
     },
     "metadata": {},
     "execution_count": 63
    }
   ],
   "source": [
    "df_spc.groupby('TIPO_PESSOA').count()"
   ]
  },
  {
   "cell_type": "code",
   "execution_count": 64,
   "metadata": {},
   "outputs": [
    {
     "output_type": "execute_result",
     "data": {
      "text/plain": [
       "                                ID_USUARIO DATA_NASCIMENTO  \\\n",
       "0     d6c0cc1d-eb61-486a-b5c3-50725ef44d61      1981-01-30   \n",
       "1     da0067e7-aa6b-4355-b373-ca17f6ac3b44      1978-01-28   \n",
       "2     2d729b8a-d53c-48e7-8bf5-33b021980c04      1954-12-09   \n",
       "3     62c0f1e6-36f2-4205-a134-232a58a6f8a5      1975-08-28   \n",
       "4     0cef9719-0aa3-49a2-adea-9c09c04de071      1957-06-17   \n",
       "...                                    ...             ...   \n",
       "9995  f2261fce-83c5-4f64-b145-85f46bcf18b1      1979-10-08   \n",
       "9996  bdaa7802-4650-44a4-93f7-952b72ec17a0      1980-04-30   \n",
       "9997  e7b37cd5-714a-44d8-ad7f-4ed3aa6b0695      1976-05-26   \n",
       "9998  167dbd7f-7ccd-4aad-a6b9-c3fb9d56c9cd      1985-11-06   \n",
       "9999  d4f11ca2-71b1-4e12-aba6-bd8530ca2691      1981-03-09   \n",
       "\n",
       "                             RENDA RENDA_FIXA        LATITUDE       LONGITUDE  \\\n",
       "0     DE R$ 1.900,00 A R$ 3.800,00   3.104,00        -484.758      -3.778.439   \n",
       "1     DE R$ 3.800,00 A R$ 7.600,00   5.703,00  -2.699.011.814  -4.863.716.523   \n",
       "2     DE R$ 3.800,00 A R$ 7.600,00   3.901,00  -5.053.671.016  -4.281.315.203   \n",
       "3       DE R$ 788,00 A R$ 1.140,00   1.086,00     -15.059.042     -48.163.372   \n",
       "4       DE R$ 788,00 A R$ 1.140,00        836     -17.694.658      -4.252.228   \n",
       "...                            ...        ...             ...             ...   \n",
       "9995  DE R$ 1.900,00 A R$ 3.800,00   2.776,00  -1.160.937.194  -4.704.750.645   \n",
       "9996  DE R$ 3.800,00 A R$ 7.600,00   4.099,00  -1.565.049.668  -4.779.332.059   \n",
       "9997    DE R$ 788,00 A R$ 1.140,00   1.052,00  -8.330.678.649  -3.613.689.703   \n",
       "9998    DE R$ 788,00 A R$ 1.140,00        958             NaN             NaN   \n",
       "9999  DE R$ 3.800,00 A R$ 7.600,00   5.954,00     -15.787.504     -48.139.096   \n",
       "\n",
       "     TIPO_PESSOA                     CIDADE            ESTADO      LOGRADOURO  \\\n",
       "0            CPF                 Jaguaruana             Ceará  street_address   \n",
       "1            CPF         Balneário Camboriú    Santa Catarina  street_address   \n",
       "2            CPF                   Teresina             Piauí  street_address   \n",
       "3           CNPJ            Mimoso de Goiás             Goiás   establishment   \n",
       "4            CPF                  Capelinha      Minas Gerais  street_address   \n",
       "...          ...                        ...               ...             ...   \n",
       "9995         CPF  Porto Alegre do Tocantins         Tocantins           route   \n",
       "9996         CPF                   Brasília  Distrito Federal  street_address   \n",
       "9997         CPF                São Caetano        Pernambuco  street_address   \n",
       "9998        CNPJ                        NaN               NaN             NaN   \n",
       "9999         CPF                   Brasília  Distrito Federal         premise   \n",
       "\n",
       "         ANO   MES   DIA  HORA  \n",
       "0     1981.0   1.0  30.0   0.0  \n",
       "1     1978.0   1.0  28.0   0.0  \n",
       "2     1954.0  12.0   9.0   0.0  \n",
       "3     1975.0   8.0  28.0   0.0  \n",
       "4     1957.0   6.0  17.0   0.0  \n",
       "...      ...   ...   ...   ...  \n",
       "9995  1979.0  10.0   8.0   0.0  \n",
       "9996  1980.0   4.0  30.0   0.0  \n",
       "9997  1976.0   5.0  26.0   0.0  \n",
       "9998  1985.0  11.0   6.0   0.0  \n",
       "9999  1981.0   3.0   9.0   0.0  \n",
       "\n",
       "[10000 rows x 14 columns]"
      ],
      "text/html": "<div>\n<style scoped>\n    .dataframe tbody tr th:only-of-type {\n        vertical-align: middle;\n    }\n\n    .dataframe tbody tr th {\n        vertical-align: top;\n    }\n\n    .dataframe thead th {\n        text-align: right;\n    }\n</style>\n<table border=\"1\" class=\"dataframe\">\n  <thead>\n    <tr style=\"text-align: right;\">\n      <th></th>\n      <th>ID_USUARIO</th>\n      <th>DATA_NASCIMENTO</th>\n      <th>RENDA</th>\n      <th>RENDA_FIXA</th>\n      <th>LATITUDE</th>\n      <th>LONGITUDE</th>\n      <th>TIPO_PESSOA</th>\n      <th>CIDADE</th>\n      <th>ESTADO</th>\n      <th>LOGRADOURO</th>\n      <th>ANO</th>\n      <th>MES</th>\n      <th>DIA</th>\n      <th>HORA</th>\n    </tr>\n  </thead>\n  <tbody>\n    <tr>\n      <th>0</th>\n      <td>d6c0cc1d-eb61-486a-b5c3-50725ef44d61</td>\n      <td>1981-01-30</td>\n      <td>DE R$ 1.900,00 A R$ 3.800,00</td>\n      <td>3.104,00</td>\n      <td>-484.758</td>\n      <td>-3.778.439</td>\n      <td>CPF</td>\n      <td>Jaguaruana</td>\n      <td>Ceará</td>\n      <td>street_address</td>\n      <td>1981.0</td>\n      <td>1.0</td>\n      <td>30.0</td>\n      <td>0.0</td>\n    </tr>\n    <tr>\n      <th>1</th>\n      <td>da0067e7-aa6b-4355-b373-ca17f6ac3b44</td>\n      <td>1978-01-28</td>\n      <td>DE R$ 3.800,00 A R$ 7.600,00</td>\n      <td>5.703,00</td>\n      <td>-2.699.011.814</td>\n      <td>-4.863.716.523</td>\n      <td>CPF</td>\n      <td>Balneário Camboriú</td>\n      <td>Santa Catarina</td>\n      <td>street_address</td>\n      <td>1978.0</td>\n      <td>1.0</td>\n      <td>28.0</td>\n      <td>0.0</td>\n    </tr>\n    <tr>\n      <th>2</th>\n      <td>2d729b8a-d53c-48e7-8bf5-33b021980c04</td>\n      <td>1954-12-09</td>\n      <td>DE R$ 3.800,00 A R$ 7.600,00</td>\n      <td>3.901,00</td>\n      <td>-5.053.671.016</td>\n      <td>-4.281.315.203</td>\n      <td>CPF</td>\n      <td>Teresina</td>\n      <td>Piauí</td>\n      <td>street_address</td>\n      <td>1954.0</td>\n      <td>12.0</td>\n      <td>9.0</td>\n      <td>0.0</td>\n    </tr>\n    <tr>\n      <th>3</th>\n      <td>62c0f1e6-36f2-4205-a134-232a58a6f8a5</td>\n      <td>1975-08-28</td>\n      <td>DE R$ 788,00 A R$ 1.140,00</td>\n      <td>1.086,00</td>\n      <td>-15.059.042</td>\n      <td>-48.163.372</td>\n      <td>CNPJ</td>\n      <td>Mimoso de Goiás</td>\n      <td>Goiás</td>\n      <td>establishment</td>\n      <td>1975.0</td>\n      <td>8.0</td>\n      <td>28.0</td>\n      <td>0.0</td>\n    </tr>\n    <tr>\n      <th>4</th>\n      <td>0cef9719-0aa3-49a2-adea-9c09c04de071</td>\n      <td>1957-06-17</td>\n      <td>DE R$ 788,00 A R$ 1.140,00</td>\n      <td>836</td>\n      <td>-17.694.658</td>\n      <td>-4.252.228</td>\n      <td>CPF</td>\n      <td>Capelinha</td>\n      <td>Minas Gerais</td>\n      <td>street_address</td>\n      <td>1957.0</td>\n      <td>6.0</td>\n      <td>17.0</td>\n      <td>0.0</td>\n    </tr>\n    <tr>\n      <th>...</th>\n      <td>...</td>\n      <td>...</td>\n      <td>...</td>\n      <td>...</td>\n      <td>...</td>\n      <td>...</td>\n      <td>...</td>\n      <td>...</td>\n      <td>...</td>\n      <td>...</td>\n      <td>...</td>\n      <td>...</td>\n      <td>...</td>\n      <td>...</td>\n    </tr>\n    <tr>\n      <th>9995</th>\n      <td>f2261fce-83c5-4f64-b145-85f46bcf18b1</td>\n      <td>1979-10-08</td>\n      <td>DE R$ 1.900,00 A R$ 3.800,00</td>\n      <td>2.776,00</td>\n      <td>-1.160.937.194</td>\n      <td>-4.704.750.645</td>\n      <td>CPF</td>\n      <td>Porto Alegre do Tocantins</td>\n      <td>Tocantins</td>\n      <td>route</td>\n      <td>1979.0</td>\n      <td>10.0</td>\n      <td>8.0</td>\n      <td>0.0</td>\n    </tr>\n    <tr>\n      <th>9996</th>\n      <td>bdaa7802-4650-44a4-93f7-952b72ec17a0</td>\n      <td>1980-04-30</td>\n      <td>DE R$ 3.800,00 A R$ 7.600,00</td>\n      <td>4.099,00</td>\n      <td>-1.565.049.668</td>\n      <td>-4.779.332.059</td>\n      <td>CPF</td>\n      <td>Brasília</td>\n      <td>Distrito Federal</td>\n      <td>street_address</td>\n      <td>1980.0</td>\n      <td>4.0</td>\n      <td>30.0</td>\n      <td>0.0</td>\n    </tr>\n    <tr>\n      <th>9997</th>\n      <td>e7b37cd5-714a-44d8-ad7f-4ed3aa6b0695</td>\n      <td>1976-05-26</td>\n      <td>DE R$ 788,00 A R$ 1.140,00</td>\n      <td>1.052,00</td>\n      <td>-8.330.678.649</td>\n      <td>-3.613.689.703</td>\n      <td>CPF</td>\n      <td>São Caetano</td>\n      <td>Pernambuco</td>\n      <td>street_address</td>\n      <td>1976.0</td>\n      <td>5.0</td>\n      <td>26.0</td>\n      <td>0.0</td>\n    </tr>\n    <tr>\n      <th>9998</th>\n      <td>167dbd7f-7ccd-4aad-a6b9-c3fb9d56c9cd</td>\n      <td>1985-11-06</td>\n      <td>DE R$ 788,00 A R$ 1.140,00</td>\n      <td>958</td>\n      <td>NaN</td>\n      <td>NaN</td>\n      <td>CNPJ</td>\n      <td>NaN</td>\n      <td>NaN</td>\n      <td>NaN</td>\n      <td>1985.0</td>\n      <td>11.0</td>\n      <td>6.0</td>\n      <td>0.0</td>\n    </tr>\n    <tr>\n      <th>9999</th>\n      <td>d4f11ca2-71b1-4e12-aba6-bd8530ca2691</td>\n      <td>1981-03-09</td>\n      <td>DE R$ 3.800,00 A R$ 7.600,00</td>\n      <td>5.954,00</td>\n      <td>-15.787.504</td>\n      <td>-48.139.096</td>\n      <td>CPF</td>\n      <td>Brasília</td>\n      <td>Distrito Federal</td>\n      <td>premise</td>\n      <td>1981.0</td>\n      <td>3.0</td>\n      <td>9.0</td>\n      <td>0.0</td>\n    </tr>\n  </tbody>\n</table>\n<p>10000 rows × 14 columns</p>\n</div>"
     },
     "metadata": {},
     "execution_count": 64
    }
   ],
   "source": [
    "# Seprando anos, mes e dia em colunas\n",
    "df_spc['DATA_NASCIMENTO'] = pd.to_datetime(df_spc['DATA_NASCIMENTO'])\n",
    "df_spc['ANO'], df_spc['MES'], df_spc['DIA'], df_spc['HORA']  = df_spc['DATA_NASCIMENTO'].apply(lambda x: x.year), df_spc['DATA_NASCIMENTO'].apply(lambda x: x.month), df_spc['DATA_NASCIMENTO'].apply(lambda x: x.day), df_spc['DATA_NASCIMENTO'].apply(lambda x: x.hour) \n",
    "df_spc"
   ]
  },
  {
   "cell_type": "code",
   "execution_count": 66,
   "metadata": {},
   "outputs": [
    {
     "output_type": "execute_result",
     "data": {
      "text/plain": [
       "dtype('float64')"
      ]
     },
     "metadata": {},
     "execution_count": 66
    }
   ],
   "source": [
    "# Calculando a idade\n",
    "df_spc['IDADE']  = df_spc['ANO'].apply(lambda x: 2021 - x)\n",
    "df_spc.IDADE.dtypes"
   ]
  },
  {
   "cell_type": "code",
   "execution_count": 72,
   "metadata": {},
   "outputs": [
    {
     "output_type": "execute_result",
     "data": {
      "text/plain": [
       "count    9936.000000\n",
       "mean       52.988023\n",
       "std        15.123420\n",
       "min        20.000000\n",
       "25%        43.000000\n",
       "50%        48.000000\n",
       "75%        60.000000\n",
       "max       121.000000\n",
       "Name: IDADE, dtype: float64"
      ]
     },
     "metadata": {},
     "execution_count": 72
    }
   ],
   "source": [
    "df_spc.IDADE.describe()"
   ]
  },
  {
   "cell_type": "code",
   "execution_count": 73,
   "metadata": {},
   "outputs": [
    {
     "output_type": "execute_result",
     "data": {
      "text/plain": [
       "                                ID_USUARIO DATA_NASCIMENTO  \\\n",
       "0     d6c0cc1d-eb61-486a-b5c3-50725ef44d61      1981-01-30   \n",
       "1     da0067e7-aa6b-4355-b373-ca17f6ac3b44      1978-01-28   \n",
       "2     2d729b8a-d53c-48e7-8bf5-33b021980c04      1954-12-09   \n",
       "3     62c0f1e6-36f2-4205-a134-232a58a6f8a5      1975-08-28   \n",
       "4     0cef9719-0aa3-49a2-adea-9c09c04de071      1957-06-17   \n",
       "...                                    ...             ...   \n",
       "9995  f2261fce-83c5-4f64-b145-85f46bcf18b1      1979-10-08   \n",
       "9996  bdaa7802-4650-44a4-93f7-952b72ec17a0      1980-04-30   \n",
       "9997  e7b37cd5-714a-44d8-ad7f-4ed3aa6b0695      1976-05-26   \n",
       "9998  167dbd7f-7ccd-4aad-a6b9-c3fb9d56c9cd      1985-11-06   \n",
       "9999  d4f11ca2-71b1-4e12-aba6-bd8530ca2691      1981-03-09   \n",
       "\n",
       "                             RENDA RENDA_FIXA        LATITUDE       LONGITUDE  \\\n",
       "0     DE R$ 1.900,00 A R$ 3.800,00   3.104,00        -484.758      -3.778.439   \n",
       "1     DE R$ 3.800,00 A R$ 7.600,00   5.703,00  -2.699.011.814  -4.863.716.523   \n",
       "2     DE R$ 3.800,00 A R$ 7.600,00   3.901,00  -5.053.671.016  -4.281.315.203   \n",
       "3       DE R$ 788,00 A R$ 1.140,00   1.086,00     -15.059.042     -48.163.372   \n",
       "4       DE R$ 788,00 A R$ 1.140,00        836     -17.694.658      -4.252.228   \n",
       "...                            ...        ...             ...             ...   \n",
       "9995  DE R$ 1.900,00 A R$ 3.800,00   2.776,00  -1.160.937.194  -4.704.750.645   \n",
       "9996  DE R$ 3.800,00 A R$ 7.600,00   4.099,00  -1.565.049.668  -4.779.332.059   \n",
       "9997    DE R$ 788,00 A R$ 1.140,00   1.052,00  -8.330.678.649  -3.613.689.703   \n",
       "9998    DE R$ 788,00 A R$ 1.140,00        958             NaN             NaN   \n",
       "9999  DE R$ 3.800,00 A R$ 7.600,00   5.954,00     -15.787.504     -48.139.096   \n",
       "\n",
       "     TIPO_PESSOA                     CIDADE            ESTADO      LOGRADOURO  \\\n",
       "0            CPF                 Jaguaruana             Ceará  street_address   \n",
       "1            CPF         Balneário Camboriú    Santa Catarina  street_address   \n",
       "2            CPF                   Teresina             Piauí  street_address   \n",
       "3           CNPJ            Mimoso de Goiás             Goiás   establishment   \n",
       "4            CPF                  Capelinha      Minas Gerais  street_address   \n",
       "...          ...                        ...               ...             ...   \n",
       "9995         CPF  Porto Alegre do Tocantins         Tocantins           route   \n",
       "9996         CPF                   Brasília  Distrito Federal  street_address   \n",
       "9997         CPF                São Caetano        Pernambuco  street_address   \n",
       "9998        CNPJ                        NaN               NaN             NaN   \n",
       "9999         CPF                   Brasília  Distrito Federal         premise   \n",
       "\n",
       "         ANO   MES   DIA  HORA  IDADE  FAIXA ETARIA  \n",
       "0     1981.0   1.0  30.0   0.0   40.0  30 a 40 anos  \n",
       "1     1978.0   1.0  28.0   0.0   43.0  40 a 50 anos  \n",
       "2     1954.0  12.0   9.0   0.0   67.0  60 a 70 anos  \n",
       "3     1975.0   8.0  28.0   0.0   46.0  40 a 50 anos  \n",
       "4     1957.0   6.0  17.0   0.0   64.0  60 a 70 anos  \n",
       "...      ...   ...   ...   ...    ...           ...  \n",
       "9995  1979.0  10.0   8.0   0.0   42.0  40 a 50 anos  \n",
       "9996  1980.0   4.0  30.0   0.0   41.0  40 a 50 anos  \n",
       "9997  1976.0   5.0  26.0   0.0   45.0  40 a 50 anos  \n",
       "9998  1985.0  11.0   6.0   0.0   36.0  30 a 40 anos  \n",
       "9999  1981.0   3.0   9.0   0.0   40.0  30 a 40 anos  \n",
       "\n",
       "[10000 rows x 16 columns]"
      ],
      "text/html": "<div>\n<style scoped>\n    .dataframe tbody tr th:only-of-type {\n        vertical-align: middle;\n    }\n\n    .dataframe tbody tr th {\n        vertical-align: top;\n    }\n\n    .dataframe thead th {\n        text-align: right;\n    }\n</style>\n<table border=\"1\" class=\"dataframe\">\n  <thead>\n    <tr style=\"text-align: right;\">\n      <th></th>\n      <th>ID_USUARIO</th>\n      <th>DATA_NASCIMENTO</th>\n      <th>RENDA</th>\n      <th>RENDA_FIXA</th>\n      <th>LATITUDE</th>\n      <th>LONGITUDE</th>\n      <th>TIPO_PESSOA</th>\n      <th>CIDADE</th>\n      <th>ESTADO</th>\n      <th>LOGRADOURO</th>\n      <th>ANO</th>\n      <th>MES</th>\n      <th>DIA</th>\n      <th>HORA</th>\n      <th>IDADE</th>\n      <th>FAIXA ETARIA</th>\n    </tr>\n  </thead>\n  <tbody>\n    <tr>\n      <th>0</th>\n      <td>d6c0cc1d-eb61-486a-b5c3-50725ef44d61</td>\n      <td>1981-01-30</td>\n      <td>DE R$ 1.900,00 A R$ 3.800,00</td>\n      <td>3.104,00</td>\n      <td>-484.758</td>\n      <td>-3.778.439</td>\n      <td>CPF</td>\n      <td>Jaguaruana</td>\n      <td>Ceará</td>\n      <td>street_address</td>\n      <td>1981.0</td>\n      <td>1.0</td>\n      <td>30.0</td>\n      <td>0.0</td>\n      <td>40.0</td>\n      <td>30 a 40 anos</td>\n    </tr>\n    <tr>\n      <th>1</th>\n      <td>da0067e7-aa6b-4355-b373-ca17f6ac3b44</td>\n      <td>1978-01-28</td>\n      <td>DE R$ 3.800,00 A R$ 7.600,00</td>\n      <td>5.703,00</td>\n      <td>-2.699.011.814</td>\n      <td>-4.863.716.523</td>\n      <td>CPF</td>\n      <td>Balneário Camboriú</td>\n      <td>Santa Catarina</td>\n      <td>street_address</td>\n      <td>1978.0</td>\n      <td>1.0</td>\n      <td>28.0</td>\n      <td>0.0</td>\n      <td>43.0</td>\n      <td>40 a 50 anos</td>\n    </tr>\n    <tr>\n      <th>2</th>\n      <td>2d729b8a-d53c-48e7-8bf5-33b021980c04</td>\n      <td>1954-12-09</td>\n      <td>DE R$ 3.800,00 A R$ 7.600,00</td>\n      <td>3.901,00</td>\n      <td>-5.053.671.016</td>\n      <td>-4.281.315.203</td>\n      <td>CPF</td>\n      <td>Teresina</td>\n      <td>Piauí</td>\n      <td>street_address</td>\n      <td>1954.0</td>\n      <td>12.0</td>\n      <td>9.0</td>\n      <td>0.0</td>\n      <td>67.0</td>\n      <td>60 a 70 anos</td>\n    </tr>\n    <tr>\n      <th>3</th>\n      <td>62c0f1e6-36f2-4205-a134-232a58a6f8a5</td>\n      <td>1975-08-28</td>\n      <td>DE R$ 788,00 A R$ 1.140,00</td>\n      <td>1.086,00</td>\n      <td>-15.059.042</td>\n      <td>-48.163.372</td>\n      <td>CNPJ</td>\n      <td>Mimoso de Goiás</td>\n      <td>Goiás</td>\n      <td>establishment</td>\n      <td>1975.0</td>\n      <td>8.0</td>\n      <td>28.0</td>\n      <td>0.0</td>\n      <td>46.0</td>\n      <td>40 a 50 anos</td>\n    </tr>\n    <tr>\n      <th>4</th>\n      <td>0cef9719-0aa3-49a2-adea-9c09c04de071</td>\n      <td>1957-06-17</td>\n      <td>DE R$ 788,00 A R$ 1.140,00</td>\n      <td>836</td>\n      <td>-17.694.658</td>\n      <td>-4.252.228</td>\n      <td>CPF</td>\n      <td>Capelinha</td>\n      <td>Minas Gerais</td>\n      <td>street_address</td>\n      <td>1957.0</td>\n      <td>6.0</td>\n      <td>17.0</td>\n      <td>0.0</td>\n      <td>64.0</td>\n      <td>60 a 70 anos</td>\n    </tr>\n    <tr>\n      <th>...</th>\n      <td>...</td>\n      <td>...</td>\n      <td>...</td>\n      <td>...</td>\n      <td>...</td>\n      <td>...</td>\n      <td>...</td>\n      <td>...</td>\n      <td>...</td>\n      <td>...</td>\n      <td>...</td>\n      <td>...</td>\n      <td>...</td>\n      <td>...</td>\n      <td>...</td>\n      <td>...</td>\n    </tr>\n    <tr>\n      <th>9995</th>\n      <td>f2261fce-83c5-4f64-b145-85f46bcf18b1</td>\n      <td>1979-10-08</td>\n      <td>DE R$ 1.900,00 A R$ 3.800,00</td>\n      <td>2.776,00</td>\n      <td>-1.160.937.194</td>\n      <td>-4.704.750.645</td>\n      <td>CPF</td>\n      <td>Porto Alegre do Tocantins</td>\n      <td>Tocantins</td>\n      <td>route</td>\n      <td>1979.0</td>\n      <td>10.0</td>\n      <td>8.0</td>\n      <td>0.0</td>\n      <td>42.0</td>\n      <td>40 a 50 anos</td>\n    </tr>\n    <tr>\n      <th>9996</th>\n      <td>bdaa7802-4650-44a4-93f7-952b72ec17a0</td>\n      <td>1980-04-30</td>\n      <td>DE R$ 3.800,00 A R$ 7.600,00</td>\n      <td>4.099,00</td>\n      <td>-1.565.049.668</td>\n      <td>-4.779.332.059</td>\n      <td>CPF</td>\n      <td>Brasília</td>\n      <td>Distrito Federal</td>\n      <td>street_address</td>\n      <td>1980.0</td>\n      <td>4.0</td>\n      <td>30.0</td>\n      <td>0.0</td>\n      <td>41.0</td>\n      <td>40 a 50 anos</td>\n    </tr>\n    <tr>\n      <th>9997</th>\n      <td>e7b37cd5-714a-44d8-ad7f-4ed3aa6b0695</td>\n      <td>1976-05-26</td>\n      <td>DE R$ 788,00 A R$ 1.140,00</td>\n      <td>1.052,00</td>\n      <td>-8.330.678.649</td>\n      <td>-3.613.689.703</td>\n      <td>CPF</td>\n      <td>São Caetano</td>\n      <td>Pernambuco</td>\n      <td>street_address</td>\n      <td>1976.0</td>\n      <td>5.0</td>\n      <td>26.0</td>\n      <td>0.0</td>\n      <td>45.0</td>\n      <td>40 a 50 anos</td>\n    </tr>\n    <tr>\n      <th>9998</th>\n      <td>167dbd7f-7ccd-4aad-a6b9-c3fb9d56c9cd</td>\n      <td>1985-11-06</td>\n      <td>DE R$ 788,00 A R$ 1.140,00</td>\n      <td>958</td>\n      <td>NaN</td>\n      <td>NaN</td>\n      <td>CNPJ</td>\n      <td>NaN</td>\n      <td>NaN</td>\n      <td>NaN</td>\n      <td>1985.0</td>\n      <td>11.0</td>\n      <td>6.0</td>\n      <td>0.0</td>\n      <td>36.0</td>\n      <td>30 a 40 anos</td>\n    </tr>\n    <tr>\n      <th>9999</th>\n      <td>d4f11ca2-71b1-4e12-aba6-bd8530ca2691</td>\n      <td>1981-03-09</td>\n      <td>DE R$ 3.800,00 A R$ 7.600,00</td>\n      <td>5.954,00</td>\n      <td>-15.787.504</td>\n      <td>-48.139.096</td>\n      <td>CPF</td>\n      <td>Brasília</td>\n      <td>Distrito Federal</td>\n      <td>premise</td>\n      <td>1981.0</td>\n      <td>3.0</td>\n      <td>9.0</td>\n      <td>0.0</td>\n      <td>40.0</td>\n      <td>30 a 40 anos</td>\n    </tr>\n  </tbody>\n</table>\n<p>10000 rows × 16 columns</p>\n</div>"
     },
     "metadata": {},
     "execution_count": 73
    }
   ],
   "source": [
    "# Agrupando Faixa Etaria\n",
    "df_spc['FAIXA ETARIA'] = pd.cut(df_spc['IDADE'],\n",
    "        bins = (20, 30, 40, 50, 60, 70, 80),\n",
    "        labels = ('20 a 30 anos', '30 a 40 anos', '40 a 50 anos', '50 a 60 anos', '60 a 70 anos', '80 mais'))\n",
    "df_spc"
   ]
  },
  {
   "cell_type": "code",
   "execution_count": 74,
   "metadata": {},
   "outputs": [],
   "source": [
    "#Agrupamento por tipo de pessoas\n",
    "df_CPF= df_spc[df_spc['TIPO_PESSOA'] == 'CPF']\n",
    "df_CNPJ= df_spc[df_spc['TIPO_PESSOA'] == 'CNPJ']"
   ]
  },
  {
   "cell_type": "code",
   "execution_count": 80,
   "metadata": {},
   "outputs": [
    {
     "output_type": "execute_result",
     "data": {
      "text/plain": [
       "count     8337\n",
       "unique       1\n",
       "top        CPF\n",
       "freq      8337\n",
       "Name: TIPO_PESSOA, dtype: object"
      ]
     },
     "metadata": {},
     "execution_count": 80
    }
   ],
   "source": [
    "df_CPF.TIPO_PESSOA.describe()"
   ]
  },
  {
   "cell_type": "code",
   "execution_count": 79,
   "metadata": {},
   "outputs": [
    {
     "output_type": "execute_result",
     "data": {
      "text/plain": [
       "count     1663\n",
       "unique       1\n",
       "top       CNPJ\n",
       "freq      1663\n",
       "Name: TIPO_PESSOA, dtype: object"
      ]
     },
     "metadata": {},
     "execution_count": 79
    }
   ],
   "source": [
    "df_CNPJ.TIPO_PESSOA.describe()"
   ]
  },
  {
   "cell_type": "code",
   "execution_count": 81,
   "metadata": {},
   "outputs": [
    {
     "output_type": "execute_result",
     "data": {
      "text/plain": [
       "RENDA\n",
       "DE R$ 1.900,00 A R$ 3.800,00    4039\n",
       "DE R$ 3.800,00 A R$ 7.600,00    1660\n",
       "DE R$ 788,00 A R$ 1.140,00      2575\n",
       "MAIOR QUE R$ 7.600,00             63\n",
       "Name: ID_USUARIO, dtype: int64"
      ]
     },
     "metadata": {},
     "execution_count": 81
    }
   ],
   "source": [
    "#Agrupamento por Renda de pessoa fisica\n",
    "group_CPF = df_CPF.groupby(['RENDA'])['ID_USUARIO'].count()\n",
    "group_CPF"
   ]
  },
  {
   "cell_type": "code",
   "execution_count": 82,
   "metadata": {},
   "outputs": [
    {
     "output_type": "execute_result",
     "data": {
      "text/plain": [
       "RENDA\n",
       "DE R$ 1.900,00 A R$ 3.800,00    723\n",
       "DE R$ 3.800,00 A R$ 7.600,00    302\n",
       "DE R$ 788,00 A R$ 1.140,00      622\n",
       "MAIOR QUE R$ 7.600,00            16\n",
       "Name: ID_USUARIO, dtype: int64"
      ]
     },
     "metadata": {},
     "execution_count": 82
    }
   ],
   "source": [
    "#Agrupamento por Renda de pessoa juridica\n",
    "group_CNPJ = df_CNPJ.groupby(['RENDA'])['ID_USUARIO'].count()\n",
    "group_CNPJ"
   ]
  },
  {
   "cell_type": "code",
   "execution_count": 38,
   "metadata": {},
   "outputs": [],
   "source": [
    "from sklearn.preprocessing import LabelEncoder, MinMaxScaler"
   ]
  },
  {
   "cell_type": "code",
   "execution_count": 39,
   "metadata": {},
   "outputs": [
    {
     "output_type": "execute_result",
     "data": {
      "text/plain": [
       "array([0, 1, 2, 3])"
      ]
     },
     "metadata": {},
     "execution_count": 39
    }
   ],
   "source": [
    "state_encoder = LabelEncoder()\n",
    "state_encoder.fit(df_spc['RENDA'].unique())\n",
    "df_spc['RENDA'] = state_encoder.transform(df_spc['RENDA'])\n",
    "df_spc['RENDA'].unique()"
   ]
  },
  {
   "cell_type": "code",
   "execution_count": 40,
   "metadata": {},
   "outputs": [
    {
     "output_type": "execute_result",
     "data": {
      "text/plain": [
       "array([ 993,  160, 1996, ..., 2017, 1851, 1551])"
      ]
     },
     "metadata": {},
     "execution_count": 40
    }
   ],
   "source": [
    "state_encoder = LabelEncoder()\n",
    "state_encoder.fit(df_spc['CIDADE'].unique())\n",
    "df_spc['CIDADE'] = state_encoder.transform(df_spc['CIDADE'])\n",
    "df_spc['CIDADE'].unique()"
   ]
  },
  {
   "cell_type": "code",
   "execution_count": 41,
   "metadata": {},
   "outputs": [
    {
     "output_type": "execute_result",
     "data": {
      "text/plain": [
       "array([ 5, 23, 17,  8, 12,  9, 29,  4, 16, 19, 15, 28, 20, 13, 30, 10, 11,\n",
       "       14,  1,  3, 21, 22,  0,  6,  7, 24, 18,  2, 26, 27, 25])"
      ]
     },
     "metadata": {},
     "execution_count": 41
    }
   ],
   "source": [
    "state_encoder = LabelEncoder()\n",
    "state_encoder.fit(df_spc['ESTADO'].unique())\n",
    "df_spc['ESTADO'] = state_encoder.transform(df_spc['ESTADO'])\n",
    "df_spc['ESTADO'].unique()"
   ]
  },
  {
   "cell_type": "code",
   "execution_count": null,
   "metadata": {},
   "outputs": [],
   "source": [
    "state_encoder = LabelEncoder()\n",
    "state_encoder.fit(df_spc['TIPO_PESSOA'].unique())\n",
    "df_spc['TIPO_PESSOA'] = state_encoder.transform(df_spc['TIPO_PESSOA'])\n",
    "df_spc['TIPO_PESSOA'].unique()"
   ]
  },
  {
   "cell_type": "code",
   "execution_count": 42,
   "metadata": {},
   "outputs": [
    {
     "output_type": "execute_result",
     "data": {
      "text/plain": [
       "(10000, 3)"
      ]
     },
     "metadata": {},
     "execution_count": 42
    }
   ],
   "source": [
    "X = df_spc[['RENDA', 'CIDADE', 'ESTADO']]\n",
    "X.shape"
   ]
  },
  {
   "cell_type": "code",
   "execution_count": 53,
   "metadata": {},
   "outputs": [],
   "source": [
    "# Y = f(X)\n",
    "Y = df_spc['TIPO_PESSOA']"
   ]
  },
  {
   "cell_type": "code",
   "execution_count": 47,
   "metadata": {},
   "outputs": [],
   "source": [
    "from sklearn.model_selection import train_test_split"
   ]
  },
  {
   "cell_type": "code",
   "execution_count": 48,
   "metadata": {},
   "outputs": [],
   "source": [
    "x_train, x_test, y_train, y_test = train_test_split(X, Y, test_size=0.33, random_state=42)"
   ]
  },
  {
   "cell_type": "code",
   "execution_count": 49,
   "metadata": {},
   "outputs": [
    {
     "output_type": "execute_result",
     "data": {
      "text/plain": [
       "(6700, 3)"
      ]
     },
     "metadata": {},
     "execution_count": 49
    }
   ],
   "source": [
    "x_train.shape"
   ]
  },
  {
   "cell_type": "code",
   "execution_count": 50,
   "metadata": {},
   "outputs": [
    {
     "output_type": "execute_result",
     "data": {
      "text/plain": [
       "(3300, 3)"
      ]
     },
     "metadata": {},
     "execution_count": 50
    }
   ],
   "source": [
    "x_test.shape"
   ]
  },
  {
   "cell_type": "code",
   "execution_count": 51,
   "metadata": {},
   "outputs": [
    {
     "output_type": "execute_result",
     "data": {
      "text/plain": [
       "(6700,)"
      ]
     },
     "metadata": {},
     "execution_count": 51
    }
   ],
   "source": [
    "y_train.shape"
   ]
  },
  {
   "cell_type": "code",
   "execution_count": 52,
   "metadata": {},
   "outputs": [
    {
     "output_type": "execute_result",
     "data": {
      "text/plain": [
       "(3300,)"
      ]
     },
     "metadata": {},
     "execution_count": 52
    }
   ],
   "source": [
    "y_test.shape"
   ]
  },
  {
   "cell_type": "code",
   "execution_count": 58,
   "metadata": {},
   "outputs": [],
   "source": [
    "from sklearn.cluster import KMeans\n",
    "from sklearn.neighbors import KNeighborsClassifier"
   ]
  },
  {
   "cell_type": "code",
   "execution_count": 55,
   "metadata": {},
   "outputs": [
    {
     "output_type": "execute_result",
     "data": {
      "text/plain": [
       "array(['CNPJ', 'CPF'], dtype=object)"
      ]
     },
     "metadata": {},
     "execution_count": 55
    }
   ],
   "source": [
    "np.unique(y_test)"
   ]
  },
  {
   "cell_type": "code",
   "execution_count": 56,
   "metadata": {},
   "outputs": [],
   "source": [
    "kmeans = KMeans(n_clusters=2, random_state=0)\n",
    "yk_train = kmeans.fit_predict(x_train)\n",
    "yk_test = kmeans.predict(x_test)"
   ]
  },
  {
   "cell_type": "code",
   "execution_count": 57,
   "metadata": {},
   "outputs": [
    {
     "output_type": "execute_result",
     "data": {
      "text/plain": [
       "-313692689.17850286"
      ]
     },
     "metadata": {},
     "execution_count": 57
    }
   ],
   "source": [
    "kmeans.score(x_test, yk_test)"
   ]
  },
  {
   "cell_type": "code",
   "execution_count": 59,
   "metadata": {},
   "outputs": [
    {
     "output_type": "execute_result",
     "data": {
      "text/plain": [
       "KNeighborsClassifier(n_neighbors=3)"
      ]
     },
     "metadata": {},
     "execution_count": 59
    }
   ],
   "source": [
    "model = KNeighborsClassifier(n_neighbors=3)\n",
    "model.fit(x_train,yk_train)"
   ]
  },
  {
   "cell_type": "code",
   "execution_count": 60,
   "metadata": {},
   "outputs": [
    {
     "output_type": "execute_result",
     "data": {
      "text/plain": [
       "KNeighborsClassifier(n_neighbors=3)"
      ]
     },
     "metadata": {},
     "execution_count": 60
    }
   ],
   "source": [
    "KNeighborsClassifier(algorithm='auto', leaf_size=30, metric='minkowski',\n",
    "                     metric_params=None, n_jobs=None, n_neighbors=3, p=2,\n",
    "                     weights='uniform')"
   ]
  },
  {
   "cell_type": "code",
   "execution_count": 61,
   "metadata": {},
   "outputs": [
    {
     "output_type": "execute_result",
     "data": {
      "text/plain": [
       "0.9996969696969698"
      ]
     },
     "metadata": {},
     "execution_count": 61
    }
   ],
   "source": [
    "model.score(x_test, yk_test)"
   ]
  },
  {
   "cell_type": "code",
   "execution_count": null,
   "metadata": {},
   "outputs": [],
   "source": []
  }
 ],
 "metadata": {
  "kernelspec": {
   "name": "python391jvsc74a57bd0ac59ebe37160ed0dfa835113d9b8498d9f09ceb179beaac4002f036b9467c963",
   "display_name": "Python 3.9.1 64-bit"
  },
  "language_info": {
   "codemirror_mode": {
    "name": "ipython",
    "version": 3
   },
   "file_extension": ".py",
   "mimetype": "text/x-python",
   "name": "python",
   "nbconvert_exporter": "python",
   "pygments_lexer": "ipython3",
   "version": "3.9.1"
  },
  "metadata": {
   "interpreter": {
    "hash": "ac59ebe37160ed0dfa835113d9b8498d9f09ceb179beaac4002f036b9467c963"
   }
  }
 },
 "nbformat": 4,
 "nbformat_minor": 5
}