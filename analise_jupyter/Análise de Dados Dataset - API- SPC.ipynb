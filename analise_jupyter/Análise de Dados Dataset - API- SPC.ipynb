{
 "cells": [
  {
   "cell_type": "code",
   "execution_count": 1,
   "id": "amazing-metadata",
   "metadata": {},
   "outputs": [],
   "source": [
    "# Importando os módulos:\n",
    "import pandas as pd\n",
    "import folium\n",
    "from folium import plugins, Map\n",
    "import matplotlib.pyplot as plt\n",
    "import collections\n",
    "import datetime\n",
    "import numpy as np\n",
    "from API_google import reverse_geocode"
   ]
  },
  {
   "cell_type": "code",
   "execution_count": 2,
   "id": "alleged-farming",
   "metadata": {},
   "outputs": [],
   "source": [
    "# Leitura do arquivo base\n",
    "df = pd.read_csv(r\"dataset_v01.csv\", delimiter=\";\")\n",
    "df = df.rename(columns={'id': 'ID_USUARIO', 'dat_nsc': 'DATA_NASCIMENTO', 'renda': 'RENDA', 'renda_SPEC': 'RENDA_FIXA', 'latitude': 'LATITUDE', 'longitude': 'LONGITUDE', 'tipo_pessoa': 'TIPO_PESSOA'})\n",
    "\n",
    "# Criando novas colunas CIDADE, ESTADO e LOGRADOURO\n",
    "df['CIDADE'] = 'NaN'\n",
    "df['ESTADO'] = 'NaN'\n",
    "df['LOGRADOURO'] = 'NaN'\n",
    "\n",
    "# Formatação das coordenadas, trocado as virgulas por ponto e removendo registros sem coordenadas\n",
    "df['LATITUDE'] = df['LATITUDE'].str.replace(',','.')\n",
    "df['LONGITUDE'] = df['LONGITUDE'].str.replace(',','.')\n",
    "#df.dropna(subset=['LATITUDE'], inplace=True)"
   ]
  },
  {
   "cell_type": "code",
   "execution_count": 3,
   "metadata": {},
   "outputs": [],
   "source": [
    "# Utilização da API Google Maps para inserção dos dados regionais, \"CIDADE\" e \"ESTADO\"\n",
    "for index, row in df.iterrows():\n",
    "    try:\n",
    "        result = reverse_geocode(row['LATITUDE'], row['LONGITUDE'])\n",
    "        df.loc[index,'CIDADE'] = result[0]\n",
    "        df.loc[index,'ESTADO'] = result[1]\n",
    "        df.loc[index,'LOGRADOURO'] = result[2]\n",
    "        df.loc[index,'TIPO_PESSOA'] = result[3]\n",
    "    except:\n",
    "        pass"
   ]
  },
  {
   "cell_type": "code",
   "execution_count": 9,
   "metadata": {},
   "outputs": [
    {
     "output_type": "execute_result",
     "data": {
      "text/plain": [
       "                             ID_USUARIO   DATA_NASCIMENTO  \\\n",
       "0  d6c0cc1d-eb61-486a-b5c3-50725ef44d61  30/01/1981 00:00   \n",
       "1  da0067e7-aa6b-4355-b373-ca17f6ac3b44  28/01/1978 00:00   \n",
       "2  2d729b8a-d53c-48e7-8bf5-33b021980c04  09/12/1954 00:00   \n",
       "3  62c0f1e6-36f2-4205-a134-232a58a6f8a5  28/08/1975 00:00   \n",
       "4  0cef9719-0aa3-49a2-adea-9c09c04de071  17/06/1957 00:00   \n",
       "\n",
       "                          RENDA RENDA_FIXA      LATITUDE     LONGITUDE  \\\n",
       "0  DE R$ 1.900,00 A R$ 3.800,00   3.104,00      -4.84758     -37.78439   \n",
       "1  DE R$ 3.800,00 A R$ 7.600,00   5.703,00  -26.99011814  -48.63716523   \n",
       "2  DE R$ 3.800,00 A R$ 7.600,00   3.901,00  -5.053671016  -42.81315203   \n",
       "3    DE R$ 788,00 A R$ 1.140,00   1.086,00    -15.059042    -48.163372   \n",
       "4    DE R$ 788,00 A R$ 1.140,00        836    -17.694658     -42.52228   \n",
       "\n",
       "  TIPO_PESSOA              CIDADE          ESTADO      LOGRADOURO  \n",
       "0         CPF          Jaguaruana           Ceará  street_address  \n",
       "1         CPF  Balneário Camboriú  Santa Catarina  street_address  \n",
       "2         CPF            Teresina           Piauí  street_address  \n",
       "3        CNPJ     Mimoso de Goiás           Goiás   establishment  \n",
       "4         CPF           Capelinha    Minas Gerais  street_address  "
      ],
      "text/html": "<div>\n<style scoped>\n    .dataframe tbody tr th:only-of-type {\n        vertical-align: middle;\n    }\n\n    .dataframe tbody tr th {\n        vertical-align: top;\n    }\n\n    .dataframe thead th {\n        text-align: right;\n    }\n</style>\n<table border=\"1\" class=\"dataframe\">\n  <thead>\n    <tr style=\"text-align: right;\">\n      <th></th>\n      <th>ID_USUARIO</th>\n      <th>DATA_NASCIMENTO</th>\n      <th>RENDA</th>\n      <th>RENDA_FIXA</th>\n      <th>LATITUDE</th>\n      <th>LONGITUDE</th>\n      <th>TIPO_PESSOA</th>\n      <th>CIDADE</th>\n      <th>ESTADO</th>\n      <th>LOGRADOURO</th>\n    </tr>\n  </thead>\n  <tbody>\n    <tr>\n      <th>0</th>\n      <td>d6c0cc1d-eb61-486a-b5c3-50725ef44d61</td>\n      <td>30/01/1981 00:00</td>\n      <td>DE R$ 1.900,00 A R$ 3.800,00</td>\n      <td>3.104,00</td>\n      <td>-4.84758</td>\n      <td>-37.78439</td>\n      <td>CPF</td>\n      <td>Jaguaruana</td>\n      <td>Ceará</td>\n      <td>street_address</td>\n    </tr>\n    <tr>\n      <th>1</th>\n      <td>da0067e7-aa6b-4355-b373-ca17f6ac3b44</td>\n      <td>28/01/1978 00:00</td>\n      <td>DE R$ 3.800,00 A R$ 7.600,00</td>\n      <td>5.703,00</td>\n      <td>-26.99011814</td>\n      <td>-48.63716523</td>\n      <td>CPF</td>\n      <td>Balneário Camboriú</td>\n      <td>Santa Catarina</td>\n      <td>street_address</td>\n    </tr>\n    <tr>\n      <th>2</th>\n      <td>2d729b8a-d53c-48e7-8bf5-33b021980c04</td>\n      <td>09/12/1954 00:00</td>\n      <td>DE R$ 3.800,00 A R$ 7.600,00</td>\n      <td>3.901,00</td>\n      <td>-5.053671016</td>\n      <td>-42.81315203</td>\n      <td>CPF</td>\n      <td>Teresina</td>\n      <td>Piauí</td>\n      <td>street_address</td>\n    </tr>\n    <tr>\n      <th>3</th>\n      <td>62c0f1e6-36f2-4205-a134-232a58a6f8a5</td>\n      <td>28/08/1975 00:00</td>\n      <td>DE R$ 788,00 A R$ 1.140,00</td>\n      <td>1.086,00</td>\n      <td>-15.059042</td>\n      <td>-48.163372</td>\n      <td>CNPJ</td>\n      <td>Mimoso de Goiás</td>\n      <td>Goiás</td>\n      <td>establishment</td>\n    </tr>\n    <tr>\n      <th>4</th>\n      <td>0cef9719-0aa3-49a2-adea-9c09c04de071</td>\n      <td>17/06/1957 00:00</td>\n      <td>DE R$ 788,00 A R$ 1.140,00</td>\n      <td>836</td>\n      <td>-17.694658</td>\n      <td>-42.52228</td>\n      <td>CPF</td>\n      <td>Capelinha</td>\n      <td>Minas Gerais</td>\n      <td>street_address</td>\n    </tr>\n  </tbody>\n</table>\n</div>"
     },
     "metadata": {},
     "execution_count": 9
    }
   ],
   "source": [
    "df.head()"
   ]
  },
  {
   "cell_type": "code",
   "execution_count": 6,
   "metadata": {},
   "outputs": [],
   "source": [
    "# Criando arquivo csv com os dados tratados\n",
    "df.to_csv('dataset_v02.csv', sep=';', encoding='utf-8')"
   ]
  },
  {
   "cell_type": "code",
   "execution_count": 21,
   "metadata": {},
   "outputs": [],
   "source": [
    "# Nova data frame com os dados tratados\n",
    "df_spc = pd.read_csv(r\"dataset_v02.csv\", delimiter=\";\")"
   ]
  },
  {
   "cell_type": "code",
   "execution_count": 22,
   "metadata": {},
   "outputs": [
    {
     "output_type": "execute_result",
     "data": {
      "text/plain": [
       "                             ID_USUARIO   DATA_NASCIMENTO  \\\n",
       "0  d6c0cc1d-eb61-486a-b5c3-50725ef44d61  30/01/1981 00:00   \n",
       "1  da0067e7-aa6b-4355-b373-ca17f6ac3b44  28/01/1978 00:00   \n",
       "2  2d729b8a-d53c-48e7-8bf5-33b021980c04  09/12/1954 00:00   \n",
       "3  62c0f1e6-36f2-4205-a134-232a58a6f8a5  28/08/1975 00:00   \n",
       "4  0cef9719-0aa3-49a2-adea-9c09c04de071  17/06/1957 00:00   \n",
       "\n",
       "                          RENDA RENDA_FIXA   LATITUDE  LONGITUDE TIPO_PESSOA  \\\n",
       "0  DE R$ 1.900,00 A R$ 3.800,00   3.104,00  -4.847580 -37.784390         CPF   \n",
       "1  DE R$ 3.800,00 A R$ 7.600,00   5.703,00 -26.990118 -48.637165         CPF   \n",
       "2  DE R$ 3.800,00 A R$ 7.600,00   3.901,00  -5.053671 -42.813152         CPF   \n",
       "3    DE R$ 788,00 A R$ 1.140,00   1.086,00 -15.059042 -48.163372        CNPJ   \n",
       "4    DE R$ 788,00 A R$ 1.140,00        836 -17.694658 -42.522280         CPF   \n",
       "\n",
       "               CIDADE          ESTADO      LOGRADOURO  \n",
       "0          Jaguaruana           Ceará  street_address  \n",
       "1  Balneário Camboriú  Santa Catarina  street_address  \n",
       "2            Teresina           Piauí  street_address  \n",
       "3     Mimoso de Goiás           Goiás   establishment  \n",
       "4           Capelinha    Minas Gerais  street_address  "
      ],
      "text/html": "<div>\n<style scoped>\n    .dataframe tbody tr th:only-of-type {\n        vertical-align: middle;\n    }\n\n    .dataframe tbody tr th {\n        vertical-align: top;\n    }\n\n    .dataframe thead th {\n        text-align: right;\n    }\n</style>\n<table border=\"1\" class=\"dataframe\">\n  <thead>\n    <tr style=\"text-align: right;\">\n      <th></th>\n      <th>ID_USUARIO</th>\n      <th>DATA_NASCIMENTO</th>\n      <th>RENDA</th>\n      <th>RENDA_FIXA</th>\n      <th>LATITUDE</th>\n      <th>LONGITUDE</th>\n      <th>TIPO_PESSOA</th>\n      <th>CIDADE</th>\n      <th>ESTADO</th>\n      <th>LOGRADOURO</th>\n    </tr>\n  </thead>\n  <tbody>\n    <tr>\n      <th>0</th>\n      <td>d6c0cc1d-eb61-486a-b5c3-50725ef44d61</td>\n      <td>30/01/1981 00:00</td>\n      <td>DE R$ 1.900,00 A R$ 3.800,00</td>\n      <td>3.104,00</td>\n      <td>-4.847580</td>\n      <td>-37.784390</td>\n      <td>CPF</td>\n      <td>Jaguaruana</td>\n      <td>Ceará</td>\n      <td>street_address</td>\n    </tr>\n    <tr>\n      <th>1</th>\n      <td>da0067e7-aa6b-4355-b373-ca17f6ac3b44</td>\n      <td>28/01/1978 00:00</td>\n      <td>DE R$ 3.800,00 A R$ 7.600,00</td>\n      <td>5.703,00</td>\n      <td>-26.990118</td>\n      <td>-48.637165</td>\n      <td>CPF</td>\n      <td>Balneário Camboriú</td>\n      <td>Santa Catarina</td>\n      <td>street_address</td>\n    </tr>\n    <tr>\n      <th>2</th>\n      <td>2d729b8a-d53c-48e7-8bf5-33b021980c04</td>\n      <td>09/12/1954 00:00</td>\n      <td>DE R$ 3.800,00 A R$ 7.600,00</td>\n      <td>3.901,00</td>\n      <td>-5.053671</td>\n      <td>-42.813152</td>\n      <td>CPF</td>\n      <td>Teresina</td>\n      <td>Piauí</td>\n      <td>street_address</td>\n    </tr>\n    <tr>\n      <th>3</th>\n      <td>62c0f1e6-36f2-4205-a134-232a58a6f8a5</td>\n      <td>28/08/1975 00:00</td>\n      <td>DE R$ 788,00 A R$ 1.140,00</td>\n      <td>1.086,00</td>\n      <td>-15.059042</td>\n      <td>-48.163372</td>\n      <td>CNPJ</td>\n      <td>Mimoso de Goiás</td>\n      <td>Goiás</td>\n      <td>establishment</td>\n    </tr>\n    <tr>\n      <th>4</th>\n      <td>0cef9719-0aa3-49a2-adea-9c09c04de071</td>\n      <td>17/06/1957 00:00</td>\n      <td>DE R$ 788,00 A R$ 1.140,00</td>\n      <td>836</td>\n      <td>-17.694658</td>\n      <td>-42.522280</td>\n      <td>CPF</td>\n      <td>Capelinha</td>\n      <td>Minas Gerais</td>\n      <td>street_address</td>\n    </tr>\n  </tbody>\n</table>\n</div>"
     },
     "metadata": {},
     "execution_count": 22
    }
   ],
   "source": [
    "df_spc.head()"
   ]
  },
  {
   "cell_type": "code",
   "execution_count": 23,
   "metadata": {},
   "outputs": [
    {
     "output_type": "execute_result",
     "data": {
      "text/plain": [
       "             ID_USUARIO  DATA_NASCIMENTO  RENDA  RENDA_FIXA  LATITUDE  \\\n",
       "TIPO_PESSOA                                                             \n",
       "CNPJ               1663             1653   1663        1663      1024   \n",
       "CPF                8337             8283   8337        8337      7719   \n",
       "\n",
       "             LONGITUDE  CIDADE  ESTADO  LOGRADOURO  \n",
       "TIPO_PESSOA                                         \n",
       "CNPJ              1024    1024    1024        1024  \n",
       "CPF               7719    7719    7719        7719  "
      ],
      "text/html": "<div>\n<style scoped>\n    .dataframe tbody tr th:only-of-type {\n        vertical-align: middle;\n    }\n\n    .dataframe tbody tr th {\n        vertical-align: top;\n    }\n\n    .dataframe thead th {\n        text-align: right;\n    }\n</style>\n<table border=\"1\" class=\"dataframe\">\n  <thead>\n    <tr style=\"text-align: right;\">\n      <th></th>\n      <th>ID_USUARIO</th>\n      <th>DATA_NASCIMENTO</th>\n      <th>RENDA</th>\n      <th>RENDA_FIXA</th>\n      <th>LATITUDE</th>\n      <th>LONGITUDE</th>\n      <th>CIDADE</th>\n      <th>ESTADO</th>\n      <th>LOGRADOURO</th>\n    </tr>\n    <tr>\n      <th>TIPO_PESSOA</th>\n      <th></th>\n      <th></th>\n      <th></th>\n      <th></th>\n      <th></th>\n      <th></th>\n      <th></th>\n      <th></th>\n      <th></th>\n    </tr>\n  </thead>\n  <tbody>\n    <tr>\n      <th>CNPJ</th>\n      <td>1663</td>\n      <td>1653</td>\n      <td>1663</td>\n      <td>1663</td>\n      <td>1024</td>\n      <td>1024</td>\n      <td>1024</td>\n      <td>1024</td>\n      <td>1024</td>\n    </tr>\n    <tr>\n      <th>CPF</th>\n      <td>8337</td>\n      <td>8283</td>\n      <td>8337</td>\n      <td>8337</td>\n      <td>7719</td>\n      <td>7719</td>\n      <td>7719</td>\n      <td>7719</td>\n      <td>7719</td>\n    </tr>\n  </tbody>\n</table>\n</div>"
     },
     "metadata": {},
     "execution_count": 23
    }
   ],
   "source": [
    "df_spc.groupby('TIPO_PESSOA').count()"
   ]
  },
  {
   "cell_type": "code",
   "execution_count": 24,
   "metadata": {},
   "outputs": [
    {
     "output_type": "stream",
     "name": "stderr",
     "text": [
      "<ipython-input-24-85b22b7a6b04>:1: FutureWarning: The default value of regex will change from True to False in a future version. In addition, single character regular expressions will*not* be treated as literal strings when regex=True.\n  df_spc['RENDA_FIXA'] = df_spc['RENDA_FIXA'].str.replace('.','')\n"
     ]
    }
   ],
   "source": [
    "df_spc['RENDA_FIXA'] = df_spc['RENDA_FIXA'].str.replace('.','')"
   ]
  },
  {
   "cell_type": "code",
   "execution_count": 25,
   "metadata": {},
   "outputs": [
    {
     "output_type": "execute_result",
     "data": {
      "text/plain": [
       "                                ID_USUARIO   DATA_NASCIMENTO  \\\n",
       "0     d6c0cc1d-eb61-486a-b5c3-50725ef44d61  30/01/1981 00:00   \n",
       "1     da0067e7-aa6b-4355-b373-ca17f6ac3b44  28/01/1978 00:00   \n",
       "2     2d729b8a-d53c-48e7-8bf5-33b021980c04  09/12/1954 00:00   \n",
       "3     62c0f1e6-36f2-4205-a134-232a58a6f8a5  28/08/1975 00:00   \n",
       "4     0cef9719-0aa3-49a2-adea-9c09c04de071  17/06/1957 00:00   \n",
       "...                                    ...               ...   \n",
       "9995  f2261fce-83c5-4f64-b145-85f46bcf18b1  08/10/1979 00:00   \n",
       "9996  bdaa7802-4650-44a4-93f7-952b72ec17a0  30/04/1980 00:00   \n",
       "9997  e7b37cd5-714a-44d8-ad7f-4ed3aa6b0695  26/05/1976 00:00   \n",
       "9998  167dbd7f-7ccd-4aad-a6b9-c3fb9d56c9cd  06/11/1985 00:00   \n",
       "9999  d4f11ca2-71b1-4e12-aba6-bd8530ca2691  09/03/1981 00:00   \n",
       "\n",
       "                             RENDA RENDA_FIXA   LATITUDE  LONGITUDE  \\\n",
       "0     DE R$ 1.900,00 A R$ 3.800,00    3104,00  -4.847580 -37.784390   \n",
       "1     DE R$ 3.800,00 A R$ 7.600,00    5703,00 -26.990118 -48.637165   \n",
       "2     DE R$ 3.800,00 A R$ 7.600,00    3901,00  -5.053671 -42.813152   \n",
       "3       DE R$ 788,00 A R$ 1.140,00    1086,00 -15.059042 -48.163372   \n",
       "4       DE R$ 788,00 A R$ 1.140,00        836 -17.694658 -42.522280   \n",
       "...                            ...        ...        ...        ...   \n",
       "9995  DE R$ 1.900,00 A R$ 3.800,00    2776,00 -11.609372 -47.047506   \n",
       "9996  DE R$ 3.800,00 A R$ 7.600,00    4099,00 -15.650497 -47.793321   \n",
       "9997    DE R$ 788,00 A R$ 1.140,00    1052,00  -8.330679 -36.136897   \n",
       "9998    DE R$ 788,00 A R$ 1.140,00        958        NaN        NaN   \n",
       "9999  DE R$ 3.800,00 A R$ 7.600,00    5954,00 -15.787504 -48.139096   \n",
       "\n",
       "     TIPO_PESSOA                     CIDADE            ESTADO      LOGRADOURO  \n",
       "0            CPF                 Jaguaruana             Ceará  street_address  \n",
       "1            CPF         Balneário Camboriú    Santa Catarina  street_address  \n",
       "2            CPF                   Teresina             Piauí  street_address  \n",
       "3           CNPJ            Mimoso de Goiás             Goiás   establishment  \n",
       "4            CPF                  Capelinha      Minas Gerais  street_address  \n",
       "...          ...                        ...               ...             ...  \n",
       "9995         CPF  Porto Alegre do Tocantins         Tocantins           route  \n",
       "9996         CPF                   Brasília  Distrito Federal  street_address  \n",
       "9997         CPF                São Caetano        Pernambuco  street_address  \n",
       "9998        CNPJ                        NaN               NaN             NaN  \n",
       "9999         CPF                   Brasília  Distrito Federal         premise  \n",
       "\n",
       "[10000 rows x 10 columns]"
      ],
      "text/html": "<div>\n<style scoped>\n    .dataframe tbody tr th:only-of-type {\n        vertical-align: middle;\n    }\n\n    .dataframe tbody tr th {\n        vertical-align: top;\n    }\n\n    .dataframe thead th {\n        text-align: right;\n    }\n</style>\n<table border=\"1\" class=\"dataframe\">\n  <thead>\n    <tr style=\"text-align: right;\">\n      <th></th>\n      <th>ID_USUARIO</th>\n      <th>DATA_NASCIMENTO</th>\n      <th>RENDA</th>\n      <th>RENDA_FIXA</th>\n      <th>LATITUDE</th>\n      <th>LONGITUDE</th>\n      <th>TIPO_PESSOA</th>\n      <th>CIDADE</th>\n      <th>ESTADO</th>\n      <th>LOGRADOURO</th>\n    </tr>\n  </thead>\n  <tbody>\n    <tr>\n      <th>0</th>\n      <td>d6c0cc1d-eb61-486a-b5c3-50725ef44d61</td>\n      <td>30/01/1981 00:00</td>\n      <td>DE R$ 1.900,00 A R$ 3.800,00</td>\n      <td>3104,00</td>\n      <td>-4.847580</td>\n      <td>-37.784390</td>\n      <td>CPF</td>\n      <td>Jaguaruana</td>\n      <td>Ceará</td>\n      <td>street_address</td>\n    </tr>\n    <tr>\n      <th>1</th>\n      <td>da0067e7-aa6b-4355-b373-ca17f6ac3b44</td>\n      <td>28/01/1978 00:00</td>\n      <td>DE R$ 3.800,00 A R$ 7.600,00</td>\n      <td>5703,00</td>\n      <td>-26.990118</td>\n      <td>-48.637165</td>\n      <td>CPF</td>\n      <td>Balneário Camboriú</td>\n      <td>Santa Catarina</td>\n      <td>street_address</td>\n    </tr>\n    <tr>\n      <th>2</th>\n      <td>2d729b8a-d53c-48e7-8bf5-33b021980c04</td>\n      <td>09/12/1954 00:00</td>\n      <td>DE R$ 3.800,00 A R$ 7.600,00</td>\n      <td>3901,00</td>\n      <td>-5.053671</td>\n      <td>-42.813152</td>\n      <td>CPF</td>\n      <td>Teresina</td>\n      <td>Piauí</td>\n      <td>street_address</td>\n    </tr>\n    <tr>\n      <th>3</th>\n      <td>62c0f1e6-36f2-4205-a134-232a58a6f8a5</td>\n      <td>28/08/1975 00:00</td>\n      <td>DE R$ 788,00 A R$ 1.140,00</td>\n      <td>1086,00</td>\n      <td>-15.059042</td>\n      <td>-48.163372</td>\n      <td>CNPJ</td>\n      <td>Mimoso de Goiás</td>\n      <td>Goiás</td>\n      <td>establishment</td>\n    </tr>\n    <tr>\n      <th>4</th>\n      <td>0cef9719-0aa3-49a2-adea-9c09c04de071</td>\n      <td>17/06/1957 00:00</td>\n      <td>DE R$ 788,00 A R$ 1.140,00</td>\n      <td>836</td>\n      <td>-17.694658</td>\n      <td>-42.522280</td>\n      <td>CPF</td>\n      <td>Capelinha</td>\n      <td>Minas Gerais</td>\n      <td>street_address</td>\n    </tr>\n    <tr>\n      <th>...</th>\n      <td>...</td>\n      <td>...</td>\n      <td>...</td>\n      <td>...</td>\n      <td>...</td>\n      <td>...</td>\n      <td>...</td>\n      <td>...</td>\n      <td>...</td>\n      <td>...</td>\n    </tr>\n    <tr>\n      <th>9995</th>\n      <td>f2261fce-83c5-4f64-b145-85f46bcf18b1</td>\n      <td>08/10/1979 00:00</td>\n      <td>DE R$ 1.900,00 A R$ 3.800,00</td>\n      <td>2776,00</td>\n      <td>-11.609372</td>\n      <td>-47.047506</td>\n      <td>CPF</td>\n      <td>Porto Alegre do Tocantins</td>\n      <td>Tocantins</td>\n      <td>route</td>\n    </tr>\n    <tr>\n      <th>9996</th>\n      <td>bdaa7802-4650-44a4-93f7-952b72ec17a0</td>\n      <td>30/04/1980 00:00</td>\n      <td>DE R$ 3.800,00 A R$ 7.600,00</td>\n      <td>4099,00</td>\n      <td>-15.650497</td>\n      <td>-47.793321</td>\n      <td>CPF</td>\n      <td>Brasília</td>\n      <td>Distrito Federal</td>\n      <td>street_address</td>\n    </tr>\n    <tr>\n      <th>9997</th>\n      <td>e7b37cd5-714a-44d8-ad7f-4ed3aa6b0695</td>\n      <td>26/05/1976 00:00</td>\n      <td>DE R$ 788,00 A R$ 1.140,00</td>\n      <td>1052,00</td>\n      <td>-8.330679</td>\n      <td>-36.136897</td>\n      <td>CPF</td>\n      <td>São Caetano</td>\n      <td>Pernambuco</td>\n      <td>street_address</td>\n    </tr>\n    <tr>\n      <th>9998</th>\n      <td>167dbd7f-7ccd-4aad-a6b9-c3fb9d56c9cd</td>\n      <td>06/11/1985 00:00</td>\n      <td>DE R$ 788,00 A R$ 1.140,00</td>\n      <td>958</td>\n      <td>NaN</td>\n      <td>NaN</td>\n      <td>CNPJ</td>\n      <td>NaN</td>\n      <td>NaN</td>\n      <td>NaN</td>\n    </tr>\n    <tr>\n      <th>9999</th>\n      <td>d4f11ca2-71b1-4e12-aba6-bd8530ca2691</td>\n      <td>09/03/1981 00:00</td>\n      <td>DE R$ 3.800,00 A R$ 7.600,00</td>\n      <td>5954,00</td>\n      <td>-15.787504</td>\n      <td>-48.139096</td>\n      <td>CPF</td>\n      <td>Brasília</td>\n      <td>Distrito Federal</td>\n      <td>premise</td>\n    </tr>\n  </tbody>\n</table>\n<p>10000 rows × 10 columns</p>\n</div>"
     },
     "metadata": {},
     "execution_count": 25
    }
   ],
   "source": [
    "df_spc"
   ]
  },
  {
   "cell_type": "code",
   "execution_count": 26,
   "metadata": {},
   "outputs": [],
   "source": [
    "df_spc['RENDA_FIXA'] = df_spc['RENDA_FIXA'].str.replace(',','.')"
   ]
  },
  {
   "cell_type": "code",
   "execution_count": 30,
   "metadata": {},
   "outputs": [],
   "source": [
    "df_spc['RENDA_FIXA'] = df_spc['RENDA_FIXA'].str.replace(' -   ','0.0')"
   ]
  },
  {
   "cell_type": "code",
   "execution_count": 34,
   "metadata": {},
   "outputs": [],
   "source": [
    "df_spc['RENDA_FIXA'] = df_spc['RENDA_FIXA'].astype(float)"
   ]
  },
  {
   "cell_type": "code",
   "execution_count": 35,
   "metadata": {},
   "outputs": [
    {
     "output_type": "execute_result",
     "data": {
      "text/plain": [
       "                                ID_USUARIO   DATA_NASCIMENTO  \\\n",
       "0     d6c0cc1d-eb61-486a-b5c3-50725ef44d61  30/01/1981 00:00   \n",
       "1     da0067e7-aa6b-4355-b373-ca17f6ac3b44  28/01/1978 00:00   \n",
       "2     2d729b8a-d53c-48e7-8bf5-33b021980c04  09/12/1954 00:00   \n",
       "3     62c0f1e6-36f2-4205-a134-232a58a6f8a5  28/08/1975 00:00   \n",
       "4     0cef9719-0aa3-49a2-adea-9c09c04de071  17/06/1957 00:00   \n",
       "...                                    ...               ...   \n",
       "9995  f2261fce-83c5-4f64-b145-85f46bcf18b1  08/10/1979 00:00   \n",
       "9996  bdaa7802-4650-44a4-93f7-952b72ec17a0  30/04/1980 00:00   \n",
       "9997  e7b37cd5-714a-44d8-ad7f-4ed3aa6b0695  26/05/1976 00:00   \n",
       "9998  167dbd7f-7ccd-4aad-a6b9-c3fb9d56c9cd  06/11/1985 00:00   \n",
       "9999  d4f11ca2-71b1-4e12-aba6-bd8530ca2691  09/03/1981 00:00   \n",
       "\n",
       "                             RENDA  RENDA_FIXA   LATITUDE  LONGITUDE  \\\n",
       "0     DE R$ 1.900,00 A R$ 3.800,00      3104.0  -4.847580 -37.784390   \n",
       "1     DE R$ 3.800,00 A R$ 7.600,00      5703.0 -26.990118 -48.637165   \n",
       "2     DE R$ 3.800,00 A R$ 7.600,00      3901.0  -5.053671 -42.813152   \n",
       "3       DE R$ 788,00 A R$ 1.140,00      1086.0 -15.059042 -48.163372   \n",
       "4       DE R$ 788,00 A R$ 1.140,00       836.0 -17.694658 -42.522280   \n",
       "...                            ...         ...        ...        ...   \n",
       "9995  DE R$ 1.900,00 A R$ 3.800,00      2776.0 -11.609372 -47.047506   \n",
       "9996  DE R$ 3.800,00 A R$ 7.600,00      4099.0 -15.650497 -47.793321   \n",
       "9997    DE R$ 788,00 A R$ 1.140,00      1052.0  -8.330679 -36.136897   \n",
       "9998    DE R$ 788,00 A R$ 1.140,00       958.0        NaN        NaN   \n",
       "9999  DE R$ 3.800,00 A R$ 7.600,00      5954.0 -15.787504 -48.139096   \n",
       "\n",
       "     TIPO_PESSOA                     CIDADE            ESTADO      LOGRADOURO  \n",
       "0            CPF                 Jaguaruana             Ceará  street_address  \n",
       "1            CPF         Balneário Camboriú    Santa Catarina  street_address  \n",
       "2            CPF                   Teresina             Piauí  street_address  \n",
       "3           CNPJ            Mimoso de Goiás             Goiás   establishment  \n",
       "4            CPF                  Capelinha      Minas Gerais  street_address  \n",
       "...          ...                        ...               ...             ...  \n",
       "9995         CPF  Porto Alegre do Tocantins         Tocantins           route  \n",
       "9996         CPF                   Brasília  Distrito Federal  street_address  \n",
       "9997         CPF                São Caetano        Pernambuco  street_address  \n",
       "9998        CNPJ                        NaN               NaN             NaN  \n",
       "9999         CPF                   Brasília  Distrito Federal         premise  \n",
       "\n",
       "[10000 rows x 10 columns]"
      ],
      "text/html": "<div>\n<style scoped>\n    .dataframe tbody tr th:only-of-type {\n        vertical-align: middle;\n    }\n\n    .dataframe tbody tr th {\n        vertical-align: top;\n    }\n\n    .dataframe thead th {\n        text-align: right;\n    }\n</style>\n<table border=\"1\" class=\"dataframe\">\n  <thead>\n    <tr style=\"text-align: right;\">\n      <th></th>\n      <th>ID_USUARIO</th>\n      <th>DATA_NASCIMENTO</th>\n      <th>RENDA</th>\n      <th>RENDA_FIXA</th>\n      <th>LATITUDE</th>\n      <th>LONGITUDE</th>\n      <th>TIPO_PESSOA</th>\n      <th>CIDADE</th>\n      <th>ESTADO</th>\n      <th>LOGRADOURO</th>\n    </tr>\n  </thead>\n  <tbody>\n    <tr>\n      <th>0</th>\n      <td>d6c0cc1d-eb61-486a-b5c3-50725ef44d61</td>\n      <td>30/01/1981 00:00</td>\n      <td>DE R$ 1.900,00 A R$ 3.800,00</td>\n      <td>3104.0</td>\n      <td>-4.847580</td>\n      <td>-37.784390</td>\n      <td>CPF</td>\n      <td>Jaguaruana</td>\n      <td>Ceará</td>\n      <td>street_address</td>\n    </tr>\n    <tr>\n      <th>1</th>\n      <td>da0067e7-aa6b-4355-b373-ca17f6ac3b44</td>\n      <td>28/01/1978 00:00</td>\n      <td>DE R$ 3.800,00 A R$ 7.600,00</td>\n      <td>5703.0</td>\n      <td>-26.990118</td>\n      <td>-48.637165</td>\n      <td>CPF</td>\n      <td>Balneário Camboriú</td>\n      <td>Santa Catarina</td>\n      <td>street_address</td>\n    </tr>\n    <tr>\n      <th>2</th>\n      <td>2d729b8a-d53c-48e7-8bf5-33b021980c04</td>\n      <td>09/12/1954 00:00</td>\n      <td>DE R$ 3.800,00 A R$ 7.600,00</td>\n      <td>3901.0</td>\n      <td>-5.053671</td>\n      <td>-42.813152</td>\n      <td>CPF</td>\n      <td>Teresina</td>\n      <td>Piauí</td>\n      <td>street_address</td>\n    </tr>\n    <tr>\n      <th>3</th>\n      <td>62c0f1e6-36f2-4205-a134-232a58a6f8a5</td>\n      <td>28/08/1975 00:00</td>\n      <td>DE R$ 788,00 A R$ 1.140,00</td>\n      <td>1086.0</td>\n      <td>-15.059042</td>\n      <td>-48.163372</td>\n      <td>CNPJ</td>\n      <td>Mimoso de Goiás</td>\n      <td>Goiás</td>\n      <td>establishment</td>\n    </tr>\n    <tr>\n      <th>4</th>\n      <td>0cef9719-0aa3-49a2-adea-9c09c04de071</td>\n      <td>17/06/1957 00:00</td>\n      <td>DE R$ 788,00 A R$ 1.140,00</td>\n      <td>836.0</td>\n      <td>-17.694658</td>\n      <td>-42.522280</td>\n      <td>CPF</td>\n      <td>Capelinha</td>\n      <td>Minas Gerais</td>\n      <td>street_address</td>\n    </tr>\n    <tr>\n      <th>...</th>\n      <td>...</td>\n      <td>...</td>\n      <td>...</td>\n      <td>...</td>\n      <td>...</td>\n      <td>...</td>\n      <td>...</td>\n      <td>...</td>\n      <td>...</td>\n      <td>...</td>\n    </tr>\n    <tr>\n      <th>9995</th>\n      <td>f2261fce-83c5-4f64-b145-85f46bcf18b1</td>\n      <td>08/10/1979 00:00</td>\n      <td>DE R$ 1.900,00 A R$ 3.800,00</td>\n      <td>2776.0</td>\n      <td>-11.609372</td>\n      <td>-47.047506</td>\n      <td>CPF</td>\n      <td>Porto Alegre do Tocantins</td>\n      <td>Tocantins</td>\n      <td>route</td>\n    </tr>\n    <tr>\n      <th>9996</th>\n      <td>bdaa7802-4650-44a4-93f7-952b72ec17a0</td>\n      <td>30/04/1980 00:00</td>\n      <td>DE R$ 3.800,00 A R$ 7.600,00</td>\n      <td>4099.0</td>\n      <td>-15.650497</td>\n      <td>-47.793321</td>\n      <td>CPF</td>\n      <td>Brasília</td>\n      <td>Distrito Federal</td>\n      <td>street_address</td>\n    </tr>\n    <tr>\n      <th>9997</th>\n      <td>e7b37cd5-714a-44d8-ad7f-4ed3aa6b0695</td>\n      <td>26/05/1976 00:00</td>\n      <td>DE R$ 788,00 A R$ 1.140,00</td>\n      <td>1052.0</td>\n      <td>-8.330679</td>\n      <td>-36.136897</td>\n      <td>CPF</td>\n      <td>São Caetano</td>\n      <td>Pernambuco</td>\n      <td>street_address</td>\n    </tr>\n    <tr>\n      <th>9998</th>\n      <td>167dbd7f-7ccd-4aad-a6b9-c3fb9d56c9cd</td>\n      <td>06/11/1985 00:00</td>\n      <td>DE R$ 788,00 A R$ 1.140,00</td>\n      <td>958.0</td>\n      <td>NaN</td>\n      <td>NaN</td>\n      <td>CNPJ</td>\n      <td>NaN</td>\n      <td>NaN</td>\n      <td>NaN</td>\n    </tr>\n    <tr>\n      <th>9999</th>\n      <td>d4f11ca2-71b1-4e12-aba6-bd8530ca2691</td>\n      <td>09/03/1981 00:00</td>\n      <td>DE R$ 3.800,00 A R$ 7.600,00</td>\n      <td>5954.0</td>\n      <td>-15.787504</td>\n      <td>-48.139096</td>\n      <td>CPF</td>\n      <td>Brasília</td>\n      <td>Distrito Federal</td>\n      <td>premise</td>\n    </tr>\n  </tbody>\n</table>\n<p>10000 rows × 10 columns</p>\n</div>"
     },
     "metadata": {},
     "execution_count": 35
    }
   ],
   "source": [
    "df_spc"
   ]
  },
  {
   "cell_type": "code",
   "execution_count": 36,
   "metadata": {},
   "outputs": [],
   "source": [
    "df_spc['RENDA_FIXA'] = df_spc['RENDA_FIXA'].fillna(df_spc['RENDA_FIXA'].mean())"
   ]
  },
  {
   "cell_type": "code",
   "execution_count": 37,
   "metadata": {},
   "outputs": [
    {
     "output_type": "execute_result",
     "data": {
      "text/plain": [
       "                                ID_USUARIO   DATA_NASCIMENTO  \\\n",
       "0     d6c0cc1d-eb61-486a-b5c3-50725ef44d61  30/01/1981 00:00   \n",
       "1     da0067e7-aa6b-4355-b373-ca17f6ac3b44  28/01/1978 00:00   \n",
       "2     2d729b8a-d53c-48e7-8bf5-33b021980c04  09/12/1954 00:00   \n",
       "3     62c0f1e6-36f2-4205-a134-232a58a6f8a5  28/08/1975 00:00   \n",
       "4     0cef9719-0aa3-49a2-adea-9c09c04de071  17/06/1957 00:00   \n",
       "...                                    ...               ...   \n",
       "9995  f2261fce-83c5-4f64-b145-85f46bcf18b1  08/10/1979 00:00   \n",
       "9996  bdaa7802-4650-44a4-93f7-952b72ec17a0  30/04/1980 00:00   \n",
       "9997  e7b37cd5-714a-44d8-ad7f-4ed3aa6b0695  26/05/1976 00:00   \n",
       "9998  167dbd7f-7ccd-4aad-a6b9-c3fb9d56c9cd  06/11/1985 00:00   \n",
       "9999  d4f11ca2-71b1-4e12-aba6-bd8530ca2691  09/03/1981 00:00   \n",
       "\n",
       "                             RENDA  RENDA_FIXA   LATITUDE  LONGITUDE  \\\n",
       "0     DE R$ 1.900,00 A R$ 3.800,00      3104.0  -4.847580 -37.784390   \n",
       "1     DE R$ 3.800,00 A R$ 7.600,00      5703.0 -26.990118 -48.637165   \n",
       "2     DE R$ 3.800,00 A R$ 7.600,00      3901.0  -5.053671 -42.813152   \n",
       "3       DE R$ 788,00 A R$ 1.140,00      1086.0 -15.059042 -48.163372   \n",
       "4       DE R$ 788,00 A R$ 1.140,00       836.0 -17.694658 -42.522280   \n",
       "...                            ...         ...        ...        ...   \n",
       "9995  DE R$ 1.900,00 A R$ 3.800,00      2776.0 -11.609372 -47.047506   \n",
       "9996  DE R$ 3.800,00 A R$ 7.600,00      4099.0 -15.650497 -47.793321   \n",
       "9997    DE R$ 788,00 A R$ 1.140,00      1052.0  -8.330679 -36.136897   \n",
       "9998    DE R$ 788,00 A R$ 1.140,00       958.0        NaN        NaN   \n",
       "9999  DE R$ 3.800,00 A R$ 7.600,00      5954.0 -15.787504 -48.139096   \n",
       "\n",
       "     TIPO_PESSOA                     CIDADE            ESTADO      LOGRADOURO  \n",
       "0            CPF                 Jaguaruana             Ceará  street_address  \n",
       "1            CPF         Balneário Camboriú    Santa Catarina  street_address  \n",
       "2            CPF                   Teresina             Piauí  street_address  \n",
       "3           CNPJ            Mimoso de Goiás             Goiás   establishment  \n",
       "4            CPF                  Capelinha      Minas Gerais  street_address  \n",
       "...          ...                        ...               ...             ...  \n",
       "9995         CPF  Porto Alegre do Tocantins         Tocantins           route  \n",
       "9996         CPF                   Brasília  Distrito Federal  street_address  \n",
       "9997         CPF                São Caetano        Pernambuco  street_address  \n",
       "9998        CNPJ                        NaN               NaN             NaN  \n",
       "9999         CPF                   Brasília  Distrito Federal         premise  \n",
       "\n",
       "[10000 rows x 10 columns]"
      ],
      "text/html": "<div>\n<style scoped>\n    .dataframe tbody tr th:only-of-type {\n        vertical-align: middle;\n    }\n\n    .dataframe tbody tr th {\n        vertical-align: top;\n    }\n\n    .dataframe thead th {\n        text-align: right;\n    }\n</style>\n<table border=\"1\" class=\"dataframe\">\n  <thead>\n    <tr style=\"text-align: right;\">\n      <th></th>\n      <th>ID_USUARIO</th>\n      <th>DATA_NASCIMENTO</th>\n      <th>RENDA</th>\n      <th>RENDA_FIXA</th>\n      <th>LATITUDE</th>\n      <th>LONGITUDE</th>\n      <th>TIPO_PESSOA</th>\n      <th>CIDADE</th>\n      <th>ESTADO</th>\n      <th>LOGRADOURO</th>\n    </tr>\n  </thead>\n  <tbody>\n    <tr>\n      <th>0</th>\n      <td>d6c0cc1d-eb61-486a-b5c3-50725ef44d61</td>\n      <td>30/01/1981 00:00</td>\n      <td>DE R$ 1.900,00 A R$ 3.800,00</td>\n      <td>3104.0</td>\n      <td>-4.847580</td>\n      <td>-37.784390</td>\n      <td>CPF</td>\n      <td>Jaguaruana</td>\n      <td>Ceará</td>\n      <td>street_address</td>\n    </tr>\n    <tr>\n      <th>1</th>\n      <td>da0067e7-aa6b-4355-b373-ca17f6ac3b44</td>\n      <td>28/01/1978 00:00</td>\n      <td>DE R$ 3.800,00 A R$ 7.600,00</td>\n      <td>5703.0</td>\n      <td>-26.990118</td>\n      <td>-48.637165</td>\n      <td>CPF</td>\n      <td>Balneário Camboriú</td>\n      <td>Santa Catarina</td>\n      <td>street_address</td>\n    </tr>\n    <tr>\n      <th>2</th>\n      <td>2d729b8a-d53c-48e7-8bf5-33b021980c04</td>\n      <td>09/12/1954 00:00</td>\n      <td>DE R$ 3.800,00 A R$ 7.600,00</td>\n      <td>3901.0</td>\n      <td>-5.053671</td>\n      <td>-42.813152</td>\n      <td>CPF</td>\n      <td>Teresina</td>\n      <td>Piauí</td>\n      <td>street_address</td>\n    </tr>\n    <tr>\n      <th>3</th>\n      <td>62c0f1e6-36f2-4205-a134-232a58a6f8a5</td>\n      <td>28/08/1975 00:00</td>\n      <td>DE R$ 788,00 A R$ 1.140,00</td>\n      <td>1086.0</td>\n      <td>-15.059042</td>\n      <td>-48.163372</td>\n      <td>CNPJ</td>\n      <td>Mimoso de Goiás</td>\n      <td>Goiás</td>\n      <td>establishment</td>\n    </tr>\n    <tr>\n      <th>4</th>\n      <td>0cef9719-0aa3-49a2-adea-9c09c04de071</td>\n      <td>17/06/1957 00:00</td>\n      <td>DE R$ 788,00 A R$ 1.140,00</td>\n      <td>836.0</td>\n      <td>-17.694658</td>\n      <td>-42.522280</td>\n      <td>CPF</td>\n      <td>Capelinha</td>\n      <td>Minas Gerais</td>\n      <td>street_address</td>\n    </tr>\n    <tr>\n      <th>...</th>\n      <td>...</td>\n      <td>...</td>\n      <td>...</td>\n      <td>...</td>\n      <td>...</td>\n      <td>...</td>\n      <td>...</td>\n      <td>...</td>\n      <td>...</td>\n      <td>...</td>\n    </tr>\n    <tr>\n      <th>9995</th>\n      <td>f2261fce-83c5-4f64-b145-85f46bcf18b1</td>\n      <td>08/10/1979 00:00</td>\n      <td>DE R$ 1.900,00 A R$ 3.800,00</td>\n      <td>2776.0</td>\n      <td>-11.609372</td>\n      <td>-47.047506</td>\n      <td>CPF</td>\n      <td>Porto Alegre do Tocantins</td>\n      <td>Tocantins</td>\n      <td>route</td>\n    </tr>\n    <tr>\n      <th>9996</th>\n      <td>bdaa7802-4650-44a4-93f7-952b72ec17a0</td>\n      <td>30/04/1980 00:00</td>\n      <td>DE R$ 3.800,00 A R$ 7.600,00</td>\n      <td>4099.0</td>\n      <td>-15.650497</td>\n      <td>-47.793321</td>\n      <td>CPF</td>\n      <td>Brasília</td>\n      <td>Distrito Federal</td>\n      <td>street_address</td>\n    </tr>\n    <tr>\n      <th>9997</th>\n      <td>e7b37cd5-714a-44d8-ad7f-4ed3aa6b0695</td>\n      <td>26/05/1976 00:00</td>\n      <td>DE R$ 788,00 A R$ 1.140,00</td>\n      <td>1052.0</td>\n      <td>-8.330679</td>\n      <td>-36.136897</td>\n      <td>CPF</td>\n      <td>São Caetano</td>\n      <td>Pernambuco</td>\n      <td>street_address</td>\n    </tr>\n    <tr>\n      <th>9998</th>\n      <td>167dbd7f-7ccd-4aad-a6b9-c3fb9d56c9cd</td>\n      <td>06/11/1985 00:00</td>\n      <td>DE R$ 788,00 A R$ 1.140,00</td>\n      <td>958.0</td>\n      <td>NaN</td>\n      <td>NaN</td>\n      <td>CNPJ</td>\n      <td>NaN</td>\n      <td>NaN</td>\n      <td>NaN</td>\n    </tr>\n    <tr>\n      <th>9999</th>\n      <td>d4f11ca2-71b1-4e12-aba6-bd8530ca2691</td>\n      <td>09/03/1981 00:00</td>\n      <td>DE R$ 3.800,00 A R$ 7.600,00</td>\n      <td>5954.0</td>\n      <td>-15.787504</td>\n      <td>-48.139096</td>\n      <td>CPF</td>\n      <td>Brasília</td>\n      <td>Distrito Federal</td>\n      <td>premise</td>\n    </tr>\n  </tbody>\n</table>\n<p>10000 rows × 10 columns</p>\n</div>"
     },
     "metadata": {},
     "execution_count": 37
    }
   ],
   "source": [
    "df_spc"
   ]
  },
  {
   "cell_type": "code",
   "execution_count": 38,
   "metadata": {},
   "outputs": [],
   "source": [
    "from sklearn.preprocessing import LabelEncoder, MinMaxScaler"
   ]
  },
  {
   "cell_type": "code",
   "execution_count": 39,
   "metadata": {},
   "outputs": [
    {
     "output_type": "execute_result",
     "data": {
      "text/plain": [
       "array([0, 1, 2, 3])"
      ]
     },
     "metadata": {},
     "execution_count": 39
    }
   ],
   "source": [
    "state_encoder = LabelEncoder()\n",
    "state_encoder.fit(df_spc['RENDA'].unique())\n",
    "df_spc['RENDA'] = state_encoder.transform(df_spc['RENDA'])\n",
    "df_spc['RENDA'].unique()"
   ]
  },
  {
   "cell_type": "code",
   "execution_count": 40,
   "metadata": {},
   "outputs": [
    {
     "output_type": "execute_result",
     "data": {
      "text/plain": [
       "array([ 993,  160, 1996, ..., 2017, 1851, 1551])"
      ]
     },
     "metadata": {},
     "execution_count": 40
    }
   ],
   "source": [
    "state_encoder = LabelEncoder()\n",
    "state_encoder.fit(df_spc['CIDADE'].unique())\n",
    "df_spc['CIDADE'] = state_encoder.transform(df_spc['CIDADE'])\n",
    "df_spc['CIDADE'].unique()"
   ]
  },
  {
   "cell_type": "code",
   "execution_count": 41,
   "metadata": {},
   "outputs": [
    {
     "output_type": "execute_result",
     "data": {
      "text/plain": [
       "array([ 5, 23, 17,  8, 12,  9, 29,  4, 16, 19, 15, 28, 20, 13, 30, 10, 11,\n",
       "       14,  1,  3, 21, 22,  0,  6,  7, 24, 18,  2, 26, 27, 25])"
      ]
     },
     "metadata": {},
     "execution_count": 41
    }
   ],
   "source": [
    "state_encoder = LabelEncoder()\n",
    "state_encoder.fit(df_spc['ESTADO'].unique())\n",
    "df_spc['ESTADO'] = state_encoder.transform(df_spc['ESTADO'])\n",
    "df_spc['ESTADO'].unique()"
   ]
  },
  {
   "cell_type": "code",
   "execution_count": null,
   "metadata": {},
   "outputs": [],
   "source": [
    "state_encoder = LabelEncoder()\n",
    "state_encoder.fit(df_spc['TIPO_PESSOA'].unique())\n",
    "df_spc['TIPO_PESSOA'] = state_encoder.transform(df_spc['TIPO_PESSOA'])\n",
    "df_spc['TIPO_PESSOA'].unique()"
   ]
  },
  {
   "cell_type": "code",
   "execution_count": 42,
   "metadata": {},
   "outputs": [
    {
     "output_type": "execute_result",
     "data": {
      "text/plain": [
       "(10000, 3)"
      ]
     },
     "metadata": {},
     "execution_count": 42
    }
   ],
   "source": [
    "X = df_spc[['RENDA', 'CIDADE', 'ESTADO']]\n",
    "X.shape"
   ]
  },
  {
   "cell_type": "code",
   "execution_count": 53,
   "metadata": {},
   "outputs": [],
   "source": [
    "# Y = f(X)\n",
    "Y = df_spc['TIPO_PESSOA']"
   ]
  },
  {
   "cell_type": "code",
   "execution_count": 47,
   "metadata": {},
   "outputs": [],
   "source": [
    "from sklearn.model_selection import train_test_split"
   ]
  },
  {
   "cell_type": "code",
   "execution_count": 48,
   "metadata": {},
   "outputs": [],
   "source": [
    "x_train, x_test, y_train, y_test = train_test_split(X, Y, test_size=0.33, random_state=42)"
   ]
  },
  {
   "cell_type": "code",
   "execution_count": 49,
   "metadata": {},
   "outputs": [
    {
     "output_type": "execute_result",
     "data": {
      "text/plain": [
       "(6700, 3)"
      ]
     },
     "metadata": {},
     "execution_count": 49
    }
   ],
   "source": [
    "x_train.shape"
   ]
  },
  {
   "cell_type": "code",
   "execution_count": 50,
   "metadata": {},
   "outputs": [
    {
     "output_type": "execute_result",
     "data": {
      "text/plain": [
       "(3300, 3)"
      ]
     },
     "metadata": {},
     "execution_count": 50
    }
   ],
   "source": [
    "x_test.shape"
   ]
  },
  {
   "cell_type": "code",
   "execution_count": 51,
   "metadata": {},
   "outputs": [
    {
     "output_type": "execute_result",
     "data": {
      "text/plain": [
       "(6700,)"
      ]
     },
     "metadata": {},
     "execution_count": 51
    }
   ],
   "source": [
    "y_train.shape"
   ]
  },
  {
   "cell_type": "code",
   "execution_count": 52,
   "metadata": {},
   "outputs": [
    {
     "output_type": "execute_result",
     "data": {
      "text/plain": [
       "(3300,)"
      ]
     },
     "metadata": {},
     "execution_count": 52
    }
   ],
   "source": [
    "y_test.shape"
   ]
  },
  {
   "cell_type": "code",
   "execution_count": 58,
   "metadata": {},
   "outputs": [],
   "source": [
    "from sklearn.cluster import KMeans\n",
    "from sklearn.neighbors import KNeighborsClassifier"
   ]
  },
  {
   "cell_type": "code",
   "execution_count": 55,
   "metadata": {},
   "outputs": [
    {
     "output_type": "execute_result",
     "data": {
      "text/plain": [
       "array(['CNPJ', 'CPF'], dtype=object)"
      ]
     },
     "metadata": {},
     "execution_count": 55
    }
   ],
   "source": [
    "np.unique(y_test)"
   ]
  },
  {
   "cell_type": "code",
   "execution_count": 56,
   "metadata": {},
   "outputs": [],
   "source": [
    "kmeans = KMeans(n_clusters=2, random_state=0)\n",
    "yk_train = kmeans.fit_predict(x_train)\n",
    "yk_test = kmeans.predict(x_test)"
   ]
  },
  {
   "cell_type": "code",
   "execution_count": 57,
   "metadata": {},
   "outputs": [
    {
     "output_type": "execute_result",
     "data": {
      "text/plain": [
       "-313692689.17850286"
      ]
     },
     "metadata": {},
     "execution_count": 57
    }
   ],
   "source": [
    "kmeans.score(x_test, yk_test)"
   ]
  },
  {
   "cell_type": "code",
   "execution_count": 59,
   "metadata": {},
   "outputs": [
    {
     "output_type": "execute_result",
     "data": {
      "text/plain": [
       "KNeighborsClassifier(n_neighbors=3)"
      ]
     },
     "metadata": {},
     "execution_count": 59
    }
   ],
   "source": [
    "model = KNeighborsClassifier(n_neighbors=3)\n",
    "model.fit(x_train,yk_train)"
   ]
  },
  {
   "cell_type": "code",
   "execution_count": 60,
   "metadata": {},
   "outputs": [
    {
     "output_type": "execute_result",
     "data": {
      "text/plain": [
       "KNeighborsClassifier(n_neighbors=3)"
      ]
     },
     "metadata": {},
     "execution_count": 60
    }
   ],
   "source": [
    "KNeighborsClassifier(algorithm='auto', leaf_size=30, metric='minkowski',\n",
    "                     metric_params=None, n_jobs=None, n_neighbors=3, p=2,\n",
    "                     weights='uniform')"
   ]
  },
  {
   "cell_type": "code",
   "execution_count": 61,
   "metadata": {},
   "outputs": [
    {
     "output_type": "execute_result",
     "data": {
      "text/plain": [
       "0.9996969696969698"
      ]
     },
     "metadata": {},
     "execution_count": 61
    }
   ],
   "source": [
    "model.score(x_test, yk_test)"
   ]
  },
  {
   "cell_type": "code",
   "execution_count": null,
   "metadata": {},
   "outputs": [],
   "source": []
  }
 ],
 "metadata": {
  "kernelspec": {
   "name": "python391jvsc74a57bd0ee5cc6fef2d70a7e71ee3826687cbd150f18158e0b1eef11d4f4f92bb920e304",
   "display_name": "Python 3.9.1 64-bit"
  },
  "language_info": {
   "codemirror_mode": {
    "name": "ipython",
    "version": 3
   },
   "file_extension": ".py",
   "mimetype": "text/x-python",
   "name": "python",
   "nbconvert_exporter": "python",
   "pygments_lexer": "ipython3",
   "version": "3.9.1"
  }
 },
 "nbformat": 4,
 "nbformat_minor": 5
}