{
 "metadata": {
  "language_info": {
   "codemirror_mode": {
    "name": "ipython",
    "version": 3
   },
   "file_extension": ".py",
   "mimetype": "text/x-python",
   "name": "python",
   "nbconvert_exporter": "python",
   "pygments_lexer": "ipython3",
   "version": "3.9.1"
  },
  "orig_nbformat": 4,
  "kernelspec": {
   "name": "python3",
   "display_name": "Python 3.9.1 64-bit"
  },
  "interpreter": {
   "hash": "ac59ebe37160ed0dfa835113d9b8498d9f09ceb179beaac4002f036b9467c963"
  }
 },
 "nbformat": 4,
 "nbformat_minor": 2,
 "cells": [
  {
   "cell_type": "code",
   "execution_count": 87,
   "metadata": {},
   "outputs": [],
   "source": [
    "# Importando os módulos:\n",
    "import pandas as pd\n",
    "import folium\n",
    "from folium import plugins, Map\n",
    "import matplotlib.pyplot as plt\n",
    "import numpy as np\n",
    "from API_google import reverse_geocode\n",
    "import seaborn as sns\n",
    "import csv \n",
    "from folium.plugins import HeatMap\n",
    "from folium.plugins import MarkerCluster\n",
    "import plotly.express as px\n",
    "from sklearn.cluster import KMeans\n",
    "from sklearn.preprocessing import LabelEncoder, MinMaxScaler"
   ]
  },
  {
   "cell_type": "code",
   "execution_count": 73,
   "metadata": {},
   "outputs": [],
   "source": [
    "# Nova data frame com os dados tratados (rodar todas as vezes)\n",
    "df= pd.read_csv(r\"dataset_consumo_2.csv\", delimiter=';', encoding='ANSI')"
   ]
  },
  {
   "cell_type": "code",
   "execution_count": 74,
   "metadata": {},
   "outputs": [],
   "source": [
    "df['LATITUDE'] = df['LATITUDE'].str.replace(',','.')\n",
    "df['LONGITUDE'] = df['LONGITUDE'].str.replace(',','.')"
   ]
  },
  {
   "cell_type": "code",
   "execution_count": 75,
   "metadata": {},
   "outputs": [
    {
     "output_type": "execute_result",
     "data": {
      "text/plain": [
       "                                ID_USUARIO   DATA_NASCIMENTO  \\\n",
       "0     d6c0cc1d-eb61-486a-b5c3-50725ef44d61  30/01/1981 00:00   \n",
       "1     da0067e7-aa6b-4355-b373-ca17f6ac3b44  28/01/1978 00:00   \n",
       "2     2d729b8a-d53c-48e7-8bf5-33b021980c04  09/12/1954 00:00   \n",
       "3     62c0f1e6-36f2-4205-a134-232a58a6f8a5  28/08/1975 00:00   \n",
       "4     0cef9719-0aa3-49a2-adea-9c09c04de071  17/06/1957 00:00   \n",
       "...                                    ...               ...   \n",
       "9995  f2261fce-83c5-4f64-b145-85f46bcf18b1  08/10/1979 00:00   \n",
       "9996  bdaa7802-4650-44a4-93f7-952b72ec17a0  30/04/1980 00:00   \n",
       "9997  e7b37cd5-714a-44d8-ad7f-4ed3aa6b0695  26/05/1976 00:00   \n",
       "9998  167dbd7f-7ccd-4aad-a6b9-c3fb9d56c9cd  06/11/1985 00:00   \n",
       "9999  d4f11ca2-71b1-4e12-aba6-bd8530ca2691  09/03/1981 00:00   \n",
       "\n",
       "                             RENDA RENDA_FIXA      LATITUDE     LONGITUDE  \\\n",
       "0     DE R$ 1.900,00 A R$ 3.800,00   3.104,00      -4.84758     -37.78439   \n",
       "1     DE R$ 3.800,00 A R$ 7.600,00   5.703,00  -26.99011814  -48.63716523   \n",
       "2     DE R$ 3.800,00 A R$ 7.600,00   3.901,00  -5.053671016  -42.81315203   \n",
       "3       DE R$ 788,00 A R$ 1.140,00   1.086,00    -15.059042    -48.163372   \n",
       "4       DE R$ 788,00 A R$ 1.140,00        836    -17.694658     -42.52228   \n",
       "...                            ...        ...           ...           ...   \n",
       "9995  DE R$ 1.900,00 A R$ 3.800,00   2.776,00  -11.60937194  -47.04750645   \n",
       "9996  DE R$ 3.800,00 A R$ 7.600,00   4.099,00  -15.65049668  -47.79332059   \n",
       "9997    DE R$ 788,00 A R$ 1.140,00   1.052,00  -8.330678649  -36.13689703   \n",
       "9998    DE R$ 788,00 A R$ 1.140,00        958           NaN           NaN   \n",
       "9999  DE R$ 3.800,00 A R$ 7.600,00   5.954,00    -15.787504    -48.139096   \n",
       "\n",
       "     TIPO_PESSOA                     CIDADE            ESTADO      LOGRADOURO  \\\n",
       "0            CPF                 Jaguaruana             Ceará  street_address   \n",
       "1            CPF         Balneário Camboriú    Santa Catarina  street_address   \n",
       "2            CPF                   Teresina             Piauí  street_address   \n",
       "3           CNPJ            Mimoso de Goiás             Goiás   establishment   \n",
       "4            CPF                  Capelinha      Minas Gerais  street_address   \n",
       "...          ...                        ...               ...             ...   \n",
       "9995         CPF  Porto Alegre do Tocantins         Tocantins           route   \n",
       "9996         CPF                   Brasília  Distrito Federal  street_address   \n",
       "9997         CPF                São Caetano        Pernambuco  street_address   \n",
       "9998        CNPJ                        NaN               NaN             NaN   \n",
       "9999         CPF                   Brasília  Distrito Federal         premise   \n",
       "\n",
       "         ANO  IDADE  FAIXA ETARIA         CONSUMO  \n",
       "0     1981.0   40.0  30 a 40 anos         SERVICO  \n",
       "1     1978.0   43.0  40 a 50 anos       FARMACIAS  \n",
       "2     1954.0   67.0  60 a 70 anos         SERVICO  \n",
       "3     1975.0   46.0  40 a 50 anos        M.O.T.O.  \n",
       "4     1957.0   64.0  60 a 70 anos        M.O.T.O.  \n",
       "...      ...    ...           ...             ...  \n",
       "9995  1979.0   42.0  40 a 50 anos          VAREJO  \n",
       "9996  1980.0   41.0  40 a 50 anos         SERVICO  \n",
       "9997  1976.0   45.0  40 a 50 anos         SERVICO  \n",
       "9998  1985.0   36.0  30 a 40 anos  ARTIGOS ELETRO  \n",
       "9999  1981.0   40.0  30 a 40 anos  ARTIGOS ELETRO  \n",
       "\n",
       "[10000 rows x 14 columns]"
      ],
      "text/html": "<div>\n<style scoped>\n    .dataframe tbody tr th:only-of-type {\n        vertical-align: middle;\n    }\n\n    .dataframe tbody tr th {\n        vertical-align: top;\n    }\n\n    .dataframe thead th {\n        text-align: right;\n    }\n</style>\n<table border=\"1\" class=\"dataframe\">\n  <thead>\n    <tr style=\"text-align: right;\">\n      <th></th>\n      <th>ID_USUARIO</th>\n      <th>DATA_NASCIMENTO</th>\n      <th>RENDA</th>\n      <th>RENDA_FIXA</th>\n      <th>LATITUDE</th>\n      <th>LONGITUDE</th>\n      <th>TIPO_PESSOA</th>\n      <th>CIDADE</th>\n      <th>ESTADO</th>\n      <th>LOGRADOURO</th>\n      <th>ANO</th>\n      <th>IDADE</th>\n      <th>FAIXA ETARIA</th>\n      <th>CONSUMO</th>\n    </tr>\n  </thead>\n  <tbody>\n    <tr>\n      <th>0</th>\n      <td>d6c0cc1d-eb61-486a-b5c3-50725ef44d61</td>\n      <td>30/01/1981 00:00</td>\n      <td>DE R$ 1.900,00 A R$ 3.800,00</td>\n      <td>3.104,00</td>\n      <td>-4.84758</td>\n      <td>-37.78439</td>\n      <td>CPF</td>\n      <td>Jaguaruana</td>\n      <td>Ceará</td>\n      <td>street_address</td>\n      <td>1981.0</td>\n      <td>40.0</td>\n      <td>30 a 40 anos</td>\n      <td>SERVICO</td>\n    </tr>\n    <tr>\n      <th>1</th>\n      <td>da0067e7-aa6b-4355-b373-ca17f6ac3b44</td>\n      <td>28/01/1978 00:00</td>\n      <td>DE R$ 3.800,00 A R$ 7.600,00</td>\n      <td>5.703,00</td>\n      <td>-26.99011814</td>\n      <td>-48.63716523</td>\n      <td>CPF</td>\n      <td>Balneário Camboriú</td>\n      <td>Santa Catarina</td>\n      <td>street_address</td>\n      <td>1978.0</td>\n      <td>43.0</td>\n      <td>40 a 50 anos</td>\n      <td>FARMACIAS</td>\n    </tr>\n    <tr>\n      <th>2</th>\n      <td>2d729b8a-d53c-48e7-8bf5-33b021980c04</td>\n      <td>09/12/1954 00:00</td>\n      <td>DE R$ 3.800,00 A R$ 7.600,00</td>\n      <td>3.901,00</td>\n      <td>-5.053671016</td>\n      <td>-42.81315203</td>\n      <td>CPF</td>\n      <td>Teresina</td>\n      <td>Piauí</td>\n      <td>street_address</td>\n      <td>1954.0</td>\n      <td>67.0</td>\n      <td>60 a 70 anos</td>\n      <td>SERVICO</td>\n    </tr>\n    <tr>\n      <th>3</th>\n      <td>62c0f1e6-36f2-4205-a134-232a58a6f8a5</td>\n      <td>28/08/1975 00:00</td>\n      <td>DE R$ 788,00 A R$ 1.140,00</td>\n      <td>1.086,00</td>\n      <td>-15.059042</td>\n      <td>-48.163372</td>\n      <td>CNPJ</td>\n      <td>Mimoso de Goiás</td>\n      <td>Goiás</td>\n      <td>establishment</td>\n      <td>1975.0</td>\n      <td>46.0</td>\n      <td>40 a 50 anos</td>\n      <td>M.O.T.O.</td>\n    </tr>\n    <tr>\n      <th>4</th>\n      <td>0cef9719-0aa3-49a2-adea-9c09c04de071</td>\n      <td>17/06/1957 00:00</td>\n      <td>DE R$ 788,00 A R$ 1.140,00</td>\n      <td>836</td>\n      <td>-17.694658</td>\n      <td>-42.52228</td>\n      <td>CPF</td>\n      <td>Capelinha</td>\n      <td>Minas Gerais</td>\n      <td>street_address</td>\n      <td>1957.0</td>\n      <td>64.0</td>\n      <td>60 a 70 anos</td>\n      <td>M.O.T.O.</td>\n    </tr>\n    <tr>\n      <th>...</th>\n      <td>...</td>\n      <td>...</td>\n      <td>...</td>\n      <td>...</td>\n      <td>...</td>\n      <td>...</td>\n      <td>...</td>\n      <td>...</td>\n      <td>...</td>\n      <td>...</td>\n      <td>...</td>\n      <td>...</td>\n      <td>...</td>\n      <td>...</td>\n    </tr>\n    <tr>\n      <th>9995</th>\n      <td>f2261fce-83c5-4f64-b145-85f46bcf18b1</td>\n      <td>08/10/1979 00:00</td>\n      <td>DE R$ 1.900,00 A R$ 3.800,00</td>\n      <td>2.776,00</td>\n      <td>-11.60937194</td>\n      <td>-47.04750645</td>\n      <td>CPF</td>\n      <td>Porto Alegre do Tocantins</td>\n      <td>Tocantins</td>\n      <td>route</td>\n      <td>1979.0</td>\n      <td>42.0</td>\n      <td>40 a 50 anos</td>\n      <td>VAREJO</td>\n    </tr>\n    <tr>\n      <th>9996</th>\n      <td>bdaa7802-4650-44a4-93f7-952b72ec17a0</td>\n      <td>30/04/1980 00:00</td>\n      <td>DE R$ 3.800,00 A R$ 7.600,00</td>\n      <td>4.099,00</td>\n      <td>-15.65049668</td>\n      <td>-47.79332059</td>\n      <td>CPF</td>\n      <td>Brasília</td>\n      <td>Distrito Federal</td>\n      <td>street_address</td>\n      <td>1980.0</td>\n      <td>41.0</td>\n      <td>40 a 50 anos</td>\n      <td>SERVICO</td>\n    </tr>\n    <tr>\n      <th>9997</th>\n      <td>e7b37cd5-714a-44d8-ad7f-4ed3aa6b0695</td>\n      <td>26/05/1976 00:00</td>\n      <td>DE R$ 788,00 A R$ 1.140,00</td>\n      <td>1.052,00</td>\n      <td>-8.330678649</td>\n      <td>-36.13689703</td>\n      <td>CPF</td>\n      <td>São Caetano</td>\n      <td>Pernambuco</td>\n      <td>street_address</td>\n      <td>1976.0</td>\n      <td>45.0</td>\n      <td>40 a 50 anos</td>\n      <td>SERVICO</td>\n    </tr>\n    <tr>\n      <th>9998</th>\n      <td>167dbd7f-7ccd-4aad-a6b9-c3fb9d56c9cd</td>\n      <td>06/11/1985 00:00</td>\n      <td>DE R$ 788,00 A R$ 1.140,00</td>\n      <td>958</td>\n      <td>NaN</td>\n      <td>NaN</td>\n      <td>CNPJ</td>\n      <td>NaN</td>\n      <td>NaN</td>\n      <td>NaN</td>\n      <td>1985.0</td>\n      <td>36.0</td>\n      <td>30 a 40 anos</td>\n      <td>ARTIGOS ELETRO</td>\n    </tr>\n    <tr>\n      <th>9999</th>\n      <td>d4f11ca2-71b1-4e12-aba6-bd8530ca2691</td>\n      <td>09/03/1981 00:00</td>\n      <td>DE R$ 3.800,00 A R$ 7.600,00</td>\n      <td>5.954,00</td>\n      <td>-15.787504</td>\n      <td>-48.139096</td>\n      <td>CPF</td>\n      <td>Brasília</td>\n      <td>Distrito Federal</td>\n      <td>premise</td>\n      <td>1981.0</td>\n      <td>40.0</td>\n      <td>30 a 40 anos</td>\n      <td>ARTIGOS ELETRO</td>\n    </tr>\n  </tbody>\n</table>\n<p>10000 rows × 14 columns</p>\n</div>"
     },
     "metadata": {},
     "execution_count": 75
    }
   ],
   "source": [
    "df"
   ]
  },
  {
   "cell_type": "code",
   "execution_count": 76,
   "metadata": {},
   "outputs": [],
   "source": [
    "#Transformar o tipo das colunas para Categoria\n",
    "df['RENDA'] = pd.Categorical(df['RENDA'])\n",
    "df['CONSUMO'] = pd.Categorical(df['CONSUMO'])\n",
    "df['IDADE'] = pd.Categorical(df['IDADE'])\n",
    "df['LATITUDE'] = pd.Categorical(df['LATITUDE'])\n",
    "df['LONGITUDE'] = pd.Categorical(df['LONGITUDE'])"
   ]
  },
  {
   "cell_type": "code",
   "execution_count": 77,
   "metadata": {},
   "outputs": [],
   "source": [
    "#Codificando os dados categóricos\n",
    "df['RENDA'] = df['RENDA'].cat.codes\n",
    "df['CONSUMO'] = df['CONSUMO'].cat.codes\n",
    "df['IDADE'] = df['IDADE'].cat.codes\n",
    "df['LATITUDE'] = df['LATITUDE'].cat.codes\n",
    "df['LONGITUDE'] = df['LONGITUDE'].cat.codes"
   ]
  },
  {
   "cell_type": "code",
   "execution_count": 78,
   "metadata": {},
   "outputs": [],
   "source": [
    "df_cluster=df[['CONSUMO','RENDA','IDADE','LATITUDE','LONGITUDE']]"
   ]
  },
  {
   "cell_type": "code",
   "execution_count": 79,
   "metadata": {},
   "outputs": [],
   "source": [
    "#Normalização com média 0 e desvio 1\n",
    "normaliza = MinMaxScaler()"
   ]
  },
  {
   "cell_type": "code",
   "execution_count": 80,
   "metadata": {},
   "outputs": [],
   "source": [
    "#Aplica a normalização\n",
    "X_std = normaliza.fit_transform(df_cluster)"
   ]
  },
  {
   "cell_type": "code",
   "execution_count": 81,
   "metadata": {},
   "outputs": [],
   "source": [
    "#transformando os dados normalizados em um dataframe\n",
    "df_grupc_norma = pd.DataFrame(X_std, columns=['CONSUMO','RENDA','IDADE','LATITUDE','LONGITUDE'])"
   ]
  },
  {
   "cell_type": "code",
   "execution_count": 82,
   "metadata": {},
   "outputs": [
    {
     "output_type": "execute_result",
     "data": {
      "text/plain": [
       "    CONSUMO     RENDA     IDADE  LATITUDE  LONGITUDE\n",
       "0  0.809524  0.000000  0.219780  0.872531   0.074183\n",
       "1  0.238095  0.333333  0.252747  0.667451   0.565953"
      ],
      "text/html": "<div>\n<style scoped>\n    .dataframe tbody tr th:only-of-type {\n        vertical-align: middle;\n    }\n\n    .dataframe tbody tr th {\n        vertical-align: top;\n    }\n\n    .dataframe thead th {\n        text-align: right;\n    }\n</style>\n<table border=\"1\" class=\"dataframe\">\n  <thead>\n    <tr style=\"text-align: right;\">\n      <th></th>\n      <th>CONSUMO</th>\n      <th>RENDA</th>\n      <th>IDADE</th>\n      <th>LATITUDE</th>\n      <th>LONGITUDE</th>\n    </tr>\n  </thead>\n  <tbody>\n    <tr>\n      <th>0</th>\n      <td>0.809524</td>\n      <td>0.000000</td>\n      <td>0.219780</td>\n      <td>0.872531</td>\n      <td>0.074183</td>\n    </tr>\n    <tr>\n      <th>1</th>\n      <td>0.238095</td>\n      <td>0.333333</td>\n      <td>0.252747</td>\n      <td>0.667451</td>\n      <td>0.565953</td>\n    </tr>\n  </tbody>\n</table>\n</div>"
     },
     "metadata": {},
     "execution_count": 82
    }
   ],
   "source": [
    "#Agora todos os valores estão entre 0 e 1\n",
    "df_grupc_norma.head(2)"
   ]
  },
  {
   "cell_type": "code",
   "execution_count": 83,
   "metadata": {},
   "outputs": [
    {
     "output_type": "execute_result",
     "data": {
      "text/plain": [
       "    CONSUMO     RENDA     IDADE  LATITUDE  LONGITUDE  CLUSTER\n",
       "0  0.809524  0.000000  0.219780  0.872531   0.074183        2\n",
       "1  0.238095  0.333333  0.252747  0.667451   0.565953        1\n",
       "2  0.809524  0.333333  0.516484  0.875588   0.228192        2\n",
       "3  0.523810  0.666667  0.285714  0.115122   0.531272        0\n",
       "4  0.523810  0.666667  0.483516  0.187441   0.215495        0"
      ],
      "text/html": "<div>\n<style scoped>\n    .dataframe tbody tr th:only-of-type {\n        vertical-align: middle;\n    }\n\n    .dataframe tbody tr th {\n        vertical-align: top;\n    }\n\n    .dataframe thead th {\n        text-align: right;\n    }\n</style>\n<table border=\"1\" class=\"dataframe\">\n  <thead>\n    <tr style=\"text-align: right;\">\n      <th></th>\n      <th>CONSUMO</th>\n      <th>RENDA</th>\n      <th>IDADE</th>\n      <th>LATITUDE</th>\n      <th>LONGITUDE</th>\n      <th>CLUSTER</th>\n    </tr>\n  </thead>\n  <tbody>\n    <tr>\n      <th>0</th>\n      <td>0.809524</td>\n      <td>0.000000</td>\n      <td>0.219780</td>\n      <td>0.872531</td>\n      <td>0.074183</td>\n      <td>2</td>\n    </tr>\n    <tr>\n      <th>1</th>\n      <td>0.238095</td>\n      <td>0.333333</td>\n      <td>0.252747</td>\n      <td>0.667451</td>\n      <td>0.565953</td>\n      <td>1</td>\n    </tr>\n    <tr>\n      <th>2</th>\n      <td>0.809524</td>\n      <td>0.333333</td>\n      <td>0.516484</td>\n      <td>0.875588</td>\n      <td>0.228192</td>\n      <td>2</td>\n    </tr>\n    <tr>\n      <th>3</th>\n      <td>0.523810</td>\n      <td>0.666667</td>\n      <td>0.285714</td>\n      <td>0.115122</td>\n      <td>0.531272</td>\n      <td>0</td>\n    </tr>\n    <tr>\n      <th>4</th>\n      <td>0.523810</td>\n      <td>0.666667</td>\n      <td>0.483516</td>\n      <td>0.187441</td>\n      <td>0.215495</td>\n      <td>0</td>\n    </tr>\n  </tbody>\n</table>\n</div>"
     },
     "metadata": {},
     "execution_count": 83
    }
   ],
   "source": [
    "#Realizando a aplicação do Kmeans\n",
    "km = KMeans(n_clusters=4)\n",
    "clusters = km.fit_predict(df_grupc_norma)\n",
    "df_grupc_norma['CLUSTER'] = clusters\n",
    "df_grupc_norma.head()"
   ]
  },
  {
   "cell_type": "code",
   "execution_count": 84,
   "metadata": {},
   "outputs": [],
   "source": [
    "cluster_0 = df_grupc_norma[df_grupc_norma['CLUSTER'] == 0]\n",
    "cluster_1 = df_grupc_norma[df_grupc_norma['CLUSTER'] == 1]\n",
    "cluster_2 = df_grupc_norma[df_grupc_norma['CLUSTER'] == 2]\n",
    "cluster_3 = df_grupc_norma[df_grupc_norma['CLUSTER'] == 3]"
   ]
  },
  {
   "cell_type": "code",
   "execution_count": 85,
   "metadata": {},
   "outputs": [
    {
     "output_type": "execute_result",
     "data": {
      "text/plain": [
       "       CONSUMO     RENDA     IDADE  LATITUDE  LONGITUDE  CLUSTER\n",
       "1     0.238095  0.333333  0.252747  0.667451   0.565953        1\n",
       "7     0.523810  0.000000  0.219780  0.917921   0.533153        1\n",
       "11    0.523810  0.333333  0.758242  0.696731   0.851869        1\n",
       "13    0.095238  0.000000  0.153846  0.873942   0.543851        1\n",
       "15    0.809524  0.000000  0.406593  0.845484   0.872678        1\n",
       "...        ...       ...       ...       ...        ...      ...\n",
       "9981  0.523810  0.000000  0.395604  0.662982   0.585116        1\n",
       "9987  0.095238  0.000000  0.263736  0.747295   0.879850        1\n",
       "9989  0.952381  0.000000  0.263736  0.572907   0.446156        1\n",
       "9992  0.809524  0.000000  0.252747  0.742827   0.742182        1\n",
       "9994  0.952381  0.000000  0.252747  0.734713   0.771103        1\n",
       "\n",
       "[3088 rows x 6 columns]"
      ],
      "text/html": "<div>\n<style scoped>\n    .dataframe tbody tr th:only-of-type {\n        vertical-align: middle;\n    }\n\n    .dataframe tbody tr th {\n        vertical-align: top;\n    }\n\n    .dataframe thead th {\n        text-align: right;\n    }\n</style>\n<table border=\"1\" class=\"dataframe\">\n  <thead>\n    <tr style=\"text-align: right;\">\n      <th></th>\n      <th>CONSUMO</th>\n      <th>RENDA</th>\n      <th>IDADE</th>\n      <th>LATITUDE</th>\n      <th>LONGITUDE</th>\n      <th>CLUSTER</th>\n    </tr>\n  </thead>\n  <tbody>\n    <tr>\n      <th>1</th>\n      <td>0.238095</td>\n      <td>0.333333</td>\n      <td>0.252747</td>\n      <td>0.667451</td>\n      <td>0.565953</td>\n      <td>1</td>\n    </tr>\n    <tr>\n      <th>7</th>\n      <td>0.523810</td>\n      <td>0.000000</td>\n      <td>0.219780</td>\n      <td>0.917921</td>\n      <td>0.533153</td>\n      <td>1</td>\n    </tr>\n    <tr>\n      <th>11</th>\n      <td>0.523810</td>\n      <td>0.333333</td>\n      <td>0.758242</td>\n      <td>0.696731</td>\n      <td>0.851869</td>\n      <td>1</td>\n    </tr>\n    <tr>\n      <th>13</th>\n      <td>0.095238</td>\n      <td>0.000000</td>\n      <td>0.153846</td>\n      <td>0.873942</td>\n      <td>0.543851</td>\n      <td>1</td>\n    </tr>\n    <tr>\n      <th>15</th>\n      <td>0.809524</td>\n      <td>0.000000</td>\n      <td>0.406593</td>\n      <td>0.845484</td>\n      <td>0.872678</td>\n      <td>1</td>\n    </tr>\n    <tr>\n      <th>...</th>\n      <td>...</td>\n      <td>...</td>\n      <td>...</td>\n      <td>...</td>\n      <td>...</td>\n      <td>...</td>\n    </tr>\n    <tr>\n      <th>9981</th>\n      <td>0.523810</td>\n      <td>0.000000</td>\n      <td>0.395604</td>\n      <td>0.662982</td>\n      <td>0.585116</td>\n      <td>1</td>\n    </tr>\n    <tr>\n      <th>9987</th>\n      <td>0.095238</td>\n      <td>0.000000</td>\n      <td>0.263736</td>\n      <td>0.747295</td>\n      <td>0.879850</td>\n      <td>1</td>\n    </tr>\n    <tr>\n      <th>9989</th>\n      <td>0.952381</td>\n      <td>0.000000</td>\n      <td>0.263736</td>\n      <td>0.572907</td>\n      <td>0.446156</td>\n      <td>1</td>\n    </tr>\n    <tr>\n      <th>9992</th>\n      <td>0.809524</td>\n      <td>0.000000</td>\n      <td>0.252747</td>\n      <td>0.742827</td>\n      <td>0.742182</td>\n      <td>1</td>\n    </tr>\n    <tr>\n      <th>9994</th>\n      <td>0.952381</td>\n      <td>0.000000</td>\n      <td>0.252747</td>\n      <td>0.734713</td>\n      <td>0.771103</td>\n      <td>1</td>\n    </tr>\n  </tbody>\n</table>\n<p>3088 rows × 6 columns</p>\n</div>"
     },
     "metadata": {},
     "execution_count": 85
    }
   ],
   "source": [
    "cluster_1"
   ]
  },
  {
   "cell_type": "code",
   "execution_count": 89,
   "metadata": {},
   "outputs": [
    {
     "output_type": "execute_result",
     "data": {
      "text/plain": [
       "array([[0.74794085, 0.61196031, 0.4354274 , 0.4340126 , 0.58479075],\n",
       "       [0.73451764, 0.05148964, 0.32110474, 0.57266563, 0.72895995],\n",
       "       [0.74296681, 0.39120165, 0.34676218, 0.91204264, 0.10056175],\n",
       "       [0.7400234 , 0.22515418, 0.34462898, 0.15018182, 0.16501763]])"
      ]
     },
     "metadata": {},
     "execution_count": 89
    }
   ],
   "source": [
    "km.cluster_centers_"
   ]
  },
  {
   "cell_type": "code",
   "execution_count": null,
   "metadata": {},
   "outputs": [],
   "source": []
  }
 ]
}