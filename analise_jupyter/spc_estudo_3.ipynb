{
 "metadata": {
  "language_info": {
   "codemirror_mode": {
    "name": "ipython",
    "version": 3
   },
   "file_extension": ".py",
   "mimetype": "text/x-python",
   "name": "python",
   "nbconvert_exporter": "python",
   "pygments_lexer": "ipython3",
   "version": "3.9.1"
  },
  "orig_nbformat": 4,
  "kernelspec": {
   "name": "python3",
   "display_name": "Python 3.9.1 64-bit"
  },
  "interpreter": {
   "hash": "ac59ebe37160ed0dfa835113d9b8498d9f09ceb179beaac4002f036b9467c963"
  }
 },
 "nbformat": 4,
 "nbformat_minor": 2,
 "cells": [
  {
   "cell_type": "code",
   "execution_count": 1,
   "metadata": {},
   "outputs": [],
   "source": [
    "# Importando os módulos:\n",
    "import pandas as pd\n",
    "import folium\n",
    "from folium import plugins, Map\n",
    "import matplotlib.pyplot as plt\n",
    "import seaborn as sns\n",
    "from folium.plugins import HeatMap, MarkerCluster\n",
    "import plotly.express as px\n",
    "from sklearn.cluster import KMeans\n",
    "from sklearn.preprocessing import LabelEncoder, MinMaxScaler"
   ]
  },
  {
   "cell_type": "code",
   "execution_count": 73,
   "metadata": {},
   "outputs": [],
   "source": [
    "# Nova data frame com os dados tratados (rodar todas as vezes)\n",
    "df= pd.read_csv(r\"dataset_consumo_2.csv\", delimiter=';', encoding='ANSI')"
   ]
  },
  {
   "cell_type": "code",
   "execution_count": 74,
   "metadata": {},
   "outputs": [
    {
     "output_type": "execute_result",
     "data": {
      "text/plain": [
       "                                ID_USUARIO   DATA_NASCIMENTO  \\\n",
       "0     d6c0cc1d-eb61-486a-b5c3-50725ef44d61  30/01/1981 00:00   \n",
       "1     da0067e7-aa6b-4355-b373-ca17f6ac3b44  28/01/1978 00:00   \n",
       "2     2d729b8a-d53c-48e7-8bf5-33b021980c04  09/12/1954 00:00   \n",
       "3     62c0f1e6-36f2-4205-a134-232a58a6f8a5  28/08/1975 00:00   \n",
       "4     0cef9719-0aa3-49a2-adea-9c09c04de071  17/06/1957 00:00   \n",
       "...                                    ...               ...   \n",
       "9995  f2261fce-83c5-4f64-b145-85f46bcf18b1  08/10/1979 00:00   \n",
       "9996  bdaa7802-4650-44a4-93f7-952b72ec17a0  30/04/1980 00:00   \n",
       "9997  e7b37cd5-714a-44d8-ad7f-4ed3aa6b0695  26/05/1976 00:00   \n",
       "9998  167dbd7f-7ccd-4aad-a6b9-c3fb9d56c9cd  06/11/1985 00:00   \n",
       "9999  d4f11ca2-71b1-4e12-aba6-bd8530ca2691  09/03/1981 00:00   \n",
       "\n",
       "                             RENDA RENDA_FIXA      LATITUDE     LONGITUDE  \\\n",
       "0     DE R$ 1.900,00 A R$ 3.800,00   3.104,00      -4,84758     -37,78439   \n",
       "1     DE R$ 3.800,00 A R$ 7.600,00   5.703,00  -26,99011814  -48,63716523   \n",
       "2     DE R$ 3.800,00 A R$ 7.600,00   3.901,00  -5,053671016  -42,81315203   \n",
       "3       DE R$ 788,00 A R$ 1.140,00   1.086,00    -15,059042    -48,163372   \n",
       "4       DE R$ 788,00 A R$ 1.140,00        836    -17,694658     -42,52228   \n",
       "...                            ...        ...           ...           ...   \n",
       "9995  DE R$ 1.900,00 A R$ 3.800,00   2.776,00  -11,60937194  -47,04750645   \n",
       "9996  DE R$ 3.800,00 A R$ 7.600,00   4.099,00  -15,65049668  -47,79332059   \n",
       "9997    DE R$ 788,00 A R$ 1.140,00   1.052,00  -8,330678649  -36,13689703   \n",
       "9998    DE R$ 788,00 A R$ 1.140,00        958           NaN           NaN   \n",
       "9999  DE R$ 3.800,00 A R$ 7.600,00   5.954,00    -15,787504    -48,139096   \n",
       "\n",
       "     TIPO_PESSOA                     CIDADE            ESTADO      LOGRADOURO  \\\n",
       "0            CPF                 Jaguaruana             Ceará  street_address   \n",
       "1            CPF         Balneário Camboriú    Santa Catarina  street_address   \n",
       "2            CPF                   Teresina             Piauí  street_address   \n",
       "3           CNPJ            Mimoso de Goiás             Goiás   establishment   \n",
       "4            CPF                  Capelinha      Minas Gerais  street_address   \n",
       "...          ...                        ...               ...             ...   \n",
       "9995         CPF  Porto Alegre do Tocantins         Tocantins           route   \n",
       "9996         CPF                   Brasília  Distrito Federal  street_address   \n",
       "9997         CPF                São Caetano        Pernambuco  street_address   \n",
       "9998        CNPJ                        NaN               NaN             NaN   \n",
       "9999         CPF                   Brasília  Distrito Federal         premise   \n",
       "\n",
       "         ANO  IDADE  FAIXA ETARIA         CONSUMO  \n",
       "0     1981.0   40.0  30 a 40 anos         SERVICO  \n",
       "1     1978.0   43.0  40 a 50 anos       FARMACIAS  \n",
       "2     1954.0   67.0  60 a 70 anos         SERVICO  \n",
       "3     1975.0   46.0  40 a 50 anos        M.O.T.O.  \n",
       "4     1957.0   64.0  60 a 70 anos        M.O.T.O.  \n",
       "...      ...    ...           ...             ...  \n",
       "9995  1979.0   42.0  40 a 50 anos          VAREJO  \n",
       "9996  1980.0   41.0  40 a 50 anos         SERVICO  \n",
       "9997  1976.0   45.0  40 a 50 anos         SERVICO  \n",
       "9998  1985.0   36.0  30 a 40 anos  ARTIGOS ELETRO  \n",
       "9999  1981.0   40.0  30 a 40 anos  ARTIGOS ELETRO  \n",
       "\n",
       "[10000 rows x 14 columns]"
      ],
      "text/html": "<div>\n<style scoped>\n    .dataframe tbody tr th:only-of-type {\n        vertical-align: middle;\n    }\n\n    .dataframe tbody tr th {\n        vertical-align: top;\n    }\n\n    .dataframe thead th {\n        text-align: right;\n    }\n</style>\n<table border=\"1\" class=\"dataframe\">\n  <thead>\n    <tr style=\"text-align: right;\">\n      <th></th>\n      <th>ID_USUARIO</th>\n      <th>DATA_NASCIMENTO</th>\n      <th>RENDA</th>\n      <th>RENDA_FIXA</th>\n      <th>LATITUDE</th>\n      <th>LONGITUDE</th>\n      <th>TIPO_PESSOA</th>\n      <th>CIDADE</th>\n      <th>ESTADO</th>\n      <th>LOGRADOURO</th>\n      <th>ANO</th>\n      <th>IDADE</th>\n      <th>FAIXA ETARIA</th>\n      <th>CONSUMO</th>\n    </tr>\n  </thead>\n  <tbody>\n    <tr>\n      <th>0</th>\n      <td>d6c0cc1d-eb61-486a-b5c3-50725ef44d61</td>\n      <td>30/01/1981 00:00</td>\n      <td>DE R$ 1.900,00 A R$ 3.800,00</td>\n      <td>3.104,00</td>\n      <td>-4,84758</td>\n      <td>-37,78439</td>\n      <td>CPF</td>\n      <td>Jaguaruana</td>\n      <td>Ceará</td>\n      <td>street_address</td>\n      <td>1981.0</td>\n      <td>40.0</td>\n      <td>30 a 40 anos</td>\n      <td>SERVICO</td>\n    </tr>\n    <tr>\n      <th>1</th>\n      <td>da0067e7-aa6b-4355-b373-ca17f6ac3b44</td>\n      <td>28/01/1978 00:00</td>\n      <td>DE R$ 3.800,00 A R$ 7.600,00</td>\n      <td>5.703,00</td>\n      <td>-26,99011814</td>\n      <td>-48,63716523</td>\n      <td>CPF</td>\n      <td>Balneário Camboriú</td>\n      <td>Santa Catarina</td>\n      <td>street_address</td>\n      <td>1978.0</td>\n      <td>43.0</td>\n      <td>40 a 50 anos</td>\n      <td>FARMACIAS</td>\n    </tr>\n    <tr>\n      <th>2</th>\n      <td>2d729b8a-d53c-48e7-8bf5-33b021980c04</td>\n      <td>09/12/1954 00:00</td>\n      <td>DE R$ 3.800,00 A R$ 7.600,00</td>\n      <td>3.901,00</td>\n      <td>-5,053671016</td>\n      <td>-42,81315203</td>\n      <td>CPF</td>\n      <td>Teresina</td>\n      <td>Piauí</td>\n      <td>street_address</td>\n      <td>1954.0</td>\n      <td>67.0</td>\n      <td>60 a 70 anos</td>\n      <td>SERVICO</td>\n    </tr>\n    <tr>\n      <th>3</th>\n      <td>62c0f1e6-36f2-4205-a134-232a58a6f8a5</td>\n      <td>28/08/1975 00:00</td>\n      <td>DE R$ 788,00 A R$ 1.140,00</td>\n      <td>1.086,00</td>\n      <td>-15,059042</td>\n      <td>-48,163372</td>\n      <td>CNPJ</td>\n      <td>Mimoso de Goiás</td>\n      <td>Goiás</td>\n      <td>establishment</td>\n      <td>1975.0</td>\n      <td>46.0</td>\n      <td>40 a 50 anos</td>\n      <td>M.O.T.O.</td>\n    </tr>\n    <tr>\n      <th>4</th>\n      <td>0cef9719-0aa3-49a2-adea-9c09c04de071</td>\n      <td>17/06/1957 00:00</td>\n      <td>DE R$ 788,00 A R$ 1.140,00</td>\n      <td>836</td>\n      <td>-17,694658</td>\n      <td>-42,52228</td>\n      <td>CPF</td>\n      <td>Capelinha</td>\n      <td>Minas Gerais</td>\n      <td>street_address</td>\n      <td>1957.0</td>\n      <td>64.0</td>\n      <td>60 a 70 anos</td>\n      <td>M.O.T.O.</td>\n    </tr>\n    <tr>\n      <th>...</th>\n      <td>...</td>\n      <td>...</td>\n      <td>...</td>\n      <td>...</td>\n      <td>...</td>\n      <td>...</td>\n      <td>...</td>\n      <td>...</td>\n      <td>...</td>\n      <td>...</td>\n      <td>...</td>\n      <td>...</td>\n      <td>...</td>\n      <td>...</td>\n    </tr>\n    <tr>\n      <th>9995</th>\n      <td>f2261fce-83c5-4f64-b145-85f46bcf18b1</td>\n      <td>08/10/1979 00:00</td>\n      <td>DE R$ 1.900,00 A R$ 3.800,00</td>\n      <td>2.776,00</td>\n      <td>-11,60937194</td>\n      <td>-47,04750645</td>\n      <td>CPF</td>\n      <td>Porto Alegre do Tocantins</td>\n      <td>Tocantins</td>\n      <td>route</td>\n      <td>1979.0</td>\n      <td>42.0</td>\n      <td>40 a 50 anos</td>\n      <td>VAREJO</td>\n    </tr>\n    <tr>\n      <th>9996</th>\n      <td>bdaa7802-4650-44a4-93f7-952b72ec17a0</td>\n      <td>30/04/1980 00:00</td>\n      <td>DE R$ 3.800,00 A R$ 7.600,00</td>\n      <td>4.099,00</td>\n      <td>-15,65049668</td>\n      <td>-47,79332059</td>\n      <td>CPF</td>\n      <td>Brasília</td>\n      <td>Distrito Federal</td>\n      <td>street_address</td>\n      <td>1980.0</td>\n      <td>41.0</td>\n      <td>40 a 50 anos</td>\n      <td>SERVICO</td>\n    </tr>\n    <tr>\n      <th>9997</th>\n      <td>e7b37cd5-714a-44d8-ad7f-4ed3aa6b0695</td>\n      <td>26/05/1976 00:00</td>\n      <td>DE R$ 788,00 A R$ 1.140,00</td>\n      <td>1.052,00</td>\n      <td>-8,330678649</td>\n      <td>-36,13689703</td>\n      <td>CPF</td>\n      <td>São Caetano</td>\n      <td>Pernambuco</td>\n      <td>street_address</td>\n      <td>1976.0</td>\n      <td>45.0</td>\n      <td>40 a 50 anos</td>\n      <td>SERVICO</td>\n    </tr>\n    <tr>\n      <th>9998</th>\n      <td>167dbd7f-7ccd-4aad-a6b9-c3fb9d56c9cd</td>\n      <td>06/11/1985 00:00</td>\n      <td>DE R$ 788,00 A R$ 1.140,00</td>\n      <td>958</td>\n      <td>NaN</td>\n      <td>NaN</td>\n      <td>CNPJ</td>\n      <td>NaN</td>\n      <td>NaN</td>\n      <td>NaN</td>\n      <td>1985.0</td>\n      <td>36.0</td>\n      <td>30 a 40 anos</td>\n      <td>ARTIGOS ELETRO</td>\n    </tr>\n    <tr>\n      <th>9999</th>\n      <td>d4f11ca2-71b1-4e12-aba6-bd8530ca2691</td>\n      <td>09/03/1981 00:00</td>\n      <td>DE R$ 3.800,00 A R$ 7.600,00</td>\n      <td>5.954,00</td>\n      <td>-15,787504</td>\n      <td>-48,139096</td>\n      <td>CPF</td>\n      <td>Brasília</td>\n      <td>Distrito Federal</td>\n      <td>premise</td>\n      <td>1981.0</td>\n      <td>40.0</td>\n      <td>30 a 40 anos</td>\n      <td>ARTIGOS ELETRO</td>\n    </tr>\n  </tbody>\n</table>\n<p>10000 rows × 14 columns</p>\n</div>"
     },
     "metadata": {},
     "execution_count": 74
    }
   ],
   "source": [
    "df"
   ]
  },
  {
   "cell_type": "code",
   "execution_count": 3,
   "metadata": {},
   "outputs": [],
   "source": [
    "df['LATITUDE'] = df['LATITUDE'].str.replace(',','.')\n",
    "df['LONGITUDE'] = df['LONGITUDE'].str.replace(',','.')"
   ]
  },
  {
   "cell_type": "code",
   "execution_count": 4,
   "metadata": {},
   "outputs": [],
   "source": [
    "df_final=df[['CONSUMO','RENDA','IDADE','LATITUDE','LONGITUDE']]"
   ]
  },
  {
   "cell_type": "code",
   "execution_count": 5,
   "metadata": {},
   "outputs": [],
   "source": [
    "df_code=df[['CONSUMO','RENDA','IDADE','LATITUDE','LONGITUDE']]"
   ]
  },
  {
   "cell_type": "code",
   "execution_count": 30,
   "metadata": {},
   "outputs": [
    {
     "output_type": "execute_result",
     "data": {
      "text/plain": [
       "array([0, 1, 2, 3])"
      ]
     },
     "metadata": {},
     "execution_count": 30
    }
   ],
   "source": [
    "#state_encoder = LabelEncoder()\n",
    "#state_encoder.fit(df['RENDA'].unique())\n",
    "#df['RENDA'] = state_encoder.transform(df['RENDA'])\n",
    "#df['RENDA'].unique()"
   ]
  },
  {
   "cell_type": "code",
   "execution_count": 31,
   "metadata": {},
   "outputs": [
    {
     "output_type": "execute_result",
     "data": {
      "text/plain": [
       "array([17,  5, 11,  2, 20, 10, 21, 13,  6, 16, 18, 15, 12, 14,  4,  9, 19,\n",
       "        0,  3,  7,  8,  1])"
      ]
     },
     "metadata": {},
     "execution_count": 31
    }
   ],
   "source": [
    "#state_encoder = LabelEncoder()\n",
    "#state_encoder.fit(df['CONSUMO'].unique())\n",
    "#df['CONSUMO'] = state_encoder.transform(df['CONSUMO'])\n",
    "#df['CONSUMO'].unique()"
   ]
  },
  {
   "cell_type": "code",
   "execution_count": 33,
   "metadata": {},
   "outputs": [
    {
     "output_type": "execute_result",
     "data": {
      "text/plain": [
       "array([7419, 5675, 7445, ..., 1079, 8166, 1121])"
      ]
     },
     "metadata": {},
     "execution_count": 33
    }
   ],
   "source": [
    "#state_encoder = LabelEncoder()\n",
    "#state_encoder.fit(df['LATITUDE'].unique())\n",
    "#df['LATITUDE'] = state_encoder.transform(df['LATITUDE'])\n",
    "#df['LATITUDE'].unique()"
   ]
  },
  {
   "cell_type": "code",
   "execution_count": 32,
   "metadata": {},
   "outputs": [
    {
     "output_type": "execute_result",
     "data": {
      "text/plain": [
       "array([19, 22, 46, 25, 43, 21, 27, 42, 24, 68, 32, 13, 30, 36, 91, 28, 51,\n",
       "       20, 14, 53, 17, 52, 35, 11, 34, 47, 18, 49, 26, 33, 38, 75, 45, 62,\n",
       "       44, 48, 23, 61, 39, 40, 29, 63, 72, 64, 15, 12, 16, 41, 71, 60, 37,\n",
       "       66, 31, 73, 54, 74,  6, 81, 50, 83, 76, 65, 69, 55, 59,  9,  3, 58,\n",
       "       79, 57, 70, 56,  2, 77, 82, 67, 80, 85, 10,  4, 78, 84,  7,  1,  0,\n",
       "        5,  8, 86, 87, 90, 88, 89], dtype=int64)"
      ]
     },
     "metadata": {},
     "execution_count": 32
    }
   ],
   "source": [
    "#state_encoder = LabelEncoder()\n",
    "#state_encoder.fit(df['IDADE'].unique())\n",
    "#df['IDADE'] = state_encoder.transform(df['IDADE'])\n",
    "#df['IDADE'].unique()"
   ]
  },
  {
   "cell_type": "code",
   "execution_count": 34,
   "metadata": {},
   "outputs": [
    {
     "output_type": "execute_result",
     "data": {
      "text/plain": [
       "array([ 630, 4813, 1940, ..., 4272,  442, 4501])"
      ]
     },
     "metadata": {},
     "execution_count": 34
    }
   ],
   "source": [
    "#state_encoder = LabelEncoder()\n",
    "#state_encoder.fit(df['LONGITUDE'].unique())\n",
    "#df['LONGITUDE'] = state_encoder.transform(df['LONGITUDE'])\n",
    "#df['LONGITUDE'].unique()"
   ]
  },
  {
   "cell_type": "code",
   "execution_count": 6,
   "metadata": {},
   "outputs": [
    {
     "output_type": "stream",
     "name": "stderr",
     "text": [
      "<ipython-input-6-5724a20f01bb>:1: SettingWithCopyWarning: \nA value is trying to be set on a copy of a slice from a DataFrame.\nTry using .loc[row_indexer,col_indexer] = value instead\n\nSee the caveats in the documentation: https://pandas.pydata.org/pandas-docs/stable/user_guide/indexing.html#returning-a-view-versus-a-copy\n  df_code['RENDA'] = df_code['RENDA'].astype('category')\n<ipython-input-6-5724a20f01bb>:3: SettingWithCopyWarning: \nA value is trying to be set on a copy of a slice from a DataFrame.\nTry using .loc[row_indexer,col_indexer] = value instead\n\nSee the caveats in the documentation: https://pandas.pydata.org/pandas-docs/stable/user_guide/indexing.html#returning-a-view-versus-a-copy\n  df_code['RENDA_codes'] = df_code['RENDA'].cat.codes\n<ipython-input-6-5724a20f01bb>:4: SettingWithCopyWarning: \nA value is trying to be set on a copy of a slice from a DataFrame.\nTry using .loc[row_indexer,col_indexer] = value instead\n\nSee the caveats in the documentation: https://pandas.pydata.org/pandas-docs/stable/user_guide/indexing.html#returning-a-view-versus-a-copy\n  df_code['RENDA_reversed'] = df_code['RENDA_codes'].map(renda)\n"
     ]
    }
   ],
   "source": [
    "df_code['RENDA'] = df_code['RENDA'].astype('category')\n",
    "renda = dict(enumerate(df_code['RENDA'].cat.categories))\n",
    "df_code['RENDA_codes'] = df_code['RENDA'].cat.codes\n",
    "df_code['RENDA_reversed'] = df_code['RENDA_codes'].map(renda)"
   ]
  },
  {
   "cell_type": "code",
   "execution_count": 7,
   "metadata": {},
   "outputs": [
    {
     "output_type": "stream",
     "name": "stderr",
     "text": [
      "<ipython-input-7-9e1ae94d2c9b>:1: SettingWithCopyWarning: \nA value is trying to be set on a copy of a slice from a DataFrame.\nTry using .loc[row_indexer,col_indexer] = value instead\n\nSee the caveats in the documentation: https://pandas.pydata.org/pandas-docs/stable/user_guide/indexing.html#returning-a-view-versus-a-copy\n  df_code['CONSUMO'] = df_code['CONSUMO'].astype('category')\n<ipython-input-7-9e1ae94d2c9b>:3: SettingWithCopyWarning: \nA value is trying to be set on a copy of a slice from a DataFrame.\nTry using .loc[row_indexer,col_indexer] = value instead\n\nSee the caveats in the documentation: https://pandas.pydata.org/pandas-docs/stable/user_guide/indexing.html#returning-a-view-versus-a-copy\n  df_code['CONSUMO_codes'] = df_code['CONSUMO'].cat.codes\n<ipython-input-7-9e1ae94d2c9b>:4: SettingWithCopyWarning: \nA value is trying to be set on a copy of a slice from a DataFrame.\nTry using .loc[row_indexer,col_indexer] = value instead\n\nSee the caveats in the documentation: https://pandas.pydata.org/pandas-docs/stable/user_guide/indexing.html#returning-a-view-versus-a-copy\n  df_code['CONSUMO_reversed'] = df_code['CONSUMO_codes'].map(consumo)\n"
     ]
    }
   ],
   "source": [
    "df_code['CONSUMO'] = df_code['CONSUMO'].astype('category')\n",
    "consumo = dict(enumerate(df_code['CONSUMO'].cat.categories))\n",
    "df_code['CONSUMO_codes'] = df_code['CONSUMO'].cat.codes\n",
    "df_code['CONSUMO_reversed'] = df_code['CONSUMO_codes'].map(consumo)"
   ]
  },
  {
   "cell_type": "code",
   "execution_count": 8,
   "metadata": {},
   "outputs": [
    {
     "output_type": "stream",
     "name": "stderr",
     "text": [
      "<ipython-input-8-f73151834a9b>:1: SettingWithCopyWarning: \nA value is trying to be set on a copy of a slice from a DataFrame.\nTry using .loc[row_indexer,col_indexer] = value instead\n\nSee the caveats in the documentation: https://pandas.pydata.org/pandas-docs/stable/user_guide/indexing.html#returning-a-view-versus-a-copy\n  df_code['IDADE'] = df_code['IDADE'].astype('category')\n<ipython-input-8-f73151834a9b>:3: SettingWithCopyWarning: \nA value is trying to be set on a copy of a slice from a DataFrame.\nTry using .loc[row_indexer,col_indexer] = value instead\n\nSee the caveats in the documentation: https://pandas.pydata.org/pandas-docs/stable/user_guide/indexing.html#returning-a-view-versus-a-copy\n  df_code['IDADE_codes'] = df_code['IDADE'].cat.codes\n<ipython-input-8-f73151834a9b>:4: SettingWithCopyWarning: \nA value is trying to be set on a copy of a slice from a DataFrame.\nTry using .loc[row_indexer,col_indexer] = value instead\n\nSee the caveats in the documentation: https://pandas.pydata.org/pandas-docs/stable/user_guide/indexing.html#returning-a-view-versus-a-copy\n  df_code['IDADE_reversed'] = df_code['IDADE_codes'].map(idade)\n"
     ]
    }
   ],
   "source": [
    "df_code['IDADE'] = df_code['IDADE'].astype('category')\n",
    "idade = dict(enumerate(df_code['IDADE'].cat.categories))\n",
    "df_code['IDADE_codes'] = df_code['IDADE'].cat.codes\n",
    "df_code['IDADE_reversed'] = df_code['IDADE_codes'].map(idade)"
   ]
  },
  {
   "cell_type": "code",
   "execution_count": 9,
   "metadata": {},
   "outputs": [
    {
     "output_type": "stream",
     "name": "stderr",
     "text": [
      "<ipython-input-9-998012a6c0e7>:1: SettingWithCopyWarning: \nA value is trying to be set on a copy of a slice from a DataFrame.\nTry using .loc[row_indexer,col_indexer] = value instead\n\nSee the caveats in the documentation: https://pandas.pydata.org/pandas-docs/stable/user_guide/indexing.html#returning-a-view-versus-a-copy\n  df_code['LATITUDE'] = df_code['LATITUDE'].astype('category')\n<ipython-input-9-998012a6c0e7>:3: SettingWithCopyWarning: \nA value is trying to be set on a copy of a slice from a DataFrame.\nTry using .loc[row_indexer,col_indexer] = value instead\n\nSee the caveats in the documentation: https://pandas.pydata.org/pandas-docs/stable/user_guide/indexing.html#returning-a-view-versus-a-copy\n  df_code['LATITUDE_codes'] = df_code['LATITUDE'].cat.codes\n<ipython-input-9-998012a6c0e7>:4: SettingWithCopyWarning: \nA value is trying to be set on a copy of a slice from a DataFrame.\nTry using .loc[row_indexer,col_indexer] = value instead\n\nSee the caveats in the documentation: https://pandas.pydata.org/pandas-docs/stable/user_guide/indexing.html#returning-a-view-versus-a-copy\n  df_code['LATITUDE_reversed'] = df_code['LATITUDE_codes'].map(latitude)\n"
     ]
    }
   ],
   "source": [
    "df_code['LATITUDE'] = df_code['LATITUDE'].astype('category')\n",
    "latitude = dict(enumerate(df_code['LATITUDE'].cat.categories))\n",
    "df_code['LATITUDE_codes'] = df_code['LATITUDE'].cat.codes\n",
    "df_code['LATITUDE_reversed'] = df_code['LATITUDE_codes'].map(latitude)"
   ]
  },
  {
   "cell_type": "code",
   "execution_count": 10,
   "metadata": {},
   "outputs": [
    {
     "output_type": "stream",
     "name": "stderr",
     "text": [
      "<ipython-input-10-092d5b4d7e39>:1: SettingWithCopyWarning: \nA value is trying to be set on a copy of a slice from a DataFrame.\nTry using .loc[row_indexer,col_indexer] = value instead\n\nSee the caveats in the documentation: https://pandas.pydata.org/pandas-docs/stable/user_guide/indexing.html#returning-a-view-versus-a-copy\n  df_code['LONGITUDE'] = df_code['LONGITUDE'].astype('category')\n"
     ]
    }
   ],
   "source": [
    "df_code['LONGITUDE'] = df_code['LONGITUDE'].astype('category')\n",
    "longitude= dict(enumerate(df_code['LONGITUDE'].cat.categories))\n",
    "df_code['LONGITUDE_codes'] = df_code['LONGITUDE'].cat.codes\n",
    "df_code['LONGITUDE_reversed'] = df_code['LONGITUDE_codes'].map(longitude)"
   ]
  },
  {
   "cell_type": "code",
   "execution_count": 11,
   "metadata": {},
   "outputs": [
    {
     "output_type": "execute_result",
     "data": {
      "text/plain": [
       "             CONSUMO                         RENDA IDADE      LATITUDE  \\\n",
       "0            SERVICO  DE R$ 1.900,00 A R$ 3.800,00  40.0      -4.84758   \n",
       "1          FARMACIAS  DE R$ 3.800,00 A R$ 7.600,00  43.0  -26.99011814   \n",
       "2            SERVICO  DE R$ 3.800,00 A R$ 7.600,00  67.0  -5.053671016   \n",
       "3           M.O.T.O.    DE R$ 788,00 A R$ 1.140,00  46.0    -15.059042   \n",
       "4           M.O.T.O.    DE R$ 788,00 A R$ 1.140,00  64.0    -17.694658   \n",
       "...              ...                           ...   ...           ...   \n",
       "9995          VAREJO  DE R$ 1.900,00 A R$ 3.800,00  42.0  -11.60937194   \n",
       "9996         SERVICO  DE R$ 3.800,00 A R$ 7.600,00  41.0  -15.65049668   \n",
       "9997         SERVICO    DE R$ 788,00 A R$ 1.140,00  45.0  -8.330678649   \n",
       "9998  ARTIGOS ELETRO    DE R$ 788,00 A R$ 1.140,00  36.0           NaN   \n",
       "9999  ARTIGOS ELETRO  DE R$ 3.800,00 A R$ 7.600,00  40.0    -15.787504   \n",
       "\n",
       "         LONGITUDE  RENDA_codes                RENDA_reversed  CONSUMO_codes  \\\n",
       "0        -37.78439            0  DE R$ 1.900,00 A R$ 3.800,00             17   \n",
       "1     -48.63716523            1  DE R$ 3.800,00 A R$ 7.600,00              5   \n",
       "2     -42.81315203            1  DE R$ 3.800,00 A R$ 7.600,00             17   \n",
       "3       -48.163372            2    DE R$ 788,00 A R$ 1.140,00             11   \n",
       "4        -42.52228            2    DE R$ 788,00 A R$ 1.140,00             11   \n",
       "...            ...          ...                           ...            ...   \n",
       "9995  -47.04750645            0  DE R$ 1.900,00 A R$ 3.800,00             20   \n",
       "9996  -47.79332059            1  DE R$ 3.800,00 A R$ 7.600,00             17   \n",
       "9997  -36.13689703            2    DE R$ 788,00 A R$ 1.140,00             17   \n",
       "9998           NaN            2    DE R$ 788,00 A R$ 1.140,00              2   \n",
       "9999    -48.139096            1  DE R$ 3.800,00 A R$ 7.600,00              2   \n",
       "\n",
       "     CONSUMO_reversed  IDADE_codes  IDADE_reversed  LATITUDE_codes  \\\n",
       "0             SERVICO           19            40.0            7419   \n",
       "1           FARMACIAS           22            43.0            5675   \n",
       "2             SERVICO           46            67.0            7445   \n",
       "3            M.O.T.O.           25            46.0             978   \n",
       "4            M.O.T.O.           43            64.0            1593   \n",
       "...               ...          ...             ...             ...   \n",
       "9995           VAREJO           21            42.0             423   \n",
       "9996          SERVICO           20            41.0            1079   \n",
       "9997          SERVICO           24            45.0            8166   \n",
       "9998   ARTIGOS ELETRO           15            36.0              -1   \n",
       "9999   ARTIGOS ELETRO           19            40.0            1121   \n",
       "\n",
       "     LATITUDE_reversed  LONGITUDE_codes LONGITUDE_reversed  \n",
       "0             -4.84758              630          -37.78439  \n",
       "1         -26.99011814             4813       -48.63716523  \n",
       "2         -5.053671016             1940       -42.81315203  \n",
       "3           -15.059042             4518         -48.163372  \n",
       "4           -17.694658             1832          -42.52228  \n",
       "...                ...              ...                ...  \n",
       "9995      -11.60937194             3910       -47.04750645  \n",
       "9996      -15.65049668             4272       -47.79332059  \n",
       "9997      -8.330678649              442       -36.13689703  \n",
       "9998               NaN               -1                NaN  \n",
       "9999        -15.787504             4501         -48.139096  \n",
       "\n",
       "[10000 rows x 15 columns]"
      ],
      "text/html": "<div>\n<style scoped>\n    .dataframe tbody tr th:only-of-type {\n        vertical-align: middle;\n    }\n\n    .dataframe tbody tr th {\n        vertical-align: top;\n    }\n\n    .dataframe thead th {\n        text-align: right;\n    }\n</style>\n<table border=\"1\" class=\"dataframe\">\n  <thead>\n    <tr style=\"text-align: right;\">\n      <th></th>\n      <th>CONSUMO</th>\n      <th>RENDA</th>\n      <th>IDADE</th>\n      <th>LATITUDE</th>\n      <th>LONGITUDE</th>\n      <th>RENDA_codes</th>\n      <th>RENDA_reversed</th>\n      <th>CONSUMO_codes</th>\n      <th>CONSUMO_reversed</th>\n      <th>IDADE_codes</th>\n      <th>IDADE_reversed</th>\n      <th>LATITUDE_codes</th>\n      <th>LATITUDE_reversed</th>\n      <th>LONGITUDE_codes</th>\n      <th>LONGITUDE_reversed</th>\n    </tr>\n  </thead>\n  <tbody>\n    <tr>\n      <th>0</th>\n      <td>SERVICO</td>\n      <td>DE R$ 1.900,00 A R$ 3.800,00</td>\n      <td>40.0</td>\n      <td>-4.84758</td>\n      <td>-37.78439</td>\n      <td>0</td>\n      <td>DE R$ 1.900,00 A R$ 3.800,00</td>\n      <td>17</td>\n      <td>SERVICO</td>\n      <td>19</td>\n      <td>40.0</td>\n      <td>7419</td>\n      <td>-4.84758</td>\n      <td>630</td>\n      <td>-37.78439</td>\n    </tr>\n    <tr>\n      <th>1</th>\n      <td>FARMACIAS</td>\n      <td>DE R$ 3.800,00 A R$ 7.600,00</td>\n      <td>43.0</td>\n      <td>-26.99011814</td>\n      <td>-48.63716523</td>\n      <td>1</td>\n      <td>DE R$ 3.800,00 A R$ 7.600,00</td>\n      <td>5</td>\n      <td>FARMACIAS</td>\n      <td>22</td>\n      <td>43.0</td>\n      <td>5675</td>\n      <td>-26.99011814</td>\n      <td>4813</td>\n      <td>-48.63716523</td>\n    </tr>\n    <tr>\n      <th>2</th>\n      <td>SERVICO</td>\n      <td>DE R$ 3.800,00 A R$ 7.600,00</td>\n      <td>67.0</td>\n      <td>-5.053671016</td>\n      <td>-42.81315203</td>\n      <td>1</td>\n      <td>DE R$ 3.800,00 A R$ 7.600,00</td>\n      <td>17</td>\n      <td>SERVICO</td>\n      <td>46</td>\n      <td>67.0</td>\n      <td>7445</td>\n      <td>-5.053671016</td>\n      <td>1940</td>\n      <td>-42.81315203</td>\n    </tr>\n    <tr>\n      <th>3</th>\n      <td>M.O.T.O.</td>\n      <td>DE R$ 788,00 A R$ 1.140,00</td>\n      <td>46.0</td>\n      <td>-15.059042</td>\n      <td>-48.163372</td>\n      <td>2</td>\n      <td>DE R$ 788,00 A R$ 1.140,00</td>\n      <td>11</td>\n      <td>M.O.T.O.</td>\n      <td>25</td>\n      <td>46.0</td>\n      <td>978</td>\n      <td>-15.059042</td>\n      <td>4518</td>\n      <td>-48.163372</td>\n    </tr>\n    <tr>\n      <th>4</th>\n      <td>M.O.T.O.</td>\n      <td>DE R$ 788,00 A R$ 1.140,00</td>\n      <td>64.0</td>\n      <td>-17.694658</td>\n      <td>-42.52228</td>\n      <td>2</td>\n      <td>DE R$ 788,00 A R$ 1.140,00</td>\n      <td>11</td>\n      <td>M.O.T.O.</td>\n      <td>43</td>\n      <td>64.0</td>\n      <td>1593</td>\n      <td>-17.694658</td>\n      <td>1832</td>\n      <td>-42.52228</td>\n    </tr>\n    <tr>\n      <th>...</th>\n      <td>...</td>\n      <td>...</td>\n      <td>...</td>\n      <td>...</td>\n      <td>...</td>\n      <td>...</td>\n      <td>...</td>\n      <td>...</td>\n      <td>...</td>\n      <td>...</td>\n      <td>...</td>\n      <td>...</td>\n      <td>...</td>\n      <td>...</td>\n      <td>...</td>\n    </tr>\n    <tr>\n      <th>9995</th>\n      <td>VAREJO</td>\n      <td>DE R$ 1.900,00 A R$ 3.800,00</td>\n      <td>42.0</td>\n      <td>-11.60937194</td>\n      <td>-47.04750645</td>\n      <td>0</td>\n      <td>DE R$ 1.900,00 A R$ 3.800,00</td>\n      <td>20</td>\n      <td>VAREJO</td>\n      <td>21</td>\n      <td>42.0</td>\n      <td>423</td>\n      <td>-11.60937194</td>\n      <td>3910</td>\n      <td>-47.04750645</td>\n    </tr>\n    <tr>\n      <th>9996</th>\n      <td>SERVICO</td>\n      <td>DE R$ 3.800,00 A R$ 7.600,00</td>\n      <td>41.0</td>\n      <td>-15.65049668</td>\n      <td>-47.79332059</td>\n      <td>1</td>\n      <td>DE R$ 3.800,00 A R$ 7.600,00</td>\n      <td>17</td>\n      <td>SERVICO</td>\n      <td>20</td>\n      <td>41.0</td>\n      <td>1079</td>\n      <td>-15.65049668</td>\n      <td>4272</td>\n      <td>-47.79332059</td>\n    </tr>\n    <tr>\n      <th>9997</th>\n      <td>SERVICO</td>\n      <td>DE R$ 788,00 A R$ 1.140,00</td>\n      <td>45.0</td>\n      <td>-8.330678649</td>\n      <td>-36.13689703</td>\n      <td>2</td>\n      <td>DE R$ 788,00 A R$ 1.140,00</td>\n      <td>17</td>\n      <td>SERVICO</td>\n      <td>24</td>\n      <td>45.0</td>\n      <td>8166</td>\n      <td>-8.330678649</td>\n      <td>442</td>\n      <td>-36.13689703</td>\n    </tr>\n    <tr>\n      <th>9998</th>\n      <td>ARTIGOS ELETRO</td>\n      <td>DE R$ 788,00 A R$ 1.140,00</td>\n      <td>36.0</td>\n      <td>NaN</td>\n      <td>NaN</td>\n      <td>2</td>\n      <td>DE R$ 788,00 A R$ 1.140,00</td>\n      <td>2</td>\n      <td>ARTIGOS ELETRO</td>\n      <td>15</td>\n      <td>36.0</td>\n      <td>-1</td>\n      <td>NaN</td>\n      <td>-1</td>\n      <td>NaN</td>\n    </tr>\n    <tr>\n      <th>9999</th>\n      <td>ARTIGOS ELETRO</td>\n      <td>DE R$ 3.800,00 A R$ 7.600,00</td>\n      <td>40.0</td>\n      <td>-15.787504</td>\n      <td>-48.139096</td>\n      <td>1</td>\n      <td>DE R$ 3.800,00 A R$ 7.600,00</td>\n      <td>2</td>\n      <td>ARTIGOS ELETRO</td>\n      <td>19</td>\n      <td>40.0</td>\n      <td>1121</td>\n      <td>-15.787504</td>\n      <td>4501</td>\n      <td>-48.139096</td>\n    </tr>\n  </tbody>\n</table>\n<p>10000 rows × 15 columns</p>\n</div>"
     },
     "metadata": {},
     "execution_count": 11
    }
   ],
   "source": [
    "df_code"
   ]
  },
  {
   "cell_type": "code",
   "execution_count": 12,
   "metadata": {},
   "outputs": [],
   "source": [
    "df_codes=df_code[['IDADE_codes','RENDA_codes','CONSUMO_codes','LATITUDE_codes','LONGITUDE_codes']]"
   ]
  },
  {
   "cell_type": "code",
   "execution_count": 13,
   "metadata": {},
   "outputs": [],
   "source": [
    "#Normalização com média 0 e desvio 1\n",
    "normaliza = MinMaxScaler()"
   ]
  },
  {
   "cell_type": "code",
   "execution_count": 14,
   "metadata": {},
   "outputs": [],
   "source": [
    "#Aplica a normalização\n",
    "X_std = normaliza.fit_transform(df_codes)"
   ]
  },
  {
   "cell_type": "code",
   "execution_count": 15,
   "metadata": {},
   "outputs": [
    {
     "output_type": "execute_result",
     "data": {
      "text/plain": [
       "      IDADE_codes  RENDA_codes  CONSUMO_codes  LATITUDE_codes  LONGITUDE_codes\n",
       "0              19            0             17            7419              630\n",
       "1              22            1              5            5675             4813\n",
       "2              46            1             17            7445             1940\n",
       "3              25            2             11             978             4518\n",
       "4              43            2             11            1593             1832\n",
       "...           ...          ...            ...             ...              ...\n",
       "9995           21            0             20             423             3910\n",
       "9996           20            1             17            1079             4272\n",
       "9997           24            2             17            8166              442\n",
       "9998           15            2              2              -1               -1\n",
       "9999           19            1              2            1121             4501\n",
       "\n",
       "[10000 rows x 5 columns]"
      ],
      "text/html": "<div>\n<style scoped>\n    .dataframe tbody tr th:only-of-type {\n        vertical-align: middle;\n    }\n\n    .dataframe tbody tr th {\n        vertical-align: top;\n    }\n\n    .dataframe thead th {\n        text-align: right;\n    }\n</style>\n<table border=\"1\" class=\"dataframe\">\n  <thead>\n    <tr style=\"text-align: right;\">\n      <th></th>\n      <th>IDADE_codes</th>\n      <th>RENDA_codes</th>\n      <th>CONSUMO_codes</th>\n      <th>LATITUDE_codes</th>\n      <th>LONGITUDE_codes</th>\n    </tr>\n  </thead>\n  <tbody>\n    <tr>\n      <th>0</th>\n      <td>19</td>\n      <td>0</td>\n      <td>17</td>\n      <td>7419</td>\n      <td>630</td>\n    </tr>\n    <tr>\n      <th>1</th>\n      <td>22</td>\n      <td>1</td>\n      <td>5</td>\n      <td>5675</td>\n      <td>4813</td>\n    </tr>\n    <tr>\n      <th>2</th>\n      <td>46</td>\n      <td>1</td>\n      <td>17</td>\n      <td>7445</td>\n      <td>1940</td>\n    </tr>\n    <tr>\n      <th>3</th>\n      <td>25</td>\n      <td>2</td>\n      <td>11</td>\n      <td>978</td>\n      <td>4518</td>\n    </tr>\n    <tr>\n      <th>4</th>\n      <td>43</td>\n      <td>2</td>\n      <td>11</td>\n      <td>1593</td>\n      <td>1832</td>\n    </tr>\n    <tr>\n      <th>...</th>\n      <td>...</td>\n      <td>...</td>\n      <td>...</td>\n      <td>...</td>\n      <td>...</td>\n    </tr>\n    <tr>\n      <th>9995</th>\n      <td>21</td>\n      <td>0</td>\n      <td>20</td>\n      <td>423</td>\n      <td>3910</td>\n    </tr>\n    <tr>\n      <th>9996</th>\n      <td>20</td>\n      <td>1</td>\n      <td>17</td>\n      <td>1079</td>\n      <td>4272</td>\n    </tr>\n    <tr>\n      <th>9997</th>\n      <td>24</td>\n      <td>2</td>\n      <td>17</td>\n      <td>8166</td>\n      <td>442</td>\n    </tr>\n    <tr>\n      <th>9998</th>\n      <td>15</td>\n      <td>2</td>\n      <td>2</td>\n      <td>-1</td>\n      <td>-1</td>\n    </tr>\n    <tr>\n      <th>9999</th>\n      <td>19</td>\n      <td>1</td>\n      <td>2</td>\n      <td>1121</td>\n      <td>4501</td>\n    </tr>\n  </tbody>\n</table>\n<p>10000 rows × 5 columns</p>\n</div>"
     },
     "metadata": {},
     "execution_count": 15
    }
   ],
   "source": [
    "df_codes"
   ]
  },
  {
   "cell_type": "code",
   "execution_count": 16,
   "metadata": {},
   "outputs": [],
   "source": [
    "#transformando os dados normalizados em um dataframe\n",
    "df_norma = pd.DataFrame(X_std, columns=['IDADE_codes','RENDA_codes','CONSUMO_codes','LATITUDE_codes','LONGITUDE_codes'])"
   ]
  },
  {
   "cell_type": "code",
   "execution_count": 17,
   "metadata": {},
   "outputs": [
    {
     "output_type": "execute_result",
     "data": {
      "text/plain": [
       "   IDADE_codes  RENDA_codes  CONSUMO_codes  LATITUDE_codes  LONGITUDE_codes  \\\n",
       "0     0.219780     0.000000       0.809524        0.872531         0.074183   \n",
       "1     0.252747     0.333333       0.238095        0.667451         0.565953   \n",
       "2     0.516484     0.333333       0.809524        0.875588         0.228192   \n",
       "3     0.285714     0.666667       0.523810        0.115122         0.531272   \n",
       "4     0.483516     0.666667       0.523810        0.187441         0.215495   \n",
       "\n",
       "   CLUSTER  \n",
       "0        3  \n",
       "1        1  \n",
       "2        3  \n",
       "3        2  \n",
       "4        2  "
      ],
      "text/html": "<div>\n<style scoped>\n    .dataframe tbody tr th:only-of-type {\n        vertical-align: middle;\n    }\n\n    .dataframe tbody tr th {\n        vertical-align: top;\n    }\n\n    .dataframe thead th {\n        text-align: right;\n    }\n</style>\n<table border=\"1\" class=\"dataframe\">\n  <thead>\n    <tr style=\"text-align: right;\">\n      <th></th>\n      <th>IDADE_codes</th>\n      <th>RENDA_codes</th>\n      <th>CONSUMO_codes</th>\n      <th>LATITUDE_codes</th>\n      <th>LONGITUDE_codes</th>\n      <th>CLUSTER</th>\n    </tr>\n  </thead>\n  <tbody>\n    <tr>\n      <th>0</th>\n      <td>0.219780</td>\n      <td>0.000000</td>\n      <td>0.809524</td>\n      <td>0.872531</td>\n      <td>0.074183</td>\n      <td>3</td>\n    </tr>\n    <tr>\n      <th>1</th>\n      <td>0.252747</td>\n      <td>0.333333</td>\n      <td>0.238095</td>\n      <td>0.667451</td>\n      <td>0.565953</td>\n      <td>1</td>\n    </tr>\n    <tr>\n      <th>2</th>\n      <td>0.516484</td>\n      <td>0.333333</td>\n      <td>0.809524</td>\n      <td>0.875588</td>\n      <td>0.228192</td>\n      <td>3</td>\n    </tr>\n    <tr>\n      <th>3</th>\n      <td>0.285714</td>\n      <td>0.666667</td>\n      <td>0.523810</td>\n      <td>0.115122</td>\n      <td>0.531272</td>\n      <td>2</td>\n    </tr>\n    <tr>\n      <th>4</th>\n      <td>0.483516</td>\n      <td>0.666667</td>\n      <td>0.523810</td>\n      <td>0.187441</td>\n      <td>0.215495</td>\n      <td>2</td>\n    </tr>\n  </tbody>\n</table>\n</div>"
     },
     "metadata": {},
     "execution_count": 17
    }
   ],
   "source": [
    "#Realizando a aplicação do Kmeans\n",
    "km = KMeans(n_clusters=4)\n",
    "clusters = km.fit_predict(df_norma)\n",
    "df_norma['CLUSTER'] = clusters\n",
    "df_norma.head()"
   ]
  },
  {
   "cell_type": "code",
   "execution_count": 18,
   "metadata": {},
   "outputs": [
    {
     "output_type": "execute_result",
     "data": {
      "text/plain": [
       "array([[ 1.900e+01,  0.000e+00,  1.700e+01,  7.419e+03,  6.300e+02],\n",
       "       [ 2.200e+01,  1.000e+00,  5.000e+00,  5.675e+03,  4.813e+03],\n",
       "       [ 4.600e+01,  1.000e+00,  1.700e+01,  7.445e+03,  1.940e+03],\n",
       "       ...,\n",
       "       [ 2.400e+01,  2.000e+00,  1.700e+01,  8.166e+03,  4.420e+02],\n",
       "       [ 1.500e+01,  2.000e+00,  2.000e+00, -1.000e+00, -1.000e+00],\n",
       "       [ 1.900e+01,  1.000e+00,  2.000e+00,  1.121e+03,  4.501e+03]])"
      ]
     },
     "metadata": {},
     "execution_count": 18
    }
   ],
   "source": [
    "#retornando os dados\n",
    "retorno = normaliza.inverse_transform(X_std)\n",
    "retorno"
   ]
  },
  {
   "cell_type": "code",
   "execution_count": 19,
   "metadata": {},
   "outputs": [
    {
     "output_type": "execute_result",
     "data": {
      "text/plain": [
       "   IDADE_codes  RENDA_codes  CONSUMO_codes  LATITUDE_codes  LONGITUDE_codes  \\\n",
       "0         19.0          0.0           17.0          7419.0            630.0   \n",
       "1         22.0          1.0            5.0          5675.0           4813.0   \n",
       "2         46.0          1.0           17.0          7445.0           1940.0   \n",
       "3         25.0          2.0           11.0           978.0           4518.0   \n",
       "4         43.0          2.0           11.0          1593.0           1832.0   \n",
       "\n",
       "   cluster  \n",
       "0        3  \n",
       "1        1  \n",
       "2        3  \n",
       "3        2  \n",
       "4        2  "
      ],
      "text/html": "<div>\n<style scoped>\n    .dataframe tbody tr th:only-of-type {\n        vertical-align: middle;\n    }\n\n    .dataframe tbody tr th {\n        vertical-align: top;\n    }\n\n    .dataframe thead th {\n        text-align: right;\n    }\n</style>\n<table border=\"1\" class=\"dataframe\">\n  <thead>\n    <tr style=\"text-align: right;\">\n      <th></th>\n      <th>IDADE_codes</th>\n      <th>RENDA_codes</th>\n      <th>CONSUMO_codes</th>\n      <th>LATITUDE_codes</th>\n      <th>LONGITUDE_codes</th>\n      <th>cluster</th>\n    </tr>\n  </thead>\n  <tbody>\n    <tr>\n      <th>0</th>\n      <td>19.0</td>\n      <td>0.0</td>\n      <td>17.0</td>\n      <td>7419.0</td>\n      <td>630.0</td>\n      <td>3</td>\n    </tr>\n    <tr>\n      <th>1</th>\n      <td>22.0</td>\n      <td>1.0</td>\n      <td>5.0</td>\n      <td>5675.0</td>\n      <td>4813.0</td>\n      <td>1</td>\n    </tr>\n    <tr>\n      <th>2</th>\n      <td>46.0</td>\n      <td>1.0</td>\n      <td>17.0</td>\n      <td>7445.0</td>\n      <td>1940.0</td>\n      <td>3</td>\n    </tr>\n    <tr>\n      <th>3</th>\n      <td>25.0</td>\n      <td>2.0</td>\n      <td>11.0</td>\n      <td>978.0</td>\n      <td>4518.0</td>\n      <td>2</td>\n    </tr>\n    <tr>\n      <th>4</th>\n      <td>43.0</td>\n      <td>2.0</td>\n      <td>11.0</td>\n      <td>1593.0</td>\n      <td>1832.0</td>\n      <td>2</td>\n    </tr>\n  </tbody>\n</table>\n</div>"
     },
     "metadata": {},
     "execution_count": 19
    }
   ],
   "source": [
    "df_retorno = pd.DataFrame(retorno, columns=['IDADE_codes','RENDA_codes','CONSUMO_codes','LATITUDE_codes','LONGITUDE_codes'])\n",
    "df_retorno['cluster'] = clusters\n",
    "df_retorno.head()"
   ]
  },
  {
   "cell_type": "code",
   "execution_count": 20,
   "metadata": {},
   "outputs": [],
   "source": [
    "df_retorno.to_csv('list_clusters.csv', index=False)"
   ]
  },
  {
   "cell_type": "code",
   "execution_count": 21,
   "metadata": {},
   "outputs": [],
   "source": [
    "cluster_0 = df_retorno[df_retorno['cluster'] == 0]\n",
    "cluster_1 = df_retorno[df_retorno['cluster'] == 1]\n",
    "cluster_2 = df_retorno[df_retorno['cluster'] == 2]\n",
    "cluster_3 = df_retorno[df_retorno['cluster'] == 3]"
   ]
  },
  {
   "cell_type": "code",
   "execution_count": 22,
   "metadata": {},
   "outputs": [
    {
     "output_type": "stream",
     "name": "stdout",
     "text": [
      "<class 'pandas.core.frame.DataFrame'>\nInt64Index: 2465 entries, 3 to 9991\nData columns (total 6 columns):\n #   Column           Non-Null Count  Dtype\n---  ------           --------------  -----\n 0   IDADE_codes      2465 non-null   int8 \n 1   RENDA_codes      2465 non-null   int8 \n 2   CONSUMO_codes    2465 non-null   int8 \n 3   LATITUDE_codes   2465 non-null   int8 \n 4   LONGITUDE_codes  2465 non-null   int8 \n 5   cluster          2465 non-null   int8 \ndtypes: int8(6)\nmemory usage: 33.7 KB\n"
     ]
    }
   ],
   "source": [
    "cluster_2 = cluster_2.astype('int8')\n",
    "cluster_2.info()"
   ]
  },
  {
   "cell_type": "code",
   "execution_count": 23,
   "metadata": {},
   "outputs": [
    {
     "output_type": "stream",
     "name": "stderr",
     "text": [
      "<ipython-input-23-2fc3fce2b53e>:1: SettingWithCopyWarning: \nA value is trying to be set on a copy of a slice from a DataFrame.\nTry using .loc[row_indexer,col_indexer] = value instead\n\nSee the caveats in the documentation: https://pandas.pydata.org/pandas-docs/stable/user_guide/indexing.html#returning-a-view-versus-a-copy\n  cluster_0['CONSUMO_codes_reversed'] = cluster_0['CONSUMO_codes'].map(consumo)\n<ipython-input-23-2fc3fce2b53e>:2: SettingWithCopyWarning: \nA value is trying to be set on a copy of a slice from a DataFrame.\nTry using .loc[row_indexer,col_indexer] = value instead\n\nSee the caveats in the documentation: https://pandas.pydata.org/pandas-docs/stable/user_guide/indexing.html#returning-a-view-versus-a-copy\n  cluster_0['RENDA_codes_reversed'] = cluster_0['RENDA_codes'].map(renda)\n<ipython-input-23-2fc3fce2b53e>:3: SettingWithCopyWarning: \nA value is trying to be set on a copy of a slice from a DataFrame.\nTry using .loc[row_indexer,col_indexer] = value instead\n\nSee the caveats in the documentation: https://pandas.pydata.org/pandas-docs/stable/user_guide/indexing.html#returning-a-view-versus-a-copy\n  cluster_1['CONSUMO_codes_reversed'] = cluster_1['CONSUMO_codes'].map(consumo)\n<ipython-input-23-2fc3fce2b53e>:4: SettingWithCopyWarning: \nA value is trying to be set on a copy of a slice from a DataFrame.\nTry using .loc[row_indexer,col_indexer] = value instead\n\nSee the caveats in the documentation: https://pandas.pydata.org/pandas-docs/stable/user_guide/indexing.html#returning-a-view-versus-a-copy\n  cluster_1['RENDA_codes_reversed'] = cluster_1['RENDA_codes'].map(renda)\n<ipython-input-23-2fc3fce2b53e>:7: SettingWithCopyWarning: \nA value is trying to be set on a copy of a slice from a DataFrame.\nTry using .loc[row_indexer,col_indexer] = value instead\n\nSee the caveats in the documentation: https://pandas.pydata.org/pandas-docs/stable/user_guide/indexing.html#returning-a-view-versus-a-copy\n  cluster_3['CONSUMO_codes_reversed'] = cluster_3['CONSUMO_codes'].map(consumo)\n<ipython-input-23-2fc3fce2b53e>:8: SettingWithCopyWarning: \nA value is trying to be set on a copy of a slice from a DataFrame.\nTry using .loc[row_indexer,col_indexer] = value instead\n\nSee the caveats in the documentation: https://pandas.pydata.org/pandas-docs/stable/user_guide/indexing.html#returning-a-view-versus-a-copy\n  cluster_3['RENDA_codes_reversed'] = cluster_3['RENDA_codes'].map(renda)\n"
     ]
    }
   ],
   "source": [
    "cluster_0['CONSUMO_codes_reversed'] = cluster_0['CONSUMO_codes'].map(consumo)\n",
    "cluster_0['RENDA_codes_reversed'] = cluster_0['RENDA_codes'].map(renda)\n",
    "cluster_1['CONSUMO_codes_reversed'] = cluster_1['CONSUMO_codes'].map(consumo)\n",
    "cluster_1['RENDA_codes_reversed'] = cluster_1['RENDA_codes'].map(renda)\n",
    "cluster_2['CONSUMO_codes_reversed'] = cluster_2['CONSUMO_codes'].map(consumo)\n",
    "cluster_2['RENDA_codes_reversed'] = cluster_2['RENDA_codes'].map(renda)\n",
    "cluster_3['CONSUMO_codes_reversed'] = cluster_3['CONSUMO_codes'].map(consumo)\n",
    "cluster_3['RENDA_codes_reversed'] = cluster_3['RENDA_codes'].map(renda)"
   ]
  },
  {
   "cell_type": "code",
   "execution_count": 34,
   "metadata": {},
   "outputs": [
    {
     "output_type": "execute_result",
     "data": {
      "text/plain": [
       "(3088, 7)"
      ]
     },
     "metadata": {},
     "execution_count": 34
    }
   ],
   "source": [
    "#cluster_1.shape\n",
    "#cluster_1.isna().sum()"
   ]
  },
  {
   "cell_type": "code",
   "execution_count": 37,
   "metadata": {},
   "outputs": [
    {
     "output_type": "execute_result",
     "data": {
      "text/plain": [
       "             CONSUMO                         RENDA  IDADE      LATITUDE  \\\n",
       "9     ARTIGOS ELETRO  DE R$ 1.900,00 A R$ 3.800,00   45.0     -12.99279   \n",
       "18           SERVICO  DE R$ 3.800,00 A R$ 7.600,00    NaN    -22.895562   \n",
       "19           SERVICO  DE R$ 1.900,00 A R$ 3.800,00   49.0  -18.45250818   \n",
       "21           SERVICO  DE R$ 1.900,00 A R$ 3.800,00   41.0  -18.18101889   \n",
       "24         VESTUARIO  DE R$ 3.800,00 A R$ 7.600,00   57.0  -22.96448667   \n",
       "...              ...                           ...    ...           ...   \n",
       "9988  ARTIGOS ELETRO  DE R$ 3.800,00 A R$ 7.600,00   54.0      -2.51027   \n",
       "9995          VAREJO  DE R$ 1.900,00 A R$ 3.800,00   42.0  -11.60937194   \n",
       "9996         SERVICO  DE R$ 3.800,00 A R$ 7.600,00   41.0  -15.65049668   \n",
       "9998  ARTIGOS ELETRO    DE R$ 788,00 A R$ 1.140,00   36.0           NaN   \n",
       "9999  ARTIGOS ELETRO  DE R$ 3.800,00 A R$ 7.600,00   40.0    -15.787504   \n",
       "\n",
       "         LONGITUDE  \n",
       "9        -38.46543  \n",
       "18      -43.278422  \n",
       "19    -44.17324348  \n",
       "21    -47.94993778  \n",
       "24    -43.19038667  \n",
       "...            ...  \n",
       "9988     -44.30033  \n",
       "9995  -47.04750645  \n",
       "9996  -47.79332059  \n",
       "9998           NaN  \n",
       "9999    -48.139096  \n",
       "\n",
       "[3320 rows x 5 columns]"
      ],
      "text/html": "<div>\n<style scoped>\n    .dataframe tbody tr th:only-of-type {\n        vertical-align: middle;\n    }\n\n    .dataframe tbody tr th {\n        vertical-align: top;\n    }\n\n    .dataframe thead th {\n        text-align: right;\n    }\n</style>\n<table border=\"1\" class=\"dataframe\">\n  <thead>\n    <tr style=\"text-align: right;\">\n      <th></th>\n      <th>CONSUMO</th>\n      <th>RENDA</th>\n      <th>IDADE</th>\n      <th>LATITUDE</th>\n      <th>LONGITUDE</th>\n    </tr>\n  </thead>\n  <tbody>\n    <tr>\n      <th>9</th>\n      <td>ARTIGOS ELETRO</td>\n      <td>DE R$ 1.900,00 A R$ 3.800,00</td>\n      <td>45.0</td>\n      <td>-12.99279</td>\n      <td>-38.46543</td>\n    </tr>\n    <tr>\n      <th>18</th>\n      <td>SERVICO</td>\n      <td>DE R$ 3.800,00 A R$ 7.600,00</td>\n      <td>NaN</td>\n      <td>-22.895562</td>\n      <td>-43.278422</td>\n    </tr>\n    <tr>\n      <th>19</th>\n      <td>SERVICO</td>\n      <td>DE R$ 1.900,00 A R$ 3.800,00</td>\n      <td>49.0</td>\n      <td>-18.45250818</td>\n      <td>-44.17324348</td>\n    </tr>\n    <tr>\n      <th>21</th>\n      <td>SERVICO</td>\n      <td>DE R$ 1.900,00 A R$ 3.800,00</td>\n      <td>41.0</td>\n      <td>-18.18101889</td>\n      <td>-47.94993778</td>\n    </tr>\n    <tr>\n      <th>24</th>\n      <td>VESTUARIO</td>\n      <td>DE R$ 3.800,00 A R$ 7.600,00</td>\n      <td>57.0</td>\n      <td>-22.96448667</td>\n      <td>-43.19038667</td>\n    </tr>\n    <tr>\n      <th>...</th>\n      <td>...</td>\n      <td>...</td>\n      <td>...</td>\n      <td>...</td>\n      <td>...</td>\n    </tr>\n    <tr>\n      <th>9988</th>\n      <td>ARTIGOS ELETRO</td>\n      <td>DE R$ 3.800,00 A R$ 7.600,00</td>\n      <td>54.0</td>\n      <td>-2.51027</td>\n      <td>-44.30033</td>\n    </tr>\n    <tr>\n      <th>9995</th>\n      <td>VAREJO</td>\n      <td>DE R$ 1.900,00 A R$ 3.800,00</td>\n      <td>42.0</td>\n      <td>-11.60937194</td>\n      <td>-47.04750645</td>\n    </tr>\n    <tr>\n      <th>9996</th>\n      <td>SERVICO</td>\n      <td>DE R$ 3.800,00 A R$ 7.600,00</td>\n      <td>41.0</td>\n      <td>-15.65049668</td>\n      <td>-47.79332059</td>\n    </tr>\n    <tr>\n      <th>9998</th>\n      <td>ARTIGOS ELETRO</td>\n      <td>DE R$ 788,00 A R$ 1.140,00</td>\n      <td>36.0</td>\n      <td>NaN</td>\n      <td>NaN</td>\n    </tr>\n    <tr>\n      <th>9999</th>\n      <td>ARTIGOS ELETRO</td>\n      <td>DE R$ 3.800,00 A R$ 7.600,00</td>\n      <td>40.0</td>\n      <td>-15.787504</td>\n      <td>-48.139096</td>\n    </tr>\n  </tbody>\n</table>\n<p>3320 rows × 5 columns</p>\n</div>"
     },
     "metadata": {},
     "execution_count": 37
    }
   ],
   "source": [
    "ind_list = list(cluster_0.index)\n",
    "cluster0_original = df_final.iloc[ind_list]\n",
    "cluster0_original"
   ]
  },
  {
   "cell_type": "code",
   "execution_count": 38,
   "metadata": {},
   "outputs": [
    {
     "output_type": "stream",
     "name": "stderr",
     "text": [
      "<ipython-input-38-f559d6961207>:1: SettingWithCopyWarning: \nA value is trying to be set on a copy of a slice from a DataFrame.\nTry using .loc[row_indexer,col_indexer] = value instead\n\nSee the caveats in the documentation: https://pandas.pydata.org/pandas-docs/stable/user_guide/indexing.html#returning-a-view-versus-a-copy\n  cluster0_original['cluster'] = pd.Series(0, index=cluster0_original.index)\n"
     ]
    },
    {
     "output_type": "execute_result",
     "data": {
      "text/plain": [
       "             CONSUMO                         RENDA  IDADE      LATITUDE  \\\n",
       "9     ARTIGOS ELETRO  DE R$ 1.900,00 A R$ 3.800,00   45.0     -12.99279   \n",
       "18           SERVICO  DE R$ 3.800,00 A R$ 7.600,00    NaN    -22.895562   \n",
       "19           SERVICO  DE R$ 1.900,00 A R$ 3.800,00   49.0  -18.45250818   \n",
       "21           SERVICO  DE R$ 1.900,00 A R$ 3.800,00   41.0  -18.18101889   \n",
       "24         VESTUARIO  DE R$ 3.800,00 A R$ 7.600,00   57.0  -22.96448667   \n",
       "...              ...                           ...    ...           ...   \n",
       "9988  ARTIGOS ELETRO  DE R$ 3.800,00 A R$ 7.600,00   54.0      -2.51027   \n",
       "9995          VAREJO  DE R$ 1.900,00 A R$ 3.800,00   42.0  -11.60937194   \n",
       "9996         SERVICO  DE R$ 3.800,00 A R$ 7.600,00   41.0  -15.65049668   \n",
       "9998  ARTIGOS ELETRO    DE R$ 788,00 A R$ 1.140,00   36.0           NaN   \n",
       "9999  ARTIGOS ELETRO  DE R$ 3.800,00 A R$ 7.600,00   40.0    -15.787504   \n",
       "\n",
       "         LONGITUDE  cluster  \n",
       "9        -38.46543        0  \n",
       "18      -43.278422        0  \n",
       "19    -44.17324348        0  \n",
       "21    -47.94993778        0  \n",
       "24    -43.19038667        0  \n",
       "...            ...      ...  \n",
       "9988     -44.30033        0  \n",
       "9995  -47.04750645        0  \n",
       "9996  -47.79332059        0  \n",
       "9998           NaN        0  \n",
       "9999    -48.139096        0  \n",
       "\n",
       "[3320 rows x 6 columns]"
      ],
      "text/html": "<div>\n<style scoped>\n    .dataframe tbody tr th:only-of-type {\n        vertical-align: middle;\n    }\n\n    .dataframe tbody tr th {\n        vertical-align: top;\n    }\n\n    .dataframe thead th {\n        text-align: right;\n    }\n</style>\n<table border=\"1\" class=\"dataframe\">\n  <thead>\n    <tr style=\"text-align: right;\">\n      <th></th>\n      <th>CONSUMO</th>\n      <th>RENDA</th>\n      <th>IDADE</th>\n      <th>LATITUDE</th>\n      <th>LONGITUDE</th>\n      <th>cluster</th>\n    </tr>\n  </thead>\n  <tbody>\n    <tr>\n      <th>9</th>\n      <td>ARTIGOS ELETRO</td>\n      <td>DE R$ 1.900,00 A R$ 3.800,00</td>\n      <td>45.0</td>\n      <td>-12.99279</td>\n      <td>-38.46543</td>\n      <td>0</td>\n    </tr>\n    <tr>\n      <th>18</th>\n      <td>SERVICO</td>\n      <td>DE R$ 3.800,00 A R$ 7.600,00</td>\n      <td>NaN</td>\n      <td>-22.895562</td>\n      <td>-43.278422</td>\n      <td>0</td>\n    </tr>\n    <tr>\n      <th>19</th>\n      <td>SERVICO</td>\n      <td>DE R$ 1.900,00 A R$ 3.800,00</td>\n      <td>49.0</td>\n      <td>-18.45250818</td>\n      <td>-44.17324348</td>\n      <td>0</td>\n    </tr>\n    <tr>\n      <th>21</th>\n      <td>SERVICO</td>\n      <td>DE R$ 1.900,00 A R$ 3.800,00</td>\n      <td>41.0</td>\n      <td>-18.18101889</td>\n      <td>-47.94993778</td>\n      <td>0</td>\n    </tr>\n    <tr>\n      <th>24</th>\n      <td>VESTUARIO</td>\n      <td>DE R$ 3.800,00 A R$ 7.600,00</td>\n      <td>57.0</td>\n      <td>-22.96448667</td>\n      <td>-43.19038667</td>\n      <td>0</td>\n    </tr>\n    <tr>\n      <th>...</th>\n      <td>...</td>\n      <td>...</td>\n      <td>...</td>\n      <td>...</td>\n      <td>...</td>\n      <td>...</td>\n    </tr>\n    <tr>\n      <th>9988</th>\n      <td>ARTIGOS ELETRO</td>\n      <td>DE R$ 3.800,00 A R$ 7.600,00</td>\n      <td>54.0</td>\n      <td>-2.51027</td>\n      <td>-44.30033</td>\n      <td>0</td>\n    </tr>\n    <tr>\n      <th>9995</th>\n      <td>VAREJO</td>\n      <td>DE R$ 1.900,00 A R$ 3.800,00</td>\n      <td>42.0</td>\n      <td>-11.60937194</td>\n      <td>-47.04750645</td>\n      <td>0</td>\n    </tr>\n    <tr>\n      <th>9996</th>\n      <td>SERVICO</td>\n      <td>DE R$ 3.800,00 A R$ 7.600,00</td>\n      <td>41.0</td>\n      <td>-15.65049668</td>\n      <td>-47.79332059</td>\n      <td>0</td>\n    </tr>\n    <tr>\n      <th>9998</th>\n      <td>ARTIGOS ELETRO</td>\n      <td>DE R$ 788,00 A R$ 1.140,00</td>\n      <td>36.0</td>\n      <td>NaN</td>\n      <td>NaN</td>\n      <td>0</td>\n    </tr>\n    <tr>\n      <th>9999</th>\n      <td>ARTIGOS ELETRO</td>\n      <td>DE R$ 3.800,00 A R$ 7.600,00</td>\n      <td>40.0</td>\n      <td>-15.787504</td>\n      <td>-48.139096</td>\n      <td>0</td>\n    </tr>\n  </tbody>\n</table>\n<p>3320 rows × 6 columns</p>\n</div>"
     },
     "metadata": {},
     "execution_count": 38
    }
   ],
   "source": [
    "cluster0_original['cluster'] = pd.Series(0, index=cluster0_original.index)\n",
    "cluster0_original"
   ]
  },
  {
   "cell_type": "code",
   "execution_count": null,
   "metadata": {},
   "outputs": [],
   "source": [
    "cluster0_original['LATITUDE'].astype(float)"
   ]
  },
  {
   "cell_type": "code",
   "execution_count": 71,
   "metadata": {},
   "outputs": [
    {
     "output_type": "execute_result",
     "data": {
      "text/plain": [
       "count        2063\n",
       "unique       2018\n",
       "top       -18.755\n",
       "freq            8\n",
       "Name: LATITUDE, dtype: object"
      ]
     },
     "metadata": {},
     "execution_count": 71
    }
   ],
   "source": [
    "cluster0_original['LATITUDE'].describe()"
   ]
  },
  {
   "cell_type": "code",
   "execution_count": 67,
   "metadata": {},
   "outputs": [
    {
     "output_type": "execute_result",
     "data": {
      "text/plain": [
       "count        3320\n",
       "unique         22\n",
       "top       SERVICO\n",
       "freq         1199\n",
       "Name: CONSUMO, dtype: object"
      ]
     },
     "metadata": {},
     "execution_count": 67
    }
   ],
   "source": [
    "cluster0_original['CONSUMO'].describe()"
   ]
  },
  {
   "cell_type": "code",
   "execution_count": 68,
   "metadata": {},
   "outputs": [
    {
     "output_type": "execute_result",
     "data": {
      "text/plain": [
       "count        3086\n",
       "unique         21\n",
       "top       SERVICO\n",
       "freq         1113\n",
       "Name: CONSUMO, dtype: object"
      ]
     },
     "metadata": {},
     "execution_count": 68
    }
   ],
   "source": [
    "cluster1_original['CONSUMO'].describe()"
   ]
  },
  {
   "cell_type": "code",
   "execution_count": 69,
   "metadata": {},
   "outputs": [
    {
     "output_type": "execute_result",
     "data": {
      "text/plain": [
       "count        2465\n",
       "unique         22\n",
       "top       SERVICO\n",
       "freq          896\n",
       "Name: CONSUMO, dtype: object"
      ]
     },
     "metadata": {},
     "execution_count": 69
    }
   ],
   "source": [
    "cluster2_original['CONSUMO'].describe()"
   ]
  },
  {
   "cell_type": "code",
   "execution_count": 70,
   "metadata": {},
   "outputs": [
    {
     "output_type": "execute_result",
     "data": {
      "text/plain": [
       "count        1129\n",
       "unique         20\n",
       "top       SERVICO\n",
       "freq          389\n",
       "Name: CONSUMO, dtype: object"
      ]
     },
     "metadata": {},
     "execution_count": 70
    }
   ],
   "source": [
    "cluster3_original['CONSUMO'].describe()"
   ]
  },
  {
   "cell_type": "code",
   "execution_count": 63,
   "metadata": {},
   "outputs": [
    {
     "output_type": "execute_result",
     "data": {
      "text/plain": [
       "count                             3320\n",
       "unique                               4\n",
       "top       DE R$ 1.900,00 A R$ 3.800,00\n",
       "freq                              1718\n",
       "Name: RENDA, dtype: object"
      ]
     },
     "metadata": {},
     "execution_count": 63
    }
   ],
   "source": [
    "cluster0_original['RENDA'].describe()"
   ]
  },
  {
   "cell_type": "code",
   "execution_count": 64,
   "metadata": {},
   "outputs": [
    {
     "output_type": "execute_result",
     "data": {
      "text/plain": [
       "count                             3086\n",
       "unique                               2\n",
       "top       DE R$ 1.900,00 A R$ 3.800,00\n",
       "freq                              2611\n",
       "Name: RENDA, dtype: object"
      ]
     },
     "metadata": {},
     "execution_count": 64
    }
   ],
   "source": [
    "#***\n",
    "cluster1_original['RENDA'].describe()"
   ]
  },
  {
   "cell_type": "code",
   "execution_count": 65,
   "metadata": {},
   "outputs": [
    {
     "output_type": "execute_result",
     "data": {
      "text/plain": [
       "count                           2465\n",
       "unique                             3\n",
       "top       DE R$ 788,00 A R$ 1.140,00\n",
       "freq                            1934\n",
       "Name: RENDA, dtype: object"
      ]
     },
     "metadata": {},
     "execution_count": 65
    }
   ],
   "source": [
    "#***\n",
    "cluster2_original['RENDA'].describe()"
   ]
  },
  {
   "cell_type": "code",
   "execution_count": 66,
   "metadata": {},
   "outputs": [
    {
     "output_type": "execute_result",
     "data": {
      "text/plain": [
       "count                           1129\n",
       "unique                             4\n",
       "top       DE R$ 788,00 A R$ 1.140,00\n",
       "freq                             617\n",
       "Name: RENDA, dtype: object"
      ]
     },
     "metadata": {},
     "execution_count": 66
    }
   ],
   "source": [
    "cluster3_original['RENDA'].describe()"
   ]
  },
  {
   "cell_type": "code",
   "execution_count": 72,
   "metadata": {},
   "outputs": [
    {
     "output_type": "execute_result",
     "data": {
      "text/plain": [
       "count    3295.000000\n",
       "mean       51.694689\n",
       "std        12.983840\n",
       "min        21.000000\n",
       "25%        43.000000\n",
       "50%        48.000000\n",
       "75%        56.000000\n",
       "max       112.000000\n",
       "Name: IDADE, dtype: float64"
      ]
     },
     "metadata": {},
     "execution_count": 72
    }
   ],
   "source": [
    "cluster0_original['IDADE'].describe()"
   ]
  },
  {
   "cell_type": "code",
   "execution_count": 49,
   "metadata": {},
   "outputs": [
    {
     "output_type": "execute_result",
     "data": {
      "text/plain": [
       "21.0"
      ]
     },
     "metadata": {},
     "execution_count": 49
    }
   ],
   "source": [
    "cluster0_original['IDADE'].min()"
   ]
  },
  {
   "cell_type": "code",
   "execution_count": 51,
   "metadata": {},
   "outputs": [
    {
     "output_type": "execute_result",
     "data": {
      "text/plain": [
       "112.0"
      ]
     },
     "metadata": {},
     "execution_count": 51
    }
   ],
   "source": [
    "cluster0_original['IDADE'].max()"
   ]
  },
  {
   "cell_type": "code",
   "execution_count": 54,
   "metadata": {},
   "outputs": [
    {
     "output_type": "execute_result",
     "data": {
      "text/plain": [
       "29.0"
      ]
     },
     "metadata": {},
     "execution_count": 54
    }
   ],
   "source": [
    "cluster1_original['IDADE'].min()"
   ]
  },
  {
   "cell_type": "code",
   "execution_count": 55,
   "metadata": {},
   "outputs": [
    {
     "output_type": "execute_result",
     "data": {
      "text/plain": [
       "106.0"
      ]
     },
     "metadata": {},
     "execution_count": 55
    }
   ],
   "source": [
    "cluster1_original['IDADE'].max()"
   ]
  },
  {
   "cell_type": "code",
   "execution_count": 57,
   "metadata": {},
   "outputs": [
    {
     "output_type": "execute_result",
     "data": {
      "text/plain": [
       "20.0"
      ]
     },
     "metadata": {},
     "execution_count": 57
    }
   ],
   "source": [
    "cluster2_original['IDADE'].min()"
   ]
  },
  {
   "cell_type": "code",
   "execution_count": 58,
   "metadata": {},
   "outputs": [
    {
     "output_type": "execute_result",
     "data": {
      "text/plain": [
       "121.0"
      ]
     },
     "metadata": {},
     "execution_count": 58
    }
   ],
   "source": [
    "cluster2_original['IDADE'].max()"
   ]
  },
  {
   "cell_type": "code",
   "execution_count": 59,
   "metadata": {},
   "outputs": [
    {
     "output_type": "execute_result",
     "data": {
      "text/plain": [
       "21.0"
      ]
     },
     "metadata": {},
     "execution_count": 59
    }
   ],
   "source": [
    "cluster3_original['IDADE'].min()"
   ]
  },
  {
   "cell_type": "code",
   "execution_count": 60,
   "metadata": {},
   "outputs": [
    {
     "output_type": "execute_result",
     "data": {
      "text/plain": [
       "107.0"
      ]
     },
     "metadata": {},
     "execution_count": 60
    }
   ],
   "source": [
    "cluster3_original['IDADE'].max()"
   ]
  },
  {
   "cell_type": "code",
   "execution_count": 50,
   "metadata": {},
   "outputs": [
    {
     "output_type": "execute_result",
     "data": {
      "text/plain": [
       "             IDADE  cluster\n",
       "count  3295.000000   3320.0\n",
       "mean     51.694689      0.0\n",
       "std      12.983840      0.0\n",
       "min      21.000000      0.0\n",
       "25%      43.000000      0.0\n",
       "50%      48.000000      0.0\n",
       "75%      56.000000      0.0\n",
       "max     112.000000      0.0"
      ],
      "text/html": "<div>\n<style scoped>\n    .dataframe tbody tr th:only-of-type {\n        vertical-align: middle;\n    }\n\n    .dataframe tbody tr th {\n        vertical-align: top;\n    }\n\n    .dataframe thead th {\n        text-align: right;\n    }\n</style>\n<table border=\"1\" class=\"dataframe\">\n  <thead>\n    <tr style=\"text-align: right;\">\n      <th></th>\n      <th>IDADE</th>\n      <th>cluster</th>\n    </tr>\n  </thead>\n  <tbody>\n    <tr>\n      <th>count</th>\n      <td>3295.000000</td>\n      <td>3320.0</td>\n    </tr>\n    <tr>\n      <th>mean</th>\n      <td>51.694689</td>\n      <td>0.0</td>\n    </tr>\n    <tr>\n      <th>std</th>\n      <td>12.983840</td>\n      <td>0.0</td>\n    </tr>\n    <tr>\n      <th>min</th>\n      <td>21.000000</td>\n      <td>0.0</td>\n    </tr>\n    <tr>\n      <th>25%</th>\n      <td>43.000000</td>\n      <td>0.0</td>\n    </tr>\n    <tr>\n      <th>50%</th>\n      <td>48.000000</td>\n      <td>0.0</td>\n    </tr>\n    <tr>\n      <th>75%</th>\n      <td>56.000000</td>\n      <td>0.0</td>\n    </tr>\n    <tr>\n      <th>max</th>\n      <td>112.000000</td>\n      <td>0.0</td>\n    </tr>\n  </tbody>\n</table>\n</div>"
     },
     "metadata": {},
     "execution_count": 50
    }
   ],
   "source": [
    "cluster0_original.describe()"
   ]
  },
  {
   "cell_type": "code",
   "execution_count": 26,
   "metadata": {},
   "outputs": [
    {
     "output_type": "execute_result",
     "data": {
      "text/plain": [
       "             CONSUMO                         RENDA  IDADE      LATITUDE  \\\n",
       "1          FARMACIAS  DE R$ 3.800,00 A R$ 7.600,00   43.0  -26.99011814   \n",
       "7           M.O.T.O.  DE R$ 1.900,00 A R$ 3.800,00   40.0  -7.191076842   \n",
       "11          M.O.T.O.  DE R$ 3.800,00 A R$ 7.600,00   89.0     -28.29048   \n",
       "13    ARTIGOS ELETRO  DE R$ 1.900,00 A R$ 3.800,00   34.0  -4.946685556   \n",
       "15           SERVICO  DE R$ 1.900,00 A R$ 3.800,00   57.0  -30.51519979   \n",
       "...              ...                           ...    ...           ...   \n",
       "9981        M.O.T.O.  DE R$ 1.900,00 A R$ 3.800,00   56.0  -26.90481667   \n",
       "9987  ARTIGOS ELETRO  DE R$ 1.900,00 A R$ 3.800,00   44.0     -29.70755   \n",
       "9989          VAREJO  DE R$ 1.900,00 A R$ 3.800,00   44.0   -23.6824345   \n",
       "9992         SERVICO  DE R$ 1.900,00 A R$ 3.800,00   43.0  -29.68552641   \n",
       "9994          VAREJO  DE R$ 1.900,00 A R$ 3.800,00   43.0  -29.59037263   \n",
       "\n",
       "         LONGITUDE  \n",
       "1     -48.63716523  \n",
       "7     -48.19394263  \n",
       "11        -52.8147  \n",
       "13    -48.39730667  \n",
       "15    -53.49248021  \n",
       "...            ...  \n",
       "9981  -49.04824444  \n",
       "9987     -53.73949  \n",
       "9989    -46.801669  \n",
       "9992  -51.13958456  \n",
       "9994  -51.21581579  \n",
       "\n",
       "[3086 rows x 5 columns]"
      ],
      "text/html": "<div>\n<style scoped>\n    .dataframe tbody tr th:only-of-type {\n        vertical-align: middle;\n    }\n\n    .dataframe tbody tr th {\n        vertical-align: top;\n    }\n\n    .dataframe thead th {\n        text-align: right;\n    }\n</style>\n<table border=\"1\" class=\"dataframe\">\n  <thead>\n    <tr style=\"text-align: right;\">\n      <th></th>\n      <th>CONSUMO</th>\n      <th>RENDA</th>\n      <th>IDADE</th>\n      <th>LATITUDE</th>\n      <th>LONGITUDE</th>\n    </tr>\n  </thead>\n  <tbody>\n    <tr>\n      <th>1</th>\n      <td>FARMACIAS</td>\n      <td>DE R$ 3.800,00 A R$ 7.600,00</td>\n      <td>43.0</td>\n      <td>-26.99011814</td>\n      <td>-48.63716523</td>\n    </tr>\n    <tr>\n      <th>7</th>\n      <td>M.O.T.O.</td>\n      <td>DE R$ 1.900,00 A R$ 3.800,00</td>\n      <td>40.0</td>\n      <td>-7.191076842</td>\n      <td>-48.19394263</td>\n    </tr>\n    <tr>\n      <th>11</th>\n      <td>M.O.T.O.</td>\n      <td>DE R$ 3.800,00 A R$ 7.600,00</td>\n      <td>89.0</td>\n      <td>-28.29048</td>\n      <td>-52.8147</td>\n    </tr>\n    <tr>\n      <th>13</th>\n      <td>ARTIGOS ELETRO</td>\n      <td>DE R$ 1.900,00 A R$ 3.800,00</td>\n      <td>34.0</td>\n      <td>-4.946685556</td>\n      <td>-48.39730667</td>\n    </tr>\n    <tr>\n      <th>15</th>\n      <td>SERVICO</td>\n      <td>DE R$ 1.900,00 A R$ 3.800,00</td>\n      <td>57.0</td>\n      <td>-30.51519979</td>\n      <td>-53.49248021</td>\n    </tr>\n    <tr>\n      <th>...</th>\n      <td>...</td>\n      <td>...</td>\n      <td>...</td>\n      <td>...</td>\n      <td>...</td>\n    </tr>\n    <tr>\n      <th>9981</th>\n      <td>M.O.T.O.</td>\n      <td>DE R$ 1.900,00 A R$ 3.800,00</td>\n      <td>56.0</td>\n      <td>-26.90481667</td>\n      <td>-49.04824444</td>\n    </tr>\n    <tr>\n      <th>9987</th>\n      <td>ARTIGOS ELETRO</td>\n      <td>DE R$ 1.900,00 A R$ 3.800,00</td>\n      <td>44.0</td>\n      <td>-29.70755</td>\n      <td>-53.73949</td>\n    </tr>\n    <tr>\n      <th>9989</th>\n      <td>VAREJO</td>\n      <td>DE R$ 1.900,00 A R$ 3.800,00</td>\n      <td>44.0</td>\n      <td>-23.6824345</td>\n      <td>-46.801669</td>\n    </tr>\n    <tr>\n      <th>9992</th>\n      <td>SERVICO</td>\n      <td>DE R$ 1.900,00 A R$ 3.800,00</td>\n      <td>43.0</td>\n      <td>-29.68552641</td>\n      <td>-51.13958456</td>\n    </tr>\n    <tr>\n      <th>9994</th>\n      <td>VAREJO</td>\n      <td>DE R$ 1.900,00 A R$ 3.800,00</td>\n      <td>43.0</td>\n      <td>-29.59037263</td>\n      <td>-51.21581579</td>\n    </tr>\n  </tbody>\n</table>\n<p>3086 rows × 5 columns</p>\n</div>"
     },
     "metadata": {},
     "execution_count": 26
    }
   ],
   "source": [
    "ind_list = list(cluster_1.index)\n",
    "cluster1_original = df_final.iloc[ind_list]\n",
    "cluster1_original"
   ]
  },
  {
   "cell_type": "code",
   "execution_count": 28,
   "metadata": {},
   "outputs": [
    {
     "output_type": "stream",
     "name": "stderr",
     "text": [
      "<ipython-input-28-2bd03b53b8c0>:1: SettingWithCopyWarning: \nA value is trying to be set on a copy of a slice from a DataFrame.\nTry using .loc[row_indexer,col_indexer] = value instead\n\nSee the caveats in the documentation: https://pandas.pydata.org/pandas-docs/stable/user_guide/indexing.html#returning-a-view-versus-a-copy\n  cluster1_original['cluster'] = pd.Series(1, index=cluster1_original.index)\n"
     ]
    },
    {
     "output_type": "execute_result",
     "data": {
      "text/plain": [
       "             CONSUMO                         RENDA  IDADE      LATITUDE  \\\n",
       "1          FARMACIAS  DE R$ 3.800,00 A R$ 7.600,00   43.0  -26.99011814   \n",
       "7           M.O.T.O.  DE R$ 1.900,00 A R$ 3.800,00   40.0  -7.191076842   \n",
       "11          M.O.T.O.  DE R$ 3.800,00 A R$ 7.600,00   89.0     -28.29048   \n",
       "13    ARTIGOS ELETRO  DE R$ 1.900,00 A R$ 3.800,00   34.0  -4.946685556   \n",
       "15           SERVICO  DE R$ 1.900,00 A R$ 3.800,00   57.0  -30.51519979   \n",
       "...              ...                           ...    ...           ...   \n",
       "9981        M.O.T.O.  DE R$ 1.900,00 A R$ 3.800,00   56.0  -26.90481667   \n",
       "9987  ARTIGOS ELETRO  DE R$ 1.900,00 A R$ 3.800,00   44.0     -29.70755   \n",
       "9989          VAREJO  DE R$ 1.900,00 A R$ 3.800,00   44.0   -23.6824345   \n",
       "9992         SERVICO  DE R$ 1.900,00 A R$ 3.800,00   43.0  -29.68552641   \n",
       "9994          VAREJO  DE R$ 1.900,00 A R$ 3.800,00   43.0  -29.59037263   \n",
       "\n",
       "         LONGITUDE  cluster  \n",
       "1     -48.63716523        1  \n",
       "7     -48.19394263        1  \n",
       "11        -52.8147        1  \n",
       "13    -48.39730667        1  \n",
       "15    -53.49248021        1  \n",
       "...            ...      ...  \n",
       "9981  -49.04824444        1  \n",
       "9987     -53.73949        1  \n",
       "9989    -46.801669        1  \n",
       "9992  -51.13958456        1  \n",
       "9994  -51.21581579        1  \n",
       "\n",
       "[3086 rows x 6 columns]"
      ],
      "text/html": "<div>\n<style scoped>\n    .dataframe tbody tr th:only-of-type {\n        vertical-align: middle;\n    }\n\n    .dataframe tbody tr th {\n        vertical-align: top;\n    }\n\n    .dataframe thead th {\n        text-align: right;\n    }\n</style>\n<table border=\"1\" class=\"dataframe\">\n  <thead>\n    <tr style=\"text-align: right;\">\n      <th></th>\n      <th>CONSUMO</th>\n      <th>RENDA</th>\n      <th>IDADE</th>\n      <th>LATITUDE</th>\n      <th>LONGITUDE</th>\n      <th>cluster</th>\n    </tr>\n  </thead>\n  <tbody>\n    <tr>\n      <th>1</th>\n      <td>FARMACIAS</td>\n      <td>DE R$ 3.800,00 A R$ 7.600,00</td>\n      <td>43.0</td>\n      <td>-26.99011814</td>\n      <td>-48.63716523</td>\n      <td>1</td>\n    </tr>\n    <tr>\n      <th>7</th>\n      <td>M.O.T.O.</td>\n      <td>DE R$ 1.900,00 A R$ 3.800,00</td>\n      <td>40.0</td>\n      <td>-7.191076842</td>\n      <td>-48.19394263</td>\n      <td>1</td>\n    </tr>\n    <tr>\n      <th>11</th>\n      <td>M.O.T.O.</td>\n      <td>DE R$ 3.800,00 A R$ 7.600,00</td>\n      <td>89.0</td>\n      <td>-28.29048</td>\n      <td>-52.8147</td>\n      <td>1</td>\n    </tr>\n    <tr>\n      <th>13</th>\n      <td>ARTIGOS ELETRO</td>\n      <td>DE R$ 1.900,00 A R$ 3.800,00</td>\n      <td>34.0</td>\n      <td>-4.946685556</td>\n      <td>-48.39730667</td>\n      <td>1</td>\n    </tr>\n    <tr>\n      <th>15</th>\n      <td>SERVICO</td>\n      <td>DE R$ 1.900,00 A R$ 3.800,00</td>\n      <td>57.0</td>\n      <td>-30.51519979</td>\n      <td>-53.49248021</td>\n      <td>1</td>\n    </tr>\n    <tr>\n      <th>...</th>\n      <td>...</td>\n      <td>...</td>\n      <td>...</td>\n      <td>...</td>\n      <td>...</td>\n      <td>...</td>\n    </tr>\n    <tr>\n      <th>9981</th>\n      <td>M.O.T.O.</td>\n      <td>DE R$ 1.900,00 A R$ 3.800,00</td>\n      <td>56.0</td>\n      <td>-26.90481667</td>\n      <td>-49.04824444</td>\n      <td>1</td>\n    </tr>\n    <tr>\n      <th>9987</th>\n      <td>ARTIGOS ELETRO</td>\n      <td>DE R$ 1.900,00 A R$ 3.800,00</td>\n      <td>44.0</td>\n      <td>-29.70755</td>\n      <td>-53.73949</td>\n      <td>1</td>\n    </tr>\n    <tr>\n      <th>9989</th>\n      <td>VAREJO</td>\n      <td>DE R$ 1.900,00 A R$ 3.800,00</td>\n      <td>44.0</td>\n      <td>-23.6824345</td>\n      <td>-46.801669</td>\n      <td>1</td>\n    </tr>\n    <tr>\n      <th>9992</th>\n      <td>SERVICO</td>\n      <td>DE R$ 1.900,00 A R$ 3.800,00</td>\n      <td>43.0</td>\n      <td>-29.68552641</td>\n      <td>-51.13958456</td>\n      <td>1</td>\n    </tr>\n    <tr>\n      <th>9994</th>\n      <td>VAREJO</td>\n      <td>DE R$ 1.900,00 A R$ 3.800,00</td>\n      <td>43.0</td>\n      <td>-29.59037263</td>\n      <td>-51.21581579</td>\n      <td>1</td>\n    </tr>\n  </tbody>\n</table>\n<p>3086 rows × 6 columns</p>\n</div>"
     },
     "metadata": {},
     "execution_count": 28
    }
   ],
   "source": [
    "cluster1_original['cluster'] = pd.Series(1, index=cluster1_original.index)\n",
    "cluster1_original"
   ]
  },
  {
   "cell_type": "code",
   "execution_count": 29,
   "metadata": {},
   "outputs": [
    {
     "output_type": "execute_result",
     "data": {
      "text/plain": [
       "             CONSUMO                         RENDA  IDADE      LATITUDE  \\\n",
       "3           M.O.T.O.    DE R$ 788,00 A R$ 1.140,00   46.0    -15.059042   \n",
       "4           M.O.T.O.    DE R$ 788,00 A R$ 1.140,00   64.0    -17.694658   \n",
       "8     ARTIGOS ELETRO    DE R$ 788,00 A R$ 1.140,00   63.0  -18.45146965   \n",
       "12           SERVICO    DE R$ 788,00 A R$ 1.140,00   53.0  -18.75454016   \n",
       "14            VAREJO  DE R$ 3.800,00 A R$ 7.600,00   51.0    -23.717175   \n",
       "...              ...                           ...    ...           ...   \n",
       "9975  ARTIGOS ELETRO  DE R$ 3.800,00 A R$ 7.600,00   63.0  -23.16694463   \n",
       "9983         SERVICO    DE R$ 788,00 A R$ 1.140,00   93.0  -26.73983727   \n",
       "9984  LOJA DE DEPART  DE R$ 3.800,00 A R$ 7.600,00   63.0  -23.22976103   \n",
       "9985  ARTIGOS ELETRO  DE R$ 3.800,00 A R$ 7.600,00   72.0  -23.19156857   \n",
       "9991         SERVICO    DE R$ 788,00 A R$ 1.140,00   40.0  -14.04174273   \n",
       "\n",
       "         LONGITUDE  \n",
       "3       -48.163372  \n",
       "4        -42.52228  \n",
       "8     -43.74177915  \n",
       "12    -44.42153297  \n",
       "14    -46.58640875  \n",
       "...            ...  \n",
       "9975  -46.90988481  \n",
       "9983  -53.51019455  \n",
       "9984  -46.88037603  \n",
       "9985    -46.851845  \n",
       "9991  -52.15638364  \n",
       "\n",
       "[2465 rows x 5 columns]"
      ],
      "text/html": "<div>\n<style scoped>\n    .dataframe tbody tr th:only-of-type {\n        vertical-align: middle;\n    }\n\n    .dataframe tbody tr th {\n        vertical-align: top;\n    }\n\n    .dataframe thead th {\n        text-align: right;\n    }\n</style>\n<table border=\"1\" class=\"dataframe\">\n  <thead>\n    <tr style=\"text-align: right;\">\n      <th></th>\n      <th>CONSUMO</th>\n      <th>RENDA</th>\n      <th>IDADE</th>\n      <th>LATITUDE</th>\n      <th>LONGITUDE</th>\n    </tr>\n  </thead>\n  <tbody>\n    <tr>\n      <th>3</th>\n      <td>M.O.T.O.</td>\n      <td>DE R$ 788,00 A R$ 1.140,00</td>\n      <td>46.0</td>\n      <td>-15.059042</td>\n      <td>-48.163372</td>\n    </tr>\n    <tr>\n      <th>4</th>\n      <td>M.O.T.O.</td>\n      <td>DE R$ 788,00 A R$ 1.140,00</td>\n      <td>64.0</td>\n      <td>-17.694658</td>\n      <td>-42.52228</td>\n    </tr>\n    <tr>\n      <th>8</th>\n      <td>ARTIGOS ELETRO</td>\n      <td>DE R$ 788,00 A R$ 1.140,00</td>\n      <td>63.0</td>\n      <td>-18.45146965</td>\n      <td>-43.74177915</td>\n    </tr>\n    <tr>\n      <th>12</th>\n      <td>SERVICO</td>\n      <td>DE R$ 788,00 A R$ 1.140,00</td>\n      <td>53.0</td>\n      <td>-18.75454016</td>\n      <td>-44.42153297</td>\n    </tr>\n    <tr>\n      <th>14</th>\n      <td>VAREJO</td>\n      <td>DE R$ 3.800,00 A R$ 7.600,00</td>\n      <td>51.0</td>\n      <td>-23.717175</td>\n      <td>-46.58640875</td>\n    </tr>\n    <tr>\n      <th>...</th>\n      <td>...</td>\n      <td>...</td>\n      <td>...</td>\n      <td>...</td>\n      <td>...</td>\n    </tr>\n    <tr>\n      <th>9975</th>\n      <td>ARTIGOS ELETRO</td>\n      <td>DE R$ 3.800,00 A R$ 7.600,00</td>\n      <td>63.0</td>\n      <td>-23.16694463</td>\n      <td>-46.90988481</td>\n    </tr>\n    <tr>\n      <th>9983</th>\n      <td>SERVICO</td>\n      <td>DE R$ 788,00 A R$ 1.140,00</td>\n      <td>93.0</td>\n      <td>-26.73983727</td>\n      <td>-53.51019455</td>\n    </tr>\n    <tr>\n      <th>9984</th>\n      <td>LOJA DE DEPART</td>\n      <td>DE R$ 3.800,00 A R$ 7.600,00</td>\n      <td>63.0</td>\n      <td>-23.22976103</td>\n      <td>-46.88037603</td>\n    </tr>\n    <tr>\n      <th>9985</th>\n      <td>ARTIGOS ELETRO</td>\n      <td>DE R$ 3.800,00 A R$ 7.600,00</td>\n      <td>72.0</td>\n      <td>-23.19156857</td>\n      <td>-46.851845</td>\n    </tr>\n    <tr>\n      <th>9991</th>\n      <td>SERVICO</td>\n      <td>DE R$ 788,00 A R$ 1.140,00</td>\n      <td>40.0</td>\n      <td>-14.04174273</td>\n      <td>-52.15638364</td>\n    </tr>\n  </tbody>\n</table>\n<p>2465 rows × 5 columns</p>\n</div>"
     },
     "metadata": {},
     "execution_count": 29
    }
   ],
   "source": [
    "ind_list = list(cluster_2.index)\n",
    "cluster2_original = df_final.iloc[ind_list]\n",
    "cluster2_original"
   ]
  },
  {
   "cell_type": "code",
   "execution_count": 30,
   "metadata": {},
   "outputs": [
    {
     "output_type": "stream",
     "name": "stderr",
     "text": [
      "<ipython-input-30-f070ea082f8b>:1: SettingWithCopyWarning: \nA value is trying to be set on a copy of a slice from a DataFrame.\nTry using .loc[row_indexer,col_indexer] = value instead\n\nSee the caveats in the documentation: https://pandas.pydata.org/pandas-docs/stable/user_guide/indexing.html#returning-a-view-versus-a-copy\n  cluster2_original['cluster'] = pd.Series(2, index=cluster2_original.index)\n"
     ]
    },
    {
     "output_type": "execute_result",
     "data": {
      "text/plain": [
       "             CONSUMO                         RENDA  IDADE      LATITUDE  \\\n",
       "3           M.O.T.O.    DE R$ 788,00 A R$ 1.140,00   46.0    -15.059042   \n",
       "4           M.O.T.O.    DE R$ 788,00 A R$ 1.140,00   64.0    -17.694658   \n",
       "8     ARTIGOS ELETRO    DE R$ 788,00 A R$ 1.140,00   63.0  -18.45146965   \n",
       "12           SERVICO    DE R$ 788,00 A R$ 1.140,00   53.0  -18.75454016   \n",
       "14            VAREJO  DE R$ 3.800,00 A R$ 7.600,00   51.0    -23.717175   \n",
       "...              ...                           ...    ...           ...   \n",
       "9975  ARTIGOS ELETRO  DE R$ 3.800,00 A R$ 7.600,00   63.0  -23.16694463   \n",
       "9983         SERVICO    DE R$ 788,00 A R$ 1.140,00   93.0  -26.73983727   \n",
       "9984  LOJA DE DEPART  DE R$ 3.800,00 A R$ 7.600,00   63.0  -23.22976103   \n",
       "9985  ARTIGOS ELETRO  DE R$ 3.800,00 A R$ 7.600,00   72.0  -23.19156857   \n",
       "9991         SERVICO    DE R$ 788,00 A R$ 1.140,00   40.0  -14.04174273   \n",
       "\n",
       "         LONGITUDE  cluster  \n",
       "3       -48.163372        2  \n",
       "4        -42.52228        2  \n",
       "8     -43.74177915        2  \n",
       "12    -44.42153297        2  \n",
       "14    -46.58640875        2  \n",
       "...            ...      ...  \n",
       "9975  -46.90988481        2  \n",
       "9983  -53.51019455        2  \n",
       "9984  -46.88037603        2  \n",
       "9985    -46.851845        2  \n",
       "9991  -52.15638364        2  \n",
       "\n",
       "[2465 rows x 6 columns]"
      ],
      "text/html": "<div>\n<style scoped>\n    .dataframe tbody tr th:only-of-type {\n        vertical-align: middle;\n    }\n\n    .dataframe tbody tr th {\n        vertical-align: top;\n    }\n\n    .dataframe thead th {\n        text-align: right;\n    }\n</style>\n<table border=\"1\" class=\"dataframe\">\n  <thead>\n    <tr style=\"text-align: right;\">\n      <th></th>\n      <th>CONSUMO</th>\n      <th>RENDA</th>\n      <th>IDADE</th>\n      <th>LATITUDE</th>\n      <th>LONGITUDE</th>\n      <th>cluster</th>\n    </tr>\n  </thead>\n  <tbody>\n    <tr>\n      <th>3</th>\n      <td>M.O.T.O.</td>\n      <td>DE R$ 788,00 A R$ 1.140,00</td>\n      <td>46.0</td>\n      <td>-15.059042</td>\n      <td>-48.163372</td>\n      <td>2</td>\n    </tr>\n    <tr>\n      <th>4</th>\n      <td>M.O.T.O.</td>\n      <td>DE R$ 788,00 A R$ 1.140,00</td>\n      <td>64.0</td>\n      <td>-17.694658</td>\n      <td>-42.52228</td>\n      <td>2</td>\n    </tr>\n    <tr>\n      <th>8</th>\n      <td>ARTIGOS ELETRO</td>\n      <td>DE R$ 788,00 A R$ 1.140,00</td>\n      <td>63.0</td>\n      <td>-18.45146965</td>\n      <td>-43.74177915</td>\n      <td>2</td>\n    </tr>\n    <tr>\n      <th>12</th>\n      <td>SERVICO</td>\n      <td>DE R$ 788,00 A R$ 1.140,00</td>\n      <td>53.0</td>\n      <td>-18.75454016</td>\n      <td>-44.42153297</td>\n      <td>2</td>\n    </tr>\n    <tr>\n      <th>14</th>\n      <td>VAREJO</td>\n      <td>DE R$ 3.800,00 A R$ 7.600,00</td>\n      <td>51.0</td>\n      <td>-23.717175</td>\n      <td>-46.58640875</td>\n      <td>2</td>\n    </tr>\n    <tr>\n      <th>...</th>\n      <td>...</td>\n      <td>...</td>\n      <td>...</td>\n      <td>...</td>\n      <td>...</td>\n      <td>...</td>\n    </tr>\n    <tr>\n      <th>9975</th>\n      <td>ARTIGOS ELETRO</td>\n      <td>DE R$ 3.800,00 A R$ 7.600,00</td>\n      <td>63.0</td>\n      <td>-23.16694463</td>\n      <td>-46.90988481</td>\n      <td>2</td>\n    </tr>\n    <tr>\n      <th>9983</th>\n      <td>SERVICO</td>\n      <td>DE R$ 788,00 A R$ 1.140,00</td>\n      <td>93.0</td>\n      <td>-26.73983727</td>\n      <td>-53.51019455</td>\n      <td>2</td>\n    </tr>\n    <tr>\n      <th>9984</th>\n      <td>LOJA DE DEPART</td>\n      <td>DE R$ 3.800,00 A R$ 7.600,00</td>\n      <td>63.0</td>\n      <td>-23.22976103</td>\n      <td>-46.88037603</td>\n      <td>2</td>\n    </tr>\n    <tr>\n      <th>9985</th>\n      <td>ARTIGOS ELETRO</td>\n      <td>DE R$ 3.800,00 A R$ 7.600,00</td>\n      <td>72.0</td>\n      <td>-23.19156857</td>\n      <td>-46.851845</td>\n      <td>2</td>\n    </tr>\n    <tr>\n      <th>9991</th>\n      <td>SERVICO</td>\n      <td>DE R$ 788,00 A R$ 1.140,00</td>\n      <td>40.0</td>\n      <td>-14.04174273</td>\n      <td>-52.15638364</td>\n      <td>2</td>\n    </tr>\n  </tbody>\n</table>\n<p>2465 rows × 6 columns</p>\n</div>"
     },
     "metadata": {},
     "execution_count": 30
    }
   ],
   "source": [
    "cluster2_original['cluster'] = pd.Series(2, index=cluster2_original.index)\n",
    "cluster2_original"
   ]
  },
  {
   "cell_type": "code",
   "execution_count": 31,
   "metadata": {},
   "outputs": [
    {
     "output_type": "execute_result",
     "data": {
      "text/plain": [
       "             CONSUMO                         RENDA  IDADE      LATITUDE  \\\n",
       "0            SERVICO  DE R$ 1.900,00 A R$ 3.800,00   40.0      -4.84758   \n",
       "2            SERVICO  DE R$ 3.800,00 A R$ 7.600,00   67.0  -5.053671016   \n",
       "5     ARTIGOS ELETRO    DE R$ 788,00 A R$ 1.140,00   42.0     -5.033333   \n",
       "6            SERVICO    DE R$ 788,00 A R$ 1.140,00   48.0   -3.61133186   \n",
       "10    ARTIGOS ELETRO  DE R$ 1.900,00 A R$ 3.800,00   45.0  -8.011778571   \n",
       "...              ...                           ...    ...           ...   \n",
       "9980          VAREJO    DE R$ 788,00 A R$ 1.140,00   40.0  -3.276961392   \n",
       "9982  ARTIGOS ELETRO  DE R$ 1.900,00 A R$ 3.800,00   45.0    -8.3273228   \n",
       "9990  LOJA DE DEPART    DE R$ 788,00 A R$ 1.140,00   49.0  -7.979340811   \n",
       "9993  ARTIGOS ELETRO  DE R$ 1.900,00 A R$ 3.800,00   47.0     -3.789461   \n",
       "9997         SERVICO    DE R$ 788,00 A R$ 1.140,00   45.0  -8.330678649   \n",
       "\n",
       "         LONGITUDE  \n",
       "0        -37.78439  \n",
       "2     -42.81315203  \n",
       "5       -44.441667  \n",
       "6     -45.34258488  \n",
       "10    -34.88329592  \n",
       "...            ...  \n",
       "9980  -39.26755165  \n",
       "9982   -36.1367084  \n",
       "9990  -34.83757703  \n",
       "9993  -38.49188727  \n",
       "9997  -36.13689703  \n",
       "\n",
       "[1129 rows x 5 columns]"
      ],
      "text/html": "<div>\n<style scoped>\n    .dataframe tbody tr th:only-of-type {\n        vertical-align: middle;\n    }\n\n    .dataframe tbody tr th {\n        vertical-align: top;\n    }\n\n    .dataframe thead th {\n        text-align: right;\n    }\n</style>\n<table border=\"1\" class=\"dataframe\">\n  <thead>\n    <tr style=\"text-align: right;\">\n      <th></th>\n      <th>CONSUMO</th>\n      <th>RENDA</th>\n      <th>IDADE</th>\n      <th>LATITUDE</th>\n      <th>LONGITUDE</th>\n    </tr>\n  </thead>\n  <tbody>\n    <tr>\n      <th>0</th>\n      <td>SERVICO</td>\n      <td>DE R$ 1.900,00 A R$ 3.800,00</td>\n      <td>40.0</td>\n      <td>-4.84758</td>\n      <td>-37.78439</td>\n    </tr>\n    <tr>\n      <th>2</th>\n      <td>SERVICO</td>\n      <td>DE R$ 3.800,00 A R$ 7.600,00</td>\n      <td>67.0</td>\n      <td>-5.053671016</td>\n      <td>-42.81315203</td>\n    </tr>\n    <tr>\n      <th>5</th>\n      <td>ARTIGOS ELETRO</td>\n      <td>DE R$ 788,00 A R$ 1.140,00</td>\n      <td>42.0</td>\n      <td>-5.033333</td>\n      <td>-44.441667</td>\n    </tr>\n    <tr>\n      <th>6</th>\n      <td>SERVICO</td>\n      <td>DE R$ 788,00 A R$ 1.140,00</td>\n      <td>48.0</td>\n      <td>-3.61133186</td>\n      <td>-45.34258488</td>\n    </tr>\n    <tr>\n      <th>10</th>\n      <td>ARTIGOS ELETRO</td>\n      <td>DE R$ 1.900,00 A R$ 3.800,00</td>\n      <td>45.0</td>\n      <td>-8.011778571</td>\n      <td>-34.88329592</td>\n    </tr>\n    <tr>\n      <th>...</th>\n      <td>...</td>\n      <td>...</td>\n      <td>...</td>\n      <td>...</td>\n      <td>...</td>\n    </tr>\n    <tr>\n      <th>9980</th>\n      <td>VAREJO</td>\n      <td>DE R$ 788,00 A R$ 1.140,00</td>\n      <td>40.0</td>\n      <td>-3.276961392</td>\n      <td>-39.26755165</td>\n    </tr>\n    <tr>\n      <th>9982</th>\n      <td>ARTIGOS ELETRO</td>\n      <td>DE R$ 1.900,00 A R$ 3.800,00</td>\n      <td>45.0</td>\n      <td>-8.3273228</td>\n      <td>-36.1367084</td>\n    </tr>\n    <tr>\n      <th>9990</th>\n      <td>LOJA DE DEPART</td>\n      <td>DE R$ 788,00 A R$ 1.140,00</td>\n      <td>49.0</td>\n      <td>-7.979340811</td>\n      <td>-34.83757703</td>\n    </tr>\n    <tr>\n      <th>9993</th>\n      <td>ARTIGOS ELETRO</td>\n      <td>DE R$ 1.900,00 A R$ 3.800,00</td>\n      <td>47.0</td>\n      <td>-3.789461</td>\n      <td>-38.49188727</td>\n    </tr>\n    <tr>\n      <th>9997</th>\n      <td>SERVICO</td>\n      <td>DE R$ 788,00 A R$ 1.140,00</td>\n      <td>45.0</td>\n      <td>-8.330678649</td>\n      <td>-36.13689703</td>\n    </tr>\n  </tbody>\n</table>\n<p>1129 rows × 5 columns</p>\n</div>"
     },
     "metadata": {},
     "execution_count": 31
    }
   ],
   "source": [
    "ind_list = list(cluster_3.index)\n",
    "cluster3_original = df_final.iloc[ind_list]\n",
    "cluster3_original"
   ]
  },
  {
   "cell_type": "code",
   "execution_count": 32,
   "metadata": {},
   "outputs": [
    {
     "output_type": "stream",
     "name": "stderr",
     "text": [
      "<ipython-input-32-467015611f8b>:1: SettingWithCopyWarning: \nA value is trying to be set on a copy of a slice from a DataFrame.\nTry using .loc[row_indexer,col_indexer] = value instead\n\nSee the caveats in the documentation: https://pandas.pydata.org/pandas-docs/stable/user_guide/indexing.html#returning-a-view-versus-a-copy\n  cluster3_original['cluster'] = pd.Series(3, index=cluster3_original.index)\n"
     ]
    },
    {
     "output_type": "execute_result",
     "data": {
      "text/plain": [
       "             CONSUMO                         RENDA  IDADE      LATITUDE  \\\n",
       "0            SERVICO  DE R$ 1.900,00 A R$ 3.800,00   40.0      -4.84758   \n",
       "2            SERVICO  DE R$ 3.800,00 A R$ 7.600,00   67.0  -5.053671016   \n",
       "5     ARTIGOS ELETRO    DE R$ 788,00 A R$ 1.140,00   42.0     -5.033333   \n",
       "6            SERVICO    DE R$ 788,00 A R$ 1.140,00   48.0   -3.61133186   \n",
       "10    ARTIGOS ELETRO  DE R$ 1.900,00 A R$ 3.800,00   45.0  -8.011778571   \n",
       "...              ...                           ...    ...           ...   \n",
       "9980          VAREJO    DE R$ 788,00 A R$ 1.140,00   40.0  -3.276961392   \n",
       "9982  ARTIGOS ELETRO  DE R$ 1.900,00 A R$ 3.800,00   45.0    -8.3273228   \n",
       "9990  LOJA DE DEPART    DE R$ 788,00 A R$ 1.140,00   49.0  -7.979340811   \n",
       "9993  ARTIGOS ELETRO  DE R$ 1.900,00 A R$ 3.800,00   47.0     -3.789461   \n",
       "9997         SERVICO    DE R$ 788,00 A R$ 1.140,00   45.0  -8.330678649   \n",
       "\n",
       "         LONGITUDE  cluster  \n",
       "0        -37.78439        3  \n",
       "2     -42.81315203        3  \n",
       "5       -44.441667        3  \n",
       "6     -45.34258488        3  \n",
       "10    -34.88329592        3  \n",
       "...            ...      ...  \n",
       "9980  -39.26755165        3  \n",
       "9982   -36.1367084        3  \n",
       "9990  -34.83757703        3  \n",
       "9993  -38.49188727        3  \n",
       "9997  -36.13689703        3  \n",
       "\n",
       "[1129 rows x 6 columns]"
      ],
      "text/html": "<div>\n<style scoped>\n    .dataframe tbody tr th:only-of-type {\n        vertical-align: middle;\n    }\n\n    .dataframe tbody tr th {\n        vertical-align: top;\n    }\n\n    .dataframe thead th {\n        text-align: right;\n    }\n</style>\n<table border=\"1\" class=\"dataframe\">\n  <thead>\n    <tr style=\"text-align: right;\">\n      <th></th>\n      <th>CONSUMO</th>\n      <th>RENDA</th>\n      <th>IDADE</th>\n      <th>LATITUDE</th>\n      <th>LONGITUDE</th>\n      <th>cluster</th>\n    </tr>\n  </thead>\n  <tbody>\n    <tr>\n      <th>0</th>\n      <td>SERVICO</td>\n      <td>DE R$ 1.900,00 A R$ 3.800,00</td>\n      <td>40.0</td>\n      <td>-4.84758</td>\n      <td>-37.78439</td>\n      <td>3</td>\n    </tr>\n    <tr>\n      <th>2</th>\n      <td>SERVICO</td>\n      <td>DE R$ 3.800,00 A R$ 7.600,00</td>\n      <td>67.0</td>\n      <td>-5.053671016</td>\n      <td>-42.81315203</td>\n      <td>3</td>\n    </tr>\n    <tr>\n      <th>5</th>\n      <td>ARTIGOS ELETRO</td>\n      <td>DE R$ 788,00 A R$ 1.140,00</td>\n      <td>42.0</td>\n      <td>-5.033333</td>\n      <td>-44.441667</td>\n      <td>3</td>\n    </tr>\n    <tr>\n      <th>6</th>\n      <td>SERVICO</td>\n      <td>DE R$ 788,00 A R$ 1.140,00</td>\n      <td>48.0</td>\n      <td>-3.61133186</td>\n      <td>-45.34258488</td>\n      <td>3</td>\n    </tr>\n    <tr>\n      <th>10</th>\n      <td>ARTIGOS ELETRO</td>\n      <td>DE R$ 1.900,00 A R$ 3.800,00</td>\n      <td>45.0</td>\n      <td>-8.011778571</td>\n      <td>-34.88329592</td>\n      <td>3</td>\n    </tr>\n    <tr>\n      <th>...</th>\n      <td>...</td>\n      <td>...</td>\n      <td>...</td>\n      <td>...</td>\n      <td>...</td>\n      <td>...</td>\n    </tr>\n    <tr>\n      <th>9980</th>\n      <td>VAREJO</td>\n      <td>DE R$ 788,00 A R$ 1.140,00</td>\n      <td>40.0</td>\n      <td>-3.276961392</td>\n      <td>-39.26755165</td>\n      <td>3</td>\n    </tr>\n    <tr>\n      <th>9982</th>\n      <td>ARTIGOS ELETRO</td>\n      <td>DE R$ 1.900,00 A R$ 3.800,00</td>\n      <td>45.0</td>\n      <td>-8.3273228</td>\n      <td>-36.1367084</td>\n      <td>3</td>\n    </tr>\n    <tr>\n      <th>9990</th>\n      <td>LOJA DE DEPART</td>\n      <td>DE R$ 788,00 A R$ 1.140,00</td>\n      <td>49.0</td>\n      <td>-7.979340811</td>\n      <td>-34.83757703</td>\n      <td>3</td>\n    </tr>\n    <tr>\n      <th>9993</th>\n      <td>ARTIGOS ELETRO</td>\n      <td>DE R$ 1.900,00 A R$ 3.800,00</td>\n      <td>47.0</td>\n      <td>-3.789461</td>\n      <td>-38.49188727</td>\n      <td>3</td>\n    </tr>\n    <tr>\n      <th>9997</th>\n      <td>SERVICO</td>\n      <td>DE R$ 788,00 A R$ 1.140,00</td>\n      <td>45.0</td>\n      <td>-8.330678649</td>\n      <td>-36.13689703</td>\n      <td>3</td>\n    </tr>\n  </tbody>\n</table>\n<p>1129 rows × 6 columns</p>\n</div>"
     },
     "metadata": {},
     "execution_count": 32
    }
   ],
   "source": [
    "cluster3_original['cluster'] = pd.Series(3, index=cluster3_original.index)\n",
    "cluster3_original"
   ]
  },
  {
   "cell_type": "code",
   "execution_count": 33,
   "metadata": {},
   "outputs": [
    {
     "output_type": "execute_result",
     "data": {
      "text/plain": [
       "             CONSUMO                         RENDA  IDADE      LATITUDE  \\\n",
       "9     ARTIGOS ELETRO  DE R$ 1.900,00 A R$ 3.800,00   45.0     -12.99279   \n",
       "18           SERVICO  DE R$ 3.800,00 A R$ 7.600,00    NaN    -22.895562   \n",
       "19           SERVICO  DE R$ 1.900,00 A R$ 3.800,00   49.0  -18.45250818   \n",
       "21           SERVICO  DE R$ 1.900,00 A R$ 3.800,00   41.0  -18.18101889   \n",
       "24         VESTUARIO  DE R$ 3.800,00 A R$ 7.600,00   57.0  -22.96448667   \n",
       "...              ...                           ...    ...           ...   \n",
       "9980          VAREJO    DE R$ 788,00 A R$ 1.140,00   40.0  -3.276961392   \n",
       "9982  ARTIGOS ELETRO  DE R$ 1.900,00 A R$ 3.800,00   45.0    -8.3273228   \n",
       "9990  LOJA DE DEPART    DE R$ 788,00 A R$ 1.140,00   49.0  -7.979340811   \n",
       "9993  ARTIGOS ELETRO  DE R$ 1.900,00 A R$ 3.800,00   47.0     -3.789461   \n",
       "9997         SERVICO    DE R$ 788,00 A R$ 1.140,00   45.0  -8.330678649   \n",
       "\n",
       "         LONGITUDE  cluster  \n",
       "9        -38.46543        0  \n",
       "18      -43.278422        0  \n",
       "19    -44.17324348        0  \n",
       "21    -47.94993778        0  \n",
       "24    -43.19038667        0  \n",
       "...            ...      ...  \n",
       "9980  -39.26755165        3  \n",
       "9982   -36.1367084        3  \n",
       "9990  -34.83757703        3  \n",
       "9993  -38.49188727        3  \n",
       "9997  -36.13689703        3  \n",
       "\n",
       "[10000 rows x 6 columns]"
      ],
      "text/html": "<div>\n<style scoped>\n    .dataframe tbody tr th:only-of-type {\n        vertical-align: middle;\n    }\n\n    .dataframe tbody tr th {\n        vertical-align: top;\n    }\n\n    .dataframe thead th {\n        text-align: right;\n    }\n</style>\n<table border=\"1\" class=\"dataframe\">\n  <thead>\n    <tr style=\"text-align: right;\">\n      <th></th>\n      <th>CONSUMO</th>\n      <th>RENDA</th>\n      <th>IDADE</th>\n      <th>LATITUDE</th>\n      <th>LONGITUDE</th>\n      <th>cluster</th>\n    </tr>\n  </thead>\n  <tbody>\n    <tr>\n      <th>9</th>\n      <td>ARTIGOS ELETRO</td>\n      <td>DE R$ 1.900,00 A R$ 3.800,00</td>\n      <td>45.0</td>\n      <td>-12.99279</td>\n      <td>-38.46543</td>\n      <td>0</td>\n    </tr>\n    <tr>\n      <th>18</th>\n      <td>SERVICO</td>\n      <td>DE R$ 3.800,00 A R$ 7.600,00</td>\n      <td>NaN</td>\n      <td>-22.895562</td>\n      <td>-43.278422</td>\n      <td>0</td>\n    </tr>\n    <tr>\n      <th>19</th>\n      <td>SERVICO</td>\n      <td>DE R$ 1.900,00 A R$ 3.800,00</td>\n      <td>49.0</td>\n      <td>-18.45250818</td>\n      <td>-44.17324348</td>\n      <td>0</td>\n    </tr>\n    <tr>\n      <th>21</th>\n      <td>SERVICO</td>\n      <td>DE R$ 1.900,00 A R$ 3.800,00</td>\n      <td>41.0</td>\n      <td>-18.18101889</td>\n      <td>-47.94993778</td>\n      <td>0</td>\n    </tr>\n    <tr>\n      <th>24</th>\n      <td>VESTUARIO</td>\n      <td>DE R$ 3.800,00 A R$ 7.600,00</td>\n      <td>57.0</td>\n      <td>-22.96448667</td>\n      <td>-43.19038667</td>\n      <td>0</td>\n    </tr>\n    <tr>\n      <th>...</th>\n      <td>...</td>\n      <td>...</td>\n      <td>...</td>\n      <td>...</td>\n      <td>...</td>\n      <td>...</td>\n    </tr>\n    <tr>\n      <th>9980</th>\n      <td>VAREJO</td>\n      <td>DE R$ 788,00 A R$ 1.140,00</td>\n      <td>40.0</td>\n      <td>-3.276961392</td>\n      <td>-39.26755165</td>\n      <td>3</td>\n    </tr>\n    <tr>\n      <th>9982</th>\n      <td>ARTIGOS ELETRO</td>\n      <td>DE R$ 1.900,00 A R$ 3.800,00</td>\n      <td>45.0</td>\n      <td>-8.3273228</td>\n      <td>-36.1367084</td>\n      <td>3</td>\n    </tr>\n    <tr>\n      <th>9990</th>\n      <td>LOJA DE DEPART</td>\n      <td>DE R$ 788,00 A R$ 1.140,00</td>\n      <td>49.0</td>\n      <td>-7.979340811</td>\n      <td>-34.83757703</td>\n      <td>3</td>\n    </tr>\n    <tr>\n      <th>9993</th>\n      <td>ARTIGOS ELETRO</td>\n      <td>DE R$ 1.900,00 A R$ 3.800,00</td>\n      <td>47.0</td>\n      <td>-3.789461</td>\n      <td>-38.49188727</td>\n      <td>3</td>\n    </tr>\n    <tr>\n      <th>9997</th>\n      <td>SERVICO</td>\n      <td>DE R$ 788,00 A R$ 1.140,00</td>\n      <td>45.0</td>\n      <td>-8.330678649</td>\n      <td>-36.13689703</td>\n      <td>3</td>\n    </tr>\n  </tbody>\n</table>\n<p>10000 rows × 6 columns</p>\n</div>"
     },
     "metadata": {},
     "execution_count": 33
    }
   ],
   "source": [
    "df_concatenado = pd.concat([cluster0_original, cluster1_original, cluster2_original, cluster3_original])\n",
    "df_concatenado"
   ]
  },
  {
   "cell_type": "code",
   "execution_count": null,
   "metadata": {},
   "outputs": [],
   "source": []
  }
 ]
}