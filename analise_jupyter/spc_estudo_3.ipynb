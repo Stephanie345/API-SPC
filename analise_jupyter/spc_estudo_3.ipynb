{
 "metadata": {
  "language_info": {
   "codemirror_mode": {
    "name": "ipython",
    "version": 3
   },
   "file_extension": ".py",
   "mimetype": "text/x-python",
   "name": "python",
   "nbconvert_exporter": "python",
   "pygments_lexer": "ipython3",
   "version": "3.9.1"
  },
  "orig_nbformat": 4,
  "kernelspec": {
   "name": "python3",
   "display_name": "Python 3.9.1 64-bit"
  },
  "interpreter": {
   "hash": "ac59ebe37160ed0dfa835113d9b8498d9f09ceb179beaac4002f036b9467c963"
  }
 },
 "nbformat": 4,
 "nbformat_minor": 2,
 "cells": [
  {
   "cell_type": "code",
   "execution_count": 1,
   "metadata": {},
   "outputs": [],
   "source": [
    "# Importando os módulos:\n",
    "import pandas as pd\n",
    "import folium\n",
    "from folium import plugins, Map\n",
    "import matplotlib.pyplot as plt\n",
    "import seaborn as sns\n",
    "from folium.plugins import HeatMap, MarkerCluster\n",
    "import plotly.express as px\n",
    "from sklearn.cluster import KMeans\n",
    "from sklearn.preprocessing import LabelEncoder, MinMaxScaler"
   ]
  },
  {
   "cell_type": "code",
   "execution_count": 28,
   "metadata": {},
   "outputs": [],
   "source": [
    "# Nova data frame com os dados tratados (rodar todas as vezes)\n",
    "df= pd.read_csv(r\"dataset_consumo_2.csv\", delimiter=';', encoding='ANSI')"
   ]
  },
  {
   "cell_type": "code",
   "execution_count": 29,
   "metadata": {},
   "outputs": [],
   "source": [
    "df['LATITUDE'] = df['LATITUDE'].str.replace(',','.')\n",
    "df['LONGITUDE'] = df['LONGITUDE'].str.replace(',','.')"
   ]
  },
  {
   "cell_type": "code",
   "execution_count": 30,
   "metadata": {},
   "outputs": [
    {
     "output_type": "execute_result",
     "data": {
      "text/plain": [
       "array([0, 1, 2, 3])"
      ]
     },
     "metadata": {},
     "execution_count": 30
    }
   ],
   "source": [
    "state_encoder = LabelEncoder()\n",
    "state_encoder.fit(df['RENDA'].unique())\n",
    "df['RENDA'] = state_encoder.transform(df['RENDA'])\n",
    "df['RENDA'].unique()"
   ]
  },
  {
   "cell_type": "code",
   "execution_count": 31,
   "metadata": {},
   "outputs": [
    {
     "output_type": "execute_result",
     "data": {
      "text/plain": [
       "array([17,  5, 11,  2, 20, 10, 21, 13,  6, 16, 18, 15, 12, 14,  4,  9, 19,\n",
       "        0,  3,  7,  8,  1])"
      ]
     },
     "metadata": {},
     "execution_count": 31
    }
   ],
   "source": [
    "state_encoder = LabelEncoder()\n",
    "state_encoder.fit(df['CONSUMO'].unique())\n",
    "df['CONSUMO'] = state_encoder.transform(df['CONSUMO'])\n",
    "df['CONSUMO'].unique()"
   ]
  },
  {
   "cell_type": "code",
   "execution_count": 32,
   "metadata": {},
   "outputs": [
    {
     "output_type": "execute_result",
     "data": {
      "text/plain": [
       "array([19, 22, 46, 25, 43, 21, 27, 42, 24, 68, 32, 13, 30, 36, 91, 28, 51,\n",
       "       20, 14, 53, 17, 52, 35, 11, 34, 47, 18, 49, 26, 33, 38, 75, 45, 62,\n",
       "       44, 48, 23, 61, 39, 40, 29, 63, 72, 64, 15, 12, 16, 41, 71, 60, 37,\n",
       "       66, 31, 73, 54, 74,  6, 81, 50, 83, 76, 65, 69, 55, 59,  9,  3, 58,\n",
       "       79, 57, 70, 56,  2, 77, 82, 67, 80, 85, 10,  4, 78, 84,  7,  1,  0,\n",
       "        5,  8, 86, 87, 90, 88, 89], dtype=int64)"
      ]
     },
     "metadata": {},
     "execution_count": 32
    }
   ],
   "source": [
    "state_encoder = LabelEncoder()\n",
    "state_encoder.fit(df['IDADE'].unique())\n",
    "df['IDADE'] = state_encoder.transform(df['IDADE'])\n",
    "df['IDADE'].unique()"
   ]
  },
  {
   "cell_type": "code",
   "execution_count": 33,
   "metadata": {},
   "outputs": [
    {
     "output_type": "execute_result",
     "data": {
      "text/plain": [
       "array([7419, 5675, 7445, ..., 1079, 8166, 1121])"
      ]
     },
     "metadata": {},
     "execution_count": 33
    }
   ],
   "source": [
    "state_encoder = LabelEncoder()\n",
    "state_encoder.fit(df['LATITUDE'].unique())\n",
    "df['LATITUDE'] = state_encoder.transform(df['LATITUDE'])\n",
    "df['LATITUDE'].unique()"
   ]
  },
  {
   "cell_type": "code",
   "execution_count": 34,
   "metadata": {},
   "outputs": [
    {
     "output_type": "execute_result",
     "data": {
      "text/plain": [
       "array([ 630, 4813, 1940, ..., 4272,  442, 4501])"
      ]
     },
     "metadata": {},
     "execution_count": 34
    }
   ],
   "source": [
    "state_encoder = LabelEncoder()\n",
    "state_encoder.fit(df['LONGITUDE'].unique())\n",
    "df['LONGITUDE'] = state_encoder.transform(df['LONGITUDE'])\n",
    "df['LONGITUDE'].unique()"
   ]
  },
  {
   "cell_type": "code",
   "execution_count": 35,
   "metadata": {},
   "outputs": [
    {
     "output_type": "execute_result",
     "data": {
      "text/plain": [
       "      CONSUMO  RENDA  IDADE  LATITUDE  LONGITUDE\n",
       "0          17      0     19      7419        630\n",
       "1           5      1     22      5675       4813\n",
       "2          17      1     46      7445       1940\n",
       "3          11      2     25       978       4518\n",
       "4          11      2     43      1593       1832\n",
       "...       ...    ...    ...       ...        ...\n",
       "9995       20      0     21       423       3910\n",
       "9996       17      1     20      1079       4272\n",
       "9997       17      2     24      8166        442\n",
       "9998        2      2     15      8504       8506\n",
       "9999        2      1     19      1121       4501\n",
       "\n",
       "[10000 rows x 5 columns]"
      ],
      "text/html": "<div>\n<style scoped>\n    .dataframe tbody tr th:only-of-type {\n        vertical-align: middle;\n    }\n\n    .dataframe tbody tr th {\n        vertical-align: top;\n    }\n\n    .dataframe thead th {\n        text-align: right;\n    }\n</style>\n<table border=\"1\" class=\"dataframe\">\n  <thead>\n    <tr style=\"text-align: right;\">\n      <th></th>\n      <th>CONSUMO</th>\n      <th>RENDA</th>\n      <th>IDADE</th>\n      <th>LATITUDE</th>\n      <th>LONGITUDE</th>\n    </tr>\n  </thead>\n  <tbody>\n    <tr>\n      <th>0</th>\n      <td>17</td>\n      <td>0</td>\n      <td>19</td>\n      <td>7419</td>\n      <td>630</td>\n    </tr>\n    <tr>\n      <th>1</th>\n      <td>5</td>\n      <td>1</td>\n      <td>22</td>\n      <td>5675</td>\n      <td>4813</td>\n    </tr>\n    <tr>\n      <th>2</th>\n      <td>17</td>\n      <td>1</td>\n      <td>46</td>\n      <td>7445</td>\n      <td>1940</td>\n    </tr>\n    <tr>\n      <th>3</th>\n      <td>11</td>\n      <td>2</td>\n      <td>25</td>\n      <td>978</td>\n      <td>4518</td>\n    </tr>\n    <tr>\n      <th>4</th>\n      <td>11</td>\n      <td>2</td>\n      <td>43</td>\n      <td>1593</td>\n      <td>1832</td>\n    </tr>\n    <tr>\n      <th>...</th>\n      <td>...</td>\n      <td>...</td>\n      <td>...</td>\n      <td>...</td>\n      <td>...</td>\n    </tr>\n    <tr>\n      <th>9995</th>\n      <td>20</td>\n      <td>0</td>\n      <td>21</td>\n      <td>423</td>\n      <td>3910</td>\n    </tr>\n    <tr>\n      <th>9996</th>\n      <td>17</td>\n      <td>1</td>\n      <td>20</td>\n      <td>1079</td>\n      <td>4272</td>\n    </tr>\n    <tr>\n      <th>9997</th>\n      <td>17</td>\n      <td>2</td>\n      <td>24</td>\n      <td>8166</td>\n      <td>442</td>\n    </tr>\n    <tr>\n      <th>9998</th>\n      <td>2</td>\n      <td>2</td>\n      <td>15</td>\n      <td>8504</td>\n      <td>8506</td>\n    </tr>\n    <tr>\n      <th>9999</th>\n      <td>2</td>\n      <td>1</td>\n      <td>19</td>\n      <td>1121</td>\n      <td>4501</td>\n    </tr>\n  </tbody>\n</table>\n<p>10000 rows × 5 columns</p>\n</div>"
     },
     "metadata": {},
     "execution_count": 35
    }
   ],
   "source": [
    "df_code=df[['CONSUMO','RENDA','IDADE','LATITUDE','LONGITUDE']]\n",
    "df_code"
   ]
  },
  {
   "cell_type": "code",
   "execution_count": 36,
   "metadata": {},
   "outputs": [],
   "source": [
    "#Normalização com média 0 e desvio 1\n",
    "normaliza = MinMaxScaler()"
   ]
  },
  {
   "cell_type": "code",
   "execution_count": 37,
   "metadata": {},
   "outputs": [],
   "source": [
    "#Aplica a normalização\n",
    "X_std = normaliza.fit_transform(df_code)"
   ]
  },
  {
   "cell_type": "code",
   "execution_count": 38,
   "metadata": {},
   "outputs": [],
   "source": [
    "#transformando os dados normalizados em um dataframe\n",
    "df_norma = pd.DataFrame(X_std, columns=['CONSUMO','RENDA','IDADE','LATITUDE','LONGITUDE'])"
   ]
  },
  {
   "cell_type": "code",
   "execution_count": 39,
   "metadata": {},
   "outputs": [
    {
     "output_type": "execute_result",
     "data": {
      "text/plain": [
       "    CONSUMO     RENDA     IDADE  LATITUDE  LONGITUDE  CLUSTER\n",
       "0  0.809524  0.000000  0.208791  0.872413   0.074065        3\n",
       "1  0.238095  0.333333  0.241758  0.667333   0.565836        2\n",
       "2  0.809524  0.333333  0.505495  0.875470   0.228074        3\n",
       "3  0.523810  0.666667  0.274725  0.115005   0.531154        1\n",
       "4  0.523810  0.666667  0.472527  0.187324   0.215377        1"
      ],
      "text/html": "<div>\n<style scoped>\n    .dataframe tbody tr th:only-of-type {\n        vertical-align: middle;\n    }\n\n    .dataframe tbody tr th {\n        vertical-align: top;\n    }\n\n    .dataframe thead th {\n        text-align: right;\n    }\n</style>\n<table border=\"1\" class=\"dataframe\">\n  <thead>\n    <tr style=\"text-align: right;\">\n      <th></th>\n      <th>CONSUMO</th>\n      <th>RENDA</th>\n      <th>IDADE</th>\n      <th>LATITUDE</th>\n      <th>LONGITUDE</th>\n      <th>CLUSTER</th>\n    </tr>\n  </thead>\n  <tbody>\n    <tr>\n      <th>0</th>\n      <td>0.809524</td>\n      <td>0.000000</td>\n      <td>0.208791</td>\n      <td>0.872413</td>\n      <td>0.074065</td>\n      <td>3</td>\n    </tr>\n    <tr>\n      <th>1</th>\n      <td>0.238095</td>\n      <td>0.333333</td>\n      <td>0.241758</td>\n      <td>0.667333</td>\n      <td>0.565836</td>\n      <td>2</td>\n    </tr>\n    <tr>\n      <th>2</th>\n      <td>0.809524</td>\n      <td>0.333333</td>\n      <td>0.505495</td>\n      <td>0.875470</td>\n      <td>0.228074</td>\n      <td>3</td>\n    </tr>\n    <tr>\n      <th>3</th>\n      <td>0.523810</td>\n      <td>0.666667</td>\n      <td>0.274725</td>\n      <td>0.115005</td>\n      <td>0.531154</td>\n      <td>1</td>\n    </tr>\n    <tr>\n      <th>4</th>\n      <td>0.523810</td>\n      <td>0.666667</td>\n      <td>0.472527</td>\n      <td>0.187324</td>\n      <td>0.215377</td>\n      <td>1</td>\n    </tr>\n  </tbody>\n</table>\n</div>"
     },
     "metadata": {},
     "execution_count": 39
    }
   ],
   "source": [
    "#Realizando a aplicação do Kmeans\n",
    "km = KMeans(n_clusters=4)\n",
    "clusters = km.fit_predict(df_norma)\n",
    "df_norma['CLUSTER'] = clusters\n",
    "df_norma.head()"
   ]
  },
  {
   "cell_type": "code",
   "execution_count": 40,
   "metadata": {},
   "outputs": [],
   "source": [
    "cluster_0 = df_norma[df_norma['CLUSTER'] == 0]\n",
    "cluster_1 = df_norma[df_norma['CLUSTER'] == 1]\n",
    "cluster_2 = df_norma[df_norma['CLUSTER'] == 2]\n",
    "cluster_3 = df_norma[df_norma['CLUSTER'] == 3]"
   ]
  },
  {
   "cell_type": "code",
   "execution_count": 41,
   "metadata": {},
   "outputs": [
    {
     "output_type": "execute_result",
     "data": {
      "text/plain": [
       "       CONSUMO     RENDA     IDADE  LATITUDE  LONGITUDE  CLUSTER\n",
       "3     0.523810  0.666667  0.274725  0.115005   0.531154        1\n",
       "4     0.523810  0.666667  0.472527  0.187324   0.215377        1\n",
       "8     0.095238  0.666667  0.461538  0.200494   0.315189        1\n",
       "12    0.809524  0.666667  0.351648  0.207549   0.360804        1\n",
       "18    0.809524  0.333333  1.000000  0.477775   0.263579        1\n",
       "...        ...       ...       ...       ...        ...      ...\n",
       "9960  0.952381  0.666667  0.472527  0.519755   0.437926        1\n",
       "9973  0.285714  1.000000  0.901099  0.508819   0.255349        1\n",
       "9974  0.095238  0.666667  0.285714  0.530809   0.712909        1\n",
       "9983  0.809524  0.666667  0.791209  0.656044   0.873619        1\n",
       "9991  0.809524  0.666667  0.208791  0.100776   0.821420        1\n",
       "\n",
       "[1964 rows x 6 columns]"
      ],
      "text/html": "<div>\n<style scoped>\n    .dataframe tbody tr th:only-of-type {\n        vertical-align: middle;\n    }\n\n    .dataframe tbody tr th {\n        vertical-align: top;\n    }\n\n    .dataframe thead th {\n        text-align: right;\n    }\n</style>\n<table border=\"1\" class=\"dataframe\">\n  <thead>\n    <tr style=\"text-align: right;\">\n      <th></th>\n      <th>CONSUMO</th>\n      <th>RENDA</th>\n      <th>IDADE</th>\n      <th>LATITUDE</th>\n      <th>LONGITUDE</th>\n      <th>CLUSTER</th>\n    </tr>\n  </thead>\n  <tbody>\n    <tr>\n      <th>3</th>\n      <td>0.523810</td>\n      <td>0.666667</td>\n      <td>0.274725</td>\n      <td>0.115005</td>\n      <td>0.531154</td>\n      <td>1</td>\n    </tr>\n    <tr>\n      <th>4</th>\n      <td>0.523810</td>\n      <td>0.666667</td>\n      <td>0.472527</td>\n      <td>0.187324</td>\n      <td>0.215377</td>\n      <td>1</td>\n    </tr>\n    <tr>\n      <th>8</th>\n      <td>0.095238</td>\n      <td>0.666667</td>\n      <td>0.461538</td>\n      <td>0.200494</td>\n      <td>0.315189</td>\n      <td>1</td>\n    </tr>\n    <tr>\n      <th>12</th>\n      <td>0.809524</td>\n      <td>0.666667</td>\n      <td>0.351648</td>\n      <td>0.207549</td>\n      <td>0.360804</td>\n      <td>1</td>\n    </tr>\n    <tr>\n      <th>18</th>\n      <td>0.809524</td>\n      <td>0.333333</td>\n      <td>1.000000</td>\n      <td>0.477775</td>\n      <td>0.263579</td>\n      <td>1</td>\n    </tr>\n    <tr>\n      <th>...</th>\n      <td>...</td>\n      <td>...</td>\n      <td>...</td>\n      <td>...</td>\n      <td>...</td>\n      <td>...</td>\n    </tr>\n    <tr>\n      <th>9960</th>\n      <td>0.952381</td>\n      <td>0.666667</td>\n      <td>0.472527</td>\n      <td>0.519755</td>\n      <td>0.437926</td>\n      <td>1</td>\n    </tr>\n    <tr>\n      <th>9973</th>\n      <td>0.285714</td>\n      <td>1.000000</td>\n      <td>0.901099</td>\n      <td>0.508819</td>\n      <td>0.255349</td>\n      <td>1</td>\n    </tr>\n    <tr>\n      <th>9974</th>\n      <td>0.095238</td>\n      <td>0.666667</td>\n      <td>0.285714</td>\n      <td>0.530809</td>\n      <td>0.712909</td>\n      <td>1</td>\n    </tr>\n    <tr>\n      <th>9983</th>\n      <td>0.809524</td>\n      <td>0.666667</td>\n      <td>0.791209</td>\n      <td>0.656044</td>\n      <td>0.873619</td>\n      <td>1</td>\n    </tr>\n    <tr>\n      <th>9991</th>\n      <td>0.809524</td>\n      <td>0.666667</td>\n      <td>0.208791</td>\n      <td>0.100776</td>\n      <td>0.821420</td>\n      <td>1</td>\n    </tr>\n  </tbody>\n</table>\n<p>1964 rows × 6 columns</p>\n</div>"
     },
     "metadata": {},
     "execution_count": 41
    }
   ],
   "source": [
    "cluster_1"
   ]
  },
  {
   "cell_type": "code",
   "execution_count": 42,
   "metadata": {},
   "outputs": [
    {
     "output_type": "execute_result",
     "data": {
      "text/plain": [
       "array([[0.73557407, 0.10717906, 0.36052584, 0.31406762, 0.44303935],\n",
       "       [0.74651568, 0.67056233, 0.44675802, 0.33988381, 0.52627963],\n",
       "       [0.74147989, 0.21727561, 0.30266172, 0.850221  , 0.8763958 ],\n",
       "       [0.74397566, 0.38802533, 0.33469984, 0.91029407, 0.10861387]])"
      ]
     },
     "metadata": {},
     "execution_count": 42
    }
   ],
   "source": [
    "km.cluster_centers_"
   ]
  },
  {
   "cell_type": "code",
   "execution_count": 49,
   "metadata": {},
   "outputs": [
    {
     "output_type": "execute_result",
     "data": {
      "text/plain": [
       "       CONSUMO     RENDA     IDADE  LATITUDE  LONGITUDE  CLUSTER\n",
       "3     0.523810  0.666667  0.274725  0.115005   0.531154        1\n",
       "4     0.523810  0.666667  0.472527  0.187324   0.215377        1\n",
       "8     0.095238  0.666667  0.461538  0.200494   0.315189        1\n",
       "12    0.809524  0.666667  0.351648  0.207549   0.360804        1\n",
       "18    0.809524  0.333333  1.000000  0.477775   0.263579        1\n",
       "...        ...       ...       ...       ...        ...      ...\n",
       "9960  0.952381  0.666667  0.472527  0.519755   0.437926        1\n",
       "9973  0.285714  1.000000  0.901099  0.508819   0.255349        1\n",
       "9974  0.095238  0.666667  0.285714  0.530809   0.712909        1\n",
       "9983  0.809524  0.666667  0.791209  0.656044   0.873619        1\n",
       "9991  0.809524  0.666667  0.208791  0.100776   0.821420        1\n",
       "\n",
       "[1964 rows x 6 columns]"
      ],
      "text/html": "<div>\n<style scoped>\n    .dataframe tbody tr th:only-of-type {\n        vertical-align: middle;\n    }\n\n    .dataframe tbody tr th {\n        vertical-align: top;\n    }\n\n    .dataframe thead th {\n        text-align: right;\n    }\n</style>\n<table border=\"1\" class=\"dataframe\">\n  <thead>\n    <tr style=\"text-align: right;\">\n      <th></th>\n      <th>CONSUMO</th>\n      <th>RENDA</th>\n      <th>IDADE</th>\n      <th>LATITUDE</th>\n      <th>LONGITUDE</th>\n      <th>CLUSTER</th>\n    </tr>\n  </thead>\n  <tbody>\n    <tr>\n      <th>3</th>\n      <td>0.523810</td>\n      <td>0.666667</td>\n      <td>0.274725</td>\n      <td>0.115005</td>\n      <td>0.531154</td>\n      <td>1</td>\n    </tr>\n    <tr>\n      <th>4</th>\n      <td>0.523810</td>\n      <td>0.666667</td>\n      <td>0.472527</td>\n      <td>0.187324</td>\n      <td>0.215377</td>\n      <td>1</td>\n    </tr>\n    <tr>\n      <th>8</th>\n      <td>0.095238</td>\n      <td>0.666667</td>\n      <td>0.461538</td>\n      <td>0.200494</td>\n      <td>0.315189</td>\n      <td>1</td>\n    </tr>\n    <tr>\n      <th>12</th>\n      <td>0.809524</td>\n      <td>0.666667</td>\n      <td>0.351648</td>\n      <td>0.207549</td>\n      <td>0.360804</td>\n      <td>1</td>\n    </tr>\n    <tr>\n      <th>18</th>\n      <td>0.809524</td>\n      <td>0.333333</td>\n      <td>1.000000</td>\n      <td>0.477775</td>\n      <td>0.263579</td>\n      <td>1</td>\n    </tr>\n    <tr>\n      <th>...</th>\n      <td>...</td>\n      <td>...</td>\n      <td>...</td>\n      <td>...</td>\n      <td>...</td>\n      <td>...</td>\n    </tr>\n    <tr>\n      <th>9960</th>\n      <td>0.952381</td>\n      <td>0.666667</td>\n      <td>0.472527</td>\n      <td>0.519755</td>\n      <td>0.437926</td>\n      <td>1</td>\n    </tr>\n    <tr>\n      <th>9973</th>\n      <td>0.285714</td>\n      <td>1.000000</td>\n      <td>0.901099</td>\n      <td>0.508819</td>\n      <td>0.255349</td>\n      <td>1</td>\n    </tr>\n    <tr>\n      <th>9974</th>\n      <td>0.095238</td>\n      <td>0.666667</td>\n      <td>0.285714</td>\n      <td>0.530809</td>\n      <td>0.712909</td>\n      <td>1</td>\n    </tr>\n    <tr>\n      <th>9983</th>\n      <td>0.809524</td>\n      <td>0.666667</td>\n      <td>0.791209</td>\n      <td>0.656044</td>\n      <td>0.873619</td>\n      <td>1</td>\n    </tr>\n    <tr>\n      <th>9991</th>\n      <td>0.809524</td>\n      <td>0.666667</td>\n      <td>0.208791</td>\n      <td>0.100776</td>\n      <td>0.821420</td>\n      <td>1</td>\n    </tr>\n  </tbody>\n</table>\n<p>1964 rows × 6 columns</p>\n</div>"
     },
     "metadata": {},
     "execution_count": 49
    }
   ],
   "source": [
    "ind_list = list(cluster_1.index)\n",
    "cluster1_original = df_norma.iloc[ind_list]\n",
    "cluster1_original"
   ]
  },
  {
   "cell_type": "code",
   "execution_count": null,
   "metadata": {},
   "outputs": [],
   "source": []
  }
 ]
}