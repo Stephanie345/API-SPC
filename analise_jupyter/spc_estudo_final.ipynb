{
 "metadata": {
  "language_info": {
   "codemirror_mode": {
    "name": "ipython",
    "version": 3
   },
   "file_extension": ".py",
   "mimetype": "text/x-python",
   "name": "python",
   "nbconvert_exporter": "python",
   "pygments_lexer": "ipython3",
   "version": "3.9.1"
  },
  "orig_nbformat": 4,
  "kernelspec": {
   "name": "python3",
   "display_name": "Python 3.9.1 64-bit"
  },
  "interpreter": {
   "hash": "ac59ebe37160ed0dfa835113d9b8498d9f09ceb179beaac4002f036b9467c963"
  }
 },
 "nbformat": 4,
 "nbformat_minor": 2,
 "cells": [
  {
   "cell_type": "code",
   "execution_count": 1,
   "metadata": {},
   "outputs": [],
   "source": [
    "# Importando os módulos:\n",
    "import pandas as pd\n",
    "import folium\n",
    "from folium import plugins, Map\n",
    "import matplotlib.pyplot as plt\n",
    "import seaborn as sns\n",
    "from folium.plugins import HeatMap, MarkerCluster\n",
    "import plotly.express as px\n",
    "from sklearn.cluster import KMeans\n",
    "from sklearn.preprocessing import LabelEncoder, MinMaxScaler"
   ]
  },
  {
   "cell_type": "code",
   "execution_count": 2,
   "metadata": {},
   "outputs": [
    {
     "output_type": "execute_result",
     "data": {
      "text/plain": [
       "                                ID_USUARIO   DATA_NASCIMENTO  \\\n",
       "0     d6c0cc1d-eb61-486a-b5c3-50725ef44d61  30/01/1981 00:00   \n",
       "1     da0067e7-aa6b-4355-b373-ca17f6ac3b44  28/01/1978 00:00   \n",
       "2     2d729b8a-d53c-48e7-8bf5-33b021980c04  09/12/1954 00:00   \n",
       "3     62c0f1e6-36f2-4205-a134-232a58a6f8a5  28/08/1975 00:00   \n",
       "4     0cef9719-0aa3-49a2-adea-9c09c04de071  17/06/1957 00:00   \n",
       "...                                    ...               ...   \n",
       "9995  f2261fce-83c5-4f64-b145-85f46bcf18b1  08/10/1979 00:00   \n",
       "9996  bdaa7802-4650-44a4-93f7-952b72ec17a0  30/04/1980 00:00   \n",
       "9997  e7b37cd5-714a-44d8-ad7f-4ed3aa6b0695  26/05/1976 00:00   \n",
       "9998  167dbd7f-7ccd-4aad-a6b9-c3fb9d56c9cd  06/11/1985 00:00   \n",
       "9999  d4f11ca2-71b1-4e12-aba6-bd8530ca2691  09/03/1981 00:00   \n",
       "\n",
       "                             RENDA RENDA_FIXA      LATITUDE     LONGITUDE  \\\n",
       "0     DE R$ 1.900,00 A R$ 3.800,00   3.104,00      -4,84758     -37,78439   \n",
       "1     DE R$ 3.800,00 A R$ 7.600,00   5.703,00  -26,99011814  -48,63716523   \n",
       "2     DE R$ 3.800,00 A R$ 7.600,00   3.901,00  -5,053671016  -42,81315203   \n",
       "3       DE R$ 788,00 A R$ 1.140,00   1.086,00    -15,059042    -48,163372   \n",
       "4       DE R$ 788,00 A R$ 1.140,00        836    -17,694658     -42,52228   \n",
       "...                            ...        ...           ...           ...   \n",
       "9995  DE R$ 1.900,00 A R$ 3.800,00   2.776,00  -11,60937194  -47,04750645   \n",
       "9996  DE R$ 3.800,00 A R$ 7.600,00   4.099,00  -15,65049668  -47,79332059   \n",
       "9997    DE R$ 788,00 A R$ 1.140,00   1.052,00  -8,330678649  -36,13689703   \n",
       "9998    DE R$ 788,00 A R$ 1.140,00        958           NaN           NaN   \n",
       "9999  DE R$ 3.800,00 A R$ 7.600,00   5.954,00    -15,787504    -48,139096   \n",
       "\n",
       "     TIPO_PESSOA                     CIDADE            ESTADO      LOGRADOURO  \\\n",
       "0            CPF                 Jaguaruana             Ceará  street_address   \n",
       "1            CPF         Balneário Camboriú    Santa Catarina  street_address   \n",
       "2            CPF                   Teresina             Piauí  street_address   \n",
       "3           CNPJ            Mimoso de Goiás             Goiás   establishment   \n",
       "4            CPF                  Capelinha      Minas Gerais  street_address   \n",
       "...          ...                        ...               ...             ...   \n",
       "9995         CPF  Porto Alegre do Tocantins         Tocantins           route   \n",
       "9996         CPF                   Brasília  Distrito Federal  street_address   \n",
       "9997         CPF                São Caetano        Pernambuco  street_address   \n",
       "9998        CNPJ                        NaN               NaN             NaN   \n",
       "9999         CPF                   Brasília  Distrito Federal         premise   \n",
       "\n",
       "         ANO  IDADE  FAIXA ETARIA         CONSUMO  \n",
       "0     1981.0   40.0  30 a 40 anos         SERVICO  \n",
       "1     1978.0   43.0  40 a 50 anos       FARMACIAS  \n",
       "2     1954.0   67.0  60 a 70 anos         SERVICO  \n",
       "3     1975.0   46.0  40 a 50 anos        M.O.T.O.  \n",
       "4     1957.0   64.0  60 a 70 anos        M.O.T.O.  \n",
       "...      ...    ...           ...             ...  \n",
       "9995  1979.0   42.0  40 a 50 anos          VAREJO  \n",
       "9996  1980.0   41.0  40 a 50 anos         SERVICO  \n",
       "9997  1976.0   45.0  40 a 50 anos         SERVICO  \n",
       "9998  1985.0   36.0  30 a 40 anos  ARTIGOS ELETRO  \n",
       "9999  1981.0   40.0  30 a 40 anos  ARTIGOS ELETRO  \n",
       "\n",
       "[10000 rows x 14 columns]"
      ],
      "text/html": "<div>\n<style scoped>\n    .dataframe tbody tr th:only-of-type {\n        vertical-align: middle;\n    }\n\n    .dataframe tbody tr th {\n        vertical-align: top;\n    }\n\n    .dataframe thead th {\n        text-align: right;\n    }\n</style>\n<table border=\"1\" class=\"dataframe\">\n  <thead>\n    <tr style=\"text-align: right;\">\n      <th></th>\n      <th>ID_USUARIO</th>\n      <th>DATA_NASCIMENTO</th>\n      <th>RENDA</th>\n      <th>RENDA_FIXA</th>\n      <th>LATITUDE</th>\n      <th>LONGITUDE</th>\n      <th>TIPO_PESSOA</th>\n      <th>CIDADE</th>\n      <th>ESTADO</th>\n      <th>LOGRADOURO</th>\n      <th>ANO</th>\n      <th>IDADE</th>\n      <th>FAIXA ETARIA</th>\n      <th>CONSUMO</th>\n    </tr>\n  </thead>\n  <tbody>\n    <tr>\n      <th>0</th>\n      <td>d6c0cc1d-eb61-486a-b5c3-50725ef44d61</td>\n      <td>30/01/1981 00:00</td>\n      <td>DE R$ 1.900,00 A R$ 3.800,00</td>\n      <td>3.104,00</td>\n      <td>-4,84758</td>\n      <td>-37,78439</td>\n      <td>CPF</td>\n      <td>Jaguaruana</td>\n      <td>Ceará</td>\n      <td>street_address</td>\n      <td>1981.0</td>\n      <td>40.0</td>\n      <td>30 a 40 anos</td>\n      <td>SERVICO</td>\n    </tr>\n    <tr>\n      <th>1</th>\n      <td>da0067e7-aa6b-4355-b373-ca17f6ac3b44</td>\n      <td>28/01/1978 00:00</td>\n      <td>DE R$ 3.800,00 A R$ 7.600,00</td>\n      <td>5.703,00</td>\n      <td>-26,99011814</td>\n      <td>-48,63716523</td>\n      <td>CPF</td>\n      <td>Balneário Camboriú</td>\n      <td>Santa Catarina</td>\n      <td>street_address</td>\n      <td>1978.0</td>\n      <td>43.0</td>\n      <td>40 a 50 anos</td>\n      <td>FARMACIAS</td>\n    </tr>\n    <tr>\n      <th>2</th>\n      <td>2d729b8a-d53c-48e7-8bf5-33b021980c04</td>\n      <td>09/12/1954 00:00</td>\n      <td>DE R$ 3.800,00 A R$ 7.600,00</td>\n      <td>3.901,00</td>\n      <td>-5,053671016</td>\n      <td>-42,81315203</td>\n      <td>CPF</td>\n      <td>Teresina</td>\n      <td>Piauí</td>\n      <td>street_address</td>\n      <td>1954.0</td>\n      <td>67.0</td>\n      <td>60 a 70 anos</td>\n      <td>SERVICO</td>\n    </tr>\n    <tr>\n      <th>3</th>\n      <td>62c0f1e6-36f2-4205-a134-232a58a6f8a5</td>\n      <td>28/08/1975 00:00</td>\n      <td>DE R$ 788,00 A R$ 1.140,00</td>\n      <td>1.086,00</td>\n      <td>-15,059042</td>\n      <td>-48,163372</td>\n      <td>CNPJ</td>\n      <td>Mimoso de Goiás</td>\n      <td>Goiás</td>\n      <td>establishment</td>\n      <td>1975.0</td>\n      <td>46.0</td>\n      <td>40 a 50 anos</td>\n      <td>M.O.T.O.</td>\n    </tr>\n    <tr>\n      <th>4</th>\n      <td>0cef9719-0aa3-49a2-adea-9c09c04de071</td>\n      <td>17/06/1957 00:00</td>\n      <td>DE R$ 788,00 A R$ 1.140,00</td>\n      <td>836</td>\n      <td>-17,694658</td>\n      <td>-42,52228</td>\n      <td>CPF</td>\n      <td>Capelinha</td>\n      <td>Minas Gerais</td>\n      <td>street_address</td>\n      <td>1957.0</td>\n      <td>64.0</td>\n      <td>60 a 70 anos</td>\n      <td>M.O.T.O.</td>\n    </tr>\n    <tr>\n      <th>...</th>\n      <td>...</td>\n      <td>...</td>\n      <td>...</td>\n      <td>...</td>\n      <td>...</td>\n      <td>...</td>\n      <td>...</td>\n      <td>...</td>\n      <td>...</td>\n      <td>...</td>\n      <td>...</td>\n      <td>...</td>\n      <td>...</td>\n      <td>...</td>\n    </tr>\n    <tr>\n      <th>9995</th>\n      <td>f2261fce-83c5-4f64-b145-85f46bcf18b1</td>\n      <td>08/10/1979 00:00</td>\n      <td>DE R$ 1.900,00 A R$ 3.800,00</td>\n      <td>2.776,00</td>\n      <td>-11,60937194</td>\n      <td>-47,04750645</td>\n      <td>CPF</td>\n      <td>Porto Alegre do Tocantins</td>\n      <td>Tocantins</td>\n      <td>route</td>\n      <td>1979.0</td>\n      <td>42.0</td>\n      <td>40 a 50 anos</td>\n      <td>VAREJO</td>\n    </tr>\n    <tr>\n      <th>9996</th>\n      <td>bdaa7802-4650-44a4-93f7-952b72ec17a0</td>\n      <td>30/04/1980 00:00</td>\n      <td>DE R$ 3.800,00 A R$ 7.600,00</td>\n      <td>4.099,00</td>\n      <td>-15,65049668</td>\n      <td>-47,79332059</td>\n      <td>CPF</td>\n      <td>Brasília</td>\n      <td>Distrito Federal</td>\n      <td>street_address</td>\n      <td>1980.0</td>\n      <td>41.0</td>\n      <td>40 a 50 anos</td>\n      <td>SERVICO</td>\n    </tr>\n    <tr>\n      <th>9997</th>\n      <td>e7b37cd5-714a-44d8-ad7f-4ed3aa6b0695</td>\n      <td>26/05/1976 00:00</td>\n      <td>DE R$ 788,00 A R$ 1.140,00</td>\n      <td>1.052,00</td>\n      <td>-8,330678649</td>\n      <td>-36,13689703</td>\n      <td>CPF</td>\n      <td>São Caetano</td>\n      <td>Pernambuco</td>\n      <td>street_address</td>\n      <td>1976.0</td>\n      <td>45.0</td>\n      <td>40 a 50 anos</td>\n      <td>SERVICO</td>\n    </tr>\n    <tr>\n      <th>9998</th>\n      <td>167dbd7f-7ccd-4aad-a6b9-c3fb9d56c9cd</td>\n      <td>06/11/1985 00:00</td>\n      <td>DE R$ 788,00 A R$ 1.140,00</td>\n      <td>958</td>\n      <td>NaN</td>\n      <td>NaN</td>\n      <td>CNPJ</td>\n      <td>NaN</td>\n      <td>NaN</td>\n      <td>NaN</td>\n      <td>1985.0</td>\n      <td>36.0</td>\n      <td>30 a 40 anos</td>\n      <td>ARTIGOS ELETRO</td>\n    </tr>\n    <tr>\n      <th>9999</th>\n      <td>d4f11ca2-71b1-4e12-aba6-bd8530ca2691</td>\n      <td>09/03/1981 00:00</td>\n      <td>DE R$ 3.800,00 A R$ 7.600,00</td>\n      <td>5.954,00</td>\n      <td>-15,787504</td>\n      <td>-48,139096</td>\n      <td>CPF</td>\n      <td>Brasília</td>\n      <td>Distrito Federal</td>\n      <td>premise</td>\n      <td>1981.0</td>\n      <td>40.0</td>\n      <td>30 a 40 anos</td>\n      <td>ARTIGOS ELETRO</td>\n    </tr>\n  </tbody>\n</table>\n<p>10000 rows × 14 columns</p>\n</div>"
     },
     "metadata": {},
     "execution_count": 2
    }
   ],
   "source": [
    "# Nova data frame com os dados tratados (rodar todas as vezes)\n",
    "df= pd.read_csv(r\"dataset_consumo_2.csv\", delimiter=';', encoding='ANSI')\n",
    "df"
   ]
  },
  {
   "cell_type": "code",
   "execution_count": 3,
   "metadata": {},
   "outputs": [],
   "source": [
    "df['LATITUDE'] = df['LATITUDE'].str.replace(',','.')\n",
    "df['LONGITUDE'] = df['LONGITUDE'].str.replace(',','.')"
   ]
  },
  {
   "cell_type": "code",
   "execution_count": 4,
   "metadata": {},
   "outputs": [],
   "source": [
    "df_final=df[['CONSUMO','RENDA','IDADE','LATITUDE','LONGITUDE']]\n",
    "df_code=df[['CONSUMO','RENDA','IDADE','LATITUDE','LONGITUDE']]"
   ]
  },
  {
   "cell_type": "code",
   "execution_count": 5,
   "metadata": {},
   "outputs": [],
   "source": [
    "#Agrupamento por tipo de pessoas\n",
    "df_CPF= df[df['TIPO_PESSOA'] == 'CPF']\n",
    "df_CNPJ= df[df['TIPO_PESSOA'] == 'CNPJ']"
   ]
  },
  {
   "cell_type": "code",
   "execution_count": 6,
   "metadata": {},
   "outputs": [],
   "source": [
    "df_CPF_code=df_CPF[['CONSUMO','RENDA','IDADE','LATITUDE','LONGITUDE']]\n",
    "df_CNPJ_code=df_CNPJ[['CONSUMO','RENDA','IDADE','LATITUDE','LONGITUDE']]"
   ]
  },
  {
   "cell_type": "code",
   "execution_count": 7,
   "metadata": {},
   "outputs": [],
   "source": [
    "df_CPF_final=df_CPF[['CONSUMO','RENDA','IDADE','LATITUDE','LONGITUDE']]\n",
    "df_CNPJ_final=df_CNPJ[['CONSUMO','RENDA','IDADE','LATITUDE','LONGITUDE']]"
   ]
  },
  {
   "cell_type": "code",
   "execution_count": 8,
   "metadata": {},
   "outputs": [
    {
     "output_type": "stream",
     "name": "stderr",
     "text": [
      "<ipython-input-8-bbac8119e524>:2: SettingWithCopyWarning: \nA value is trying to be set on a copy of a slice from a DataFrame.\nTry using .loc[row_indexer,col_indexer] = value instead\n\nSee the caveats in the documentation: https://pandas.pydata.org/pandas-docs/stable/user_guide/indexing.html#returning-a-view-versus-a-copy\n  df_CPF_code['RENDA'] = df_CPF_code['RENDA'].astype('category')\n<ipython-input-8-bbac8119e524>:4: SettingWithCopyWarning: \nA value is trying to be set on a copy of a slice from a DataFrame.\nTry using .loc[row_indexer,col_indexer] = value instead\n\nSee the caveats in the documentation: https://pandas.pydata.org/pandas-docs/stable/user_guide/indexing.html#returning-a-view-versus-a-copy\n  df_CPF_code['RENDA_codes'] = df_CPF_code['RENDA'].cat.codes\n<ipython-input-8-bbac8119e524>:5: SettingWithCopyWarning: \nA value is trying to be set on a copy of a slice from a DataFrame.\nTry using .loc[row_indexer,col_indexer] = value instead\n\nSee the caveats in the documentation: https://pandas.pydata.org/pandas-docs/stable/user_guide/indexing.html#returning-a-view-versus-a-copy\n  df_CPF_code['RENDA_reversed'] = df_CPF_code['RENDA_codes'].map(renda)\n"
     ]
    }
   ],
   "source": [
    "#------------------------- CPF -------------------------------------\n",
    "df_CPF_code['RENDA'] = df_CPF_code['RENDA'].astype('category')\n",
    "renda = dict(enumerate(df_CPF_code['RENDA'].cat.categories))\n",
    "df_CPF_code['RENDA_codes'] = df_CPF_code['RENDA'].cat.codes\n",
    "df_CPF_code['RENDA_reversed'] = df_CPF_code['RENDA_codes'].map(renda)"
   ]
  },
  {
   "cell_type": "code",
   "execution_count": 9,
   "metadata": {},
   "outputs": [
    {
     "output_type": "stream",
     "name": "stderr",
     "text": [
      "<ipython-input-9-f191a4395239>:2: SettingWithCopyWarning: \nA value is trying to be set on a copy of a slice from a DataFrame.\nTry using .loc[row_indexer,col_indexer] = value instead\n\nSee the caveats in the documentation: https://pandas.pydata.org/pandas-docs/stable/user_guide/indexing.html#returning-a-view-versus-a-copy\n  df_CNPJ_code['RENDA'] = df_CNPJ_code['RENDA'].astype('category')\n<ipython-input-9-f191a4395239>:4: SettingWithCopyWarning: \nA value is trying to be set on a copy of a slice from a DataFrame.\nTry using .loc[row_indexer,col_indexer] = value instead\n\nSee the caveats in the documentation: https://pandas.pydata.org/pandas-docs/stable/user_guide/indexing.html#returning-a-view-versus-a-copy\n  df_CNPJ_code['RENDA_codes'] = df_CNPJ_code['RENDA'].cat.codes\n<ipython-input-9-f191a4395239>:5: SettingWithCopyWarning: \nA value is trying to be set on a copy of a slice from a DataFrame.\nTry using .loc[row_indexer,col_indexer] = value instead\n\nSee the caveats in the documentation: https://pandas.pydata.org/pandas-docs/stable/user_guide/indexing.html#returning-a-view-versus-a-copy\n  df_CNPJ_code['RENDA_reversed'] = df_CNPJ_code['RENDA_codes'].map(renda)\n"
     ]
    }
   ],
   "source": [
    "#------------------------- CNPJ -------------------------------------\n",
    "df_CNPJ_code['RENDA'] = df_CNPJ_code['RENDA'].astype('category')\n",
    "renda = dict(enumerate(df_CNPJ_code['RENDA'].cat.categories))\n",
    "df_CNPJ_code['RENDA_codes'] = df_CNPJ_code['RENDA'].cat.codes\n",
    "df_CNPJ_code['RENDA_reversed'] = df_CNPJ_code['RENDA_codes'].map(renda)"
   ]
  },
  {
   "cell_type": "code",
   "execution_count": 10,
   "metadata": {},
   "outputs": [
    {
     "output_type": "stream",
     "name": "stderr",
     "text": [
      "<ipython-input-10-b18273d60f1a>:2: SettingWithCopyWarning: \nA value is trying to be set on a copy of a slice from a DataFrame.\nTry using .loc[row_indexer,col_indexer] = value instead\n\nSee the caveats in the documentation: https://pandas.pydata.org/pandas-docs/stable/user_guide/indexing.html#returning-a-view-versus-a-copy\n  df_CPF_code['CONSUMO'] = df_CPF_code['CONSUMO'].astype('category')\n<ipython-input-10-b18273d60f1a>:4: SettingWithCopyWarning: \nA value is trying to be set on a copy of a slice from a DataFrame.\nTry using .loc[row_indexer,col_indexer] = value instead\n\nSee the caveats in the documentation: https://pandas.pydata.org/pandas-docs/stable/user_guide/indexing.html#returning-a-view-versus-a-copy\n  df_CPF_code['CONSUMO_codes'] = df_CPF_code['CONSUMO'].cat.codes\n<ipython-input-10-b18273d60f1a>:5: SettingWithCopyWarning: \nA value is trying to be set on a copy of a slice from a DataFrame.\nTry using .loc[row_indexer,col_indexer] = value instead\n\nSee the caveats in the documentation: https://pandas.pydata.org/pandas-docs/stable/user_guide/indexing.html#returning-a-view-versus-a-copy\n  df_CPF_code['CONSUMO_reversed'] = df_CPF_code['CONSUMO_codes'].map(consumo)\n"
     ]
    }
   ],
   "source": [
    "#------------------------- CPF -------------------------------------\n",
    "df_CPF_code['CONSUMO'] = df_CPF_code['CONSUMO'].astype('category')\n",
    "consumo = dict(enumerate(df_CPF_code['CONSUMO'].cat.categories))\n",
    "df_CPF_code['CONSUMO_codes'] = df_CPF_code['CONSUMO'].cat.codes\n",
    "df_CPF_code['CONSUMO_reversed'] = df_CPF_code['CONSUMO_codes'].map(consumo)"
   ]
  },
  {
   "cell_type": "code",
   "execution_count": 11,
   "metadata": {},
   "outputs": [
    {
     "output_type": "stream",
     "name": "stderr",
     "text": [
      "<ipython-input-11-f96936af0439>:2: SettingWithCopyWarning: \nA value is trying to be set on a copy of a slice from a DataFrame.\nTry using .loc[row_indexer,col_indexer] = value instead\n\nSee the caveats in the documentation: https://pandas.pydata.org/pandas-docs/stable/user_guide/indexing.html#returning-a-view-versus-a-copy\n  df_CNPJ_code['CONSUMO'] = df_CNPJ_code['CONSUMO'].astype('category')\n<ipython-input-11-f96936af0439>:4: SettingWithCopyWarning: \nA value is trying to be set on a copy of a slice from a DataFrame.\nTry using .loc[row_indexer,col_indexer] = value instead\n\nSee the caveats in the documentation: https://pandas.pydata.org/pandas-docs/stable/user_guide/indexing.html#returning-a-view-versus-a-copy\n  df_CNPJ_code['CONSUMO_codes'] = df_CNPJ_code['CONSUMO'].cat.codes\n<ipython-input-11-f96936af0439>:5: SettingWithCopyWarning: \nA value is trying to be set on a copy of a slice from a DataFrame.\nTry using .loc[row_indexer,col_indexer] = value instead\n\nSee the caveats in the documentation: https://pandas.pydata.org/pandas-docs/stable/user_guide/indexing.html#returning-a-view-versus-a-copy\n  df_CNPJ_code['CONSUMO_reversed'] = df_CNPJ_code['CONSUMO_codes'].map(consumo)\n"
     ]
    }
   ],
   "source": [
    "#------------------------- CNPJ -------------------------------------\n",
    "df_CNPJ_code['CONSUMO'] = df_CNPJ_code['CONSUMO'].astype('category')\n",
    "consumo = dict(enumerate(df_CNPJ_code['CONSUMO'].cat.categories))\n",
    "df_CNPJ_code['CONSUMO_codes'] = df_CNPJ_code['CONSUMO'].cat.codes\n",
    "df_CNPJ_code['CONSUMO_reversed'] = df_CNPJ_code['CONSUMO_codes'].map(consumo)"
   ]
  },
  {
   "cell_type": "code",
   "execution_count": 12,
   "metadata": {},
   "outputs": [
    {
     "output_type": "stream",
     "name": "stderr",
     "text": [
      "<ipython-input-12-2ae092914f9d>:2: SettingWithCopyWarning: \nA value is trying to be set on a copy of a slice from a DataFrame.\nTry using .loc[row_indexer,col_indexer] = value instead\n\nSee the caveats in the documentation: https://pandas.pydata.org/pandas-docs/stable/user_guide/indexing.html#returning-a-view-versus-a-copy\n  df_CPF_code['LATITUDE'] = df_CPF_code['LATITUDE'].astype('category')\n<ipython-input-12-2ae092914f9d>:4: SettingWithCopyWarning: \nA value is trying to be set on a copy of a slice from a DataFrame.\nTry using .loc[row_indexer,col_indexer] = value instead\n\nSee the caveats in the documentation: https://pandas.pydata.org/pandas-docs/stable/user_guide/indexing.html#returning-a-view-versus-a-copy\n  df_CPF_code['LATITUDE_codes'] = df_CPF_code['LATITUDE'].cat.codes\n<ipython-input-12-2ae092914f9d>:5: SettingWithCopyWarning: \nA value is trying to be set on a copy of a slice from a DataFrame.\nTry using .loc[row_indexer,col_indexer] = value instead\n\nSee the caveats in the documentation: https://pandas.pydata.org/pandas-docs/stable/user_guide/indexing.html#returning-a-view-versus-a-copy\n  df_CPF_code['LATITUDE_reversed'] = df_CPF_code['LATITUDE_codes'].map(latitude)\n<ipython-input-12-2ae092914f9d>:7: SettingWithCopyWarning: \nA value is trying to be set on a copy of a slice from a DataFrame.\nTry using .loc[row_indexer,col_indexer] = value instead\n\nSee the caveats in the documentation: https://pandas.pydata.org/pandas-docs/stable/user_guide/indexing.html#returning-a-view-versus-a-copy\n  df_CPF_code['LONGITUDE'] = df_CPF_code['LONGITUDE'].astype('category')\n<ipython-input-12-2ae092914f9d>:9: SettingWithCopyWarning: \nA value is trying to be set on a copy of a slice from a DataFrame.\nTry using .loc[row_indexer,col_indexer] = value instead\n\nSee the caveats in the documentation: https://pandas.pydata.org/pandas-docs/stable/user_guide/indexing.html#returning-a-view-versus-a-copy\n  df_CPF_code['LONGITUDE_codes'] = df_CPF_code['LONGITUDE'].cat.codes\n<ipython-input-12-2ae092914f9d>:10: SettingWithCopyWarning: \nA value is trying to be set on a copy of a slice from a DataFrame.\nTry using .loc[row_indexer,col_indexer] = value instead\n\nSee the caveats in the documentation: https://pandas.pydata.org/pandas-docs/stable/user_guide/indexing.html#returning-a-view-versus-a-copy\n  df_CPF_code['LONGITUDE_reversed'] = df_CPF_code['LONGITUDE_codes'].map(longitude)\n"
     ]
    }
   ],
   "source": [
    "#------------------------- CPF -------------------------------------\n",
    "df_CPF_code['LATITUDE'] = df_CPF_code['LATITUDE'].astype('category')\n",
    "latitude = dict(enumerate(df_CPF_code['LATITUDE'].cat.categories))\n",
    "df_CPF_code['LATITUDE_codes'] = df_CPF_code['LATITUDE'].cat.codes\n",
    "df_CPF_code['LATITUDE_reversed'] = df_CPF_code['LATITUDE_codes'].map(latitude)\n",
    "\n",
    "df_CPF_code['LONGITUDE'] = df_CPF_code['LONGITUDE'].astype('category')\n",
    "longitude= dict(enumerate(df_CPF_code['LONGITUDE'].cat.categories))\n",
    "df_CPF_code['LONGITUDE_codes'] = df_CPF_code['LONGITUDE'].cat.codes\n",
    "df_CPF_code['LONGITUDE_reversed'] = df_CPF_code['LONGITUDE_codes'].map(longitude)\n"
   ]
  },
  {
   "cell_type": "code",
   "execution_count": 13,
   "metadata": {},
   "outputs": [
    {
     "output_type": "stream",
     "name": "stderr",
     "text": [
      "<ipython-input-13-5c4052580776>:2: SettingWithCopyWarning: \nA value is trying to be set on a copy of a slice from a DataFrame.\nTry using .loc[row_indexer,col_indexer] = value instead\n\nSee the caveats in the documentation: https://pandas.pydata.org/pandas-docs/stable/user_guide/indexing.html#returning-a-view-versus-a-copy\n  df_CNPJ_code['LATITUDE'] = df_CNPJ_code['LATITUDE'].astype('category')\n<ipython-input-13-5c4052580776>:4: SettingWithCopyWarning: \nA value is trying to be set on a copy of a slice from a DataFrame.\nTry using .loc[row_indexer,col_indexer] = value instead\n\nSee the caveats in the documentation: https://pandas.pydata.org/pandas-docs/stable/user_guide/indexing.html#returning-a-view-versus-a-copy\n  df_CNPJ_code['LATITUDE_codes'] = df_CNPJ_code['LATITUDE'].cat.codes\n<ipython-input-13-5c4052580776>:5: SettingWithCopyWarning: \nA value is trying to be set on a copy of a slice from a DataFrame.\nTry using .loc[row_indexer,col_indexer] = value instead\n\nSee the caveats in the documentation: https://pandas.pydata.org/pandas-docs/stable/user_guide/indexing.html#returning-a-view-versus-a-copy\n  df_CNPJ_code['LATITUDE_reversed'] = df_CNPJ_code['LATITUDE_codes'].map(latitude)\n<ipython-input-13-5c4052580776>:7: SettingWithCopyWarning: \nA value is trying to be set on a copy of a slice from a DataFrame.\nTry using .loc[row_indexer,col_indexer] = value instead\n\nSee the caveats in the documentation: https://pandas.pydata.org/pandas-docs/stable/user_guide/indexing.html#returning-a-view-versus-a-copy\n  df_CNPJ_code['LONGITUDE'] = df_CNPJ_code['LONGITUDE'].astype('category')\n<ipython-input-13-5c4052580776>:9: SettingWithCopyWarning: \nA value is trying to be set on a copy of a slice from a DataFrame.\nTry using .loc[row_indexer,col_indexer] = value instead\n\nSee the caveats in the documentation: https://pandas.pydata.org/pandas-docs/stable/user_guide/indexing.html#returning-a-view-versus-a-copy\n  df_CNPJ_code['LONGITUDE_codes'] = df_CNPJ_code['LONGITUDE'].cat.codes\n<ipython-input-13-5c4052580776>:10: SettingWithCopyWarning: \nA value is trying to be set on a copy of a slice from a DataFrame.\nTry using .loc[row_indexer,col_indexer] = value instead\n\nSee the caveats in the documentation: https://pandas.pydata.org/pandas-docs/stable/user_guide/indexing.html#returning-a-view-versus-a-copy\n  df_CNPJ_code['LONGITUDE_reversed'] = df_CNPJ_code['LONGITUDE_codes'].map(longitude)\n"
     ]
    }
   ],
   "source": [
    "#------------------------- CNPJ -------------------------------------\n",
    "df_CNPJ_code['LATITUDE'] = df_CNPJ_code['LATITUDE'].astype('category')\n",
    "latitude = dict(enumerate(df_CNPJ_code['LATITUDE'].cat.categories))\n",
    "df_CNPJ_code['LATITUDE_codes'] = df_CNPJ_code['LATITUDE'].cat.codes\n",
    "df_CNPJ_code['LATITUDE_reversed'] = df_CNPJ_code['LATITUDE_codes'].map(latitude)\n",
    "\n",
    "df_CNPJ_code['LONGITUDE'] = df_CNPJ_code['LONGITUDE'].astype('category')\n",
    "longitude= dict(enumerate(df_CNPJ_code['LONGITUDE'].cat.categories))\n",
    "df_CNPJ_code['LONGITUDE_codes'] = df_CNPJ_code['LONGITUDE'].cat.codes\n",
    "df_CNPJ_code['LONGITUDE_reversed'] = df_CNPJ_code['LONGITUDE_codes'].map(longitude)"
   ]
  },
  {
   "cell_type": "code",
   "execution_count": 14,
   "metadata": {},
   "outputs": [
    {
     "output_type": "stream",
     "name": "stderr",
     "text": [
      "<ipython-input-14-bc92a2dd8def>:2: SettingWithCopyWarning: \nA value is trying to be set on a copy of a slice from a DataFrame.\nTry using .loc[row_indexer,col_indexer] = value instead\n\nSee the caveats in the documentation: https://pandas.pydata.org/pandas-docs/stable/user_guide/indexing.html#returning-a-view-versus-a-copy\n  df_CPF_code['IDADE'] = df_CPF_code['IDADE'].astype('category')\n"
     ]
    }
   ],
   "source": [
    "#------------------------- CPF -------------------------------------\n",
    "df_CPF_code['IDADE'] = df_CPF_code['IDADE'].astype('category')\n",
    "idade = dict(enumerate(df_CPF_code['IDADE'].cat.categories))\n",
    "df_CPF_code['IDADE_codes'] = df_CPF_code['IDADE'].cat.codes\n",
    "df_CPF_code['IDADE_reversed'] = df_CPF_code['IDADE_codes'].map(idade)\n"
   ]
  },
  {
   "cell_type": "code",
   "execution_count": 15,
   "metadata": {},
   "outputs": [
    {
     "output_type": "stream",
     "name": "stderr",
     "text": [
      "<ipython-input-15-a4d82f8e9041>:2: SettingWithCopyWarning: \nA value is trying to be set on a copy of a slice from a DataFrame.\nTry using .loc[row_indexer,col_indexer] = value instead\n\nSee the caveats in the documentation: https://pandas.pydata.org/pandas-docs/stable/user_guide/indexing.html#returning-a-view-versus-a-copy\n  df_CNPJ_code['IDADE'] = df_CNPJ_code['IDADE'].astype('category')\n"
     ]
    }
   ],
   "source": [
    "#------------------------- CNPJ -------------------------------------\n",
    "df_CNPJ_code['IDADE'] = df_CNPJ_code['IDADE'].astype('category')\n",
    "idade = dict(enumerate(df_CNPJ_code['IDADE'].cat.categories))\n",
    "df_CNPJ_code['IDADE_codes'] = df_CNPJ_code['IDADE'].cat.codes\n",
    "df_CNPJ_code['IDADE_reversed'] = df_CNPJ_code['IDADE_codes'].map(idade)"
   ]
  },
  {
   "cell_type": "code",
   "execution_count": 16,
   "metadata": {},
   "outputs": [],
   "source": [
    "df_codes_CPF = df_CPF_code[['IDADE_codes','RENDA_codes','CONSUMO_codes','LATITUDE_codes','LONGITUDE_codes']]\n",
    "df_codes_CNPJ = df_CNPJ_code[['IDADE_codes','RENDA_codes','CONSUMO_codes','LATITUDE_codes','LONGITUDE_codes']]"
   ]
  },
  {
   "cell_type": "code",
   "execution_count": 17,
   "metadata": {},
   "outputs": [],
   "source": [
    "#Normalização com média 0 e desvio 1\n",
    "normaliza = MinMaxScaler()"
   ]
  },
  {
   "cell_type": "code",
   "execution_count": 18,
   "metadata": {},
   "outputs": [],
   "source": [
    "#Aplica a normalização CPF\n",
    "X_std_CPF = normaliza.fit_transform(df_codes_CPF)"
   ]
  },
  {
   "cell_type": "code",
   "execution_count": 19,
   "metadata": {},
   "outputs": [],
   "source": [
    "#Aplica a normalização CNPJ\n",
    "X_std_CNPJ = normaliza.fit_transform(df_codes_CNPJ)"
   ]
  },
  {
   "cell_type": "code",
   "execution_count": 20,
   "metadata": {},
   "outputs": [],
   "source": [
    "#transformando os dados normalizados em um dataframe no CPF e CNPJ\n",
    "df_norma_CPF = pd.DataFrame(X_std_CPF, columns=['IDADE_codes','RENDA_codes','CONSUMO_codes','LATITUDE_codes','LONGITUDE_codes'])\n",
    "df_norma_CNPJ = pd.DataFrame(X_std_CNPJ, columns=['IDADE_codes','RENDA_codes','CONSUMO_codes','LATITUDE_codes','LONGITUDE_codes'])"
   ]
  },
  {
   "cell_type": "code",
   "execution_count": 21,
   "metadata": {},
   "outputs": [
    {
     "output_type": "execute_result",
     "data": {
      "text/plain": [
       "   IDADE_codes  RENDA_codes  CONSUMO_codes  LATITUDE_codes  LONGITUDE_codes  \\\n",
       "0     0.202247     0.000000       0.809524        0.869328         0.076647   \n",
       "1     0.235955     0.333333       0.238095        0.666800         0.576447   \n",
       "2     0.505618     0.333333       0.809524        0.872389         0.232868   \n",
       "3     0.471910     0.666667       0.523810        0.182435         0.219827   \n",
       "4     0.224719     0.666667       0.095238        0.871989         0.368862   \n",
       "\n",
       "   CLUSTER  \n",
       "0        3  \n",
       "1        1  \n",
       "2        3  \n",
       "3        0  \n",
       "4        3  "
      ],
      "text/html": "<div>\n<style scoped>\n    .dataframe tbody tr th:only-of-type {\n        vertical-align: middle;\n    }\n\n    .dataframe tbody tr th {\n        vertical-align: top;\n    }\n\n    .dataframe thead th {\n        text-align: right;\n    }\n</style>\n<table border=\"1\" class=\"dataframe\">\n  <thead>\n    <tr style=\"text-align: right;\">\n      <th></th>\n      <th>IDADE_codes</th>\n      <th>RENDA_codes</th>\n      <th>CONSUMO_codes</th>\n      <th>LATITUDE_codes</th>\n      <th>LONGITUDE_codes</th>\n      <th>CLUSTER</th>\n    </tr>\n  </thead>\n  <tbody>\n    <tr>\n      <th>0</th>\n      <td>0.202247</td>\n      <td>0.000000</td>\n      <td>0.809524</td>\n      <td>0.869328</td>\n      <td>0.076647</td>\n      <td>3</td>\n    </tr>\n    <tr>\n      <th>1</th>\n      <td>0.235955</td>\n      <td>0.333333</td>\n      <td>0.238095</td>\n      <td>0.666800</td>\n      <td>0.576447</td>\n      <td>1</td>\n    </tr>\n    <tr>\n      <th>2</th>\n      <td>0.505618</td>\n      <td>0.333333</td>\n      <td>0.809524</td>\n      <td>0.872389</td>\n      <td>0.232868</td>\n      <td>3</td>\n    </tr>\n    <tr>\n      <th>3</th>\n      <td>0.471910</td>\n      <td>0.666667</td>\n      <td>0.523810</td>\n      <td>0.182435</td>\n      <td>0.219827</td>\n      <td>0</td>\n    </tr>\n    <tr>\n      <th>4</th>\n      <td>0.224719</td>\n      <td>0.666667</td>\n      <td>0.095238</td>\n      <td>0.871989</td>\n      <td>0.368862</td>\n      <td>3</td>\n    </tr>\n  </tbody>\n</table>\n</div>"
     },
     "metadata": {},
     "execution_count": 21
    }
   ],
   "source": [
    "#Realizando a aplicação do Kmeans CPF\n",
    "km = KMeans(n_clusters=4)\n",
    "clusters_CPF = km.fit_predict(df_norma_CPF)\n",
    "df_norma_CPF['CLUSTER'] = clusters_CPF\n",
    "df_norma_CPF.head()"
   ]
  },
  {
   "cell_type": "code",
   "execution_count": 22,
   "metadata": {},
   "outputs": [
    {
     "output_type": "execute_result",
     "data": {
      "text/plain": [
       "   IDADE_codes  RENDA_codes  CONSUMO_codes  LATITUDE_codes  LONGITUDE_codes  \\\n",
       "0     0.271605     0.666667       0.473684        0.137235         0.465187   \n",
       "1     0.407407     0.333333       1.000000        0.502523         0.212916   \n",
       "2     0.604938     0.333333       0.473684        0.567104         0.377397   \n",
       "3     0.395062     0.666667       0.947368        0.223007         0.912210   \n",
       "4     0.518519     0.333333       0.473684        0.000000         0.000000   \n",
       "\n",
       "   CLUSTER  \n",
       "0        3  \n",
       "1        2  \n",
       "2        2  \n",
       "3        2  \n",
       "4        1  "
      ],
      "text/html": "<div>\n<style scoped>\n    .dataframe tbody tr th:only-of-type {\n        vertical-align: middle;\n    }\n\n    .dataframe tbody tr th {\n        vertical-align: top;\n    }\n\n    .dataframe thead th {\n        text-align: right;\n    }\n</style>\n<table border=\"1\" class=\"dataframe\">\n  <thead>\n    <tr style=\"text-align: right;\">\n      <th></th>\n      <th>IDADE_codes</th>\n      <th>RENDA_codes</th>\n      <th>CONSUMO_codes</th>\n      <th>LATITUDE_codes</th>\n      <th>LONGITUDE_codes</th>\n      <th>CLUSTER</th>\n    </tr>\n  </thead>\n  <tbody>\n    <tr>\n      <th>0</th>\n      <td>0.271605</td>\n      <td>0.666667</td>\n      <td>0.473684</td>\n      <td>0.137235</td>\n      <td>0.465187</td>\n      <td>3</td>\n    </tr>\n    <tr>\n      <th>1</th>\n      <td>0.407407</td>\n      <td>0.333333</td>\n      <td>1.000000</td>\n      <td>0.502523</td>\n      <td>0.212916</td>\n      <td>2</td>\n    </tr>\n    <tr>\n      <th>2</th>\n      <td>0.604938</td>\n      <td>0.333333</td>\n      <td>0.473684</td>\n      <td>0.567104</td>\n      <td>0.377397</td>\n      <td>2</td>\n    </tr>\n    <tr>\n      <th>3</th>\n      <td>0.395062</td>\n      <td>0.666667</td>\n      <td>0.947368</td>\n      <td>0.223007</td>\n      <td>0.912210</td>\n      <td>2</td>\n    </tr>\n    <tr>\n      <th>4</th>\n      <td>0.518519</td>\n      <td>0.333333</td>\n      <td>0.473684</td>\n      <td>0.000000</td>\n      <td>0.000000</td>\n      <td>1</td>\n    </tr>\n  </tbody>\n</table>\n</div>"
     },
     "metadata": {},
     "execution_count": 22
    }
   ],
   "source": [
    "#Realizando a aplicação do Kmeans CNPJ\n",
    "km = KMeans(n_clusters=4)\n",
    "clusters_CNPJ = km.fit_predict(df_norma_CNPJ)\n",
    "df_norma_CNPJ['CLUSTER'] = clusters_CNPJ\n",
    "df_norma_CNPJ.head()"
   ]
  },
  {
   "cell_type": "code",
   "execution_count": 23,
   "metadata": {},
   "outputs": [
    {
     "output_type": "execute_result",
     "data": {
      "text/plain": [
       "array([[ 15.38202247,   0.        ,  15.38095238, 860.50405855,\n",
       "         74.95688623],\n",
       "       [ 18.11235955,   1.        ,   4.52380952, 659.79853626,\n",
       "        570.25908184],\n",
       "       [ 39.95505618,   1.        ,  15.38095238, 863.53705921,\n",
       "        229.77178975],\n",
       "       ...,\n",
       "       [ 16.29213483,   1.        ,  15.38095238, 121.77059215,\n",
       "        505.24737192],\n",
       "       [ 19.93258427,   2.        ,  15.38095238, 950.04351297,\n",
       "         52.80279441],\n",
       "       [ 15.38202247,   1.        ,   1.80952381, 126.78163673,\n",
       "        532.14876913]])"
      ]
     },
     "metadata": {},
     "execution_count": 23
    }
   ],
   "source": [
    "#retornando os dados CPF\n",
    "retorno_CPF = normaliza.inverse_transform(X_std_CPF)\n",
    "retorno_CPF"
   ]
  },
  {
   "cell_type": "code",
   "execution_count": 24,
   "metadata": {},
   "outputs": [
    {
     "output_type": "execute_result",
     "data": {
      "text/plain": [
       "array([[ 21.,   2.,   9., 135., 460.],\n",
       "       [ 32.,   1.,  19., 497., 210.],\n",
       "       [ 48.,   1.,   9., 561., 373.],\n",
       "       ...,\n",
       "       [ 53.,   2.,   1.,  -1.,  -1.],\n",
       "       [ 18.,   0.,  18., 759., 710.],\n",
       "       [ 11.,   2.,   1.,  -1.,  -1.]])"
      ]
     },
     "metadata": {},
     "execution_count": 24
    }
   ],
   "source": [
    "#retornando os dados CNPJ\n",
    "retorno_CNPJ = normaliza.inverse_transform(X_std_CNPJ)\n",
    "retorno_CNPJ"
   ]
  },
  {
   "cell_type": "code",
   "execution_count": 25,
   "metadata": {},
   "outputs": [
    {
     "output_type": "execute_result",
     "data": {
      "text/plain": [
       "   IDADE_codes  RENDA_codes  CONSUMO_codes  LATITUDE_codes  LONGITUDE_codes  \\\n",
       "0    15.382022          0.0      15.380952      860.504059        74.956886   \n",
       "1    18.112360          1.0       4.523810      659.798536       570.259082   \n",
       "2    39.955056          1.0      15.380952      863.537059       229.771790   \n",
       "3    37.224719          2.0       9.952381      179.793214       216.848570   \n",
       "4    17.202247          2.0       1.809524      863.141450       364.542515   \n",
       "\n",
       "   CLUSTER  \n",
       "0        3  \n",
       "1        1  \n",
       "2        3  \n",
       "3        0  \n",
       "4        3  "
      ],
      "text/html": "<div>\n<style scoped>\n    .dataframe tbody tr th:only-of-type {\n        vertical-align: middle;\n    }\n\n    .dataframe tbody tr th {\n        vertical-align: top;\n    }\n\n    .dataframe thead th {\n        text-align: right;\n    }\n</style>\n<table border=\"1\" class=\"dataframe\">\n  <thead>\n    <tr style=\"text-align: right;\">\n      <th></th>\n      <th>IDADE_codes</th>\n      <th>RENDA_codes</th>\n      <th>CONSUMO_codes</th>\n      <th>LATITUDE_codes</th>\n      <th>LONGITUDE_codes</th>\n      <th>CLUSTER</th>\n    </tr>\n  </thead>\n  <tbody>\n    <tr>\n      <th>0</th>\n      <td>15.382022</td>\n      <td>0.0</td>\n      <td>15.380952</td>\n      <td>860.504059</td>\n      <td>74.956886</td>\n      <td>3</td>\n    </tr>\n    <tr>\n      <th>1</th>\n      <td>18.112360</td>\n      <td>1.0</td>\n      <td>4.523810</td>\n      <td>659.798536</td>\n      <td>570.259082</td>\n      <td>1</td>\n    </tr>\n    <tr>\n      <th>2</th>\n      <td>39.955056</td>\n      <td>1.0</td>\n      <td>15.380952</td>\n      <td>863.537059</td>\n      <td>229.771790</td>\n      <td>3</td>\n    </tr>\n    <tr>\n      <th>3</th>\n      <td>37.224719</td>\n      <td>2.0</td>\n      <td>9.952381</td>\n      <td>179.793214</td>\n      <td>216.848570</td>\n      <td>0</td>\n    </tr>\n    <tr>\n      <th>4</th>\n      <td>17.202247</td>\n      <td>2.0</td>\n      <td>1.809524</td>\n      <td>863.141450</td>\n      <td>364.542515</td>\n      <td>3</td>\n    </tr>\n  </tbody>\n</table>\n</div>"
     },
     "metadata": {},
     "execution_count": 25
    }
   ],
   "source": [
    "df_retorno_CPF = pd.DataFrame(retorno_CPF, columns=['IDADE_codes','RENDA_codes','CONSUMO_codes','LATITUDE_codes','LONGITUDE_codes'])\n",
    "df_retorno_CPF['CLUSTER'] = clusters_CPF\n",
    "df_retorno_CPF.head()"
   ]
  },
  {
   "cell_type": "code",
   "execution_count": 26,
   "metadata": {},
   "outputs": [
    {
     "output_type": "execute_result",
     "data": {
      "text/plain": [
       "   IDADE_codes  RENDA_codes  CONSUMO_codes  LATITUDE_codes  LONGITUDE_codes  \\\n",
       "0         21.0          2.0            9.0           135.0            460.0   \n",
       "1         32.0          1.0           19.0           497.0            210.0   \n",
       "2         48.0          1.0            9.0           561.0            373.0   \n",
       "3         31.0          2.0           18.0           220.0            903.0   \n",
       "4         41.0          1.0            9.0            -1.0             -1.0   \n",
       "\n",
       "   CLUSTER  \n",
       "0        3  \n",
       "1        2  \n",
       "2        2  \n",
       "3        2  \n",
       "4        1  "
      ],
      "text/html": "<div>\n<style scoped>\n    .dataframe tbody tr th:only-of-type {\n        vertical-align: middle;\n    }\n\n    .dataframe tbody tr th {\n        vertical-align: top;\n    }\n\n    .dataframe thead th {\n        text-align: right;\n    }\n</style>\n<table border=\"1\" class=\"dataframe\">\n  <thead>\n    <tr style=\"text-align: right;\">\n      <th></th>\n      <th>IDADE_codes</th>\n      <th>RENDA_codes</th>\n      <th>CONSUMO_codes</th>\n      <th>LATITUDE_codes</th>\n      <th>LONGITUDE_codes</th>\n      <th>CLUSTER</th>\n    </tr>\n  </thead>\n  <tbody>\n    <tr>\n      <th>0</th>\n      <td>21.0</td>\n      <td>2.0</td>\n      <td>9.0</td>\n      <td>135.0</td>\n      <td>460.0</td>\n      <td>3</td>\n    </tr>\n    <tr>\n      <th>1</th>\n      <td>32.0</td>\n      <td>1.0</td>\n      <td>19.0</td>\n      <td>497.0</td>\n      <td>210.0</td>\n      <td>2</td>\n    </tr>\n    <tr>\n      <th>2</th>\n      <td>48.0</td>\n      <td>1.0</td>\n      <td>9.0</td>\n      <td>561.0</td>\n      <td>373.0</td>\n      <td>2</td>\n    </tr>\n    <tr>\n      <th>3</th>\n      <td>31.0</td>\n      <td>2.0</td>\n      <td>18.0</td>\n      <td>220.0</td>\n      <td>903.0</td>\n      <td>2</td>\n    </tr>\n    <tr>\n      <th>4</th>\n      <td>41.0</td>\n      <td>1.0</td>\n      <td>9.0</td>\n      <td>-1.0</td>\n      <td>-1.0</td>\n      <td>1</td>\n    </tr>\n  </tbody>\n</table>\n</div>"
     },
     "metadata": {},
     "execution_count": 26
    }
   ],
   "source": [
    "df_retorno_CNPJ = pd.DataFrame(retorno_CNPJ, columns=['IDADE_codes','RENDA_codes','CONSUMO_codes','LATITUDE_codes','LONGITUDE_codes'])\n",
    "df_retorno_CNPJ['CLUSTER'] = clusters_CNPJ\n",
    "df_retorno_CNPJ.head()"
   ]
  },
  {
   "cell_type": "code",
   "execution_count": 27,
   "metadata": {},
   "outputs": [],
   "source": [
    "df_retorno_CPF.to_csv('lista_clusters_retorno_cpf.csv', index=False)"
   ]
  },
  {
   "cell_type": "code",
   "execution_count": 28,
   "metadata": {},
   "outputs": [],
   "source": [
    "df_retorno_CNPJ.to_csv('lista_clusters_retorno_cnpj.csv', index=False)"
   ]
  },
  {
   "cell_type": "code",
   "execution_count": 29,
   "metadata": {},
   "outputs": [],
   "source": [
    "cluster_0_CPF = df_retorno_CPF[df_retorno_CPF['CLUSTER'] == 0]\n",
    "cluster_1_CPF = df_retorno_CPF[df_retorno_CPF['CLUSTER'] == 1]\n",
    "cluster_2_CPF = df_retorno_CPF[df_retorno_CPF['CLUSTER'] == 2]\n",
    "cluster_3_CPF = df_retorno_CPF[df_retorno_CPF['CLUSTER'] == 3]"
   ]
  },
  {
   "cell_type": "code",
   "execution_count": 30,
   "metadata": {},
   "outputs": [
    {
     "output_type": "execute_result",
     "data": {
      "text/plain": [
       "      IDADE_codes  RENDA_codes  CONSUMO_codes  LATITUDE_codes  \\\n",
       "3       37.224719          2.0       9.952381      179.793214   \n",
       "7       36.314607          2.0       1.809524      193.639521   \n",
       "11      27.213483          2.0      15.380952      200.760479   \n",
       "13      25.393258          1.0      18.095238      570.786560   \n",
       "19      44.505618          2.0      15.380952      246.255489   \n",
       "...           ...          ...            ...             ...   \n",
       "8317    36.314607          1.0       1.809524      518.170592   \n",
       "8323    63.617978          2.0      15.380952      648.589621   \n",
       "8324    36.314607          1.0       9.047619      523.181637   \n",
       "8325    44.505618          1.0       1.809524      520.676114   \n",
       "8330    15.382022          2.0      15.380952       97.638456   \n",
       "\n",
       "      LONGITUDE_codes  CLUSTER  \n",
       "3          216.848570        0  \n",
       "7          316.146374        0  \n",
       "11         363.091949        0  \n",
       "13         427.576181        0  \n",
       "19         342.784032        0  \n",
       "...               ...      ...  \n",
       "8317       456.455622        0  \n",
       "8323       868.284365        0  \n",
       "8324       454.873187        0  \n",
       "8325       452.895143        0  \n",
       "8330       816.591484        0  \n",
       "\n",
       "[2662 rows x 6 columns]"
      ],
      "text/html": "<div>\n<style scoped>\n    .dataframe tbody tr th:only-of-type {\n        vertical-align: middle;\n    }\n\n    .dataframe tbody tr th {\n        vertical-align: top;\n    }\n\n    .dataframe thead th {\n        text-align: right;\n    }\n</style>\n<table border=\"1\" class=\"dataframe\">\n  <thead>\n    <tr style=\"text-align: right;\">\n      <th></th>\n      <th>IDADE_codes</th>\n      <th>RENDA_codes</th>\n      <th>CONSUMO_codes</th>\n      <th>LATITUDE_codes</th>\n      <th>LONGITUDE_codes</th>\n      <th>CLUSTER</th>\n    </tr>\n  </thead>\n  <tbody>\n    <tr>\n      <th>3</th>\n      <td>37.224719</td>\n      <td>2.0</td>\n      <td>9.952381</td>\n      <td>179.793214</td>\n      <td>216.848570</td>\n      <td>0</td>\n    </tr>\n    <tr>\n      <th>7</th>\n      <td>36.314607</td>\n      <td>2.0</td>\n      <td>1.809524</td>\n      <td>193.639521</td>\n      <td>316.146374</td>\n      <td>0</td>\n    </tr>\n    <tr>\n      <th>11</th>\n      <td>27.213483</td>\n      <td>2.0</td>\n      <td>15.380952</td>\n      <td>200.760479</td>\n      <td>363.091949</td>\n      <td>0</td>\n    </tr>\n    <tr>\n      <th>13</th>\n      <td>25.393258</td>\n      <td>1.0</td>\n      <td>18.095238</td>\n      <td>570.786560</td>\n      <td>427.576181</td>\n      <td>0</td>\n    </tr>\n    <tr>\n      <th>19</th>\n      <td>44.505618</td>\n      <td>2.0</td>\n      <td>15.380952</td>\n      <td>246.255489</td>\n      <td>342.784032</td>\n      <td>0</td>\n    </tr>\n    <tr>\n      <th>...</th>\n      <td>...</td>\n      <td>...</td>\n      <td>...</td>\n      <td>...</td>\n      <td>...</td>\n      <td>...</td>\n    </tr>\n    <tr>\n      <th>8317</th>\n      <td>36.314607</td>\n      <td>1.0</td>\n      <td>1.809524</td>\n      <td>518.170592</td>\n      <td>456.455622</td>\n      <td>0</td>\n    </tr>\n    <tr>\n      <th>8323</th>\n      <td>63.617978</td>\n      <td>2.0</td>\n      <td>15.380952</td>\n      <td>648.589621</td>\n      <td>868.284365</td>\n      <td>0</td>\n    </tr>\n    <tr>\n      <th>8324</th>\n      <td>36.314607</td>\n      <td>1.0</td>\n      <td>9.047619</td>\n      <td>523.181637</td>\n      <td>454.873187</td>\n      <td>0</td>\n    </tr>\n    <tr>\n      <th>8325</th>\n      <td>44.505618</td>\n      <td>1.0</td>\n      <td>1.809524</td>\n      <td>520.676114</td>\n      <td>452.895143</td>\n      <td>0</td>\n    </tr>\n    <tr>\n      <th>8330</th>\n      <td>15.382022</td>\n      <td>2.0</td>\n      <td>15.380952</td>\n      <td>97.638456</td>\n      <td>816.591484</td>\n      <td>0</td>\n    </tr>\n  </tbody>\n</table>\n<p>2662 rows × 6 columns</p>\n</div>"
     },
     "metadata": {},
     "execution_count": 30
    }
   ],
   "source": [
    "cluster_0_CPF"
   ]
  },
  {
   "cell_type": "code",
   "execution_count": 31,
   "metadata": {},
   "outputs": [],
   "source": [
    "cluster_0_CNPJ = df_retorno_CNPJ[df_retorno_CNPJ['CLUSTER'] == 0]\n",
    "cluster_1_CNPJ = df_retorno_CNPJ[df_retorno_CNPJ['CLUSTER'] == 1]\n",
    "cluster_2_CNPJ = df_retorno_CNPJ[df_retorno_CNPJ['CLUSTER'] == 2]\n",
    "cluster_3_CNPJ = df_retorno_CNPJ[df_retorno_CNPJ['CLUSTER'] == 3]"
   ]
  },
  {
   "cell_type": "code",
   "execution_count": 32,
   "metadata": {},
   "outputs": [
    {
     "output_type": "stream",
     "name": "stderr",
     "text": [
      "<ipython-input-32-352459aba030>:4: SettingWithCopyWarning: \nA value is trying to be set on a copy of a slice from a DataFrame.\nTry using .loc[row_indexer,col_indexer] = value instead\n\nSee the caveats in the documentation: https://pandas.pydata.org/pandas-docs/stable/user_guide/indexing.html#returning-a-view-versus-a-copy\n  cluster_0_CPF_original['CLUSTER'] = pd.Series(0, index=cluster_0_CPF_original.index)\n"
     ]
    }
   ],
   "source": [
    "# Transforma os dados do grupo CPF em uma lista e acrescenta a coluna cluster \n",
    "ind_list_CPF = list(cluster_0_CPF.index)\n",
    "cluster_0_CPF_original = df_final.iloc[ind_list_CPF]\n",
    "cluster_0_CPF_original['CLUSTER'] = pd.Series(0, index=cluster_0_CPF_original.index)"
   ]
  },
  {
   "cell_type": "code",
   "execution_count": 33,
   "metadata": {},
   "outputs": [
    {
     "output_type": "stream",
     "name": "stderr",
     "text": [
      "<ipython-input-33-e7680f5e4c17>:4: SettingWithCopyWarning: \nA value is trying to be set on a copy of a slice from a DataFrame.\nTry using .loc[row_indexer,col_indexer] = value instead\n\nSee the caveats in the documentation: https://pandas.pydata.org/pandas-docs/stable/user_guide/indexing.html#returning-a-view-versus-a-copy\n  cluster_1_CPF_original['CLUSTER'] = pd.Series(1, index=cluster_1_CPF_original.index)\n"
     ]
    }
   ],
   "source": [
    "# Transforma os dados do grupo CPF em uma lista e acrescenta a coluna cluster \n",
    "ind_list_CPF = list(cluster_1_CPF.index)\n",
    "cluster_1_CPF_original = df_final.iloc[ind_list_CPF]\n",
    "cluster_1_CPF_original['CLUSTER'] = pd.Series(1, index=cluster_1_CPF_original.index)"
   ]
  },
  {
   "cell_type": "code",
   "execution_count": 34,
   "metadata": {},
   "outputs": [
    {
     "output_type": "stream",
     "name": "stderr",
     "text": [
      "<ipython-input-34-f6a927b2edb1>:4: SettingWithCopyWarning: \nA value is trying to be set on a copy of a slice from a DataFrame.\nTry using .loc[row_indexer,col_indexer] = value instead\n\nSee the caveats in the documentation: https://pandas.pydata.org/pandas-docs/stable/user_guide/indexing.html#returning-a-view-versus-a-copy\n  cluster_2_CPF_original['CLUSTER'] = pd.Series(2, index=cluster_2_CPF_original.index)\n"
     ]
    }
   ],
   "source": [
    "# Transforma os dados do grupo CPF em uma lista e acrescenta a coluna cluster \n",
    "ind_list_CPF = list(cluster_2_CPF.index)\n",
    "cluster_2_CPF_original = df_final.iloc[ind_list_CPF]\n",
    "cluster_2_CPF_original['CLUSTER'] = pd.Series(2, index=cluster_2_CPF_original.index)"
   ]
  },
  {
   "cell_type": "code",
   "execution_count": 35,
   "metadata": {},
   "outputs": [
    {
     "output_type": "stream",
     "name": "stderr",
     "text": [
      "<ipython-input-35-a26c628cdb29>:4: SettingWithCopyWarning: \nA value is trying to be set on a copy of a slice from a DataFrame.\nTry using .loc[row_indexer,col_indexer] = value instead\n\nSee the caveats in the documentation: https://pandas.pydata.org/pandas-docs/stable/user_guide/indexing.html#returning-a-view-versus-a-copy\n  cluster_3_CPF_original['CLUSTER'] = pd.Series(3, index=cluster_3_CPF_original.index)\n"
     ]
    }
   ],
   "source": [
    "# Transforma os dados do grupo CPF em uma lista e acrescenta a coluna cluster \n",
    "ind_list_CPF = list(cluster_3_CPF.index)\n",
    "cluster_3_CPF_original = df_final.iloc[ind_list_CPF]\n",
    "cluster_3_CPF_original['CLUSTER'] = pd.Series(3, index=cluster_3_CPF_original.index)"
   ]
  },
  {
   "cell_type": "code",
   "execution_count": 36,
   "metadata": {},
   "outputs": [
    {
     "output_type": "stream",
     "name": "stderr",
     "text": [
      "<ipython-input-36-2f7d24f780eb>:4: SettingWithCopyWarning: \nA value is trying to be set on a copy of a slice from a DataFrame.\nTry using .loc[row_indexer,col_indexer] = value instead\n\nSee the caveats in the documentation: https://pandas.pydata.org/pandas-docs/stable/user_guide/indexing.html#returning-a-view-versus-a-copy\n  cluster_0_CNPJ_original['CLUSTER'] = pd.Series(0, index=cluster_0_CNPJ_original.index)\n"
     ]
    }
   ],
   "source": [
    "# Transforma os dados do grupo CNPJ em uma lista e acrescenta a coluna cluster \n",
    "ind_list_CNPJ = list(cluster_0_CNPJ.index)\n",
    "cluster_0_CNPJ_original = df_final.iloc[ind_list_CNPJ]\n",
    "cluster_0_CNPJ_original['CLUSTER'] = pd.Series(0, index=cluster_0_CNPJ_original.index)"
   ]
  },
  {
   "cell_type": "code",
   "execution_count": 37,
   "metadata": {},
   "outputs": [
    {
     "output_type": "stream",
     "name": "stderr",
     "text": [
      "<ipython-input-37-92c930f6ab9f>:4: SettingWithCopyWarning: \nA value is trying to be set on a copy of a slice from a DataFrame.\nTry using .loc[row_indexer,col_indexer] = value instead\n\nSee the caveats in the documentation: https://pandas.pydata.org/pandas-docs/stable/user_guide/indexing.html#returning-a-view-versus-a-copy\n  cluster_1_CNPJ_original['CLUSTER'] = pd.Series(1, index=cluster_1_CNPJ_original.index)\n"
     ]
    }
   ],
   "source": [
    "# Transforma os dados do grupo CNPJ em uma lista e acrescenta a coluna cluster \n",
    "ind_list_CNPJ = list(cluster_1_CNPJ.index)\n",
    "cluster_1_CNPJ_original = df_final.iloc[ind_list_CNPJ]\n",
    "cluster_1_CNPJ_original['CLUSTER'] = pd.Series(1, index=cluster_1_CNPJ_original.index)"
   ]
  },
  {
   "cell_type": "code",
   "execution_count": 38,
   "metadata": {},
   "outputs": [
    {
     "output_type": "stream",
     "name": "stderr",
     "text": [
      "<ipython-input-38-9ea7c30a1445>:4: SettingWithCopyWarning: \nA value is trying to be set on a copy of a slice from a DataFrame.\nTry using .loc[row_indexer,col_indexer] = value instead\n\nSee the caveats in the documentation: https://pandas.pydata.org/pandas-docs/stable/user_guide/indexing.html#returning-a-view-versus-a-copy\n  cluster_2_CNPJ_original['CLUSTER'] = pd.Series(2, index=cluster_2_CNPJ_original.index)\n"
     ]
    }
   ],
   "source": [
    "# Transforma os dados do grupo CNPJ em uma lista e acrescenta a coluna cluster \n",
    "ind_list_CNPJ = list(cluster_2_CNPJ.index)\n",
    "cluster_2_CNPJ_original = df_final.iloc[ind_list_CNPJ]\n",
    "cluster_2_CNPJ_original['CLUSTER'] = pd.Series(2, index=cluster_2_CNPJ_original.index)"
   ]
  },
  {
   "cell_type": "code",
   "execution_count": 39,
   "metadata": {},
   "outputs": [
    {
     "output_type": "stream",
     "name": "stderr",
     "text": [
      "<ipython-input-39-6a47de76636a>:4: SettingWithCopyWarning: \nA value is trying to be set on a copy of a slice from a DataFrame.\nTry using .loc[row_indexer,col_indexer] = value instead\n\nSee the caveats in the documentation: https://pandas.pydata.org/pandas-docs/stable/user_guide/indexing.html#returning-a-view-versus-a-copy\n  cluster_3_CNPJ_original['CLUSTER'] = pd.Series(3, index=cluster_3_CNPJ_original.index)\n"
     ]
    }
   ],
   "source": [
    "# Transforma os dados do grupo CNPJ em uma lista e acrescenta a coluna cluster \n",
    "ind_list_CNPJ = list(cluster_3_CNPJ.index)\n",
    "cluster_3_CNPJ_original = df_final.iloc[ind_list_CNPJ]\n",
    "cluster_3_CNPJ_original['CLUSTER'] = pd.Series(3, index=cluster_3_CNPJ_original.index)"
   ]
  },
  {
   "cell_type": "code",
   "execution_count": 40,
   "metadata": {},
   "outputs": [
    {
     "output_type": "execute_result",
     "data": {
      "text/plain": [
       "             CONSUMO                         RENDA  IDADE      LATITUDE  \\\n",
       "3           M.O.T.O.    DE R$ 788,00 A R$ 1.140,00   46.0    -15.059042   \n",
       "7           M.O.T.O.  DE R$ 1.900,00 A R$ 3.800,00   40.0  -7.191076842   \n",
       "11          M.O.T.O.  DE R$ 3.800,00 A R$ 7.600,00   89.0     -28.29048   \n",
       "13    ARTIGOS ELETRO  DE R$ 1.900,00 A R$ 3.800,00   34.0  -4.946685556   \n",
       "19           SERVICO  DE R$ 1.900,00 A R$ 3.800,00   49.0  -18.45250818   \n",
       "...              ...                           ...    ...           ...   \n",
       "8320         SERVICO  DE R$ 3.800,00 A R$ 7.600,00   56.0  -25.51503947   \n",
       "8321          HOTEIS  DE R$ 1.900,00 A R$ 3.800,00   36.0  -3.007901818   \n",
       "8329         SERVICO  DE R$ 1.900,00 A R$ 3.800,00   46.0   -8.90116585   \n",
       "8332     RESTAURANTE  DE R$ 1.900,00 A R$ 3.800,00   34.0  -6.100848679   \n",
       "8335          VAREJO    DE R$ 788,00 A R$ 1.140,00   74.0           NaN   \n",
       "\n",
       "         LONGITUDE  CLUSTER  \n",
       "3       -48.163372        0  \n",
       "7     -48.19394263        0  \n",
       "11        -52.8147        0  \n",
       "13    -48.39730667        0  \n",
       "19    -44.17324348        0  \n",
       "...            ...      ...  \n",
       "8320  -49.22552257        3  \n",
       "8321  -59.98237455        3  \n",
       "8329  -36.48894415        3  \n",
       "8332  -49.36456075        3  \n",
       "8335           NaN        3  \n",
       "\n",
       "[8337 rows x 6 columns]"
      ],
      "text/html": "<div>\n<style scoped>\n    .dataframe tbody tr th:only-of-type {\n        vertical-align: middle;\n    }\n\n    .dataframe tbody tr th {\n        vertical-align: top;\n    }\n\n    .dataframe thead th {\n        text-align: right;\n    }\n</style>\n<table border=\"1\" class=\"dataframe\">\n  <thead>\n    <tr style=\"text-align: right;\">\n      <th></th>\n      <th>CONSUMO</th>\n      <th>RENDA</th>\n      <th>IDADE</th>\n      <th>LATITUDE</th>\n      <th>LONGITUDE</th>\n      <th>CLUSTER</th>\n    </tr>\n  </thead>\n  <tbody>\n    <tr>\n      <th>3</th>\n      <td>M.O.T.O.</td>\n      <td>DE R$ 788,00 A R$ 1.140,00</td>\n      <td>46.0</td>\n      <td>-15.059042</td>\n      <td>-48.163372</td>\n      <td>0</td>\n    </tr>\n    <tr>\n      <th>7</th>\n      <td>M.O.T.O.</td>\n      <td>DE R$ 1.900,00 A R$ 3.800,00</td>\n      <td>40.0</td>\n      <td>-7.191076842</td>\n      <td>-48.19394263</td>\n      <td>0</td>\n    </tr>\n    <tr>\n      <th>11</th>\n      <td>M.O.T.O.</td>\n      <td>DE R$ 3.800,00 A R$ 7.600,00</td>\n      <td>89.0</td>\n      <td>-28.29048</td>\n      <td>-52.8147</td>\n      <td>0</td>\n    </tr>\n    <tr>\n      <th>13</th>\n      <td>ARTIGOS ELETRO</td>\n      <td>DE R$ 1.900,00 A R$ 3.800,00</td>\n      <td>34.0</td>\n      <td>-4.946685556</td>\n      <td>-48.39730667</td>\n      <td>0</td>\n    </tr>\n    <tr>\n      <th>19</th>\n      <td>SERVICO</td>\n      <td>DE R$ 1.900,00 A R$ 3.800,00</td>\n      <td>49.0</td>\n      <td>-18.45250818</td>\n      <td>-44.17324348</td>\n      <td>0</td>\n    </tr>\n    <tr>\n      <th>...</th>\n      <td>...</td>\n      <td>...</td>\n      <td>...</td>\n      <td>...</td>\n      <td>...</td>\n      <td>...</td>\n    </tr>\n    <tr>\n      <th>8320</th>\n      <td>SERVICO</td>\n      <td>DE R$ 3.800,00 A R$ 7.600,00</td>\n      <td>56.0</td>\n      <td>-25.51503947</td>\n      <td>-49.22552257</td>\n      <td>3</td>\n    </tr>\n    <tr>\n      <th>8321</th>\n      <td>HOTEIS</td>\n      <td>DE R$ 1.900,00 A R$ 3.800,00</td>\n      <td>36.0</td>\n      <td>-3.007901818</td>\n      <td>-59.98237455</td>\n      <td>3</td>\n    </tr>\n    <tr>\n      <th>8329</th>\n      <td>SERVICO</td>\n      <td>DE R$ 1.900,00 A R$ 3.800,00</td>\n      <td>46.0</td>\n      <td>-8.90116585</td>\n      <td>-36.48894415</td>\n      <td>3</td>\n    </tr>\n    <tr>\n      <th>8332</th>\n      <td>RESTAURANTE</td>\n      <td>DE R$ 1.900,00 A R$ 3.800,00</td>\n      <td>34.0</td>\n      <td>-6.100848679</td>\n      <td>-49.36456075</td>\n      <td>3</td>\n    </tr>\n    <tr>\n      <th>8335</th>\n      <td>VAREJO</td>\n      <td>DE R$ 788,00 A R$ 1.140,00</td>\n      <td>74.0</td>\n      <td>NaN</td>\n      <td>NaN</td>\n      <td>3</td>\n    </tr>\n  </tbody>\n</table>\n<p>8337 rows × 6 columns</p>\n</div>"
     },
     "metadata": {},
     "execution_count": 40
    }
   ],
   "source": [
    "df_concatenado_CPF = pd.concat([cluster_0_CPF_original, cluster_1_CPF_original, cluster_2_CPF_original, cluster_3_CPF_original])\n",
    "df_concatenado_CPF"
   ]
  },
  {
   "cell_type": "code",
   "execution_count": 41,
   "metadata": {},
   "outputs": [],
   "source": [
    "df_concatenado_CPF.to_csv('lista_clusters_cpf.csv', index=False)"
   ]
  },
  {
   "cell_type": "code",
   "execution_count": 42,
   "metadata": {},
   "outputs": [
    {
     "output_type": "execute_result",
     "data": {
      "text/plain": [
       "             CONSUMO                         RENDA  IDADE      LATITUDE  \\\n",
       "10    ARTIGOS ELETRO  DE R$ 1.900,00 A R$ 3.800,00   45.0  -8.011778571   \n",
       "21           SERVICO  DE R$ 1.900,00 A R$ 3.800,00   41.0  -18.18101889   \n",
       "29           SERVICO    DE R$ 788,00 A R$ 1.140,00   48.0           NaN   \n",
       "36    ARTIGOS ELETRO         MAIOR QUE R$ 7.600,00   55.0  -22.89141805   \n",
       "42           SERVICO    DE R$ 788,00 A R$ 1.140,00   70.0  -29.17971034   \n",
       "...              ...                           ...    ...           ...   \n",
       "1650          VAREJO  DE R$ 3.800,00 A R$ 7.600,00   44.0  -12.73721776   \n",
       "1656     RESTAURANTE  DE R$ 1.900,00 A R$ 3.800,00   55.0  -26.91538514   \n",
       "1658         SERVICO  DE R$ 3.800,00 A R$ 7.600,00   48.0  -20.57794325   \n",
       "1660         SERVICO  DE R$ 1.900,00 A R$ 3.800,00   43.0  -30.33900623   \n",
       "1662         SERVICO  DE R$ 1.900,00 A R$ 3.800,00   45.0     -20.95419   \n",
       "\n",
       "         LONGITUDE  CLUSTER  \n",
       "10    -34.88329592        0  \n",
       "21    -47.94993778        0  \n",
       "29             NaN        0  \n",
       "36     -43.2412226        0  \n",
       "42    -54.85738922        0  \n",
       "...            ...      ...  \n",
       "1650  -38.60925306        3  \n",
       "1656  -48.67708185        3  \n",
       "1658  -43.72595075        3  \n",
       "1660  -54.31961198        3  \n",
       "1662     -43.78659        3  \n",
       "\n",
       "[1663 rows x 6 columns]"
      ],
      "text/html": "<div>\n<style scoped>\n    .dataframe tbody tr th:only-of-type {\n        vertical-align: middle;\n    }\n\n    .dataframe tbody tr th {\n        vertical-align: top;\n    }\n\n    .dataframe thead th {\n        text-align: right;\n    }\n</style>\n<table border=\"1\" class=\"dataframe\">\n  <thead>\n    <tr style=\"text-align: right;\">\n      <th></th>\n      <th>CONSUMO</th>\n      <th>RENDA</th>\n      <th>IDADE</th>\n      <th>LATITUDE</th>\n      <th>LONGITUDE</th>\n      <th>CLUSTER</th>\n    </tr>\n  </thead>\n  <tbody>\n    <tr>\n      <th>10</th>\n      <td>ARTIGOS ELETRO</td>\n      <td>DE R$ 1.900,00 A R$ 3.800,00</td>\n      <td>45.0</td>\n      <td>-8.011778571</td>\n      <td>-34.88329592</td>\n      <td>0</td>\n    </tr>\n    <tr>\n      <th>21</th>\n      <td>SERVICO</td>\n      <td>DE R$ 1.900,00 A R$ 3.800,00</td>\n      <td>41.0</td>\n      <td>-18.18101889</td>\n      <td>-47.94993778</td>\n      <td>0</td>\n    </tr>\n    <tr>\n      <th>29</th>\n      <td>SERVICO</td>\n      <td>DE R$ 788,00 A R$ 1.140,00</td>\n      <td>48.0</td>\n      <td>NaN</td>\n      <td>NaN</td>\n      <td>0</td>\n    </tr>\n    <tr>\n      <th>36</th>\n      <td>ARTIGOS ELETRO</td>\n      <td>MAIOR QUE R$ 7.600,00</td>\n      <td>55.0</td>\n      <td>-22.89141805</td>\n      <td>-43.2412226</td>\n      <td>0</td>\n    </tr>\n    <tr>\n      <th>42</th>\n      <td>SERVICO</td>\n      <td>DE R$ 788,00 A R$ 1.140,00</td>\n      <td>70.0</td>\n      <td>-29.17971034</td>\n      <td>-54.85738922</td>\n      <td>0</td>\n    </tr>\n    <tr>\n      <th>...</th>\n      <td>...</td>\n      <td>...</td>\n      <td>...</td>\n      <td>...</td>\n      <td>...</td>\n      <td>...</td>\n    </tr>\n    <tr>\n      <th>1650</th>\n      <td>VAREJO</td>\n      <td>DE R$ 3.800,00 A R$ 7.600,00</td>\n      <td>44.0</td>\n      <td>-12.73721776</td>\n      <td>-38.60925306</td>\n      <td>3</td>\n    </tr>\n    <tr>\n      <th>1656</th>\n      <td>RESTAURANTE</td>\n      <td>DE R$ 1.900,00 A R$ 3.800,00</td>\n      <td>55.0</td>\n      <td>-26.91538514</td>\n      <td>-48.67708185</td>\n      <td>3</td>\n    </tr>\n    <tr>\n      <th>1658</th>\n      <td>SERVICO</td>\n      <td>DE R$ 3.800,00 A R$ 7.600,00</td>\n      <td>48.0</td>\n      <td>-20.57794325</td>\n      <td>-43.72595075</td>\n      <td>3</td>\n    </tr>\n    <tr>\n      <th>1660</th>\n      <td>SERVICO</td>\n      <td>DE R$ 1.900,00 A R$ 3.800,00</td>\n      <td>43.0</td>\n      <td>-30.33900623</td>\n      <td>-54.31961198</td>\n      <td>3</td>\n    </tr>\n    <tr>\n      <th>1662</th>\n      <td>SERVICO</td>\n      <td>DE R$ 1.900,00 A R$ 3.800,00</td>\n      <td>45.0</td>\n      <td>-20.95419</td>\n      <td>-43.78659</td>\n      <td>3</td>\n    </tr>\n  </tbody>\n</table>\n<p>1663 rows × 6 columns</p>\n</div>"
     },
     "metadata": {},
     "execution_count": 42
    }
   ],
   "source": [
    "df_concatenado_CNPJ = pd.concat([cluster_0_CNPJ_original, cluster_1_CNPJ_original, cluster_2_CNPJ_original, cluster_3_CNPJ_original])\n",
    "df_concatenado_CNPJ"
   ]
  },
  {
   "cell_type": "code",
   "execution_count": 43,
   "metadata": {},
   "outputs": [],
   "source": [
    "df_concatenado_CNPJ.to_csv('lista_clusters_cnpj.csv', index=False)"
   ]
  }
 ]
}